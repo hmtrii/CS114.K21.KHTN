{
  "nbformat": 4,
  "nbformat_minor": 0,
  "metadata": {
    "colab": {
      "name": "Recognition_object.ipynb",
      "provenance": [],
      "collapsed_sections": []
    },
    "kernelspec": {
      "name": "python3",
      "display_name": "Python 3"
    },
    "accelerator": "GPU"
  },
  "cells": [
    {
      "cell_type": "code",
      "metadata": {
        "id": "_9YD3NRavxOg",
        "colab_type": "code",
        "outputId": "47e77c84-1572-4d76-b2c6-d990db1ac098",
        "colab": {
          "base_uri": "https://localhost:8080/",
          "height": 118
        }
      },
      "source": [
        "!git clone https://github.com/hmtrii/CS114.K21.KHTN.git"
      ],
      "execution_count": 0,
      "outputs": [
        {
          "output_type": "stream",
          "text": [
            "Cloning into 'CS114.K21.KHTN'...\n",
            "remote: Enumerating objects: 72, done.\u001b[K\n",
            "remote: Counting objects: 100% (72/72), done.\u001b[K\n",
            "remote: Compressing objects: 100% (66/66), done.\u001b[K\n",
            "remote: Total 72 (delta 12), reused 0 (delta 0), pack-reused 0\u001b[K\n",
            "Unpacking objects: 100% (72/72), done.\n"
          ],
          "name": "stdout"
        }
      ]
    },
    {
      "cell_type": "code",
      "metadata": {
        "id": "Ux8BUV6vwR9Q",
        "colab_type": "code",
        "outputId": "5824f5ab-04c0-41d5-c108-92a5f23f764a",
        "colab": {
          "base_uri": "https://localhost:8080/",
          "height": 541
        }
      },
      "source": [
        "!pip install --upgrade \"watson-developer-cloud>=2.4.1\"\n",
        "!pip install simplejson"
      ],
      "execution_count": 0,
      "outputs": [
        {
          "output_type": "stream",
          "text": [
            "Collecting watson-developer-cloud>=2.4.1\n",
            "\u001b[?25l  Downloading https://files.pythonhosted.org/packages/fc/a5/a89fc49bd82eb6ea569e45b43383c28cd51b5076f43010dcc3331c137ff5/watson-developer-cloud-2.10.1.tar.gz (248kB)\n",
            "\u001b[K     |████████████████████████████████| 256kB 4.9MB/s \n",
            "\u001b[?25hRequirement already satisfied, skipping upgrade: requests<3.0,>=2.0 in /usr/local/lib/python3.6/dist-packages (from watson-developer-cloud>=2.4.1) (2.21.0)\n",
            "Requirement already satisfied, skipping upgrade: python_dateutil>=2.5.3 in /usr/local/lib/python3.6/dist-packages (from watson-developer-cloud>=2.4.1) (2.8.1)\n",
            "Collecting websocket-client==0.48.0\n",
            "\u001b[?25l  Downloading https://files.pythonhosted.org/packages/8a/a1/72ef9aa26cfe1a75cee09fc1957e4723add9de098c15719416a1ee89386b/websocket_client-0.48.0-py2.py3-none-any.whl (198kB)\n",
            "\u001b[K     |████████████████████████████████| 204kB 57.6MB/s \n",
            "\u001b[?25hRequirement already satisfied, skipping upgrade: idna<2.9,>=2.5 in /usr/local/lib/python3.6/dist-packages (from requests<3.0,>=2.0->watson-developer-cloud>=2.4.1) (2.8)\n",
            "Requirement already satisfied, skipping upgrade: certifi>=2017.4.17 in /usr/local/lib/python3.6/dist-packages (from requests<3.0,>=2.0->watson-developer-cloud>=2.4.1) (2019.11.28)\n",
            "Requirement already satisfied, skipping upgrade: chardet<3.1.0,>=3.0.2 in /usr/local/lib/python3.6/dist-packages (from requests<3.0,>=2.0->watson-developer-cloud>=2.4.1) (3.0.4)\n",
            "Requirement already satisfied, skipping upgrade: urllib3<1.25,>=1.21.1 in /usr/local/lib/python3.6/dist-packages (from requests<3.0,>=2.0->watson-developer-cloud>=2.4.1) (1.24.3)\n",
            "Requirement already satisfied, skipping upgrade: six>=1.5 in /usr/local/lib/python3.6/dist-packages (from python_dateutil>=2.5.3->watson-developer-cloud>=2.4.1) (1.12.0)\n",
            "Building wheels for collected packages: watson-developer-cloud\n",
            "  Building wheel for watson-developer-cloud (setup.py) ... \u001b[?25l\u001b[?25hdone\n",
            "  Created wheel for watson-developer-cloud: filename=watson_developer_cloud-2.10.1-cp36-none-any.whl size=252813 sha256=99106daa7ff850429fdb11ad153d13eee332769ca17081e3eebfb86fb8286c46\n",
            "  Stored in directory: /root/.cache/pip/wheels/ea/a7/19/fac0a408a586265eb374005308a7553d4494ab41b2fd88f5bc\n",
            "Successfully built watson-developer-cloud\n",
            "Installing collected packages: websocket-client, watson-developer-cloud\n",
            "Successfully installed watson-developer-cloud-2.10.1 websocket-client-0.48.0\n",
            "Collecting simplejson\n",
            "\u001b[?25l  Downloading https://files.pythonhosted.org/packages/98/87/a7b98aa9256c8843f92878966dc3d8d914c14aad97e2c5ce4798d5743e07/simplejson-3.17.0.tar.gz (83kB)\n",
            "\u001b[K     |████████████████████████████████| 92kB 4.1MB/s \n",
            "\u001b[?25hBuilding wheels for collected packages: simplejson\n",
            "  Building wheel for simplejson (setup.py) ... \u001b[?25l\u001b[?25hdone\n",
            "  Created wheel for simplejson: filename=simplejson-3.17.0-cp36-cp36m-linux_x86_64.whl size=114211 sha256=ab432fb258a68137257b683301361b3cd65067ceb12c6ab57ecf0d03608fd943\n",
            "  Stored in directory: /root/.cache/pip/wheels/86/c0/83/dcd0339abb2640544bb8e0938aab2d069cef55e5647ce6e097\n",
            "Successfully built simplejson\n",
            "Installing collected packages: simplejson\n",
            "Successfully installed simplejson-3.17.0\n"
          ],
          "name": "stdout"
        }
      ]
    },
    {
      "cell_type": "code",
      "metadata": {
        "id": "VakxStIzxHQc",
        "colab_type": "code",
        "outputId": "1084bdff-cf8b-43f8-df35-b6825ddab11a",
        "colab": {
          "base_uri": "https://localhost:8080/",
          "height": 709
        }
      },
      "source": [
        "import json\n",
        "from watson_developer_cloud import VisualRecognitionV3\n",
        "\n",
        "visual_recognition = VisualRecognitionV3(\n",
        "    '2020-03-30',\n",
        "    iam_apikey='1ILZkyzgNMH6FTgPJ8WtT6WR4scQj_LNmkHRFsMN78Pj')\n",
        "\n",
        "with open('/content/CS114.K21.KHTN/Lab04/images/image1.png', 'rb') as images_file:\n",
        "    classes = visual_recognition.classify(\n",
        "        images_file,\n",
        "        threshold='0.6',\n",
        "\tclassifier_ids='default').get_result()\n",
        "print(json.dumps(classes, indent=2))"
      ],
      "execution_count": 0,
      "outputs": [
        {
          "output_type": "stream",
          "text": [
            "/usr/local/lib/python3.6/dist-packages/ipykernel_launcher.py:6: DeprecationWarning: watson-developer-cloud moved to ibm-watson. To get updates, use the new package.\n",
            "  \n"
          ],
          "name": "stderr"
        },
        {
          "output_type": "stream",
          "text": [
            "{\n",
            "  \"images\": [\n",
            "    {\n",
            "      \"classifiers\": [\n",
            "        {\n",
            "          \"classifier_id\": \"default\",\n",
            "          \"name\": \"default\",\n",
            "          \"classes\": [\n",
            "            {\n",
            "              \"class\": \"durian\",\n",
            "              \"score\": 0.992,\n",
            "              \"type_hierarchy\": \"/plant/tree/durian\"\n",
            "            },\n",
            "            {\n",
            "              \"class\": \"tree\",\n",
            "              \"score\": 0.992\n",
            "            },\n",
            "            {\n",
            "              \"class\": \"plant\",\n",
            "              \"score\": 0.992\n",
            "            },\n",
            "            {\n",
            "              \"class\": \"fruit\",\n",
            "              \"score\": 0.797\n",
            "            },\n",
            "            {\n",
            "              \"class\": \"chestnut color\",\n",
            "              \"score\": 0.997\n",
            "            }\n",
            "          ]\n",
            "        }\n",
            "      ],\n",
            "      \"image\": \"image1.png\"\n",
            "    }\n",
            "  ],\n",
            "  \"images_processed\": 1,\n",
            "  \"custom_classes\": 0\n",
            "}\n"
          ],
          "name": "stdout"
        }
      ]
    }
  ]
}