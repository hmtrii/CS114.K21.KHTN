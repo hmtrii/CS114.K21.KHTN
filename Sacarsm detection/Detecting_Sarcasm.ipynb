{
  "nbformat": 4,
  "nbformat_minor": 0,
  "metadata": {
    "colab": {
      "name": "Detecting_Sarcasm.ipynb",
      "provenance": [],
      "collapsed_sections": []
    },
    "kernelspec": {
      "name": "python3",
      "display_name": "Python 3"
    },
    "accelerator": "GPU"
  },
  "cells": [
    {
      "cell_type": "markdown",
      "metadata": {
        "id": "i7-ObeK2n_CI",
        "colab_type": "text"
      },
      "source": [
        "\n",
        "\n",
        "--------------------------------------------------------------------------------------------MÔ TẢ BÀI TOÁN--------------------------------------------------------------------------------------------\n",
        "\n",
        "\n",
        "\n",
        "> Bài toán phát hiện tính châm biếm trong các bình luận, câu văn, tiêu đề,.. trên các trang mạng xã hội như (Twiter, Facebook, Instagram,..) hay trong các trang báo. Việc thu thập dữ liệu cho bài toán này rất khó. Các bình luận, tiêu đề đến từ nhiều ngôn ngữ, nhiều lĩnh vực, có thể chứa nhiều thông tin không cần thiết, có thể có lỗi chính tả. Việc dán nhãn cũng phải được thực hiện khó khăn, không có tiêu chuẩn cụ thể cho người dán nhãn để phát hiện châm biếm.\n",
        "\n",
        "\n",
        "\n",
        "> Bộ dữ liệu đã có là những tiêu đề được lấy từ 2 trang báo Onion và HuffPost. Onion là trang báo chỉ đăng những tin châm biếm. HuffPost là trang báo uy tín, đăng những tin chính thống. Đây là bộ dữ liệu sạch, rõ ràng đáp ứng những yêu cầu sau:\n",
        "*   Dữ liệu hoàn toàn bằng tiếng Anh.\n",
        "*   Các tiêu đề được viết bởi những người chuyên nghiệp, không có lỗi chính tả.\n",
        "*   Hai trang báo có uy tín cao trong những bài viết của mình, có sự rõ ràng giữa những tiêu đề có châm biếm và những tiêu đề không châm biếm.\n",
        "\n",
        "\n",
        "\n",
        "\n",
        "\n",
        "\n"
      ]
    },
    {
      "cell_type": "code",
      "metadata": {
        "id": "RwJNrC1BzoJ0",
        "colab_type": "code",
        "colab": {}
      },
      "source": [
        "import pandas as pd\n",
        "import seaborn as sns\n",
        "from sklearn.model_selection import train_test_split \n",
        "import matplotlib.pyplot as plt\n",
        "import numpy as np\n",
        "from sklearn.feature_extraction.text import TfidfVectorizer\n",
        "from sklearn.naive_bayes import BernoulliNB\n",
        "from sklearn.neural_network import MLPClassifier\n",
        "from sklearn.linear_model import LogisticRegression\n",
        "from sklearn.svm import SVC\n",
        "from sklearn.model_selection import GridSearchCV\n",
        "from sklearn.metrics import classification_report, confusion_matrix"
      ],
      "execution_count": 3,
      "outputs": []
    },
    {
      "cell_type": "markdown",
      "metadata": {
        "id": "m3rCqYV5BIYS",
        "colab_type": "text"
      },
      "source": [
        "# Import data\n"
      ]
    },
    {
      "cell_type": "code",
      "metadata": {
        "id": "DHPdobAnfw19",
        "colab_type": "code",
        "colab": {
          "base_uri": "https://localhost:8080/",
          "height": 195
        },
        "outputId": "9bd521ed-c77c-4764-f82c-d121cd098817"
      },
      "source": [
        "df = pd.read_json(\"./Sarcasm_Headlines_Dataset.json\", lines=True)\n",
        "df.head()"
      ],
      "execution_count": 368,
      "outputs": [
        {
          "output_type": "execute_result",
          "data": {
            "text/html": [
              "<div>\n",
              "<style scoped>\n",
              "    .dataframe tbody tr th:only-of-type {\n",
              "        vertical-align: middle;\n",
              "    }\n",
              "\n",
              "    .dataframe tbody tr th {\n",
              "        vertical-align: top;\n",
              "    }\n",
              "\n",
              "    .dataframe thead th {\n",
              "        text-align: right;\n",
              "    }\n",
              "</style>\n",
              "<table border=\"1\" class=\"dataframe\">\n",
              "  <thead>\n",
              "    <tr style=\"text-align: right;\">\n",
              "      <th></th>\n",
              "      <th>article_link</th>\n",
              "      <th>headline</th>\n",
              "      <th>is_sarcastic</th>\n",
              "    </tr>\n",
              "  </thead>\n",
              "  <tbody>\n",
              "    <tr>\n",
              "      <th>0</th>\n",
              "      <td>https://www.huffingtonpost.com/entry/versace-b...</td>\n",
              "      <td>former versace store clerk sues over secret 'b...</td>\n",
              "      <td>0</td>\n",
              "    </tr>\n",
              "    <tr>\n",
              "      <th>1</th>\n",
              "      <td>https://www.huffingtonpost.com/entry/roseanne-...</td>\n",
              "      <td>the 'roseanne' revival catches up to our thorn...</td>\n",
              "      <td>0</td>\n",
              "    </tr>\n",
              "    <tr>\n",
              "      <th>2</th>\n",
              "      <td>https://local.theonion.com/mom-starting-to-fea...</td>\n",
              "      <td>mom starting to fear son's web series closest ...</td>\n",
              "      <td>1</td>\n",
              "    </tr>\n",
              "    <tr>\n",
              "      <th>3</th>\n",
              "      <td>https://politics.theonion.com/boehner-just-wan...</td>\n",
              "      <td>boehner just wants wife to listen, not come up...</td>\n",
              "      <td>1</td>\n",
              "    </tr>\n",
              "    <tr>\n",
              "      <th>4</th>\n",
              "      <td>https://www.huffingtonpost.com/entry/jk-rowlin...</td>\n",
              "      <td>j.k. rowling wishes snape happy birthday in th...</td>\n",
              "      <td>0</td>\n",
              "    </tr>\n",
              "  </tbody>\n",
              "</table>\n",
              "</div>"
            ],
            "text/plain": [
              "                                        article_link  ... is_sarcastic\n",
              "0  https://www.huffingtonpost.com/entry/versace-b...  ...            0\n",
              "1  https://www.huffingtonpost.com/entry/roseanne-...  ...            0\n",
              "2  https://local.theonion.com/mom-starting-to-fea...  ...            1\n",
              "3  https://politics.theonion.com/boehner-just-wan...  ...            1\n",
              "4  https://www.huffingtonpost.com/entry/jk-rowlin...  ...            0\n",
              "\n",
              "[5 rows x 3 columns]"
            ]
          },
          "metadata": {
            "tags": []
          },
          "execution_count": 368
        }
      ]
    },
    {
      "cell_type": "code",
      "metadata": {
        "id": "47NmAzz7ij-8",
        "colab_type": "code",
        "colab": {
          "base_uri": "https://localhost:8080/",
          "height": 402
        },
        "outputId": "385647da-697e-47bf-8294-e271444a6a5f"
      },
      "source": [
        "df.drop([\"article_link\"], axis=1)"
      ],
      "execution_count": 5,
      "outputs": [
        {
          "output_type": "execute_result",
          "data": {
            "text/html": [
              "<div>\n",
              "<style scoped>\n",
              "    .dataframe tbody tr th:only-of-type {\n",
              "        vertical-align: middle;\n",
              "    }\n",
              "\n",
              "    .dataframe tbody tr th {\n",
              "        vertical-align: top;\n",
              "    }\n",
              "\n",
              "    .dataframe thead th {\n",
              "        text-align: right;\n",
              "    }\n",
              "</style>\n",
              "<table border=\"1\" class=\"dataframe\">\n",
              "  <thead>\n",
              "    <tr style=\"text-align: right;\">\n",
              "      <th></th>\n",
              "      <th>headline</th>\n",
              "      <th>is_sarcastic</th>\n",
              "    </tr>\n",
              "  </thead>\n",
              "  <tbody>\n",
              "    <tr>\n",
              "      <th>0</th>\n",
              "      <td>former versace store clerk sues over secret 'b...</td>\n",
              "      <td>0</td>\n",
              "    </tr>\n",
              "    <tr>\n",
              "      <th>1</th>\n",
              "      <td>the 'roseanne' revival catches up to our thorn...</td>\n",
              "      <td>0</td>\n",
              "    </tr>\n",
              "    <tr>\n",
              "      <th>2</th>\n",
              "      <td>mom starting to fear son's web series closest ...</td>\n",
              "      <td>1</td>\n",
              "    </tr>\n",
              "    <tr>\n",
              "      <th>3</th>\n",
              "      <td>boehner just wants wife to listen, not come up...</td>\n",
              "      <td>1</td>\n",
              "    </tr>\n",
              "    <tr>\n",
              "      <th>4</th>\n",
              "      <td>j.k. rowling wishes snape happy birthday in th...</td>\n",
              "      <td>0</td>\n",
              "    </tr>\n",
              "    <tr>\n",
              "      <th>...</th>\n",
              "      <td>...</td>\n",
              "      <td>...</td>\n",
              "    </tr>\n",
              "    <tr>\n",
              "      <th>26704</th>\n",
              "      <td>american politics in moral free-fall</td>\n",
              "      <td>0</td>\n",
              "    </tr>\n",
              "    <tr>\n",
              "      <th>26705</th>\n",
              "      <td>america's best 20 hikes</td>\n",
              "      <td>0</td>\n",
              "    </tr>\n",
              "    <tr>\n",
              "      <th>26706</th>\n",
              "      <td>reparations and obama</td>\n",
              "      <td>0</td>\n",
              "    </tr>\n",
              "    <tr>\n",
              "      <th>26707</th>\n",
              "      <td>israeli ban targeting boycott supporters raise...</td>\n",
              "      <td>0</td>\n",
              "    </tr>\n",
              "    <tr>\n",
              "      <th>26708</th>\n",
              "      <td>gourmet gifts for the foodie 2014</td>\n",
              "      <td>0</td>\n",
              "    </tr>\n",
              "  </tbody>\n",
              "</table>\n",
              "<p>26709 rows × 2 columns</p>\n",
              "</div>"
            ],
            "text/plain": [
              "                                                headline  is_sarcastic\n",
              "0      former versace store clerk sues over secret 'b...             0\n",
              "1      the 'roseanne' revival catches up to our thorn...             0\n",
              "2      mom starting to fear son's web series closest ...             1\n",
              "3      boehner just wants wife to listen, not come up...             1\n",
              "4      j.k. rowling wishes snape happy birthday in th...             0\n",
              "...                                                  ...           ...\n",
              "26704               american politics in moral free-fall             0\n",
              "26705                            america's best 20 hikes             0\n",
              "26706                              reparations and obama             0\n",
              "26707  israeli ban targeting boycott supporters raise...             0\n",
              "26708                  gourmet gifts for the foodie 2014             0\n",
              "\n",
              "[26709 rows x 2 columns]"
            ]
          },
          "metadata": {
            "tags": []
          },
          "execution_count": 5
        }
      ]
    },
    {
      "cell_type": "code",
      "metadata": {
        "id": "rH533RjufD3I",
        "colab_type": "code",
        "colab": {}
      },
      "source": [
        "num_sarcastic = df.sum(axis=0, skipna=True)['is_sarcastic']\n",
        "num_nonsarcastic = len(df) - num_sarcastic"
      ],
      "execution_count": 6,
      "outputs": []
    },
    {
      "cell_type": "code",
      "metadata": {
        "id": "_OCq_cqmkRLH",
        "colab_type": "code",
        "colab": {
          "base_uri": "https://localhost:8080/",
          "height": 296
        },
        "outputId": "d8a651d9-6013-4c54-ffc7-c55600ca91fe"
      },
      "source": [
        "labels = [1, 0]\n",
        "x = np.arange(len(labels))\n",
        "fig, ax = plt.subplots()\n",
        "rect_1 = ax.bar(x[0], num_sarcastic)\n",
        "rect_2 = ax.bar(x[1], num_nonsarcastic)\n",
        "ax.set_ylabel('Count')\n",
        "ax.set_xlabel('is sarcastic')\n",
        "ax.set_xticks(x)\n",
        "ax.set_xticklabels(labels)\n",
        "\n",
        "ax.annotate(\n",
        "    '{}'.format(num_sarcastic),\n",
        "    xy=(x[0], num_sarcastic),\n",
        "    ha='center', va='bottom',\n",
        "    )\n",
        "ax.annotate(\n",
        "    '{}'.format(num_nonsarcastic),\n",
        "    xy=(x[1], num_nonsarcastic),\n",
        "    ha='center', va='bottom',\n",
        "    )"
      ],
      "execution_count": 7,
      "outputs": [
        {
          "output_type": "execute_result",
          "data": {
            "text/plain": [
              "Text(1, 14985, '14985')"
            ]
          },
          "metadata": {
            "tags": []
          },
          "execution_count": 7
        },
        {
          "output_type": "display_data",
          "data": {
            "image/png": "[encoded data removed]",
            "text/plain": [
              "<Figure size 432x288 with 1 Axes>"
            ]
          },
          "metadata": {
            "tags": [],
            "needs_background": "light"
          }
        }
      ]
    },
    {
      "cell_type": "markdown",
      "metadata": {
        "id": "Q0H0mg6-rje5",
        "colab_type": "text"
      },
      "source": [
        "Ta thấy số lượng tiêu đề châm biếm và không châm biếm cân bằng nhau trong bộ dữ liệu"
      ]
    },
    {
      "cell_type": "markdown",
      "metadata": {
        "id": "EQxAyC8C0Gq2",
        "colab_type": "text"
      },
      "source": [
        "# Pre-training data, using  NLTK library"
      ]
    },
    {
      "cell_type": "markdown",
      "metadata": {
        "id": "uqeVLyoPQwkt",
        "colab_type": "text"
      },
      "source": [
        "***USING NLTK LIBRARY***"
      ]
    },
    {
      "cell_type": "code",
      "metadata": {
        "id": "olHrLA14RB28",
        "colab_type": "code",
        "colab": {
          "base_uri": "https://localhost:8080/",
          "height": 322
        },
        "outputId": "c490fbae-96d9-4cc2-f202-f8cb26136b3d"
      },
      "source": [
        "!pip install -U nltk"
      ],
      "execution_count": 8,
      "outputs": [
        {
          "output_type": "stream",
          "text": [
            "Collecting nltk\n",
            "\u001b[?25l  Downloading https://files.pythonhosted.org/packages/92/75/ce35194d8e3022203cca0d2f896dbb88689f9b3fce8e9f9cff942913519d/nltk-3.5.zip (1.4MB)\n",
            "\u001b[K     |████████████████████████████████| 1.4MB 4.7MB/s \n",
            "\u001b[?25hRequirement already satisfied, skipping upgrade: click in /usr/local/lib/python3.6/dist-packages (from nltk) (7.1.2)\n",
            "Requirement already satisfied, skipping upgrade: joblib in /usr/local/lib/python3.6/dist-packages (from nltk) (0.15.1)\n",
            "Requirement already satisfied, skipping upgrade: regex in /usr/local/lib/python3.6/dist-packages (from nltk) (2019.12.20)\n",
            "Requirement already satisfied, skipping upgrade: tqdm in /usr/local/lib/python3.6/dist-packages (from nltk) (4.41.1)\n",
            "Building wheels for collected packages: nltk\n",
            "  Building wheel for nltk (setup.py) ... \u001b[?25l\u001b[?25hdone\n",
            "  Created wheel for nltk: filename=nltk-3.5-cp36-none-any.whl size=1434672 sha256=aee87e3dc81a139db9e79dc766d2ad5f8cf5aaccc6a5e2394547f67db6b4c2d1\n",
            "  Stored in directory: /root/.cache/pip/wheels/ae/8c/3f/b1fe0ba04555b08b57ab52ab7f86023639a526d8bc8d384306\n",
            "Successfully built nltk\n",
            "Installing collected packages: nltk\n",
            "  Found existing installation: nltk 3.2.5\n",
            "    Uninstalling nltk-3.2.5:\n",
            "      Successfully uninstalled nltk-3.2.5\n",
            "Successfully installed nltk-3.5\n"
          ],
          "name": "stdout"
        }
      ]
    },
    {
      "cell_type": "code",
      "metadata": {
        "id": "qYdgz_13RQOe",
        "colab_type": "code",
        "colab": {
          "base_uri": "https://localhost:8080/",
          "height": 806
        },
        "outputId": "4cf94a76-223c-45c0-ed3e-02de0c3fc2e6"
      },
      "source": [
        "import nltk\n",
        "nltk.download(\"popular\")"
      ],
      "execution_count": 9,
      "outputs": [
        {
          "output_type": "stream",
          "text": [
            "[nltk_data] Downloading collection 'popular'\n",
            "[nltk_data]    | \n",
            "[nltk_data]    | Downloading package cmudict to /root/nltk_data...\n",
            "[nltk_data]    |   Unzipping corpora/cmudict.zip.\n",
            "[nltk_data]    | Downloading package gazetteers to /root/nltk_data...\n",
            "[nltk_data]    |   Unzipping corpora/gazetteers.zip.\n",
            "[nltk_data]    | Downloading package genesis to /root/nltk_data...\n",
            "[nltk_data]    |   Unzipping corpora/genesis.zip.\n",
            "[nltk_data]    | Downloading package gutenberg to /root/nltk_data...\n",
            "[nltk_data]    |   Unzipping corpora/gutenberg.zip.\n",
            "[nltk_data]    | Downloading package inaugural to /root/nltk_data...\n",
            "[nltk_data]    |   Unzipping corpora/inaugural.zip.\n",
            "[nltk_data]    | Downloading package movie_reviews to\n",
            "[nltk_data]    |     /root/nltk_data...\n",
            "[nltk_data]    |   Unzipping corpora/movie_reviews.zip.\n",
            "[nltk_data]    | Downloading package names to /root/nltk_data...\n",
            "[nltk_data]    |   Unzipping corpora/names.zip.\n",
            "[nltk_data]    | Downloading package shakespeare to /root/nltk_data...\n",
            "[nltk_data]    |   Unzipping corpora/shakespeare.zip.\n",
            "[nltk_data]    | Downloading package stopwords to /root/nltk_data...\n",
            "[nltk_data]    |   Unzipping corpora/stopwords.zip.\n",
            "[nltk_data]    | Downloading package treebank to /root/nltk_data...\n",
            "[nltk_data]    |   Unzipping corpora/treebank.zip.\n",
            "[nltk_data]    | Downloading package twitter_samples to\n",
            "[nltk_data]    |     /root/nltk_data...\n",
            "[nltk_data]    |   Unzipping corpora/twitter_samples.zip.\n",
            "[nltk_data]    | Downloading package omw to /root/nltk_data...\n",
            "[nltk_data]    |   Unzipping corpora/omw.zip.\n",
            "[nltk_data]    | Downloading package wordnet to /root/nltk_data...\n",
            "[nltk_data]    |   Unzipping corpora/wordnet.zip.\n",
            "[nltk_data]    | Downloading package wordnet_ic to /root/nltk_data...\n",
            "[nltk_data]    |   Unzipping corpora/wordnet_ic.zip.\n",
            "[nltk_data]    | Downloading package words to /root/nltk_data...\n",
            "[nltk_data]    |   Unzipping corpora/words.zip.\n",
            "[nltk_data]    | Downloading package maxent_ne_chunker to\n",
            "[nltk_data]    |     /root/nltk_data...\n",
            "[nltk_data]    |   Unzipping chunkers/maxent_ne_chunker.zip.\n",
            "[nltk_data]    | Downloading package punkt to /root/nltk_data...\n",
            "[nltk_data]    |   Unzipping tokenizers/punkt.zip.\n",
            "[nltk_data]    | Downloading package snowball_data to\n",
            "[nltk_data]    |     /root/nltk_data...\n",
            "[nltk_data]    | Downloading package averaged_perceptron_tagger to\n",
            "[nltk_data]    |     /root/nltk_data...\n",
            "[nltk_data]    |   Unzipping taggers/averaged_perceptron_tagger.zip.\n",
            "[nltk_data]    | \n",
            "[nltk_data]  Done downloading collection popular\n"
          ],
          "name": "stderr"
        },
        {
          "output_type": "execute_result",
          "data": {
            "text/plain": [
              "True"
            ]
          },
          "metadata": {
            "tags": []
          },
          "execution_count": 9
        }
      ]
    },
    {
      "cell_type": "markdown",
      "metadata": {
        "id": "kQ3CToyAsO0x",
        "colab_type": "text"
      },
      "source": [
        "**Tiền xử lí dữ liệu:**\n",
        "\n",
        "\n",
        "*   Chuyển các chữ in hoa thành in thường.\n",
        "*   Xóa các kí tự đặc biệt như: ' [ / ( ) { } \\ [ \\ ] \\ | @ , ; ] ' \n",
        "*   Xóa các từ stopwords.\n",
        "\n"
      ]
    },
    {
      "cell_type": "code",
      "metadata": {
        "id": "xyU7jdQ9mQFD",
        "colab_type": "code",
        "colab": {}
      },
      "source": [
        "import re\n",
        "from bs4 import BeautifulSoup\n",
        "from nltk.corpus import stopwords\n",
        "\n",
        "REPLACE_BY_SPACE_RE = re.compile('[/(){}\\[\\]\\|@,;]')\n",
        "BAD_SYMBOLS_RE = re.compile('[^0-9a-z #+_]')\n",
        "STOPWORDS = set(stopwords.words('english'))\n",
        "\n",
        "def clean_text(text):\n",
        "    text = BeautifulSoup(text, \"lxml\").text # HTML decoding\n",
        "    text = text.lower() # lowercase text\n",
        "    text = REPLACE_BY_SPACE_RE.sub(' ', text) # replace REPLACE_BY_SPACE_RE symbols by space in text\n",
        "    text = BAD_SYMBOLS_RE.sub('', text) # delete symbols which are in BAD_SYMBOLS_RE from text\n",
        "    text = ' '.join(word for word in text.split() if word not in STOPWORDS) # delete stopwors from text\n",
        "    \n",
        "    return text"
      ],
      "execution_count": 10,
      "outputs": []
    },
    {
      "cell_type": "code",
      "metadata": {
        "id": "9784vqHur7Rb",
        "colab_type": "code",
        "colab": {
          "base_uri": "https://localhost:8080/",
          "height": 118
        },
        "outputId": "f9f9722d-f6a3-4ff3-a3d2-62ab914deb7a"
      },
      "source": [
        "df['headline'] = df['headline'].apply(clean_text)\n",
        "df.head()['headline']"
      ],
      "execution_count": 11,
      "outputs": [
        {
          "output_type": "execute_result",
          "data": {
            "text/plain": [
              "0    former versace store clerk sues secret black c...\n",
              "1    roseanne revival catches thorny political mood...\n",
              "2    mom starting fear sons web series closest thin...\n",
              "3    boehner wants wife listen come alternative deb...\n",
              "4    jk rowling wishes snape happy birthday magical...\n",
              "Name: headline, dtype: object"
            ]
          },
          "metadata": {
            "tags": []
          },
          "execution_count": 11
        }
      ]
    },
    {
      "cell_type": "markdown",
      "metadata": {
        "id": "dDxM88JPvCYS",
        "colab_type": "text"
      },
      "source": [
        "***Stem*** (đưa các từ về dạng nguyên mẫu trong tiếng Anh) các từ trong bộ dữ liệu.\n",
        "\n",
        "Lưu dữ liệu đã được áp dụng *stem* để so sánh với dữ liệu không *stem*."
      ]
    },
    {
      "cell_type": "code",
      "metadata": {
        "id": "Gt3VUJC9nBfM",
        "colab_type": "code",
        "colab": {}
      },
      "source": [
        "from nltk.stem.porter import PorterStemmer\n",
        "porter = PorterStemmer()\n",
        "\n",
        "def convert_to_sentence(tokens):\n",
        "  s = ''\n",
        "  for token in tokens:\n",
        "    s += token + ' '\n",
        "  s = s.strip()\n",
        "  return s\n",
        "\n",
        "def stemming(text):\n",
        "  tokens = text.split()\n",
        "  tokens = [porter.stem(w) for w in tokens] \n",
        "  new_sentence = convert_to_sentence(tokens)\n",
        "\n",
        "  return new_sentence"
      ],
      "execution_count": 12,
      "outputs": []
    },
    {
      "cell_type": "code",
      "metadata": {
        "id": "oihnNfJluGNH",
        "colab_type": "code",
        "colab": {
          "base_uri": "https://localhost:8080/",
          "height": 118
        },
        "outputId": "a1de6c5a-38b1-481c-c3d4-0564c18d57dd"
      },
      "source": [
        "stemmed_df = df['headline'].apply(stemming)\n",
        "stemmed_df.head()"
      ],
      "execution_count": 13,
      "outputs": [
        {
          "output_type": "execute_result",
          "data": {
            "text/plain": [
              "0    former versac store clerk sue secret black cod...\n",
              "1    roseann reviv catch thorni polit mood better wors\n",
              "2    mom start fear son web seri closest thing gran...\n",
              "3    boehner want wife listen come altern debtreduc...\n",
              "4          jk rowl wish snape happi birthday magic way\n",
              "Name: headline, dtype: object"
            ]
          },
          "metadata": {
            "tags": []
          },
          "execution_count": 13
        }
      ]
    },
    {
      "cell_type": "markdown",
      "metadata": {
        "id": "NCazDP_fwJ34",
        "colab_type": "text"
      },
      "source": [
        "# Split train, test\n"
      ]
    },
    {
      "cell_type": "markdown",
      "metadata": {
        "id": "InNwQOMfvcS-",
        "colab_type": "text"
      },
      "source": [
        "Chia bộ dữ liệu thành 2 bộ train và test theo tỉ lệ 8/2"
      ]
    },
    {
      "cell_type": "code",
      "metadata": {
        "id": "Y6G6ORrpwNhM",
        "colab_type": "code",
        "colab": {}
      },
      "source": [
        "X_train, X_test, y_train, y_test = train_test_split(df['headline'], df['is_sarcastic'], train_size=0.8, random_state=0)"
      ],
      "execution_count": 14,
      "outputs": []
    },
    {
      "cell_type": "code",
      "metadata": {
        "id": "xUuNstf3wu0i",
        "colab_type": "code",
        "colab": {}
      },
      "source": [
        "Xstem_train, Xstem_test, ystem_train, ystem_test = train_test_split(stemmed_df, df['is_sarcastic'], train_size=0.8, random_state=0)"
      ],
      "execution_count": 15,
      "outputs": []
    },
    {
      "cell_type": "markdown",
      "metadata": {
        "id": "r1h_jz-TwLDj",
        "colab_type": "text"
      },
      "source": [
        "# Feature engineering"
      ]
    },
    {
      "cell_type": "markdown",
      "metadata": {
        "id": "h8T8_HchxR7z",
        "colab_type": "text"
      },
      "source": [
        "Sử dụng Word Frequencies với TfidfVectorizer.\n",
        "\n",
        "TfidfVectorizer sẽ tách từ, xây dựng bộ từ vựng từ dữ liệu của bộ train.\n",
        "\n",
        "Bộ từ vựng là một vector, mỗi từ được gán 1 vị trí số nguyên duy nhất.\n",
        "\n",
        "Vector tần suất được tính tương ứng cho các từ trong bộ từ vựng, từ có tần suất cao nhất được gán giá trị thấp nhất là 1,0.\n",
        "\n",
        "Đối với dữ liệu test, nếu có các từ không xuất hiện trong bộ từ vựng thì các từ này sẽ được bỏ qua."
      ]
    },
    {
      "cell_type": "markdown",
      "metadata": {
        "id": "j8nw25SZ4Dqc",
        "colab_type": "text"
      },
      "source": [
        "Dữ liệu không stem"
      ]
    },
    {
      "cell_type": "code",
      "metadata": {
        "id": "-TG8xLM7NfBG",
        "colab_type": "code",
        "colab": {
          "base_uri": "https://localhost:8080/",
          "height": 50
        },
        "outputId": "8bdbf06e-9b73-4373-d98c-0f377df6f385"
      },
      "source": [
        "vectorizer = TfidfVectorizer()\n",
        "vectorizer.fit(X_train)\n",
        "# print(vectorizer.vocabulary_)\n",
        "# print(vectorizer.idf_)\n",
        "\n",
        "vector_train = vectorizer.transform(X_train)\n",
        "vector_test = vectorizer.transform(X_test)\n",
        "\n",
        "print(vector_train.shape)\n",
        "print(vector_test.shape)"
      ],
      "execution_count": 370,
      "outputs": [
        {
          "output_type": "stream",
          "text": [
            "(21367, 25194)\n",
            "(5342, 25194)\n"
          ],
          "name": "stdout"
        }
      ]
    },
    {
      "cell_type": "markdown",
      "metadata": {
        "id": "DA-ehHX91JbP",
        "colab_type": "text"
      },
      "source": [
        "Ta thấy bộ từ vựng có 25194 từ."
      ]
    },
    {
      "cell_type": "code",
      "metadata": {
        "id": "uex6U6d41aRC",
        "colab_type": "code",
        "colab": {
          "base_uri": "https://localhost:8080/",
          "height": 134
        },
        "outputId": "db278e95-47fa-4974-d560-762a544354f3"
      },
      "source": [
        "print(vector_train[0])"
      ],
      "execution_count": 17,
      "outputs": [
        {
          "output_type": "stream",
          "text": [
            "  (0, 25179)\t0.4002035964591255\n",
            "  (0, 23668)\t0.42914961621321124\n",
            "  (0, 18904)\t0.41221728011193726\n",
            "  (0, 16002)\t0.42914961621321124\n",
            "  (0, 12907)\t0.33299301995694935\n",
            "  (0, 12841)\t0.38327126035785153\n",
            "  (0, 1624)\t0.2092701574760716\n"
          ],
          "name": "stdout"
        }
      ]
    },
    {
      "cell_type": "markdown",
      "metadata": {
        "id": "FWako0wy4F1z",
        "colab_type": "text"
      },
      "source": [
        "Dữ liệu đã stem từ"
      ]
    },
    {
      "cell_type": "code",
      "metadata": {
        "id": "Eb6ckZhiLpue",
        "colab_type": "code",
        "colab": {
          "base_uri": "https://localhost:8080/",
          "height": 121
        },
        "outputId": "7630d5c0-13d4-4aa4-87d5-1b7d1361eaeb"
      },
      "source": [
        "vectorizer_stem = TfidfVectorizer()\n",
        "vectorizer_stem.fit(Xstem_train)\n",
        "print(vectorizer_stem.vocabulary_)\n",
        "print(vectorizer_stem.idf_)\n",
        "\n",
        "vectorStem_train = vectorizer_stem.transform(Xstem_train)\n",
        "vectorStem_test = vectorizer_stem.transform(Xstem_test)\n",
        "\n",
        "print(vectorStem_train.shape)\n",
        "print(vectorStem_test.shape)"
      ],
      "execution_count": 117,
      "outputs": [
        {
          "output_type": "stream",
          "text": [
            "{'area': 1280, 'ostrich': 11318, 'lash': 9001, 'unnecessarili': 16542, 'restrict': 13202, 'zone': 17669, 'law': 9040, 'frugal': 6382, 'star': 14952, 'war': 17045, 'fan': 5744, 'camp': 2739, 'front': 6369, '99cent': 589, 'theater': 15715, 'decor': 4314, 'throw': 15804, 'pillow': 11927, 'posit': 12189, 'ach': 667, 'quick': 12688, 'plump': 12051, 'damag': 4165, 'stigma': 15046, 'men': 9969, 'color': 3501, 'makeup': 9605, 'face': 5680, 'dr': 4913, 'scholl': 13802, 'introduc': 8229, 'new': 10760, 'cartilag': 2869, 'insert': 8141, 'allday': 925, 'knee': 8792, 'pain': 11497, 'relief': 13071, 'doublejoint': 4880, 'man': 9630, 'date': 4220, 'break': 2385, 'earli': 5098, 'boilermak': 2229, 'protest': 12515, 'purdu': 12616, 'mascot': 9756, 'tour': 15988, 'compani': 3557, 'cat': 2899, 'prepar': 12335, 'yet': 17569, 'anoth': 1112, 'day': 4233, 'goddamn': 6758, 'catsuit': 2921, 'jeb': 8408, 'bush': 2630, 'would': 17463, 'cours': 3860, 'support': 15335, 'donald': 4837, 'trump': 16173, 'nomin': 10879, 'celebr': 2959, 'disappoint': 4655, 'meet': 9925, 'pornograph': 12160, 'websit': 17147, 'visitor': 16914, 'choos': 3202, 'subscript': 15220, 'that': 15711, 'right': 13326, 'democrat': 4415, 'call': 2718, 'convinc': 3728, 'amount': 1038, 'condemn': 3608, 'al': 861, 'franken': 6276, 'director': 4639, 'paul': 11669, 'feig': 5851, 'say': 13747, 'speak': 14760, 'weinstein': 17170, 'sexual': 14093, 'assault': 1381, 'alleg': 926, 'investor': 8245, 'stake': 14926, 'greenspan': 6928, 'hous': 7728, 'sign': 14315, 'rate': 12819, 'increas': 8017, 'coast': 3417, 'guard': 7018, 'go': 6746, 'let': 9157, 'strand': 15110, 'yacht': 17535, 'owner': 11456, 'sweat': 15398, 'littl': 9294, 'emot': 5302, 'recov': 12937, 'elect': 5216, 'gruff': 7003, 'nononsens': 10916, 'teacher': 15588, 'hard': 7232, 'student': 15173, 'get': 6629, 'exploit': 5624, 'power': 12249, 'sensit': 14024, 'scientist': 13820, 'report': 13145, 'women': 17402, 'dont': 4845, 'know': 8814, 'beauti': 1808, 'woman': 17400, '77th': 518, 'birthday': 2047, 'fiercest': 5921, 'way': 17112, 'possibl': 12193, 'scene': 13780, 'drunken': 4995, 'huddl': 7762, 'angri': 1088, 'white': 17254, 'thinkabl': 15752, 'happen': 7219, 'local': 9329, 'author': 1476, 'miss': 10239, 'plate': 12003, 'glass': 6705, 'found': 6239, 'filthi': 5947, 'safe': 13615, 'roommat': 13464, 'room': 13461, 'toothbrush': 15947, 'slightli': 14487, 'differ': 4587, 'alreadi': 969, 'exist': 5589, 'perfectli': 11777, 'good': 6791, 'male': 9614, 'gaze': 6563, 'fall': 5725, 'buffalo': 2535, 'chicken': 3140, 'bite': 2061, 'harrow': 7267, 'imag': 7921, 'captur': 2801, 'last': 9005, 'impact': 7942, 'realli': 12863, 'look': 9381, 'like': 9238, 'work': 17428, 'dog': 4804, 'badass': 1594, 'stop': 15086, 'rape': 12805, 'attempt': 1434, 'rob': 13381, 'portman': 12180, 'obama': 11071, 'lawsuit': 9048, 'act': 687, 'alon': 958, 'immigr': 7934, 'put': 12631, 'mm': 10283, 'top': 15950, 'eat': 5128, 'dorito': 4866, 'exec': 5571, 'wonder': 17406, 'loud': 9414, 'nasa': 10634, 'delay': 4385, 'shuttl': 14286, 'launch': 9028, 'sheer': 14166, 'habit': 7094, 'mike': 10119, 'penc': 11734, 'ask': 1366, 'waiter': 16999, 'remov': 13102, 'mr': 10468, 'butterworth': 2656, 'tabl': 15473, 'wife': 17296, 'arriv': 1321, 'embarrass': 5274, 'snake': 14573, 'cant': 2779, 'believ': 1872, 'documentari': 4795, 'crew': 3949, 'caught': 2927, 'whif': 17238, 'lung': 9496, 'toad': 15892, 'kepler': 8682, 'spacecraft': 14734, 'unexplain': 16469, 'emerg': 5286, 'mode': 10300, 'colleg': 3484, 'victim': 16849, 'pretti': 12368, 'thrill': 15798, 'recount': 12936, 'faculti': 5702, 'committe': 3544, 'ron': 13452, 'cepha': 2985, 'jone': 8507, 'share': 14139, 'excit': 5558, 'detail': 4512, 'season': 13897, 'us': 16674, 'republican': 13159, 'hillari': 7528, 'could': 3830, 'beat': 1800, 'son': 14677, 'wait': 16998, 'car': 2802, 'start': 14970, 'famili': 5740, 'focu': 6136, 'tread': 16078, 'water': 17091, 'career': 2824, 'year': 17554, 'heartbreak': 7368, 'poem': 12074, 'ocd': 11111, 'spot': 14857, 'unclear': 16395, 'grandma': 6876, 'friend': 6348, '81yearold': 533, 'widow': 17290, 'diari': 4565, 'lie': 9211, 'shoot': 14228, 'copenhagen': 3756, 'synagogu': 15453, 'leav': 9087, 'dead': 4251, 'offic': 11138, 'wound': 17467, 'iran': 8265, 'releas': 13064, 'american': 1021, 'prison': 12415, 'month': 10373, 'topsecret': 15957, 'negoti': 10708, 'secret': 13918, 'ugli': 16325, 'sweater': 15399, 'world': 17443, 'bank': 1670, 'foreclos': 6194, 'farm': 5769, 'nbc': 10670, 'olymp': 11188, 'coverag': 3873, 'sorri': 14701, 'didnt': 4576, 'alter': 975, 'space': 14732, 'time': 15853, 'accommod': 656, 'peopl': 11752, 'schedul': 13783, 'find': 5952, 'pari': 11596, 'publish': 12573, 'adria': 737, 'cimino': 3255, 'bailiff': 1617, 'help': 7433, 'life': 9215, 'side': 14301, 'judg': 8537, 'renam': 13106, 'arena': 1281, 'alway': 992, 'verizon': 16806, 'wireless': 17364, 'amphitheat': 1039, 'queen': 12677, 'cersei': 2992, 'read': 12851, 'insult': 8172, 'bachelor': 1566, 'tv': 16254, 'dream': 4938, 'made': 9551, 'less': 9153, 'fear': 5823, 'courag': 3858, 'everyon': 5519, 'stage': 14916, 'except': 5551, 'ohio': 11157, 'governor': 6844, 'make': 9598, 'desper': 4500, 'plea': 12024, 'aquaman': 1250, 'crowd': 4003, 'cheer': 3093, '93yearold': 574, 'fuckup': 6398, 'final': 5948, 'graduat': 6862, 'nation': 10650, 'sure': 15344, 'mani': 9656, 'extrump': 5656, 'staffer': 14915, 'reabsorb': 12845, 'hollywood': 7609, 'stay': 14993, 'sober': 14618, 'agre': 811, 'effect': 5180, 'diet': 4585, 'weight': 17165, 'loss': 9406, 'nonprofit': 10919, 'live': 9298, 'livabl': 9297, 'fed': 5836, 'zara': 17631, 'worker': 17432, 'battl': 1764, 'hour': 7724, '5thgrade': 463, 'tell': 15637, 'kid': 8722, 'apeshit': 1206, 'end': 5335, 'giver': 6690, 'zuckerberg': 17679, 'wish': 17372, 'old': 11174, 'comment': 3534, 'facebook': 5681, 'bee': 1829, 'stuck': 15170, 'screen': 13863, 'door': 4854, 'fuck': 6392, 'nut': 11037, 'maybellin': 9822, 'line': 9255, 'inject': 8114, 'enhanc': 5364, 'appear': 1223, 'intern': 8203, 'organ': 11282, 'meth': 10031, 'product': 12446, 'illinoi': 7913, 'see': 13929, 'decreas': 4317, 'fouryear': 6252, 'watch': 17087, 'ghost': 6637, 'ride': 13313, 'tractor': 16014, 'swing': 15424, 'million': 10148, 'gather': 6543, 'candid': 2761, 'deliv': 4396, 'seri': 14051, 'short': 14236, 'elabor': 5209, 'rehears': 13031, 'speech': 14782, 'gif': 6649, 'shia': 14191, 'labeouf': 8909, 'movi': 10456, 'show': 14259, 'gop': 6811, 'tuesday': 16212, 'clinton': 3368, 'bark': 1706, 'impress': 7969, 'total': 15977, 'pawsom': 11683, 'gobbler': 6752, 'game': 6495, 'brutal': 2512, 'hunger': 7799, 'parodi': 11606, 'need': 10699, 'stun': 15184, 'photo': 11882, 'loneli': 9360, 'insomnia': 8149, 'ken': 8672, 'burn': 2611, 'implor': 7962, 'stanford': 14947, 'survivor': 15370, 'egg': 5186, 'week': 17156, 'photograph': 11885, 'rememb': 13090, 'feminist': 5868, 'wear': 17131, 'babi': 1556, 'weird': 17172, 'fad': 5703, 'flavor': 6055, 'meal': 9877, 'feel': 5847, 'goos': 6809, 'suddenli': 15255, 'realiz': 12862, 'doesnt': 4802, 'honk': 7658, 'idiot': 7887, 'entir': 5390, 'flap': 6038, 'wing': 17345, 'havana': 7308, 'attract': 1443, 'remembr': 13091, 'begin': 1844, 'task': 15559, 'bask': 1736, 'awkward': 1533, 'disast': 4659, 'justin': 8590, 'timberlak': 15851, 'anna': 1100, 'kendrick': 8674, 'troll': 16148, 'premier': 12325, 'antimuslim': 1162, 'ban': 1650, 'turn': 16238, '60': 466, 'one': 11212, 'big': 1984, 'parti': 11611, 'tammi': 15521, 'demand': 4407, 'taken': 15500, 'serious': 14055, 'reform': 12996, 'jew': 8446, 'pois': 12085, 'pass': 11628, 'transgend': 16047, 'resolut': 13187, 'kristina': 8872, 'reveal': 13238, 'she': 14161, 'deal': 4265, 'dean': 4267, 'paradis': 11575, '13': 71, 'got': 6829, 'real': 12858, 'mental': 9983, 'health': 7353, 'sens': 14019, 'mean': 9880, 'urg': 16664, 'administr': 725, 'crack': 3893, 'sanctuari': 13677, 'citi': 3281, 'open': 11244, 'letter': 9160, 'potenti': 12232, 'mayor': 9830, 'respons': 13194, 'nice': 10793, 'abc': 603, 'announc': 1106, 'ellen': 5249, 'come': 3518, 'everi': 5514, 'episod': 5420, '11': 50, 'thing': 15750, 'never': 10754, 'singl': 14357, 'parent': 11592, 'court': 3861, 'summon': 15279, '025': 19, 'free': 6306, 'aol': 1199, 'freedom': 6310, 'caucu': 2925, 'close': 3382, 'rewrit': 13266, 'care': 2822, 'bill': 2002, '11th': 61, 'die': 4577, 'follow': 6152, 'ga': 6460, 'leak': 9074, 'explos': 5627, 'kate': 8634, 'winslet': 17353, 'refus': 13004, 'thank': 15708, 'nasti': 10644, 'harvey': 7276, '2009': 191, 'oscar': 11304, 'nfl': 10788, 'assist': 1391, 'coach': 3411, 'first': 5986, 'question': 12686, 'prospect': 12505, 'gay': 6556, 'address': 706, 'still': 15049, 'spock': 14830, 'ear': 5094, 'video': 16855, 'recreat': 12939, 'met': 10020, 'mother': 10424, 'legendari': 9111, 'progress': 12461, 'vision': 16911, 'fbi': 5815, 'batboy': 1750, 'tragic': 16024, 'accid': 652, 'coffman': 3453, 'tancredo': 15528, 'bore': 2287, 'illeg': 7912, 'deport': 4455, 'defer': 4353, 'depart': 4447, 'labor': 8911, 'team': 15590, 'seal': 13890, 'toxic': 16001, 'workplac': 17439, 'environ': 5406, 'appar': 1219, 'use': 16685, 'rest': 13195, 'barbecu': 1692, 'pit': 11965, 'fewer': 5904, 'word': 17425, 'sex': 14081, 'food': 6162, 'terrifi': 15678, 'uniform': 16501, 'bachelorett': 1567, 'storm': 15093, 'bar': 1685, 'charleston': 3055, 'church': 3239, 'hold': 7592, 'servic': 14059, 'sinc': 14348, 'sfmoma': 14101, 'techbro': 15603, 'art': 1327, 'patron': 11664, 'buy': 2661, '100': 23, 'jim': 8464, 'bradi': 2350, 'sympathi': 15449, 'card': 2811, 'scott': 13844, 'walker': 17014, 'yoga': 17578, 'dollar': 4821, 'drop': 4972, 'counterfeit': 3841, 'riverboat': 13363, 'horserac': 7694, 'fail': 5708, 'utterli': 16705, 'chrissi': 3213, 'teigen': 15627, 'pose': 12186, 'bra': 2343, 'teddi': 15613, 'bear': 1793, 'postmet': 12212, 'gala': 6476, 'dick': 4571, 'clark': 3310, 'sit': 14379, 'propos': 12497, 'tax': 15575, 'meanest': 9882, 'popul': 12146, 'newborn': 10762, 'constantli': 3682, 'terror': 15681, 'horrifi': 7687, 'shapeless': 14137, 'blob': 2145, '10': 22, 'keep': 8659, 'mind': 10159, 'divorc': 4770, 'larri': 8995, 'wilmor': 17326, 'take': 15497, 'cosbi': 3809, 'nightli': 10821, 'troop': 16150, 'gradual': 6861, 'withdraw': 17377, 'pearl': 11704, 'jam': 8359, 'randomli': 12795, 'itali': 8313, 'betsi': 1946, 'devo': 4541, 'track': 16011, 'record': 12931, 'back': 1569, 'educ': 5172, 'promis': 12474, 'palm': 11523, 'tree': 16090, 'fire': 5968, 'warn': 17063, 'coconut': 3442, 'beaver': 1811, 'dam': 4164, 'window': 17337, 'effort': 5183, 'creat': 3926, 'transcontinent': 16041, 'crossbreez': 3985, 'move': 10453, 'solv': 14660, 'problem': 12429, 'ferguson': 5879, 'pool': 12129, 'suppli': 15334, 'store': 15090, 'overestim': 11405, 'badli': 1598, 'looter': 9393, 'want': 17042, 'chlorin': 3188, 'tablet': 15475, 'dc': 4245, 'cherri': 3118, 'flagrantli': 6029, 'display': 4732, 'reproduct': 13156, 'defiant': 4356, 'milosev': 10153, 'sloppi': 14500, 'sandwich': 13689, 'trial': 16109, 'hiroshima': 7547, 'visit': 16913, 'bring': 2444, 'guilt': 7040, 'born': 2290, 'japan': 8380, 'black': 2074, 'run': 13557, 'onto': 11241, 'hockey': 7577, 'rink': 13339, 'doom': 4852, 'san': 13675, 'jose': 8513, 'shark': 14144, 'immunedefici': 7940, 'realtor': 12867, 'forc': 6187, 'spend': 14794, 'bubbl': 2520, 'troubl': 16156, 'thought': 15778, 'drift': 4954, 'away': 1527, 'hundr': 7795, 'christma': 3221, 'holiday': 7598, 'iranian': 8266, 'nuclear': 11009, 'hurriedli': 7812, 'flush': 6121, '200': 182, 'pound': 12241, 'enrich': 5373, 'uranium': 16662, 'toilet': 15914, 'surpris': 15360, 'un': 16354, 'inspect': 8151, 'flynn': 6129, 'departur': 4449, 'foreign': 6197, 'polici': 12100, 'even': 5508, 'disori': 4725, 'uncl': 16393, 'strike': 15146, 'book': 2268, 'gift': 6651, '15': 87, 'popular': 12148, 'travel': 16072, 'destin': 4506, 'avoid': 1516, 'summer': 15276, 'north': 10954, 'korea': 8843, 'play': 12011, 'brilliant': 2440, 'italian': 8314, 'dish': 4698, 'havent': 7309, 'tri': 16107, 'copi': 3757, 'editor': 5167, 'kill': 8733, 'ongo': 11229, 'ap': 1200, 'style': 15192, 'chicago': 3135, 'manual': 9678, 'gang': 6506, 'violenc': 16892, 'emma': 5296, 'stone': 15075, 'rule': 13548, 'red': 12946, 'carpet': 2855, 'jumpsuit': 8571, 'express': 5634, 'outrag': 11378, 'cut': 4101, 'inch': 7996, 'closer': 3387, 'complet': 3572, 'connect': 3654, 'ralli': 12772, 'strang': 15111, 'death': 4271, 'curs': 4088, 'haunt': 7306, 'cast': 2891, 'gone': 6786, 'wind': 17333, 'best': 1932, 'hotel': 7709, 'larg': 8989, 'boat': 2199, 'futur': 6449, 'lena': 9132, 'dunham': 5047, 'hbo': 7329, 'father': 5796, 'field': 5917, 'unawar': 16372, 'kevin': 8696, 'costner': 3822, 'spark': 14751, 'awaken': 1520, 'sunday': 15285, 'roundup': 13502, 'healthi': 7357, 'age': 797, 'tip': 15869, '30someth': 307, 'oatmeal': 11069, 'varieti': 16755, 'pack': 11477, 'regular': 13026, 'left': 9103, '66': 481, 'percent': 11769, 'citizen': 3282, 'object': 11083, 'tortur': 15973, 'nonetheless': 10902, 'frighten': 6357, 'poll': 12108, 'smart': 14532, 'wont': 17412, 'road': 13371, 'joy': 8527, 'journey': 8524, 'declar': 4307, 'ebola': 5134, 'outbreak': 11340, 'republ': 13158, 'congo': 3639, 'confirm': 3629, 'case': 2879, 'cia': 3244, 'inert': 8064, 'school': 13804, 'bu': 2518, 'exercis': 5575, 'passeng': 11630, 'suspect': 15373, 'next': 10786, 'seat': 13898, 'might': 10114, 'convers': 3722, 'isra': 8303, 'ambassador': 1007, 'dermer': 4479, 'poke': 12087, 'fun': 6423, 'critic': 3970, 'super': 15298, 'bowl': 2331, 'predict': 12293, 'someth': 14673, 'economist': 5151, 'debt': 4284, 'talk': 15509, 'zero': 17647, 'hummu': 7789, 'ingredi': 8104, 'supermarket': 15313, 'sell': 14002, 'debat': 4277, 'viewer': 16865, 'tonight': 15937, 'inform': 8095, 'stanc': 14939, 'drought': 4976, 'bad': 1593, 'adnan': 729, 'sy': 15439, 'second': 13908, 'podcast': 12069, 'serial': 14052, 'van': 16738, 'anyth': 1194, 'kingsiz': 8752, 'missouri': 10246, 'lawmak': 9043, 'lynch': 9512, 'vandal': 16740, 'confeder': 3621, 'statu': 14989, 'nyc': 11054, 'medic': 9910, 'accept': 649, 'obamacar': 11072, 'repeal': 13133, 'without': 17382, 'fight': 5929, 'lesson': 9155, 'urban': 16663, 'chicagoan': 3136, 'stand': 14940, 'qualiti': 12666, 'prais': 12264, 'voter': 16962, 'reject': 13052, 'dull': 5029, 'aaron': 595, 'perski': 11804, 'clear': 3335, 'misconduct': 10218, 'brew': 2417, 'evacu': 5500, 'wildfir': 17310, 'approach': 1244, 'assur': 1395, 'tim': 15849, 'kain': 8604, 'shell': 14175, 'continu': 3707, 'serv': 14057, 'presid': 12351, 'event': 5509, 'joint': 8495, 'messag': 10016, 'kremlin': 8863, 'seriou': 14054, 'religion': 13074, 'princ': 12397, 'sister': 14376, 'tyka': 16293, 'nelson': 10717, 'pay': 11686, 'tribut': 16114, 'late': 9009, 'music': 10552, 'icon': 7872, 'ama': 995, 'expand': 5599, 'isi': 8289, 'scarlett': 13772, 'johansson': 8489, 'immedi': 7931, 'heartwarm': 7378, 'prom': 12471, 'invit': 8248, 'high': 7492, 'claim': 3291, 'plan': 11989, 'missil': 10241, 'near': 10681, 'guam': 7013, 'third': 15758, 'joke': 8497, 'nobodi': 10860, 'laugh': 9025, 'child': 3147, 'favorit': 5809, 'restaur': 13197, 'also': 973, 'dad': 4141, 'twitter': 16277, 'user': 16688, 'blast': 2109, 'hurrican': 7811, 'polit': 12104, 'cover': 3872, 'oprah': 11259, 'winfrey': 17344, 'magazin': 9564, 'privileg': 12420, 'squander': 14885, 'job': 8480, 'market': 9720, 'six': 14387, 'genr': 6599, 'pull': 12587, 'brick': 2427, 'rescu': 13170, 'pregnant': 12311, 'buri': 2601, 'aliv': 916, 'essay': 5471, 'paranoia': 11584, 'caus': 2929, 'frenzi': 6330, 'northwestern': 10958, 'univers': 16517, 'unit': 16514, 'airlin': 843, 'scrap': 13855, 'lastminut': 9007, 'board': 2194, 'member': 9958, 'recogn': 12921, 'scare': 13766, 'straight': 15103, 'cultiv': 4061, 'cs': 4034, 'greater': 6913, 'peac': 11700, 'person': 11805, 'despit': 4503, 'accus': 663, 'fraud': 6290, 'decept': 4300, 'globe': 6725, 'state': 14976, 'histor': 7552, 'archiv': 1277, 'puzzl': 12636, 'lgbtq': 9181, 'caitlyn': 2704, 'jenner': 8422, 'class': 3315, 'faith': 5717, 'healer': 7352, 'lose': 9402, 'patient': 11657, 'routin': 13508, 'miracl': 10204, 'trumpian': 16183, 'senat': 14012, 'contend': 3699, 'link': 9266, 'orlando': 11291, 'declassifi': 4308, 'edgar': 5161, 'hoover': 7670, 'extens': 5639, 'file': 5934, 'munster': 10536, 'heck': 7391, 'probiot': 12428, 'poison': 12086, 'daughter': 4222, 'russian': 13577, 'spi': 14799, 'hospit': 7698, 'walletless': 17022, 'biden': 1981, 'handcuf': 7182, 'bedpost': 1824, 'dark': 4199, 'outlast': 11359, 'korean': 8844, 'temporarili': 15647, 'detent': 4518, 'eas': 5113, 'shock': 14218, 'return': 13228, 'cathol': 2920, 'coupl': 3856, 'embrac': 5281, 'mom': 10328, '000': 0, 'hole': 7595, 'ceram': 2986, 'frog': 6365, 'dealer': 4266, 'memoir': 9962, 'navi': 10665, 'bounc': 2317, 'idea': 7880, 'bin': 2012, 'laden': 8925, 'unemploy': 16460, 'bob': 2201, 'barker': 1707, 'morn': 10397, 'price': 12378, 'young': 17595, 'entrepreneuri': 5398, 'develop': 4533, 'scholli': 13803, 'cto': 4041, 'nick': 10798, 'pirollo': 11959, 'laid': 8939, 'boobytrap': 2266, 'mosul': 10421, 'injur': 8115, 'civilian': 3288, 'duchess': 5010, 'soldier': 14646, 'palestinian': 11519, 'carri': 2858, 'danger': 4180, 'psychic': 12550, 'sniff': 14594, 'pet': 11816, 'skunk': 14429, 'pb': 11696, 'moder': 10302, 'minut': 10202, 'fundrais': 6428, 'advic': 750, 'philand': 11861, 'string': 15147, 'theorist': 15726, 'explain': 5617, 'everyth': 5520, 'doj': 4812, 'initi': 8113, 'deploy': 4453, 'smartphonecarri': 14536, 'bystand': 2678, 'street': 15129, '20': 181, 'funniest': 6436, 'tweet': 16261, 'trap': 16066, 'clip': 3369, 'snapshot': 14581, 'america': 1019, 'thorni': 15771, 'abort': 618, 'freak': 6296, 'result': 13204, 'roll': 13432, 'fec': 5833, 'pick': 11902, 'worri': 17452, 'watchdog': 17088, 'nom': 10875, 'funnel': 6434, 'main': 9587, 'marriag': 9733, 'equal': 5426, 'donor': 4843, 'tough': 15983, 'suggest': 15264, 'nuke': 11021, 'ok': 11166, 'drag': 4917, 'mad': 9545, 'lib': 9188, 'fill': 5937, 'swear': 15396, 'exactli': 5540, 'doctor': 4793, 'undress': 16452, 'coastal': 3418, 'commun': 3549, 'monthli': 10374, 'flood': 6093, 'decad': 4290, 'simpl': 14340, 'easili': 5118, 'save': 13737, '600': 467, 'quiz': 12705, 'shame': 14127, 'princip': 12401, 'ad': 697, 'lgbt': 9179, 'club': 3398, 'bulli': 2563, 'research': 13172, 'attend': 1436, 'receiv': 12904, 'solid': 14651, 'great': 6912, 'dataentri': 4219, 'clerk': 3346, 'reappli': 12873, 'carmex': 2843, '17minut': 114, 'interv': 8214, 'hank': 7210, 'william': 17319, 'jr': 8531, 'honor': 7661, 'institut': 8165, 'footbal': 6175, 'prepared': 12336, 'bounti': 2322, 'hunter': 7805, 'join': 8494, 'chri': 3212, 'christi': 3217, 'bail': 1616, 'satellit': 13718, 'indic': 8038, 'ballist': 1637, 'submarin': 15212, 'john': 8490, 'oliv': 11185, 'confront': 3633, 'dustin': 5062, 'hoffman': 7582, 'unavoid': 16371, 'manli': 9665, 'wast': 17085, 'worth': 17459, 'view': 16864, 'think': 15751, 'appl': 1230, 'homepod': 7630, 'paper': 11568, 'shrink': 14274, 'pink': 11941, 'histori': 7553, 'advertis': 749, 'mark': 9718, 'michael': 10056, 'landon': 8966, 'biographi': 2026, 'resolv': 13188, 'unask': 16369, 'corpor': 3793, 'koch': 8824, 'money': 10346, 'domin': 4831, '2016': 205, 'race': 12714, 'unlik': 16528, 'alli': 935, 'airport': 848, 'gate': 6540, 'agent': 803, 'obituari': 11080, 'cite': 3280, 'teen': 15619, 'love': 9429, 'chang': 3029, 'terrorist': 15684, 'attack': 1432, 'fact': 5693, 'berni': 1923, 'sander': 13682, 'sheriff': 14184, 'joe': 8483, 'arpaio': 1314, 'ambush': 1014, 'middl': 10084, 'chillingli': 3161, 'reappear': 12872, 'nowher': 10994, 'rnc': 13369, 'attende': 1437, 'ciali': 3245, 'around': 1313, 'park': 11598, 'lot': 9408, 'place': 11982, 'giant': 6645, 'pair': 11504, 'shade': 14106, 'sun': 15281, 'modcloth': 10299, 'goe': 6763, 'step': 15018, 'empir': 5310, 'actor': 691, 'trai': 16025, 'byer': 2671, 'squash': 14888, 'rumor': 13553, 'quit': 12703, 'im': 7920, 'deepli': 4333, 'hilari': 7525, 'action': 688, 'huge': 7771, 'breakthrough': 2395, 'googl': 6804, 'ai': 822, 'player': 12015, 'probabl': 12425, 'stori': 15091, 'order': 11275, 'threaten': 15783, 'email': 5266, 'feder': 5837, 'fund': 6425, 'fix': 6020, 'bridg': 2431, 'elain': 5210, 'chao': 3034, 'dh': 4550, 'set': 14063, 'secur': 13925, 'alert': 889, 'level': 9165, 'green': 6921, 'there': 15730, 'martial': 9746, 'specif': 14772, 'selfi': 13976, 'stick': 15042, 'christian': 3218, 'texa': 15696, 'allow': 942, 'gun': 7057, 'campu': 2744, 'bighair': 1990, 'ladi': 8927, 'jesu': 8438, 'soda': 14630, 'complic': 3577, 'item': 8317, 'clarksburg': 3311, 'polic': 12097, 'blotter': 2170, 'valiant': 16730, 'factcheck': 5694, 'system': 15467, 'descend': 4484, 'corrupt': 3804, 'eric': 5443, 'cantor': 2782, 'mlb': 10280, 'speed': 14785, 'much': 10482, 'pleas': 12026, 'type': 16295, 'aness': 1078, 'mat': 9782, 'ill': 7911, 'myanmar': 10576, 'reach': 12846, 'rohingya': 13426, 'muslim': 10555, 'home': 7619, 'hurri': 7810, 'friday': 6345, 'amazon': 1005, 'jordan': 8511, 'klepper': 8784, 'channel': 3031, 'jon': 8503, 'stewart': 15038, 'search': 13895, 'saniti': 13694, 'chippewa': 3178, 'wisconsin': 17367, 'hate': 7296, 'eagl': 5092, 'point': 12080, 'illustr': 7918, 'sum': 15274, 'anxieti': 1188, 'anywher': 1197, 'ever': 5511, 'panick': 11548, 'transport': 16064, 'secretari': 13919, 'kati': 8641, 'perri': 11800, 'nerdi': 10730, 'professor': 12450, 'argument': 1290, 'major': 9597, 'disagre': 4653, 'hardlin': 7243, 'climat': 3357, 'determin': 4522, 'bullet': 2561, 'longer': 9369, 'apathi': 1203, 'outpac': 11375, 'lust': 9502, 'lead': 9066, 'scienc': 13815, 'fiction': 5914, 'writer': 17495, 'admit': 728, 'unstopp': 16597, 'machin': 9536, 'base': 1725, 'nail': 10603, 'endang': 5337, 'speci': 14765, 'deficit': 4360, 'hawk': 7313, 'verifi': 16805, 'truth': 16198, 'articl': 1334, 'check': 3084, 'preconceiv': 12287, 'opinion': 11251, 'glow': 6736, 'ahmadinejad': 821, 'weapon': 17130, 'weve': 17207, 'build': 2547, 'taunt': 15571, 'rudi': 13540, 'giuliani': 6686, 'role': 13430, 'legal': 9109, 'actual': 694, 'ecofriendli': 5147, 'alexandra': 894, 'zissu': 17664, 'retak': 13211, 'annual': 1108, 'countri': 3850, 'rank': 12799, 'extraordinari': 5649, 'flight': 6075, 'paramed': 11582, 'canadian': 2752, 'arctic': 1279, 'proud': 12521, 'tradit': 16019, 'divers': 4764, 'planet': 11991, 'adolesc': 731, 'girl': 6674, 'afterbirth': 785, 'placenta': 11985, 'request': 13164, 'extend': 5637, 'sent': 14028, 'walter': 17031, 'reed': 12976, 'monday': 10341, 'behind': 1854, 'uswnt': 16697, 'boycott': 2338, 'horribl': 7685, 'condit': 3612, 'rock': 13397, 'revolut': 13257, 'weekli': 17159, 'pirateradio': 11958, 'disgust': 4696, 'gyro': 7091, 'meat': 9890, 'magic': 9567, 'delici': 4392, 'midnight': 10097, 'soar': 14616, 'washington': 17081, 'ballet': 1635, 'noch': 10862, 'de': 4249, 'pasin': 11626, 'tango': 15531, 'soir': 14640, 'improv': 7975, 'map': 9684, 'locat': 9331, 'clarifi': 3305, 'site': 14383, 'intend': 8183, 'primari': 12390, 'sourc': 14716, 'ceo': 2984, 'sad': 13605, 'notic': 10974, 'tie': 15832, 'rep': 13128, 'lewi': 9174, 'legitim': 9118, 'south': 14718, 'oust': 11333, 'leader': 9067, 'arrest': 1318, 'briberi': 2426, 'charg': 3046, 'barbershop': 1694, 'pole': 12095, 'hero': 7458, 'cannot': 2774, 'defeat': 4347, 'divid': 4767, 'hi': 7480, 'stolen': 15073, 'moment': 10330, 'brett': 2414, 'davi': 4225, 'salli': 13647, 'burtnick': 2621, 'oppon': 11255, 'racism': 12723, 'came': 2731, 'forgiv': 6210, 'realist': 12860, 'trace': 16008, 'past': 11640, 'grace': 6855, 'farmtoschool': 5771, 'studi': 15177, '90': 561, 'plane': 11990, 'land': 8960, 'bare': 1699, 'nato': 10656, 'mission': 10242, 'aegean': 757, 'sea': 13883, 'smuggl': 14567, 'migrant': 10117, 'refuge': 13002, 'cook': 3735, 'lifeguard': 9217, 'outofbreath': 11367, 'hang': 7205, 'lane': 8970, 'daley': 4157, 'appoint': 1237, 'head': 7333, 'nepotist': 10727, 'crop': 3982, 'matchcom': 9786, 'pictur': 11910, 'clearli': 3339, 'buzz': 2664, 'lightyear': 9237, 'expect': 5604, 'simpson': 14343, 'guy': 7079, 'crossov': 3991, 'shop': 14231, 'mall': 9622, 'quietli': 12695, 'dread': 4936, 'whatev': 17218, 'empti': 5317, 'kelli': 8666, 'furiou': 6439, 'gold': 6771, 'demot': 4423, 'silver': 14333, 'tran': 16035, 'gavin': 6552, 'grimm': 6958, 'respond': 13193, 'lavern': 9039, 'cox': 3885, 'shout': 14255, 'grammi': 6867, 'intent': 8185, 'campaign': 2740, 'expos': 5631, 'sexism': 14086, 'sleep': 14465, 'sunris': 15293, 'hallmark': 7152, 'israelipalestinian': 8307, 'conflict': 3631, 'impos': 7965, 'sanction': 13676, 'russia': 13574, 'haircutprogress': 7116, 'warpaint': 17066, 'theresa': 15732, 'wayman': 17113, 'band': 1656, 'vivid': 16926, 'album': 877, 'inevit': 8066, 'pant': 11556, 'invest': 8243, 'abl': 614, 'clam': 3293, 'stroke': 15153, 'parrot': 11609, 'previou': 12374, 'obvious': 11102, 'kim': 8736, 'gordon': 6816, 'lana': 8957, 'del': 4381, 'rey': 13268, 'femin': 5866, 'afford': 771, 'attain': 1433, 'success': 15240, 'consid': 3673, 'czar': 4134, 'lone': 9359, 'sixpack': 14389, 'human': 7780, 'societi': 14625, 'volunt': 16954, 'whole': 17270, 'adopt': 733, 'sicker': 14299, 'drake': 4921, 'bell': 1875, 'mourn': 10445, 'exgirlfriend': 5579, 'stevi': 15037, 'ryan': 13586, 'heartwrench': 7379, 'squirrel': 14899, 'lost': 9407, 'paw': 11679, 'prosthet': 12507, 'wheel': 17225, 'procrastin': 12440, 'surgeon': 15352, 'coronari': 3791, 'bypass': 2673, 'clean': 3330, 'collect': 3482, 'deposit': 4458, 'salesman': 13643, 'hell': 7422, 'ptsd': 12561, 'destroy': 4509, 'mugger': 10494, 'crap': 3908, 'mp3': 10465, 'woefulli': 17394, 'misguid': 10223, 'stock': 15066, 'gallon': 6483, 'milk': 10138, 'armageddon': 1305, 'region': 13018, 'across': 686, 'advanc': 742, 'challeng': 3017, 'militari': 10134, 'name': 10609, 'pillsburi': 11928, 'doughboy': 4888, 'humong': 7790, 'ass': 1377, 'eras': 5438, 'part': 11610, 'whiteboard': 17255, 'marilyn': 9713, 'monro': 10364, 'jfk': 8454, 'dress': 4948, 'unbeliev': 16377, 'pope': 12138, 'key': 8697, 'vatican': 16762, 'awar': 1521, 'aid': 823, 'galleri': 6482, 'transform': 16045, 'suborbit': 15216, 'ballisticpropuls': 1638, 'engin': 5358, 'rocket': 13402, 'harri': 7262, 'meghan': 9939, 'markl': 9721, 'bridal': 2428, 'registri': 13021, 'londonarea': 9358, 'target': 15550, 'vacat': 16712, 'marvel': 9752, 'compar': 3559, 'depot': 4459, 'employe': 5312, 'custom': 4100, 'pipe': 11951, 'bomb': 2244, 'hampshir': 7175, 'tini': 15867, 'percentag': 11770, 'anymor': 1192, 'stress': 15135, 'stayinb': 14995, 'kind': 8741, 'wise': 17370, 'funni': 6435, 'anim': 1093, 'ador': 735, 'notebook': 10970, 'iphon': 8259, 'write': 17493, 'februari': 5832, 'hottest': 7717, 'alldad': 924, 'blue': 2179, 'gilmor': 6663, 'onlin': 11232, 'news': 10773, 'conserv': 3670, 'columnist': 3511, 'georg': 6614, 'trash': 16068, 'oreilli': 11279, 'greatest': 6914, 'told': 15917, 'gimmicki': 6665, 'deu': 4529, 'ex': 5537, 'machina': 9537, 'light': 9226, 'seen': 13935, 'telescop': 15633, 'deforest': 4366, 'commit': 3542, 'toward': 15994, 'certifi': 2997, 'oil': 11159, 'kourtney': 8855, 'kardashian': 8621, 'night': 10817, 'happi': 7220, 'takei': 15499, 'remind': 13092, 'horror': 7688, 'syrian': 15463, 'swimmer': 15419, 'shut': 14283, 'antirefuge': 1169, 'rhetor': 13276, 'film': 5940, 'charact': 3045, 'brooklyn': 2482, 'brownston': 2498, 'drone': 4968, 'wrong': 17500, 'casual': 2895, 'fli': 6073, 'noth': 10972, 'chuck': 3232, 'chees': 3096, 'boss': 2296, 'floor': 6096, 'eye': 5662, 'guest': 7030, 'win': 17331, 'skeebal': 14402, 'energi': 5353, 'technolog': 15609, 'readi': 12853, 'whenev': 17231, 'snap': 14575, 'three': 15784, 'recal': 12895, 'core': 3772, 'shaki': 14116, 'harden': 7237, 'snacker': 14570, 'rediscov': 12966, 'mindblow': 10161, 'nacho': 10595, 'motorcyclist': 10435, 'salvag': 13662, 'calori': 2723, 'fossil': 6234, 'fuel': 6401, 'sailor': 13632, '7yearold': 528, 'push': 12626, 'shit': 14207, 'apolog': 1215, 'score': 13837, 'higher': 7495, 'integr': 8178, 'investig': 8244, 'calculu': 2710, 'hit': 7556, 'evangel': 5504, 'advisor': 752, 'protect': 12511, 'dreamer': 4940, 'unveil': 16616, 'coloss': 3505, 'trainer': 16031, 'master': 9772, 'neurologist': 10746, 'brain': 2355, 'selfcritic': 13962, 'cool': 3740, 'macau': 9529, 'spent': 14795, 'appeal': 1222, '18': 120, '34': 326, 'predat': 12288, 'pump': 12595, 'round': 13501, 'mountain': 10442, 'goat': 6748, 'what': 17217, 'agenda': 802, 'huffpollst': 7768, 'xx': 17531, 'grate': 6894, 'ultim': 16337, 'dumpster': 5042, 'larva': 8998, 'ascent': 1346, 'adulthood': 741, 'barmoltzvah': 1712, 'villanova': 16878, 'cri': 3950, 'piccolo': 11901, 'roller': 13434, 'coaster': 3419, 'march': 9696, 'jane': 8372, 'fonda': 6156, 'megyn': 9940, 'plastic': 12001, 'surgeri': 15353, 'neverbeforeheard': 10755, 'buzzword': 2668, 'elk': 5246, 'cart': 2865, 'disabl': 4649, 'aisl': 855, 'admir': 726, 'tom': 15922, 'murder': 10539, 'middleag': 10085, 'true': 16167, 'path': 11652, 'small': 14523, 'procedur': 12432, 'wendi': 17193, 'manag': 9633, 'crown': 4006, 'achiev': 668, 'snl': 14598, 'melani': 9945, 'hutsel': 7823, 'dvd': 5069, 'selfless': 13984, 'cop': 3751, 'escort': 5465, 'duckl': 5013, 'busi': 2632, 'went': 17194, 'beach': 1786, 'barack': 1686, 'veteran': 16825, 'cynic': 4129, 'hog': 7584, 'tollbooth': 15920, 'highspe': 7515, 'chase': 3066, 'crash': 3909, 'entri': 5400, 'tear': 15597, 'anthropologist': 1126, 'discov': 4679, 'ancestor': 1060, 'wreckag': 17478, 'sunk': 15290, 'jamaica': 8360, 'strategi': 15119, 'fat': 5793, 'sla': 14443, 'nostalg': 10964, 'trip': 16134, 'innoc': 8127, 'boehner': 2220, 'exit': 5591, 'theyr': 15739, 'mitch': 10261, 'mcconnel': 9846, 'comic': 3528, 'liz': 9310, 'miel': 10111, 'housekeep': 7734, 'sassi': 13715, 'rick': 13303, 'mugshot': 10495, 'maker': 9603, 'boredom': 2288, 'failur': 5710, 'pokemon': 12088, 'truli': 16171, 'religi': 13073, 'experi': 5610, 'audienc': 1452, 'deem': 4325, 'richard': 13297, 'engel': 5357, 'union': 16511, 'kasich': 8630, 'seemingli': 13934, 'baffl': 1605, 'bag': 1607, 'fit': 6012, 'carryon': 2863, 'radic': 12734, 'southeast': 14720, 'asia': 1360, 'empow': 5315, 'may': 9818, 'poach': 12063, 'electr': 5218, 'motorcycl': 10434, 'impass': 7947, '10minut': 40, 'facial': 5689, 'contest': 3703, 'convent': 3720, 'halloween': 7154, 'blend': 2120, 'public': 12566, 'crisi': 3964, 'howard': 7742, 'halfcourt': 7132, 'shot': 14248, 'earn': 5104, 'crotch': 3997, 'gosl': 6826, 'mesmer': 10013, 'danc': 4173, 'diner': 4616, 'smaller': 14525, 'cb': 2940, 'la': 8906, 'surg': 15351, 'overweight': 11448, 'snowboard': 14604, 'timoth': 15861, 'chalamet': 3015, 'contract': 3710, 'block': 2147, 'woodi': 17418, 'allen': 928, 'dylan': 5080, 'farrow': 5776, 'mural': 10538, 'disappear': 4654, 'tide': 15831, 'forev': 6206, 'prove': 12524, 'goldfish': 6776, 'bowlmat': 2332, '21yearold': 242, 'adult': 740, 'hissi': 7551, 'cabinet': 2685, 'fortun': 6230, 'regist': 13019, 'offend': 11133, 'allegedli': 927, 'petco': 11820, 'santa': 13698, 'clau': 3324, 'g20': 6456, 'must': 10557, 'inequ': 8063, 'mccain': 9839, 'rite': 13355, 'kit': 8769, 'boston': 2299, 'offer': 11135, 'spotlight': 14860, 'fellowship': 5859, 'grey': 6942, 'anatomi': 1059, 'your': 17599, 'accord': 659, 'latino': 9020, 'strudel': 15165, 'obes': 11076, 'inspir': 8153, '6thgrade': 494, 'gamestop': 6500, 'dude': 5017, 'morgan': 10395, 'spurlock': 14881, 'includ': 8004, 'dash': 4213, 'hope': 7672, 'iraqi': 8268, 'fulltim': 6418, 'drunk': 4993, 'femal': 5863, 'assassin': 1380, 'halfbroth': 7131, 'tout': 15992, 'rich': 13296, 'stripe': 15149, 'jamaican': 8361, 'bobsl': 2203, 'presidenti': 12354, 'donat': 4839, 'taylor': 15581, 'swift': 15417, 'longdist': 9368, 'relationship': 13061, 'curios': 4081, 'rover': 13510, 'paralympian': 11580, 'host': 7699, 'leg': 9107, 'half': 7128, 'mouth': 10451, 'chariti': 3052, 'homeless': 7624, 'martin': 9748, 'shkreli': 14217, 'marc': 9693, 'bodi': 2209, 'pile': 11922, 'mash': 9758, 'potato': 12229, 'elizabeth': 5245, 'warren': 17071, 'chat': 3068, 'regul': 13025, 'wink': 17346, 'nod': 10863, 'rooki': 13460, 'usda': 16684, 'vomit': 16957, 'rotten': 13494, 'orang': 11267, 'expert': 5613, 'long': 9363, 'gloriou': 6730, 'feed': 5844, 'app': 1217, 'pawn': 11680, '26yearold': 273, 'conundrum': 3718, 'midterm': 10105, '27': 274, 'pompom': 12118, 'hat': 7290, 'youll': 17593, 'hide': 7488, 'cold': 3467, 'weather': 17138, 'brace': 2344, 'autist': 1479, 'amtrak': 1046, 'train': 16029, 'webpag': 17146, 'domest': 4829, 'abus': 637, 'give': 6687, 'sick': 14297, '31yearold': 314, 'spring': 14872, 'tale': 15504, 'rebirth': 12886, 'uzbekistan': 16709, 'diplomat': 4634, 'stole': 15072, 'bunch': 2578, 'soap': 14615, 'courtroom': 3867, 'artist': 1338, 'infatu': 8073, 'scorecard': 13838, 'sandbag': 13679, 'equiti': 5432, 'envelop': 5403, 'hansel': 7214, 'gretel': 6939, 'perhap': 11780, 'biggest': 1989, 'samsung': 13673, 'halt': 7162, 'sale': 13642, 'galaxi': 6478, 'note': 10969, 'pigeon': 11919, 'invok': 8249, 'overburden': 11394, 'provid': 12528, 'thwart': 15820, 'drug': 4983, 'treatment': 16088, 'arent': 1282, 'jayz': 8396, 'beyonc': 1956, 'evolv': 5532, 'newest': 10764, 'baywatch': 1779, 'kick': 8714, 'byron': 2677, 'tent': 15663, 'harbing': 7229, 'loom': 9384, 'festiv': 5891, 'britney': 2453, 'spear': 14762, 'coolest': 3742, 'skater': 14401, 'luna': 9488, 'cutest': 4106, 'match': 9784, 'overal': 11393, 'whether': 17236, 'cashstrap': 2884, 'oklahoma': 11171, 'conduct': 3617, 'execut': 5572, 'hammer': 7173, 'squad': 14882, 'bandai': 1657, 'gaga': 6472, 'plagu': 11987, 'inc': 7988, 'averag': 1506, 'consum': 3691, 'ounc': 11332, 'paid': 11496, 'eulog': 5493, 'mostli': 10419, 'nickelback': 10801, 'lyric': 9519, 'took': 15942, 'muchneed': 10484, 'addcandytoamovi': 701, 'apart': 1201, 'illus': 7917, 'wellround': 17190, 'group': 6989, 'disintegr': 4708, 'within': 17381, 'distract': 4750, 'priest': 12385, 'pronounc': 12482, 'plumb': 12048, 'anxiou': 1189, 'replac': 13139, 'graviti': 6906, 'muffuletta': 10491, 'dip': 4630, 'recip': 12911, 'weekend': 17157, 'taco': 15482, 'chip': 3174, 'mug': 10492, 'desert': 4490, 'forest': 6204, 'adel': 707, 'suck': 15247, 'midconcert': 10082, 'tommi': 15929, 'chong': 3201, 'marijuana': 9711, 'brazil': 2379, 'congress': 3644, 'vote': 16961, 'rouseff': 13504, 'impeach': 7949, 'gaff': 6469, 'forget': 6209, 'dumb': 5032, 'mcdonald': 9851, 'hispan': 7549, 'princess': 12399, 'bachata': 1565, 'stretch': 15139, 'china': 3166, 'batter': 1761, 'northwest': 10957, 'skydiv': 14432, 'slip': 14490, 'slide': 14482, 'feet': 5850, 'hamburg': 7165, 'violent': 16893, 'antig20': 1148, 'today': 15903, 'children': 3154, 'capit': 2791, 'control': 3716, 'extrem': 5653, 'vibrant': 16839, 'town': 15997, 'sustain': 15379, 'two': 16278, 'wild': 17304, 'fearmong': 5825, 'warmong': 17061, 'monger': 10349, 'confer': 3623, 'mass': 9765, 'puppi': 12613, 'net': 10738, 'handjob': 7191, 'settl': 14068, 'reinvest': 13048, 'california': 2716, 'senior': 14017, 'boost': 2279, 'economi': 5150, 'harass': 7228, 'send': 14014, 'among': 1036, 'diy': 4775, 'hack': 7098, 'closet': 3389, 'media': 9905, 'pilgrimag': 11924, 'headquart': 7346, 'lay': 9051, 'content': 3700, 'foot': 6173, 'transphob': 16061, 'preach': 12273, 'given': 6689, 'worst': 17457, 'superhero': 15310, 'mildmann': 10128, 'journalist': 8523, 'david': 4226, 'brook': 2481, 'rare': 12814, 'rossini': 13487, 'hot': 7704, 'jazz': 8398, 'caramoor': 2804, 'haircut': 7115, 'shape': 14136, 'wealthi': 17126, 'famou': 5743, 'individu': 8047, 'describ': 4486, 'downtoearth': 4907, 'thousand': 15779, 'acquaint': 679, 'helicopt': 7420, 'shakira': 14117, 'jiggl': 8458, 'vike': 16870, 'earplug': 5108, 'aim': 831, 'noiseblock': 10868, 'nearbi': 10682, 'childbirth': 3148, 'lindsey': 9254, 'graham': 6864, 'vow': 16965, 'uphold': 16639, 'legaci': 9108, 'blindli': 2130, 'grumbl': 7004, 'campuswid': 2747, 'pussi': 12630, 'shortag': 14237, 'zbt': 17634, 'biblic': 1972, 'text': 15698, 'god': 6756, 'christ': 3214, 'practic': 12259, 'leech': 9099, 'govern': 6842, 'hurt': 7813, 'stab': 14907, 'miami': 10051, 'basel': 1727, 'mistaken': 10251, 'perform': 11779, 'psst': 12545, 'competit': 3567, 'enough': 5370, 'kindergartn': 8744, 'homework': 7637, 'edg': 5160, 'curfew': 4080, 'subject': 15210, 'hairdo': 7117, '40': 375, 'ferri': 5886, 'australian': 1473, 'document': 4794, 'secondhand': 13913, 'global': 6722, 'medit': 9918, 'decemb': 4298, '12': 63, '2014': 202, 'ruin': 13547, 'farmer': 5770, 'financi': 5951, 'figur': 5931, 'buffet': 2538, 'trek': 16092, 'awesom': 1530, 'obviou': 11101, 'sooth': 14693, 'prescript': 12346, 'ulyss': 16346, 'hedg': 7396, 'trimmer': 16130, 'decid': 4301, 'finish': 5963, 'suprem': 15340, 'hear': 7362, 'privaci': 12418, 'audio': 1453, 'unarm': 16368, '1998': 173, 'torpedo': 15967, '2018': 207, 'bookworm': 2274, 'wrote': 17502, 'anthem': 1123, 'favor': 5808, 'tourist': 15990, 'casey': 2880, 'gerald': 6616, 'import': 7964, 'doubt': 4883, 'woo': 17413, 'freddi': 6304, 'mercuri': 9998, 'mustach': 10558, 'kareem': 8622, 'abduljabbar': 608, 'ben': 1885, 'carson': 2864, 'dump': 5040, 'trumper': 16180, '57': 450, 'goldberg': 6772, 'entrepreneur': 5397, 'connector': 3656, 'mensch': 9978, 'ring': 13337, 'intercontinent': 8190, 'kfc': 8702, 'familys': 5742, 'nugget': 11019, 'sam': 13664, 'smith': 14549, 'downsid': 4905, 'fame': 5738, 'specul': 14780, 'royal': 13519, 'usa': 16675, 'origin': 11288, 'fryq': 6387, 'test': 15687, 'ferrel': 5884, 'usagermani': 16678, 'design': 4493, 'steal': 15002, 'islam': 8296, 'lebron': 9091, 'jame': 8363, 'guarante': 7017, 'cleveland': 3347, 'numer': 11027, 'closur': 3391, 'arkansan': 1300, 'chief': 3143, 'worldwid': 17449, 'geograph': 6610, 'antelopeat': 1122, 'intellig': 8181, 'burundi': 2623, 'telephon': 15632, 'newt': 10781, 'gingrich': 6670, 'nepot': 10726, 'shouldnt': 14253, 'appli': 1234, 'sing': 14352, 'optimist': 11263, 'song': 14678, 'review': 13248, 'burst': 2619, 'attent': 1438, 'solicitor': 14650, 'gener': 6591, 'king': 8748, 'burwel': 2624, 'alarm': 865, 'retir': 13217, 'shortfal': 14242, 'partygo': 11625, 'here': 7451, 'depress': 4462, 'affect': 766, 'lesbian': 9151, 'carolina': 2851, 'bathroom': 1755, 'blowback': 2172, 'foster': 6235, 'shipment': 14202, 'recreationalabort': 12940, 'enthusiast': 5389, 'applaud': 1231, 'partialbirth': 11613, 'facepaint': 5684, 'skill': 14413, 'fascist': 5781, 'underag': 16408, 'driver': 4961, 'hydra': 7829, 'ingrown': 8105, 'autom': 1487, 'teller': 15639, 'metlif': 10036, 'goodyear': 6799, 'merg': 10000, 'smell': 14542, 'grandpa': 6879, 'espn': 5469, 'eav': 5132, 'choke': 3196, 'bug': 2543, 'plot': 12039, 'mari': 9705, 'shoplift': 14233, 'loser': 9403, 'sherpa': 14186, 'dear': 4268, '2017': 206, 'weiwei': 17177, 'commemor': 3532, 'drown': 4979, 'berlin': 1916, 'termin': 15670, 'serpent': 14056, 'renounc': 13119, 'symbol': 15446, 'evil': 5525, 'beij': 1859, 'extinguish': 5643, 'massiv': 9770, 'fivealarm': 6016, 'cloud': 3395, 'smog': 14552, 'librari': 9199, '3d': 353, 'printer': 12406, 'hand': 7178, 'sport': 14851, 'banquet': 1678, 'trophi': 16152, 'jack': 8337, 'popup': 12151, 'internet': 8205, 'bieber': 1982, 'bloom': 2164, 'nude': 11014, 'pic': 11898, 'carli': 2839, 'rae': 12740, 'jepsen': 8426, 'oddli': 11123, 'entertain': 5384, 'longterm': 9378, 'breakdanc': 2386, 'obsess': 11093, 'underwat': 16439, 'liber': 9192, 'mirror': 10209, 'exclud': 5562, 'samesex': 13668, 'annoy': 1107, 'shitti': 14212, 'er': 5435, 'excitedli': 5559, 'paddl': 11483, 'cotton': 3824, 'candi': 2759, 'sleepdepriv': 14467, 'mama': 9626, 'linmanuel': 9268, 'miranda': 10206, 'childhood': 3150, 'seattl': 13901, 'usher': 16690, 'minimum': 10182, 'wage': 16992, 'amid': 1027, 'plung': 12053, 'wed': 17149, 'horatio': 7677, 'sanz': 13702, 'sweep': 15408, 'latin': 9018, 'emmi': 5299, 'legend': 9110, 'korra': 8847, 'disney': 4719, 'classic': 3318, 'confetti': 3625, 'gm': 6740, 'tarp': 15556, 'loyalti': 9457, 'garner': 6523, 'contempt': 3698, 'fari': 5764, 'hint': 7536, 'pratt': 12268, 'split': 14828, 'drink': 4956, 'scout': 13849, 'cooki': 3737, '60yearold': 471, 'grotesqu': 6984, 'form': 6217, 'hashtag': 7281, 'nake': 10606, 'mingl': 10174, 'freeli': 6314, 'locker': 9335, 'absolut': 630, '2015': 204, 'smg': 14545, 'virtual': 16903, 'realiti': 12861, 'tech': 15602, 'dynam': 5081, 'storytel': 15097, 'judith': 8541, 'miller': 10147, 'cling': 3364, 'stubborn': 15169, 'myth': 10584, 'updat': 16632, 'frozen': 6380, 'tundra': 16225, 'weigh': 17164, 'mike4763': 10120, 'winter': 17355, 'jona': 8504, 'frack': 6258, 'mogul': 10309, 'harold': 7257, 'hamm': 7171, 'marin': 9714, 'le': 9064, 'pen': 11731, 'french': 6327, 'crimin': 3959, 'justic': 8588, 'blackish': 2084, 'creator': 3930, 'dispos': 4734, 'diseaseridden': 4689, 'corps': 3794, 'jewish': 8450, 'conspiraci': 3679, 'mile': 10129, 'outsid': 11381, 'council': 3835, 'bluff': 2183, 'iowa': 8254, 'rather': 12820, 'subsequ': 15222, 'chart': 3063, 'sexist': 14087, 'stereotyp': 15029, 'birth': 2046, 'certif': 2996, 'romney': 13449, 'staff': 14914, 'modern': 10303, 'pm': 12061, 'prophesi': 12495, 'guid': 7032, 'gopl': 6813, 'ignor': 7900, 'dem': 4405, 'sitin': 14384, 'approv': 1246, 'billion': 2007, 'zika': 17653, 'mansplain': 9674, 'spoton': 14861, 'skit': 14423, 'zoo': 17670, 'panda': 11541, 'lapd': 8979, 'ezel': 5669, 'ford': 6189, 'brokenheart': 2473, 'pristin': 12416, 'fish': 6003, 'contamin': 3695, 'inspector': 8152, 'thumbtack': 15813, 'memo': 9961, 'stuff': 15180, 'neglect': 10707, 'promot': 12477, 'jimmi': 8465, 'carter': 2868, 'discuss': 4685, 'cancer': 2758, 'diagnosi': 4556, 'thursday': 15819, 'skip': 14420, 'closest': 3388, 'rush': 13571, 'heroin': 7460, 'barber': 1693, '96foot': 583, 'flame': 6033, 'reason': 12876, 'philanthropist': 11864, 'grief': 6947, 'commerci': 3538, 'narrat': 10631, 'fatal': 5794, 'teaparti': 15596, 'struggl': 15166, 'wsj': 17504, 'dummi': 5039, 'calm': 2721, 'kpop': 8859, 'bt': 2516, 'serena': 14046, 'walk': 17011, 'outfit': 11352, 'gym': 7085, 'standard': 14941, 'lower': 9443, 'fridg': 6346, 'chemicallyfre': 3109, 'easier': 5116, 'cheaper': 3080, 'exasper': 5546, 'blood': 2155, 'onceloy': 11210, 'enabl': 5321, 'betray': 1945, 'therapi': 15728, 'aclu': 672, 'garbag': 6512, '50': 424, 'colorado': 3503, 'golin': 6782, 'fred': 6303, 'usc': 16682, 'center': 2980, 'strateg': 15118, 'relat': 13060, 'uber': 16312, 'directli': 4638, 'golden': 6774, 'jodi': 8482, 'pilot': 11929, 'he': 7332, 'walmart': 17027, 'diaper': 4564, 'butt': 2647, 'thai': 15704, 'templ': 15644, 'reportedli': 13146, '94': 575, 'dakotan': 4154, 'unprepar': 16557, 'mt': 10476, 'rushmor': 13572, 'wall': 17019, 'loadbear': 9317, 'decis': 4304, 'janet': 8374, 'jackson': 8344, 'evolut': 5530, 'slowli': 14509, 'normal': 10949, 'newli': 10768, 'enjoy': 5366, 'rex': 13267, 'knifelik': 8798, 'teeth': 15624, 'strong': 15156, 'psychologist': 12554, 'ii': 7904, 'drive': 4959, 'limit': 9246, 'axl': 1544, 'rose': 13474, 'vocal': 16931, 'rang': 12797, 'ensur': 5379, 'thanksgiv': 15709, 'midrang': 10099, 'basketbal': 1738, 'arab': 1254, 'cartoonist': 2872, 'surround': 15365, 'knifewield': 8801, 'nutter': 11047, 'butter': 2649, 'factori': 5701, 'libertarian': 9196, 'spoiler': 14832, 'pennsylvania': 11746, 'tire': 15875, 'hungri': 7801, 'jerk': 8429, 'quest': 12685, 'grow': 6994, 'chines': 3170, 'astronom': 1409, 'resid': 13181, 'sky': 14430, 'visibl': 16909, '2minut': 292, 'tomorrow': 15930, 'cancel': 2757, 'boe': 2219, 'air': 835, 'imposs': 7966, 'sound': 14712, 'interview': 8217, 'toss': 15976, 'unpledg': 16551, 'superdeleg': 15302, 'trunk': 16196, 'sizemor': 14397, 'deni': 4430, 'grope': 6980, '11yearold': 62, '2003': 186, 'anonym': 1110, 'cowardli': 3878, 'snitch': 14597, 'explor': 5625, 'coverup': 3874, 'guantanamo': 7014, 'volkswagen': 16947, 'probe': 12427, 'fine': 5953, 'schumer': 13812, 'bust': 2640, 'inconceiv': 8011, 'rise': 13348, 'exclus': 5563, 'insid': 8142, 'baltimor': 1647, 'gray': 6907, 'prioriti': 12412, 'unrecogniz': 16568, 'grandfath': 6873, 'engulf': 5363, 'cowork': 3881, '50page': 430, 'printout': 12408, 'well': 17181, 'fargo': 5762, 'su': 15199, 'daca': 4138, 'recipi': 12912, 'loan': 9319, 'toy': 16003, 'steer': 15011, 'homosexu': 7646, 'oneyear': 11227, 'anniversari': 1104, 'haramb': 7227, 'wake': 17005, 'grandchild': 6870, 'collabor': 3477, 'project': 12468, 'cerebr': 2989, 'palsi': 11528, 'indiana': 8034, 'amaz': 1003, 'patton': 11668, 'oswalt': 11321, 'icki': 7871, 'sauna': 13732, 'analog': 1053, 'bitch': 2058, 'gettin': 6634, 'vs': 16971, 'virginia': 16901, 'counti': 3848, 'oxfam': 11458, 'impoverish': 7967, 'commission': 3541, 'panel': 11543, 'transpar': 16060, 'disband': 4662, 'huckabe': 7760, 'kuwait': 8899, 'tall': 15513, 'robert': 13388, 'blow': 2171, 'stephen': 15024, 'breyer': 2421, 'defend': 4349, 'titl': 15882, 'correspond': 3798, 'ayman': 1547, 'mohyeldin': 10314, 'gaza': 6562, 'geist': 6579, 'brought': 2489, 'requir': 13165, 'hawaii': 7311, 'ago': 808, 'guess': 7029, 'selena': 13951, 'valentin': 16728, 'como': 3555, 'flor': 6099, 'fluiditi': 6117, 'singer': 14355, 'kaci': 8598, 'hill': 7527, 'wapo': 17044, 'jason': 8390, 'rezaian': 13271, 'reunit': 13232, 'delic': 4391, 'pastri': 11643, 'forcedretir': 6188, 'perfect': 11775, 'breakthefast': 2394, 'yom': 17586, 'kippur': 8759, 'establish': 5474, 'exchang': 5555, 'program': 12459, 'cuba': 4044, 'botch': 2304, 'sentenc': 14029, 'unmarri': 16536, 'qatar': 12651, 'hogan': 7585, 'pitch': 11968, 'crocodil': 3977, 'dunde': 5044, 'saturdaymorn': 13724, 'cartoon': 2871, 'lame': 8949, 'mock': 10292, 'portrait': 12181, 'happiest': 7222, 'trade': 16016, 'wari': 17054, 'ranger': 12798, 'fielder': 5918, 'chewedup': 3128, 'bat': 1747, 'dugout': 5025, 'jedi': 8410, 'plural': 12055, 'lure': 9500, 'shift': 14193, 'disgruntl': 4694, 'arbi': 1260, 'stranger': 15112, 'pug': 12582, 'ocean': 11112, 'solar': 14643, 'snoop': 14599, 'smartphon': 14535, 'list': 9283, 'lear': 9078, 'tsunami': 16206, 'affair': 765, 'wgn': 17208, 'underground': 16415, 'wouldnt': 17465, 'cash': 2881, 'selffin': 13973, 'analysi': 1054, 'wayn': 17115, 'lapierr': 8981, 'harpoon': 7260, 'spree': 14871, 'sort': 14703, 'bugaboo': 2544, 'stroller': 15155, 'unrealist': 16566, 'controversi': 3717, 'heston': 7469, 'arm': 1304, 'ape': 1205, 'encourag': 5331, 'motiv': 10431, 'indefinit': 8026, 'sponsor': 14841, 'post': 12195, 'retire': 13218, 'awestruck': 1531, 'videogam': 16856, 'brush': 2510, 'playstat': 12020, 'gene': 6590, 'isol': 8302, 'ostrac': 11317, 'contemporari': 3697, 'francisco': 6272, 'cozi': 3889, 'outoftheway': 11373, '12th': 69, 'implic': 7959, 'cheesecak': 3099, 'vibrat': 16840, 'pager': 11490, 'huf': 7766, 'gaseou': 6532, 'observ': 11092, 'crucial': 4008, 'surviv': 15368, 'thrown': 15806, 'offbal': 11130, 'unexpectedli': 16468, 'someon': 14670, 'eastern': 5121, 'cloth': 3393, 'membership': 9959, 'surfac': 15346, 'kashmir': 8629, 'farewel': 5760, 'former': 6221, 'addict': 704, '10th': 46, 'mindnumb': 10168, 'kerri': 8689, '37yearold': 345, '80': 529, 'losingpowerballnumb': 9405, 'enter': 5382, '17th': 115, 'sexi': 14083, 'carl': 2837, 'nicol': 10806, 'richi': 13300, 'pregnanc': 12309, 'gentrif': 6605, 'mockumentari': 10298, 'celeb': 2957, 'recit': 12914, 'hotlin': 7711, 'bling': 2132, 'almost': 954, 'mexican': 10042, 'frustrat': 6385, 'beginn': 1845, 'chakra': 3014, 'bought': 2311, 'mayan': 9820, 'headdress': 7337, 'crate': 3910, 'corn': 3781, 'fool': 6168, 'apocalyps': 1211, 'brief': 2433, 'fleet': 6064, 'evid': 5524, 'truther': 16199, 'desk': 4496, 'crush': 4027, 'present': 12348, 'soon': 14689, 'bankrupt': 1674, 'heart': 7365, 'mississippi': 10245, 'oxford': 11459, 'done': 4841, 'froth': 6377, 'saliva': 13645, 'hose': 7695, 'bett': 1947, 'midler': 10095, 'bronco': 2478, 'brandon': 2367, 'marshal': 9739, 'vp': 16969, 'klobuchar': 8787, 'better': 1948, 'harrelson': 7261, 'dispensari': 4730, 'full': 6407, 'circl': 3267, 'york': 17588, 'golf': 6780, 'faa': 5671, 'sandi': 13685, 'reput': 13163, 'punctual': 12600, 'dice': 4570, 'freezer': 6323, 'supervis': 15327, 'soccer': 14621, 'agricultur': 814, 'wreck': 17477, 'revitalis': 13253, 'paulo': 11672, 'expel': 5606, 'raze': 12838, 'safeti': 13619, 'babysit': 1562, 'rekindl': 13056, 'insist': 8147, 'climb': 3361, 'ladder': 8924, 'hop': 7671, 'gap': 6509, 'scale': 13749, 'roof': 13457, 'nightmar': 10824, 'franci': 6271, 'revers': 13246, 'wide': 17283, 'oreo': 11280, 'parallel': 11579, 'access': 650, 'preschool': 12344, 'charlton': 3060, 'marqkria': 9730, '260': 271, 'grab': 6853, 'wine': 17342, 'box': 2333, 'prayer': 12271, 'answer': 1116, 'random': 12794, 'uncar': 16385, 'laud': 9023, 'genderneutr': 6587, 'curri': 4086, 'warrior': 17072, 'panther': 11558, 'traine': 16030, 'perspect': 11808, 'medicaid': 9911, 'dismiss': 4718, 'threat': 15782, 'independ': 8027, 'austria': 1474, 'burgenland': 2595, 'wildlif': 17312, 'mess': 10015, 'antiabort': 1130, 'legisl': 9115, 'panini': 11549, 'succumb': 15246, 'howardrel': 7743, 'imperfect': 7953, 'mate': 9788, 'outlet': 11361, 'blueprint': 2181, 'mothertobabi': 10429, 'hiv': 7564, 'transmiss': 16055, 'jessica': 8437, 'biel': 1983, 'reviv': 13254, 'nassar': 10642, 'doubl': 4878, 'ice': 7862, 'cream': 3925, 'consumpt': 3692, '2050': 224, 'taraji': 15546, 'redefin': 12954, 'goal': 6747, 'lake': 8942, 'encount': 5330, 'undecid': 16406, 'beg': 1841, '3rd': 368, 'option': 11264, 'eve': 5507, 'cockroach': 3435, 'kitchen': 8770, 'cupboard': 4073, 'catch': 2910, 'lauri': 9037, 'hernandez': 7456, 'val': 16723, 'chmerkovskiy': 3189, 'isnt': 8301, 'gore': 6818, '2000': 183, 'sadli': 13613, 'exwif': 5659, 'admin': 723, 'novelti': 10991, 'welcom': 17178, 'commiss': 3540, 'inquiri': 8135, 'saudi': 13730, 'arabia': 1256, 'wisdom': 17369, 'permiss': 11792, 'wit': 17375, 'shooter': 14229, 'cardel': 2814, 'hay': 7316, 'behavior': 1852, 'negro': 10709, '19391940': 147, 'fair': 5713, 'easi': 5115, 'swallow': 15385, 'jlo': 8473, 'arod': 1312, '25': 261, 'current': 4085, 'landscap': 8968, 'nondiscrimin': 10895, 'zink': 17656, 'notsonew': 10981, 'afghanistan': 773, 'luca': 9465, 'museum': 10549, 'firefight': 5975, 'nightclub': 10818, 'blaze': 2113, 'timewast': 15859, 'troublemak': 16157, 'fcc': 5818, 'offici': 11142, 'postengag': 12205, 'diana': 4562, 'refer': 12990, 'bisquick': 2056, 'cheeseburg': 3097, 'pie': 11912, 'id': 7876, 'dare': 4194, 'upstair': 16655, 'televis': 15634, 'anyon': 1193, 'gina': 6666, 'haspel': 7284, 'nomine': 10880, 'blimp': 2125, 'ground': 6985, 'treat': 16083, 'knopfler': 8812, 'meetandgreet': 9926, 'drama': 4923, 'racist': 12724, 'luther': 9503, 'aweism': 1529, 'soul': 14708, 'humanist': 7782, 'transcend': 16040, '60year': 470, 'fake': 5719, 'deep': 4328, 'unhing': 16491, 'era': 5436, 'ti': 15821, 'concert': 3599, 'ran': 12786, 'matter': 9802, 'suspend': 15374, 'berserk': 1928, 'hairdress': 7118, 'bang': 1663, 'congression': 3646, '1971': 157, 'remark': 13087, 'playboy': 12013, 'model': 10301, 'breast': 2397, 'teenag': 15620, 'motorist': 10436, 'allergi': 930, 'sierra': 14310, 'leon': 9142, 'camera': 2735, 'barri': 1719, 'aerob': 759, 'crystal': 4033, 'self': 13952, 'athlet': 1419, 'mic': 10054, 'ncaa': 10673, 'profit': 12452, 'kept': 8683, 'east': 5119, 'swedish': 15406, 'prosecutor': 12502, 'julian': 8555, 'assang': 1379, 'reconcili': 12926, 'ukrain': 16331, 'ceasefir': 2949, 'remain': 13084, 'pharmacist': 11848, '510': 434, 'ticket': 15827, 'blown': 2176, 'grapesoda': 6885, 'induc': 8052, 'count': 3839, 'zale': 17620, 'diamond': 4560, 'licens': 9206, 'incompet': 8009, 'expatriot': 5603, 'convict': 3727, 'rev': 13236, 'spiritu': 14822, 'risk': 13350, 'diabet': 4554, 'chelsea': 3107, 'deputi': 4468, 'attorney': 1442, 'pornographi': 12161, 'moonlight': 10382, 'gorgeou': 6820, 'vandross': 16742, 'breakroom': 2393, 'tension': 15662, 'alltim': 946, 'disput': 4736, 'latecar': 9010, 'dramat': 4924, 'keith': 8663, 'olbermann': 11173, 'presidentelect': 12353, 'pygrabb': 12642, 'chanc': 3025, 'tender': 15655, 'lump': 9487, 'neck': 10693, 'phase': 11851, 'chill': 3158, 'horrif': 7686, 'minor': 10197, 'wanda': 17037, 'hallburton': 7150, 'gp': 6849, 'selftalk': 13999, 'regret': 13023, 'opioid': 11252, 'jennif': 8424, 'lopez': 9394, 'onstag': 11239, 'bound': 2319, 'injuri': 8116, 'alien': 909, 'oval': 11389, 'debut': 4289, 'sour': 14715, 'deterg': 4520, 'pod': 12068, 'queer': 12678, 'nurs': 11033, 'revok': 13255, 'profil': 12451, 'switch': 15428, 'renew': 13113, 'crime': 3955, 'beaten': 1802, 'antigay': 1149, '93': 573, 'occasion': 11106, 'shower': 14263, 'curtain': 4091, 'featur': 5831, 'theme': 15720, 'prevent': 12372, 'wolf': 17397, 'belong': 1881, 'tulip': 16216, 'pop': 12135, 'hotshot': 7714, 'cruel': 4014, 'chain': 3009, 'bike': 1995, 'freez': 6322, 'dnc': 4783, 'plant': 11997, 'roy': 13518, 'moor': 10385, 'els': 5258, 'defam': 4344, 'number': 11024, 'flee': 6061, '270': 275, 'mar': 9687, 'tragedi': 16023, 'fashion': 5782, 'peter': 11822, 'som': 14663, 'minestron': 10172, 'soup': 14714, 'chita': 3182, 'rivera': 13362, 'learn': 9079, 'whale': 17212, 'extinct': 5642, 'deadli': 4254, 'mcbeal': 9837, 'amend': 1018, 'confid': 3626, 'stripper': 15150, 'flirt': 6086, 'pledg': 12030, 'monument': 10377, 'sleepov': 14471, 'bed': 1820, 'backlash': 1576, 'superfood': 15306, 'dough': 4887, 'bikini': 1997, 'postmodern': 12214, 'upgrad': 16635, 'preapocalypt': 12277, 'scan': 13757, 'sweatiest': 15401, 'resurrect': 13207, 'racial': 12721, 'handl': 7192, 'compliment': 3579, 'appreci': 1241, 'mount': 10441, 'understand': 16431, 'zack': 17614, 'owe': 11452, 'seymour': 14099, 'hersh': 7464, 'traffic': 16020, '20page': 227, 'yorker': 17589, 'expo': 5628, 'huffpost': 7769, 'pizza': 11979, 'hut': 7821, 'concern': 3598, 'arsen': 1325, 'period': 11782, 'element': 5229, 'bold': 2234, 'tackl': 15481, 'slomo': 14497, 'watermelon': 17098, 'mortar': 10407, 'porn': 12157, 'pompou': 12119, 'asshol': 1388, 'compet': 3566, 'cigar': 3250, 'aficionado': 775, 'lack': 8919, 'unbear': 16374, 'flatli': 6050, 'clanci': 3298, 'latest': 9014, 'sharper': 14149, 'undersold': 16430, 'astronaut': 1408, 'eileen': 5202, 'collin': 3489, 'suppos': 15336, 'endors': 5348, 'accomplish': 658, 'velvet': 16782, 'rope': 13468, 'healthcar': 7354, 'abroad': 625, 'reid': 13033, 'ted': 15612, 'cruz': 4030, 'vip': 16896, 'recept': 12906, 'applic': 1236, 'intim': 8220, 'knowledg': 8817, 'page': 11487, 'historian': 7554, 'grover': 6993, 'philadelphia': 11859, 'erect': 5440, 'rocki': 13407, 'civic': 3286, 'pta': 12559, 'victori': 16851, 'nobel': 10858, 'laureat': 9035, 'riot': 13342, 'stockholm': 15068, 'fe': 5822, 'virtu': 16902, 'cultur': 4062, 'killer': 8734, 'vintag': 16889, 'funki': 6431, 'becom': 1819, 'mask': 9760, 'complain': 3570, 'publicist': 12567, '43': 391, 'dwayn': 5072, 'johnson': 8492, 'comey': 3524, 'fox': 6253, 'roger': 13424, 'ail': 829, 'smile': 14546, 'bannon': 1677, 'spore': 14850, 'baghdad': 1611, 'resili': 13185, 'vernon': 16809, 'own': 11455, 'quixot': 12704, 'glenn': 6715, 'beck': 1814, 'goodi': 6795, 'gover': 6841, 'hairbrush': 7114, 'rake': 12770, 'scalp': 13752, 'insol': 8148, 'kany': 8618, 'west': 17200, 'craft': 3898, 'manic': 9658, 'selfabsorb': 13953, 'lunat': 9490, 'swollen': 15433, 'tillerson': 15846, 'spout': 14863, 'keyston': 8700, 'pipelin': 11952, 'dishonest': 4701, 'daili': 4151, 'enforc': 5355, 'meant': 9885, 'verreo': 16811, 'geek': 6572, 'comput': 3588, 'ditch': 4760, 'rip': 13344, 'declin': 4309, 'macarthur': 9527, 'norfolk': 10947, 'footstep': 6180, 'parenthood': 11594, 'censu': 2974, 'add': 700, 'particip': 11614, 'identifi': 7883, 'unpatriot': 16548, 'neighbor': 10710, 'five': 6015, 'tape': 15542, 'broken': 2472, 'southwest': 14723, 'colbert': 3466, 'backup': 1586, 'slogan': 14496, '2020': 208, 'rig': 13324, 'mattress': 9806, 'deflat': 4363, 'throughout': 15803, 'colin': 3474, 'powel': 12248, 'either': 5205, 'photojournalist': 11887, 'blind': 2126, 'natur': 10657, 'habitat': 7095, 'award': 1522, 'boy': 2335, 'badg': 1596, 'unregist': 16569, 'notifi': 10976, 'billi': 2005, 'thornton': 15772, 'rais': 12765, 'floral': 6100, 'arrang': 1316, 'funer': 6429, 'deceas': 4296, 'detroit': 4527, 'manufactur': 9679, 'exhaust': 5581, 'salaam': 13636, 'stadium': 14913, 'offseason': 11145, 'paint': 11500, 'uncomfort': 16396, 'overreach': 11426, 'regal': 13007, 'hacker': 7100, 'shirtless': 14206, 'paranorm': 11586, 'phenomena': 11855, 'brad': 2348, 'pitt': 11973, 'marri': 9732, 'unsuccess': 16599, 'crackdown': 3894, 'pretend': 12365, 'frazzl': 6295, 'riski': 13351, 'activ': 689, 'congressman': 3647, 'overtim': 11442, 'democraci': 4414, 'masturb': 9781, 'smuggler': 14568, 'truck': 16164, 'exxonmobil': 5661, 'empathi': 5306, 'florida': 6103, 'obtain': 11099, 'rifl': 13322, 'roughli': 13498, 'mapl': 9685, 'memori': 9966, 'essenti': 5473, 'mourdock': 10444, 'dig': 4592, 'deeper': 4330, 'kodak': 8826, 'nabisco': 10592, 'onenight': 11220, 'merger': 10001, 'strap': 15116, 'spin': 14812, 'copyright': 3764, 'infring': 8099, 'lovebird': 9430, 'windshield': 17340, 'wiper': 17361, 'gleefulli': 6712, 'rain': 12758, 'appal': 1218, 'metz': 10040, 'physic': 11893, 'stepfath': 15021, 'rand': 12790, 'graphic': 6887, 'issa': 8309, 'root': 13467, 'everybodi': 5516, 'electron': 5226, 'armi': 1306, 'upcom': 16631, 'rebel': 12883, 'megan': 9936, 'river': 13361, 'brian': 2422, 'austin': 1471, 'firefli': 5976, 'yosemit': 17590, 'bigot': 1992, 'centuri': 2982, 'later': 9013, 'unpreced': 16555, 'rainfal': 12762, 'wors': 17454, 'concept': 3597, 'mudsling': 10488, 'medicin': 9914, 'guitar': 7045, 'keyboard': 8698, 'circul': 3271, 'peni': 11740, 'humili': 7787, 'podium': 12072, 'data': 4215, 'dirti': 4647, 'jami': 8367, 'frogmen': 6366, 'headphon': 7344, 'extra': 5644, 'dilma': 4608, 'rousseff': 13506, 'sweden': 15405, 'sixhour': 14388, 'workday': 17431, 'dori': 4865, 'burk': 2603, 'jenna': 8421, 'elfman': 5237, 'doritofactori': 4867, 'coolranch': 3745, 'ten': 15650, 'row': 13511, '70': 497, 'stare': 14957, 'bedroom': 1825, 'ceil': 2956, 'iraq': 8267, 'four': 6244, 'jumpingandtouchingtopsofdoorway': 8567, 'vin': 16881, 'diesel': 4583, 'groot': 6976, 'languag': 8974, 'minist': 10187, '180': 121, 'jail': 8352, 'nonaerob': 10883, 'purpos': 12622, 'azealia': 1551, 'faggot': 5706, 'boyfriend': 2339, 'con': 3590, 'lieberman': 9212, 'overlord': 11419, 'displeas': 4733, 'tea': 15586, 'rage': 12746, 'district': 4755, 'jonathan': 8506, 'franzen': 6284, 'subway': 15237, 'correct': 3796, '17': 108, 'fantast': 5752, 'shirt': 14205, 'stem': 15015, 'bigger': 1988, 'yemen': 17566, 'graffiti': 6863, 'antilgbtq': 1157, 'umbrella': 16351, 'sundri': 15287, 'sparrow': 14754, 'carcass': 2809, 'wash': 17078, 'whichev': 17237, 'cheap': 3079, 'kayak': 8648, 'tesla': 15686, 'carless': 2838, 'creativ': 3929, 'alcohol': 879, 'oppos': 11257, 'highlight': 7504, 'forward': 6232, 'motorcad': 10433, '26': 270, 'fourthgrad': 6251, 'portent': 12174, 'gnarl': 6745, 'haggard': 7109, 'thirdgrad': 15759, 'employ': 5311, 'genuin': 6607, 'unforgiv': 16479, 'solut': 14659, 'inclus': 8005, 'monoclewear': 10358, 'baron': 1716, 'cigarett': 3251, 'holder': 7593, 'splinter': 14827, 'clench': 3343, 'environment': 5407, 'platform': 12005, 'sigma': 14314, 'nu': 11006, 'chapter': 3044, 'offens': 11134, 'alqaeda': 968, 'oper': 11247, 'assign': 1389, 'written': 17499, 'sylvia': 15444, 'saint': 13633, 'freshman': 6336, 'tantal': 15536, 'tast': 15561, 'burrito': 2617, 'station': 14985, 'reynold': 13269, 'brother': 2486, 'overturn': 11446, 'roe': 13421, 'wade': 16988, 'fda': 5820, 'viru': 16904, 'civil': 3287, 'sue': 15256, 'automat': 1489, 'matt': 9801, 'lauer': 9024, 'rewatch': 13263, '8second': 556, 'nostalgia': 10965, 'istanbul': 8311, 'neurosi': 10748, 'kurt': 8895, 'warner': 17064, 'wirehair': 17363, 'mangoblin': 9652, 'trey': 16106, 'gowdi': 6846, 'marco': 9698, 'rubio': 13534, 'kitchenaid': 8771, 'allterrain': 945, 'pin': 11933, 'gadget': 6466, 'instrument': 8169, 'wilmer': 17325, 'flore': 6101, 'seek': 13932, 'apprais': 1240, 'fisher': 6004, 'leia': 9123, 'stupid': 15189, 'ream': 12868, 'britain': 2451, 'transit': 16050, 'log': 9345, 'slay': 14461, 'glad': 6694, 'onion': 11230, 'knock': 8807, 'winner': 17348, 'jackpot': 8343, 'shi': 14190, 'excitigroup': 5560, 'cliqu': 3372, 'exgoldman': 5580, 'sach': 13597, 'spread': 14868, 'birther': 2048, 'walkabl': 17012, 'richer': 13298, 'smarter': 14533, 'baseless': 1728, 'hatr': 7303, 'ann': 1099, 'hathaway': 7302, 'reciproc': 12913, 'twist': 16275, 'dammit': 4167, 'yell': 17561, 'leotardwear': 9146, 'cigarettesmok': 3252, 'choreograph': 3208, 'parad': 11574, 'rel': 13057, 'dinner': 4620, 'foodlov': 6166, 'ordeal': 11274, 'grandilomentitudin': 6874, 'greg': 6932, 'behrendt': 1857, 'pac': 11474, '14': 76, 'toaster': 15897, 'stride': 15144, 'recent': 12905, 'dreari': 4945, 'passionless': 11636, 'soulmat': 14711, 'recess': 12908, 'growth': 6998, 'weaker': 17120, 'forecast': 6193, 'fend': 5873, 'flint': 6079, 'tlc': 15888, 'husband': 7815, 'mormon': 10396, 'especi': 5466, 'youth': 17602, 'signatur': 14317, 'cocktail': 3437, 'translat': 16053, 'repeat': 13135, 'spectral': 14778, 'scream': 13861, 'testimoni': 15693, 'narrow': 10632, 'dirt': 4645, 'swept': 15416, 'dustpan': 5063, 'bullshit': 2566, 'heal': 7351, 'toddler': 15905, 'reenact': 12983, 'fresh': 6333, 'belair': 1864, 'intro': 8228, 'survey': 15367, 'grownup': 6997, 'social': 14622, 'cyberbulli': 4119, 'astrolog': 1407, 'crow': 4002, 'desensit': 4489, 'oral': 11266, 'inconveni': 8013, 'movement': 10454, 'slave': 14456, 'captain': 2797, 'phillip': 11870, 'hustl': 7819, 'jasmin': 8389, 'dalla': 4160, 'buyer': 2662, 'nebraska': 10689, 'philomena': 11871, 'screenwrit': 13865, 'dental': 4440, 'hygienist': 7835, 'stockbrok': 15067, 'microsoft': 10074, 'instagram': 8156, 'halfasleep': 7129, 'paus': 11674, 'sock': 14629, 'shorter': 14241, 'pig': 11918, 'menu': 9987, 'pansear': 11553, 'diver': 4763, 'scallop': 13751, 'faster': 5788, 'lo': 9315, 'angel': 1081, 'pelosi': 11729, 'harder': 7238, 'authoritarian': 1477, 'impuls': 7976, 'touch': 15980, 'common': 3546, 'hypnot': 7841, 'cute': 4103, 'yearbook': 17555, 'print': 12404, 'matthew': 9804, 'mcconaughey': 9845, 'forgotten': 6214, 'youtub': 17603, 'genit': 6595, 'gain': 6474, 'inmat': 8121, 'cruller': 4020, 'crossfit': 3989, 'lesli': 9152, 'homeland': 7623, 'activist': 690, 'tiger': 15837, 'zookeep': 17671, 'spain': 14744, 'blindsid': 2131, 'democalyps': 4413, 'asswhuppin': 1396, 'oz': 11465, 'gambit': 6492, 'mockeri': 10293, 'norm': 10948, 'misinterpret': 10228, 'sarcasm': 13709, 'miscalcul': 10212, 'led': 9094, 'bulb': 2552, 'term': 15669, 'outliv': 11364, 'bradley': 2351, 'cooper': 3747, 'tr': 16007, 'knight': 8802, 'thompson': 15767, 'welfar': 17180, 'opposit': 11258, 'ryancar': 13587, 'harvest': 7275, 'cambridg': 2729, 'analytica': 1056, 'ulcer': 16334, 'coliti': 3476, 'instat': 8162, 'tuition': 16215, 'georgia': 6615, 'chipotl': 3176, 'mubarak': 10481, 'sever': 14076, 'packag': 11478, 'alzheim': 994, 'friendli': 6350, 'lightup': 9235, 'cure': 4079, 'microwav': 10076, 'spectrum': 14779, 'disord': 4723, 'pfizer': 11838, 'merci': 9996, 'batch': 1751, 'nerd': 10729, 'obscur': 11091, 'opera': 11248, 'luxuri': 9505, 'lodg': 9339, 'venic': 16790, 'minneapoli': 10194, 'panic': 11547, 'banist': 1667, '8ounc': 555, 'tap': 15541, 'discrimin': 4683, 'command': 3531, 'raid': 12753, 'scarier': 13770, 'temper': 15642, 'germani': 6623, 'disavow': 4661, 'scorpion': 13839, 'hong': 7656, 'kong': 8835, 'clash': 3313, 'redhead': 12962, 'homeown': 7628, 'associ': 1392, 'issu': 8310, 'unapprov': 16367, 'yard': 17547, 'indianapoli': 8036, 'pour': 12244, 'peyton': 11837, 'column': 3510, 'innov': 8129, 'underlin': 16418, 'puerto': 12579, 'rican': 13292, 'prize': 12422, 'british': 2452, 'hairstylist': 7121, 'exampl': 5545, 'stamo': 14935, 'rehab': 13029, '83rd': 538, 'definit': 4362, 'omit': 11200, 'goiter': 6770, 'hawaiian': 7312, 'volcano': 16944, 'interest': 8193, 'seth': 14065, 'meyer': 10046, 'spoof': 14844, 'blame': 2099, 'ritalin': 13354, 'dismemb': 4717, 'nate': 10648, 'gallup': 6487, 'pushier': 12628, 'steel': 15008, 'adon': 732, 'columbu': 3509, 'obstacl': 11096, 'gooni': 6807, 'sequel': 14039, 'cyber': 4117, 'pinch': 11934, '16': 102, 'influenc': 8088, '96': 582, 'saw': 13744, 'jerri': 8432, 'seinfeld': 13944, 'lemonad': 9127, 'liken': 9239, 'naral': 10623, 'daniel': 4182, 'whartonwharton': 17216, 'sake': 13635, 'jare': 8384, 'leto': 9159, 'joker': 8498, 'suicid': 15265, 'reflect': 12994, 'irma': 8275, 'loui': 9419, 'ck': 3289, 'molest': 10319, 'unabl': 16355, 'produc': 12445, 'fester': 5890, 'stuffedup': 15181, 'alloc': 941, '250': 262, 'pollen': 12109, 'afram': 777, 'almanac': 952, 'primetim': 12395, 'untir': 16608, 'bribe': 2425, 'mexico': 10045, 'psycholog': 12553, 'kangaroo': 8615, 'mediterranean': 9919, 'nevada': 10753, 'politician': 12105, 'charlott': 3058, 'techniqu': 15608, 'inaccuraci': 7979, 'metallica': 10023, 'haze': 7322, 'incid': 7999, 'fratern': 6289, 'usual': 16696, 'housefli': 7732, 'cucumb': 4050, 'slice': 14478, 'smokefil': 14554, '1997': 172, 'rodriguez': 13420, 'undocu': 16450, 'nondenomin': 10893, 'extremist': 5654, 'earth': 5109, 'mantl': 9676, 'jean': 8406, 'pride': 12383, 'karat': 8620, 'studio': 15178, 'phone': 11878, 'spell': 14791, 'chop': 3203, 'thunderstorm': 15816, 'collaps': 3478, 'regim': 13015, 'syria': 15461, 'stateown': 14982, 'network': 10742, 'slam': 14446, 'cecili': 2952, 'down': 4898, 'thiev': 15745, 'barg': 1701, 'fold': 6146, 'undo': 16449, 'float': 6089, 'chilli': 3160, 'bachmann': 1568, 'blackout': 2089, 'abil': 612, 'bitchi': 2059, 'girlfriend': 6676, 'swoop': 15434, 'outofst': 11371, 'hachett': 7097, 'climber': 3362, 'abandon': 599, 'everest': 5512, 'avalanch': 1499, 'malcolm': 9611, 'gladwel': 6698, 'theori': 15725, 'foretel': 6205, 'bother': 2305, 'brownribboncampaign': 2497, 'stamped': 14937, 'guinea': 7044, 'least': 9082, 'olympian': 11189, 'decathlon': 4294, 'desilo': 4494, 'costa': 3816, 'rica': 13291, 'feat': 5829, 'assum': 1394, 'sight': 14313, 'stabl': 14909, 'jongun': 8510, 'ambit': 1010, 'consolid': 3677, 'length': 9135, 'conceal': 3593, 'pot': 12228, 'potent': 12231, 'trigger': 16124, 'psychosi': 12556, 'jet': 8441, 'unsaf': 16578, 'goingoutofbusi': 6768, 'neighborhood': 10711, 'whatsoev': 17221, 'briefli': 2435, 'honestli': 7652, 'detect': 4516, 'twoway': 16290, 'nervous': 10734, 'cross': 3984, 'bud': 2527, 'ami': 1026, 'rogen': 13423, 'beer': 1836, 'reannounc': 12869, 'sunshin': 15297, 'leftov': 9106, 'billboard': 2003, 'stir': 15063, 'inappropri': 7984, 'laidoff': 8941, 'zoologist': 17673, 'tranquil': 16037, 'rampag': 12782, 'obstruction': 11098, 'provis': 12530, 'costum': 3823, 'beard': 1795, 'recommend': 12925, 'gov': 6840, 'greiten': 6935, 'resign': 13184, '95yearold': 581, 'lotteri': 9411, '21st': 240, 'dan': 4171, 'savag': 13735, 'coulter': 3834, 'plantat': 11998, 'anger': 1084, 'floss': 6105, 'eckhart': 5143, 'frankenstein': 6277, 'marle': 9724, 'matlin': 9799, 'worthi': 17460, 'misogynist': 10234, 'aerosol': 761, 'surprisingli': 15361, 'upfront': 16634, 'awok': 1535, 'coma': 3512, 'couch': 3826, 'whitey': 17261, 'bulger': 2555, 'wood': 17414, 'dorchest': 4864, 'though': 15777, 'threw': 15797, 'cunningli': 4068, 'finger': 5958, 'underfund': 16413, 'resourc': 13191, 'calcul': 2709, 'studenttoteach': 15175, 'ratio': 12821, 'hilton': 7531, 'imperson': 7955, 'fighter': 5930, 'bigotri': 1993, 'chevron': 3125, 'hybridpow': 7828, 'drill': 4955, 'pier': 11916, 'piss': 11960, 'patern': 11650, 'eleven': 5234, 'remak': 13086, 'numb': 11023, 'boob': 2265, 'clock': 3377, 'ahm': 819, 'moham': 10310, 'crazi': 3919, 'classmat': 3322, 'grandmoth': 6878, 'alec': 885, 'baldwin': 1628, 'ridicul': 13317, 'nighter': 10819, 'gyllenha': 7084, 'wilson': 17328, 'illumin': 7915, 'payn': 11692, 'constel': 3683, 'sonoma': 14685, 'misinform': 10227, 'unicef': 16496, 'brag': 2352, 'poultri': 12239, 'gum': 7052, 'hardli': 7242, 'chew': 3126, 'testifi': 15692, 'bicep': 1975, 'regimen': 13017, 'encycloped': 5333, 'handsom': 7200, 'underr': 16425, 'ir': 8262, 'sitcom': 14381, 'quickli': 12690, 'tidal': 15830, 'bloodstream': 2162, 'hourlong': 7727, 'intermiss': 8202, 'coffe': 3449, 'blitz': 2139, 'gayer': 6561, 'spatula': 14757, 'unthink': 16607, 'firstgrad': 5992, 'reek': 12980, 'urin': 16666, 'driverless': 4962, 'sand': 13678, 'gush': 7072, 'katif': 8642, 'disengag': 4691, 'jorg': 8512, 'ramo': 12779, 'press': 12356, 'cyst': 4133, 'ruptur': 13569, 'gothamist': 6832, 'dnainfo': 4782, 'amal': 996, 'cloney': 3380, 'venezuela': 16787, 'maduro': 9560, 'beyond': 1957, 'elementari': 5230, 'sotomayor': 14706, 'expertis': 5614, 'smooth': 14559, 'transact': 16038, 'dmv': 4781, 'exagger': 5541, 'anyway': 1196, 'jeff': 8412, 'session': 14062, 'belittl': 1873, 'pacif': 11476, 'island': 8300, 'poet': 12075, 'teach': 15587, 'resist': 13186, 'settlement': 14069, '38piec': 348, 'astrazeneca': 1405, 'assort': 1393, 'pill': 11925, 'sampler': 13671, 'geologist': 6612, 'contin': 3706, 'fallingout': 5729, 'pervert': 11812, 'creep': 3937, 'kennedi': 8675, 'adjudicatori': 718, 'tendon': 15656, 'cha': 3003, 'stressfre': 15138, 'elderli': 5214, 'mention': 9985, 'madagascar': 9546, 'built': 2550, 'ancient': 1066, 'egypt': 5192, 'intergalact': 8197, 'spaceport': 14736, 'moral': 10388, 'drastic': 4927, 'billionair': 2008, 'scrabbl': 13852, 'comeon': 3522, 'prefront': 12307, 'cortex': 3807, 'filter': 5946, 'guilti': 7041, 'smalltown': 14531, 'financ': 5950, 'gotham': 6831, 'mart': 9741, '12yearold': 70, 'neither': 10715, 'vari': 16752, '401k': 379, 'enrol': 5374, 'bottom': 2308, 'drawer': 4930, '22': 243, '324': 317, 'caricaturist': 2835, 'selfportrait': 13991, 'jeopardi': 8425, 'arboretum': 1262, 'gear': 6567, 'europ': 5495, 'farright': 5775, 'wakeup': 17007, 'turkish': 16236, 'novelist': 10990, 'overwhelmingli': 11450, 'boko': 2233, 'haram': 7226, 'kidnap': 8726, 'schoolgirl': 13808, 'mix': 10271, 'auto': 1480, 'repair': 13129, 'scam': 13754, 'basebal': 1726, 'ive': 8325, 'industri': 8055, 'selfconsci': 13960, 'sheldon': 14172, 'adelson': 710, 'blingbl': 2133, 'epa': 5414, 'curb': 4078, 'pollut': 12112, 'voic': 16937, 'steve': 15035, 'pardon': 11590, 'recruit': 12941, 'drawnout': 4933, 'sudanes': 15253, 'eleph': 5232, 'meteorologist': 10029, 'said': 13629, 'buick': 2546, 'selfbuy': 13955, 'flashi': 6044, 'hears': 7364, 'hussein': 7818, 'speedi': 14788, 'undercov': 16409, 'fireman': 5978, 'infiltr': 8080, 'threealarm': 15785, 'lab': 8907, 'mous': 10447, 'nervou': 10733, 'august': 1463, 'repent': 13137, 'devis': 4539, 'delusion': 4404, 'scheme': 13784, 'couric': 3859, 'winc': 17332, 'vagina': 16719, 'pector': 11707, 'muscl': 10546, 'fundamentalist': 6427, 'mistak': 10250, 'miser': 10221, 'cashier': 2882, 'persona': 11806, 'breez': 2407, 'kickass': 8716, 'riff': 13320, 'chime': 3162, 'remaind': 13085, 'ross': 13484, 'shelf': 14173, 'smithsonian': 14551, 'gomez': 6783, 'christina': 3220, 'grimmi': 6959, 'kalamazoo': 8605, 'kimora': 8739, 'blac': 2073, 'rupaul': 13566, 'who': 17266, 'airman': 845, 'soror': 14700, 'hair': 7113, 'tiniest': 15868, 'hedgehog': 7397, 'nra': 11000, 'omin': 11198, 'mislead': 10231, 'cheetah': 3103, 'printwear': 12409, 'ali': 905, 'wong': 17410, 'minim': 10180, 'phantom': 11844, 'thread': 15781, 'academi': 643, 'moniqu': 10352, 'complex': 3574, 'amanda': 998, 'peet': 11722, 'throne': 15802, 'deserv': 4491, 'unleash': 16525, 'ivanka': 8324, 'quiet': 12694, 'gwyneth': 7083, 'paltrow': 11529, 'loos': 9389, 'denni': 4436, 'lawyer': 9049, 'snack': 14569, 'previous': 12375, 'capac': 2789, 'overheard': 11412, 'minnesota': 10195, 'dontcha': 4846, '24': 255, 'odd': 11122, 'mizzou': 10279, 'howmanyyear': 7747, 'borrow': 2293, 'mine': 10170, 'bay': 1773, 'construct': 3687, 'trailer': 16028, 'biopic': 2032, 'bohemian': 2226, 'rhapsodi': 13274, 'parkland': 11602, 'memor': 9963, 'bond': 2252, 'pace': 11475, 'melissa': 9951, 'harrisperri': 7266, 'ellecom': 5248, 'proven': 12525, 'jawdrop': 8393, 'craigslist': 3901, 'boom': 2275, 'seacrest': 13885, 'closeddoor': 3383, 'honeyroast': 7655, 'peanut': 11703, 'lethal': 9158, 'recast': 12901, 'colead': 3471, 'due': 5019, 'usp': 16692, 'princeinspir': 12398, 'postal': 12197, 'catfish': 2918, 'spur': 14880, 'uva': 16707, 'gangrap': 6507, 'debacl': 4276, 'shutdown': 14284, 'substanc': 15226, 'neurot': 10749, 'sophist': 14695, 'bot': 2300, 'brock': 2466, 'ciarlelli': 3247, 'dozen': 4912, 'toetoto': 15909, 'muhammad': 10497, 'junk': 8578, 'mail': 9582, 'lock': 9334, 'letterbox': 9161, '79yearold': 522, 'hoax': 7571, 'delet': 4388, 'modifi': 10306, 'seem': 13933, 'thirsti': 15764, 'grand': 6868, 'theft': 15719, 'tutor': 16251, 'outreach': 11379, 'hudson': 7763, 'dreamgirl': 4941, 'vault': 16763, 'skeleton': 14403, 'somewher': 14675, 'gobi': 6753, 'outnumb': 11366, 'goth': 6830, 'cemeteri': 2971, 'australia': 1472, 'droughtravag': 4977, 'alternatesideofstreet': 977, 'tokyo': 15916, '100stori': 26, 'toadstool': 15893, 'skylin': 14437, 'will': 17314, 'punxsutawney': 12609, 'phil': 11858, 'behead': 1853, 'inaccur': 7978, 'groundhog': 6987, 'slaughter': 14454, 'piec': 11913, 'fmr': 6134, 'zalmay': 17622, 'khalilzad': 8707, 'rigor': 13332, 'matti': 9805, 'klugman': 8788, 'alabama': 862, 'malaysia': 9609, 'headtoto': 7350, 'mole': 10317, 'madonna': 9558, 'skincar': 14417, 'montana': 10371, 'tourism': 15989, 'bison': 2055, 'cow': 3876, 'defens': 4350, '83': 535, 'weak': 17117, 'burglar': 2598, 'ymca': 17574, 'foley': 6148, 'pal': 11509, 'lloyd': 9313, 'seder': 13927, 'kentucki': 8679, 'punish': 12603, 'logo': 9348, 'uncomprehendingli': 16398, 'holland': 7602, 'vall': 16732, 'macron': 9544, '493': 411, 'franc': 6267, 'florist': 6104, 'sacrific': 13604, 'cocksuck': 3436, 'motherfuck': 10426, 'nephew': 10725, '30': 300, 'binomi': 2020, 'foil': 6145, '230': 249, '320': 316, 'react': 12847, 'msf': 10474, 'eu': 5490, 'turkey': 16235, '800': 530, 'morocco': 10400, 'heavi': 7386, 'presenc': 12347, 'adequ': 711, 'provok': 12533, 'bodybuild': 2211, 'forgot': 6213, 'painter': 11502, 'interconnect': 8189, 'kathi': 8638, 'griffin': 6950, 'solemn': 14648, 'cannonbal': 2773, 'kimmel': 8737, 'border': 2286, 'yall': 17540, 'yo': 17576, 'selv': 14006, 'shrimp': 14272, 'lobster': 9326, 'dorm': 4868, 'nair': 10605, 'incendiari': 7992, 'vice': 16843, 'decomposit': 4312, 'sought': 14707, 'ethic': 5485, 'whose': 17278, 'explicitli': 5622, 'ceremoni': 2990, 'alton': 983, 'sterl': 15031, 'baton': 1758, 'roug': 13496, 'juri': 8585, 'cartman': 2870, 'rider': 13315, 'clutch': 3404, 'schooler': 13807, 'asparagu': 1370, 'rude': 13538, 'autism': 1478, 'adjunct': 719, 'symptom': 15451, 'gender': 6584, 'caption': 2798, 'putin': 12632, 'comfi': 3525, 'brie': 2432, 'larson': 8997, 'trainwreck': 16032, 'audit': 1456, 'lunch': 9491, 'judd': 8535, 'apatow': 1204, 'mixup': 10278, 'bowi': 2330, 'scatter': 13776, 'ash': 1350, 'untru': 16612, 'recap': 12899, 'circu': 3268, 'premarit': 12322, 'contact': 3693, 'relax': 13063, 'outdoor': 11349, 'coop': 3746, 'fare': 5758, 'op': 11242, 'rainbow': 12759, 'butterfli': 2653, '92': 570, 'togeth': 15912, '2gigabyt': 290, 'adventur': 746, 'prequel': 12340, 'scienceback': 13816, 'mood': 10380, 'acquir': 680, 'morbidli': 10393, 'curiou': 4082, 'far': 5754, 'deterior': 4521, 'sean': 13893, 'spicer': 14801, 'unfinish': 16476, 'escap': 5463, 'tunnel': 16228, 'iceland': 7866, 'awak': 1519, 'hesit': 7468, 'sink': 14365, 'dilapid': 4603, 'reggi': 13012, 'athelet': 1417, 'hasnt': 7283, 'stronger': 15158, 'elmor': 5256, 'leonard': 9143, 'prose': 12500, 'ters': 15685, 'succinctli': 15243, 'unfortun': 16481, 'expir': 5616, 'gloomi': 6726, '87': 545, '2008': 190, 'talktom': 15512, 'uk': 16330, 'africa': 778, 'recharg': 12909, 'batteri': 1762, 'gentlemen': 6603, 'supervisor': 15328, 'vat': 16761, 'molten': 10327, 'erupt': 5458, 'insect': 8138, 'skitter': 14424, 'per': 11766, 'youlookdisgust': 17594, 'blogger': 2151, 'em': 5265, 'hater': 7300, 'elon': 5257, 'musk': 10554, 'hypochondriac': 7842, 'ailey': 830, 'dancer': 4175, 'deliveri': 4397, 'passag': 11629, 'manhood': 9654, 'healthier': 7358, 'fullblown': 6408, 'bride': 2429, 'chair': 3011, 'tictacto': 15829, 'grandmast': 6877, 'southern': 14722, 'drivinginacircl': 4966, 'emb': 5270, 'ritual': 13357, 'principl': 12402, 'decay': 4295, 'revit': 13252, 'pele': 11725, 'unanim': 16362, 'blake': 2098, 'farenthold': 5759, 'abruptli': 626, 'account': 660, 'soak': 14614, 'yellow': 17562, 'overcrowd': 11399, 'section': 13923, 'prep': 12333, 'netanyahu': 10739, 'iii': 7906, 'instructor': 8168, 'pedal': 11708, 'semest': 14008, 'anchor': 1062, 'bomer': 2249, 'zachari': 17613, 'quinto': 12702, 'broadway': 2462, 'windfal': 17334, 'nativ': 10654, 'mohawk': 10313, 'hairstyl': 7120, 'tball': 15583, 'vietnam': 16862, 'chemistri': 3111, 'shelter': 14178, 'scrambl': 13854, 'refug': 13001, 'thoroughli': 15775, 'unimpress': 16502, 'yemeni': 17567, 'direct': 4637, 'superior': 15311, 'valu': 16734, 'allweath': 949, 'radial': 12731, 'boulder': 2314, 'landslid': 8969, 'ravin': 12832, 'fruitval': 6384, 'endgam': 5341, 'duckworth': 5014, 'constitu': 3684, 'western': 17203, 'fenc': 5872, 'hastili': 7289, 'evad': 5501, 'despis': 4502, 'spare': 14750, 'coordin': 3749, 'hispnico': 7550, 'navig': 10666, 'gypsi': 7090, 'consequ': 3669, 'retro': 13225, 'archeri': 1273, 'siri': 14374, '911': 567, 'fallen': 5727, 'weari': 17135, 'nearli': 10686, 'aw': 1517, 'lazi': 9060, 'indiffer': 8040, 'intel': 8179, 'nyt': 11062, 'unicorn': 16497, 'frappuccino': 6286, 'norah': 10945, 'diego': 4578, 'rhino': 13279, 'stillborn': 15050, 'captiv': 2799, 'romant': 13443, 'worldview': 17447, 'incred': 8019, 'basic': 1734, 'pinterest': 11947, 'heartbroken': 7370, 'candlelight': 2764, 'vigil': 16868, 'fifth': 5924, 'recoveri': 12938, 'youv': 17604, 'mudslid': 10487, 'whisk': 17247, 'busiest': 2633, 'smoke': 14553, 'warm': 17056, 'youd': 17592, 'stressedout': 15136, 'cv': 4115, 'reluct': 13081, 'destini': 4507, 'kiss': 8766, 'fast': 5785, 'low': 9438, 'libido': 9198, 'aurora': 1467, 'huntsman': 7807, 'reliev': 13072, 'poorli': 12134, 'herbi': 7448, 'banana': 1654, 'interrog': 8211, 'classroom': 3323, 'rahm': 12752, 'emanuel': 5269, 'changer': 3030, 'ironclad': 8277, 'mila': 10122, 'kuni': 8889, 'torrent': 15968, 'picket': 11904, 'meaningless': 9884, 'farc': 5757, 'buck': 2522, 'jukebox': 8552, 'lamar': 8946, 'untitl': 16609, 'unmast': 16538, 'shellshock': 14177, 'cnbc': 3405, 'newspap': 10778, 'editori': 5168, 'blank': 2104, 'ineffectu': 8059, 'undermin': 16419, 'neutral': 10752, 'slop': 14498, 'rl': 13367, 'stine': 15057, 'goosebump': 6810, 'uniqu': 16512, 'khloe': 8712, 'tristan': 16139, 'prolif': 12469, 'demonstr': 4421, 'enchilada': 5326, 'melt': 9955, 'poster': 12206, 'fanci': 5746, 'wildli': 17311, 'bartend': 1722, 'subcommitte': 15205, 'chanel': 3028, 'surfbort': 15348, 'cr': 3892, 'alba': 869, 'bausch': 1771, 'lomb': 9356, 'aviat': 1510, 'accur': 661, 'belat': 1866, 'salmon': 13649, 'plummet': 12050, 'lowest': 9445, '1580': 93, 'partner': 11620, 'tortois': 15972, 'radiat': 12733, 'loudest': 9416, 'clank': 3300, '332': 323, 'bryan': 2513, 'socal': 14620, 'wildey': 17309, 'sear': 13894, 'flannel': 6037, 'pajama': 11505, 'ms804': 10473, 'ruth': 13582, 'bader': 1595, 'ginsburg': 6671, 'poor': 12132, 'arizona': 1297, 'mexicanamerican': 10043, 'refund': 13003, 'stamp': 14936, '3yearold': 374, 'stuf': 15179, 'accident': 653, 'maher': 9576, 'nursinghom': 11035, 'choic': 3194, 'oki': 11170, 'vigilant': 16869, 'brazilian': 2380, 'surfer': 15349, 'sainthood': 13634, 'decri': 4318, 'slow': 14506, 'crossey': 3988, 'cousin': 3870, 'mule': 10499, 'hetero': 7470, 'sweet': 15410, 'savori': 13742, 'select': 13948, 'difficult': 4589, 'poverti': 12246, '2030': 216, '88million': 550, 'campus': 2745, 'dreamlik': 4943, 'suarez': 15201, 'felt': 5861, 'strongest': 15159, 'uruguay': 16673, 'hug': 7770, 'viral': 16897, 'fogelberg': 6141, 'lite': 9288, '108': 38, 'listen': 9284, 'coron': 3789, 'asian': 1361, 'leonardo': 9144, 'dicaprio': 4569, 'privat': 12419, 'sibl': 14293, 'someday': 14668, 'tai': 15488, 'chi': 3131, 'practition': 12260, 'disloc': 4713, 'otto': 11328, 'warmbier': 17058, 'freed': 6309, 'neurolog': 10745, 'oitnb': 11164, 'samira': 13669, 'wiley': 17313, 'bbc': 1782, 'climatedeni': 3358, 'reveng': 13241, 'qualifi': 12665, 'geniu': 6596, 'atheist': 1416, 'antitrump': 1179, 'festivu': 5892, 'ruthless': 13583, 'leve': 9164, 'theyd': 15737, 'arianna': 1293, 'huffington': 7767, 'tae': 15484, 'kwon': 8902, 'mismatch': 10232, '8yearold': 560, 'parasit': 11588, 'algerian': 903, 'tycoon': 16292, 'smear': 14541, 'jungl': 8575, 'sway': 15395, 'claymat': 3329, 'highlevel': 7502, 'netherland': 10741, 'philip': 11867, 'morri': 10403, 'cooler': 3741, 'cruelti': 4018, 'redford': 12961, 'redigit': 12964, 'ordinari': 11277, 'somebodi': 14667, 'enlist': 5368, 'oath': 11068, 'travi': 16074, 'kalanick': 8606, 'absenc': 627, 'grown': 6996, 'purchas': 12615, '37th': 344, 'moon': 10381, 'figurin': 5932, 'feloni': 5860, 'inaugur': 7985, 'sobrieti': 14619, 'uninhibit': 16505, 'heard': 7363, 'reward': 13262, 'credit': 3933, 'argu': 1289, 'fulli': 6413, 'harm': 7253, 'fender': 5874, 'hybrid': 7827, 'gaselectr': 6531, 'josten': 8518, 'engag': 5356, 'highschool': 7514, 'largest': 8993, 'sen': 14011, 'mueller': 10489, 'gross': 6981, 'indianamerican': 8035, 'accent': 648, 'statement': 14980, 'quaint': 12662, 'tick': 15825, 'loudli': 9417, 'other': 11324, 'reli': 13068, 'landlin': 8963, 'pirat': 11957, 'draw': 4928, 'cincinnati': 3257, 'sothebi': 14705, 'exhibit': 5582, 'scenario': 13779, 'dole': 4818, '5yearold': 465, 'lifesav': 9221, 'rat': 12818, 'caesar': 2695, 'marshmallow': 9740, 'gravi': 6904, 'suit': 15267, 'pocket': 12066, 'dobkin': 4787, 'runnersup': 13562, 'outlin': 11363, 'processor': 12435, 'chattanooga': 3073, 'vet': 16824, 'viabl': 16832, 'bird': 2039, 'slur': 14517, 'threesom': 15792, 'corner': 3783, 'prenupti': 12330, 'agreement': 812, 'diseas': 4687, 'epidem': 5416, 'foulest': 6238, 'shithol': 14211, '55': 445, 'glandular': 6704, 'endur': 5349, 'kattan': 8646, 'rejoin': 13054, 'debbi': 4278, 'conquer': 3661, 'jenni': 8423, 'craig': 3900, 'showdown': 14262, 'safer': 13617, 'invent': 8240, 'hubbard': 7756, 'scientologist': 13822, 'diann': 4563, 'feinstein': 5855, 'eviscer': 5527, 'trevor': 16104, 'noah': 10856, 'selfdriv': 13971, 'liver': 9303, 'difficulti': 4590, 'lou': 9413, 'selfrespect': 13994, 'cake': 2706, 'yup': 17609, 'ee': 5175, 'dagger': 4149, 'filibust': 5935, 'noninterventionist': 10909, 'taiwan': 15495, 'swim': 15418, 'berat': 1909, 'heritag': 7452, 'claus': 3326, 'beetlejuic': 1838, 'burton': 2622, 'cholera': 3199, 'somalia': 14665, 'netflix': 10740, 'instant': 8160, 'denier': 4433, 'batten': 1760, 'quak': 12663, '500': 425, 'ibm': 7857, 'pingpong': 11939, 'adjust': 720, 'flea': 6060, 'vendor': 16785, 'unidentifi': 16499, 'cori': 3777, 'booker': 2271, 'kamala': 8612, 'theyll': 15738, 'bandaid': 1658, 'upon': 16643, 'daylight': 4237, 'yield': 17572, 'surplu': 15359, 'ate': 1415, 'wagner': 16993, 'macon': 9543, 'autoplay': 1493, 'cun': 4067, '45': 398, 'idol': 7891, 'pressur': 12358, 'cannib': 2771, 'fantas': 5750, 'alia': 906, 'shawkat': 14158, 'joan': 8476, 'trudeau': 16166, 'landmark': 8965, 'pact': 11480, 'tariff': 15551, 'noxiou': 10995, 'minion': 10184, 'satan': 13717, 'instal': 8158, 'juli': 8553, 'reduc': 12972, 'cost': 3815, 'mice': 10055, 'doorway': 4860, 'rachel': 12719, 'gloss': 6732, 'neil': 10713, 'gorsuch': 6824, 'unknown': 16522, 'actress': 693, 'freakonomist': 6300, 'ge': 6566, 'versu': 16816, 'height': 7407, 'weightlift': 17167, 'reliabl': 13069, 'execution': 5573, 'hung': 7796, 'blvd': 2190, 'advoc': 754, 'cannon': 2772, 'sacr': 13601, 'strength': 15132, 'hardship': 7244, 'scum': 13880, 'chick': 3138, 'corea': 3773, 'communist': 3551, 'thirti': 15765, 'frantic': 6282, 'chic': 3134, 'gal': 6475, 'todd': 15904, 'holm': 7611, 'penn': 11744, 'ballgown': 1636, 'disarm': 4657, 'whisper': 17250, 'albert': 874, 'pujol': 12584, 'syndrom': 15457, 'mint': 10199, 'trust': 16197, 'coin': 3460, 'ahead': 818, 'roseann': 13475, 'repeatedli': 13136, 'interrupt': 8212, 'lawrenc': 9047, 'hoya': 7748, 'gown': 6847, 'congresswoman': 3651, 'bulldog': 2559, 'johnni': 8491, 'mathi': 9797, 'monica': 10351, 'mancini': 9637, 'anson': 1114, 'plu': 12044, 'hire': 7546, 'rmh': 13368, 'special': 14766, 'fort': 6227, 'hood': 7662, 'anderson': 1067, 'cnn': 3407, 'signific': 14319, 'hors': 7689, 'amus': 1047, 'cafbut': 2697, 'rosari': 13472, 'heroic': 7459, 'bull': 2558, 'pepsi': 11762, 'negative220': 10706, 'twice': 16268, 'contain': 3694, 'liberti': 9197, 'constitut': 3685, 'valuead': 16736, 'carbon': 2806, 'foreshadow': 6203, 'unmov': 16539, 'merrick': 10008, 'garland': 6522, 'tower': 15996, 'antihillari': 1153, 'held': 7418, '19th': 176, 'dose': 4873, 'pancuronium': 11540, 'bromid': 2476, '2004': 187, 'peer': 11720, 'hook': 7664, 'xbox': 17518, 'ipad': 8257, 'roomba': 13462, 'polygraph': 12115, 'scold': 13828, 'israel': 8304, 'bufferzon': 2537, 'mccullen': 9849, 'facad': 5679, 'uniti': 16516, 'mollusk': 10323, 'evolutionari': 5531, 'fucker': 6395, 'download': 4902, 'oh': 11155, 'prego': 12312, 'refresh': 12998, 'banner': 1676, 'constant': 3681, 'caveat': 2937, 'corker': 3778, 'stabil': 14908, 'raisinet': 12768, 'bloat': 2144, 'coffer': 3451, 'hall': 7149, 'harsh': 7268, 'catalonia': 2905, 'toast': 15895, 'goodby': 6792, 'ketogen': 8695, 'koolaid': 8841, 'reschedul': 13168, 'octob': 11118, 'chatroom': 3071, 'lemon': 9126, 'dumber': 5034, 'clown': 3397, 'zaatari': 17611, 'wow': 17469, 'woodwork': 17422, 'doug': 4886, 'trojan': 16147, '3piec': 365, 'formal': 6218, 'condom': 3616, 'truce': 16163, '18yearold': 135, 'polish': 12103, 'virgin': 16900, 'nightlight': 10823, 'accusingli': 664, 'softbal': 14635, 'unsur': 16601, 'consol': 3676, 'jackass': 8339, 'struck': 15163, 'lucki': 9469, 'charm': 3061, '000foot': 7, 'pave': 11675, 'grass': 6890, '4yearold': 423, 'wallflow': 17023, 'nikki': 10828, 'haley': 7127, 'antonoff': 1186, 'patricia': 11660, 'arquett': 1315, 'fought': 6236, 'uscuba': 16683, 'foul': 6237, 'ball': 1631, 'nword': 11051, 'lifetim': 9224, 'maintain': 9593, 'boardroom': 2196, 'thoma': 15766, 'bogu': 2225, 'retail': 13209, 'balanc': 1625, 'budget': 2531, 'fiscal': 6001, 'hypocrisi': 7843, 'irish': 8273, 'hooligan': 7666, 'alex': 891, '000yearold': 17, 'footprint': 6179, 'earlier': 5099, 'churchil': 3242, 'jump': 8564, 'visa': 16907, 'indian': 8033, 'salari': 13640, 'evergreen': 5513, 'cbo': 2941, 'halliburton': 7151, 'dock': 4792, 'hostag': 7700, 'savor': 13741, 'latefebruari': 9011, 'earlymarch': 5102, 'reptil': 13157, 'slither': 14495, 'midflight': 10092, 'fright': 6356, 'pentagon': 11750, 'misl': 10230, 'grant': 6884, 'murray': 10543, 'repar': 13131, 'plug': 12045, 'greet': 6931, 'baggag': 1609, 'rapid': 12807, 'weiner': 17169, 'redstat': 12971, 'erick': 5444, 'erickson': 5445, 'holeinthewal': 7596, 'leas': 9081, 'manhattan': 9653, 'paula': 11670, 'cole': 3470, 'dawson': 4231, 'creek': 3936, 'underli': 16417, 'drudg': 4982, 'amateur': 1001, 'prowl': 12536, 'pounc': 12240, 'shatter': 14154, 'nab': 10591, 'msnbc': 10475, 'infinit': 8082, 'loop': 9386, 'kristen': 8870, 'wiig': 17300, 'andrea': 1071, 'bocelli': 2207, 'central': 2981, 'turnaround': 16239, 'mitti': 10268, 'comeback': 3519, 'griswold': 6968, 'sportscast': 14852, 'kicker': 8718, 'reagan': 12857, 'dina': 4614, 'carolin': 2850, 'manzo': 9682, 'blunt': 2185, 'feud': 5901, 'massacr': 9767, 'lima': 9242, 'rap': 12803, 'damn': 4168, 'comedi': 3520, 'reunion': 13231, 'homer': 7631, 'bacon': 1590, 'fermilab': 5880, 'particl': 11615, 'wider': 17287, 'ultrarich': 16344, 'millennium': 10146, 'falcon': 5724, 'infant': 8072, 'capsiz': 2795, 'greek': 6920, 'trillion': 16125, 'oldfashion': 11179, 'unapologet': 16365, 'percept': 11771, 'fairer': 5714, 'admiss': 727, 'process': 12434, 'valley': 16733, 'sebastian': 13904, 'junger': 8574, 'koreng': 8845, 'drummer': 4991, 'silent': 14325, 'bruno': 2508, 'funk': 6430, 'dictionari': 4575, 'pwnage': 12639, 'teambuild': 15591, 'colleagu': 3481, 'dryer': 4998, 'scari': 13769, 'prostitut': 12508, 'solo': 14655, 'bibl': 1971, '03': 20, 'completist': 3573, '475': 408, 'uno': 16545, 'unfair': 16470, 'sworn': 15437, 'randi': 12793, 'newman': 10771, 'sang': 13692, 'kotter': 8853, 'trucker': 16165, 'dale': 4156, 'chihuli': 3145, 'plagiar': 11986, 'measur': 9889, 'selfworth': 14000, '13yearold': 75, 'skyla': 14435, 'gigi': 6657, 'hadid': 7104, 'skin': 14416, 'wilder': 17307, 'pryor': 12538, 'bon': 2250, 'apptit': 1247, 'proquich': 12499, 'vacation': 16713, 'hometown': 7636, 'wednesday': 17152, 'useless': 16687, 'gestur': 6628, 'preced': 12280, 'memoriam': 9967, 'reel': 12981, 'buddi': 2530, 'sneak': 14586, 'chest': 3122, 'xray': 17529, 'titan': 15879, 'iceberg': 7864, 'pattern': 11665, 'excus': 5569, '35': 331, 'inoper': 8132, 'tumor': 16222, 'cargo': 2832, 'ship': 14201, 'joaquin': 8479, 'conceiv': 3595, 'writein': 17494, 'avocado': 1515, 'expens': 5608, 'tornado': 15963, 'midwest': 10108, 'gatedcommun': 6541, 'bleed': 2118, 'allamerican': 918, 'hail': 7111, 'alaska': 866, 'panama': 11536, 'canal': 2754, '50yearold': 432, 'lick': 9209, 'aarp': 596, 'repres': 13149, 'feminin': 5867, 'respect': 13192, 'shrek': 14270, 'burger': 2596, 'scandal': 13758, 'involv': 8250, 'restor': 13200, 'fullcolor': 6411, 'filmmak': 5942, 'visual': 16916, 'interior': 8200, 'supremacist': 15342, 'timelaps': 15854, 'fastestgrow': 5789, 'jaw': 8392, 'eddi': 5158, 'murphi': 10542, 'twain': 16258, 'themerestaur': 15721, 'waitress': 17003, 'kidswithpreexistingconditionscangofuckthemselv': 8728, 'scroll': 13871, 'mariah': 9708, 'carey': 2831, 'disastr': 4660, 'fault': 5804, 'starv': 14974, 'hick': 7483, 'magnet': 9572, 'migrat': 10118, 'schnauzer': 13795, 'madison': 9555, 'squar': 14886, 'garden': 6516, 'westminst': 17204, 'daddi': 4143, 'mommi': 10333, 'german': 6622, 'garag': 6511, 'demograph': 4416, 'shameless': 14130, 'gitmo': 6683, 'arsenio': 1326, 'crossroad': 3992, 'gentli': 6604, 'michel': 10059, 'maneuv': 9648, 'joystick': 8528, 'turner': 16240, 'textbook': 15699, 'amsterdam': 1045, 'phrasebook': 11891, 'mcadam': 9835, 'mit': 10260, 'glamor': 6700, '86': 544, 'tobi': 15901, 'rhyme': 13284, 'speaker': 14761, 'duct': 5015, 'mick': 10064, 'mulvaney': 10520, 'worthless': 17461, 'spill': 14811, 'gallston': 6486, 'werewolf': 17197, 'allerg': 929, 'sunscreen': 15295, 'layer': 9052, 'boil': 2228, 'pharmaceut': 11846, 'tearless': 15598, 'highest': 7497, 'zimmerman': 17654, 'fearless': 5824, 'chihuahua': 3144, 'dane': 4178, 'endear': 5339, 'imprison': 7970, 'heighten': 7408, 'fiveyearold': 6019, 'dinosaur': 4623, 'bone': 2254, 'backyard': 1589, 'tenur': 15666, 'suffer': 15257, 'nazi': 10668, 'treasur': 16081, 'mysteri': 10581, 'paralyz': 11581, 'turnout': 16243, 'cameron': 2737, 'along': 959, 'architect': 1275, '2026': 213, 'highli': 7503, 'buddha': 2528, 'doodl': 4851, 'hike': 7523, 'liar': 9187, 'humanitarian': 7783, 'situat': 14386, 'riotou': 13343, 'chant': 3033, 'deepfri': 4332, 'simpli': 14342, 'dave': 4224, 'co': 3409, 'placebo': 11983, 'embassi': 5275, 'broke': 2470, 'railway': 12757, 'recordbreak': 12932, 'sole': 14647, 'snow': 14602, 'older': 11176, 'bo': 2192, 'bice': 1973, 'calendar': 2714, 'upheld': 16637, 'televisa': 15635, 'onair': 11204, 'artifici': 1336, 'bornstein': 2292, 'groundbreak': 6986, 'theda': 15718, 'hammel': 7172, 'unhealthi': 16488, 'began': 1842, 'corden': 3769, 'aveng': 1504, 'epic': 5415, 'unspoken': 16594, 'spacey': 14741, 'chibok': 3133, 'punch': 12599, 'salut': 13658, 'awe': 1528, 'mathison': 9798, 'oscarnomin': 11306, 'et': 5481, '65': 477, 'highstak': 7516, 'poker': 12089, 'tournament': 15991, 'quicklub': 12691, 'latina': 9019, 'napa': 10615, 'alfonso': 898, 'ribeiro': 13290, 'dwt': 5076, 'bottomup': 2309, 'soft': 14634, 'demi': 4410, 'lovato': 9428, 'valderrama': 16725, 'miner': 10171, 'roulett': 13500, 'dresser': 4949, 'toll': 15919, 'premium': 12327, 'spray': 14866, 'parotid': 11608, 'gland': 6703, 'resembl': 13174, 'hastert': 7287, 'chairman': 3012, 'abolish': 616, '28yearold': 281, 'aviva': 1513, 'refere': 12991, 'ed': 5157, 'hochuli': 7575, 'cam': 2725, 'newton': 10782, 'ageism': 799, 'proof': 12484, 'creation': 3927, 'homeroom': 7632, 'kerfuffl': 8685, 'leelah': 9100, 'alcorn': 881, 'novemb': 10992, '1521': 89, '1914': 138, 'planner': 11996, 'reaction': 12848, 'hb2': 7327, 'mediocr': 9917, 'millenni': 10144, 'congrat': 3641, 'autoenrol': 1484, 'shove': 14257, '76': 515, 'sixti': 14393, 'shutter': 14285, '3year': 373, 'longtim': 9379, 'wellpaid': 17188, 'gentrifi': 6606, 'apprentic': 1243, 'pretzel': 12370, 'brand': 2363, 'sanduski': 13688, 'goper': 6812, 'rot': 13489, 'patriot': 11662, '1960': 152, 'joanna': 8478, 'scaryass': 13774, 'birdhous': 2041, 'tsa': 16202, 'ineffect': 8058, 'midwestern': 10109, 'russialink': 13576, 'version': 16815, 'jong': 8508, 'increasingli': 8018, 'upset': 16651, 'cnncom': 3408, 'tsarnaev': 16203, 'castro': 2894, 'argentinian': 1287, 'barrier': 1720, 'vend': 16783, 'malcolmjam': 9612, 'roman': 13440, 'polanski': 12093, 'gunman': 7064, 'bumper': 2574, 'nilla': 10830, 'wafer': 16989, 'grower': 6995, 'savvi': 13743, 'sleepi': 14469, 'esport': 5470, 'pro': 12423, 'ho': 7567, 'broild': 2468, 'overpopul': 11423, 'reopen': 13127, 'dakota': 4153, 'elf': 5236, 'destress': 4508, 'kathleen': 8639, 'hartnett': 7273, 'trademark': 16017, 'mealkit': 9878, 'dyke': 5079, 'impromptu': 7972, 'chitti': 3183, 'kelley': 8665, 'cutback': 4102, 'ionceoverheard': 8251, 'interfaith': 8195, 'african': 779, 'singlepuff': 14361, 'marlboro': 9723, 'mini': 10176, 'monologu': 10360, 'taliban': 15506, 'postpartum': 12216, 'millionair': 10149, 'implant': 7957, 'royc': 13521, 'ornament': 11293, 'sext': 14091, 'shopper': 14234, 'wore': 17427, 'tan': 15527, 'airasia': 836, 'nearmiss': 10687, 'vanish': 16745, 'cryptic': 4032, 'paunch': 11673, 'flip': 6082, 'overcom': 11398, 'fragil': 6261, 'masculin': 9757, 'unstabl': 16596, 'layout': 9055, 'deepest': 4331, 'reactor': 12850, 'unless': 16526, 'expresid': 5633, 'christen': 3215, 'cup': 4072, 'juic': 8546, 'porter': 12175, 'falsifi': 5736, 'wive': 17384, 'resum': 13205, 'librarian': 9200, 'bookish': 2272, 'unsung': 16600, 'beefi': 1831, 'boogi': 2267, 'fourth': 6250, 'wave': 17106, 'overtipp': 11443, 'kiosk': 8757, 'remot': 13101, 'cornfield': 3785, 'neill': 10714, 'blomkamp': 2153, 'ownership': 11457, 'sec': 13905, 'replay': 13140, 'submit': 15215, 'parliament': 11603, 'encor': 5329, 'incom': 8007, 'longawait': 9364, '30th': 308, 'cottonel': 3825, 'pipinghot': 11954, 'tissu': 15877, 'maya': 9819, 'shed': 14162, 'seaworld': 13903, 'caf': 2696, '5pound': 461, 'orca': 11271, 'kindergarten': 8743, 'passion': 11635, 'incomprehens': 8010, 'altar': 974, 'robe': 13387, 'corona': 3790, 'dildo': 4604, 'horni': 7684, '40foot': 382, 'flag': 6028, 'weld': 17179, 'boneshak': 2256, 'metal': 10022, 'remix': 13097, 'harbor': 7230, 'wacki': 16983, 'intens': 8184, 'fifthofasecond': 5926, 'shadow': 14108, 'trend': 16099, 'pep': 11754, 'fruit': 6383, 'soil': 14639, 'philli': 11869, 'airspac': 849, 'freerang': 6317, 'preserv': 12349, 'ana': 1048, 'fate': 5795, 'asylum': 1412, 'toni': 15936, 'shalhoub': 14120, 'braindead': 2356, 'masterwork': 9780, 'leaf': 9069, 'cyclist': 4125, 'comedian': 3521, 'eyelid': 5665, 'pyeongchang': 12640, 'somehow': 14669, 'salvador': 13660, 'dali': 4158, 'surreal': 15362, 'trippi': 16138, 'vr': 16970, 'champagn': 3021, 'sharp': 14147, '3drug': 356, 'molotov': 10325, 'kitten': 8776, 'headscarf': 7347, 'surf': 15345, 'aloha': 956, 'aina': 833, 'barca': 1697, '444': 394, 'vulner': 16976, 'rebuk': 12892, 'spokeswoman': 14838, 'cern': 2991, 'destruct': 4510, 'guidebook': 7034, 'cell': 2963, 'discontinu': 4675, 'port': 12167, 'starboardwil': 14953, 'thunk': 15817, 'mooshbaroo': 10387, 'terribl': 15675, 'doughnut': 4889, 'iiera': 7905, 'naderit': 10598, 'loyalist': 9456, 'morrison': 10404, 'creepili': 3939, '37': 341, 'innuendo': 8131, 'mileston': 10131, 'fisherman': 6006, 'guillermo': 7038, 'toro': 15964, 'monster': 10367, 'gw': 7081, 'worship': 17456, 'evan': 5503, 'westworld': 17205, 'costar': 3817, 'counterintuit': 3842, 'deepsteam': 4337, 'fri': 6343, 'tina': 15863, 'bahama': 1613, 'adventurefil': 747, 'knew': 8794, 'colombian': 3496, 'younger': 17596, 'function': 6424, 'monoxid': 10363, 'detector': 4517, 'occur': 11110, 'suspici': 15376, 'pruitt': 12537, 'fawn': 5813, 'cheney': 3114, 'satisfi': 13722, 'remors': 13099, 'arkansa': 1299, 'antisemit': 1171, 'exploratori': 5626, 'frat': 6288, 'nutella': 11039, 'lubric': 9464, 'litmu': 9292, 'footag': 6174, 'crusad': 4026, 'swiss': 15427, 'ricola': 13309, 'embargo': 5272, 'sikh': 14321, 'disclos': 4670, 'bundler': 2583, 'malia': 9617, 'seven': 14070, 'nine': 10834, 'warrantless': 17070, 'surveil': 15366, 'whistleblow': 17252, 'inflam': 8083, 'puls': 12591, 'puppet': 12612, 'spous': 14862, 'charlottesvil': 3059, 'belgian': 1868, 'prime': 12393, 'starter': 14971, 'solidar': 14652, 'torch': 15958, 'st': 14906, 'butteri': 2654, 'postbabi': 12198, 'islamophob': 8298, 'manhunt': 9655, 'indiscrimin': 8045, 'vilifi': 16874, 'vegetarian': 16774, 'goutridden': 6839, 'healthiest': 7359, 'multipl': 10513, 'recognit': 12922, 'axelrod': 1542, 'econom': 5149, 'inherit': 8109, 'ventur': 16795, 'revel': 13239, 'towel': 15995, 'nonrescu': 10922, 'rabbit': 12710, 'blackandwhit': 2075, 'veto': 16827, 'couldnt': 3831, 'subconsci': 15206, 'mpaa': 10466, 'testament': 15688, 'darwin': 4211, 'folk': 6149, 'mailer': 9584, 'examin': 5544, 'guncontrol': 7059, '7th': 527, 'heaven': 7384, '100th': 27, 'excruci': 5568, 'nationwid': 10653, 'auster': 1470, 'fourday': 6246, 'greec': 6917, 'freshwat': 6338, 'uppermiddl': 16645, 'bellissima': 1879, 'lobbi': 9322, 'li': 9183, 'keqiang': 8684, 'softli': 14636, 'tuck': 16210, 'grandson': 6881, 'bizarr': 2069, 'blameless': 2100, 'altman': 981, 'specialedit': 14767, 'directorscut': 4641, 'bernardino': 1922, 'holtzclaw': 7615, 'lopsid': 9395, 'consult': 3690, 'do': 4784, 'cdc': 2946, 'bean': 1791, 'sumptuou': 15280, '20second': 230, 'massag': 9768, 'divest': 4766, 'aziz': 1552, 'ansari': 1113, 'slate': 14451, 'firstev': 5990, 'greyhound': 6943, 'jakrapong': 8358, 'kongmalai': 8836, 'mentor': 9986, 'error': 5457, 'tupperwar': 16230, 'massachusett': 9766, 'bel': 1862, 'edward': 5173, 'vitter': 16922, 'subtl': 15232, 'fascin': 5779, 'jumbo': 8562, 'jerusalem': 8434, 'silenc': 14324, 'metabol': 10021, 'splurg': 14829, 'derail': 4470, 'nationalist': 10651, 'dossier': 4874, 'darren': 4207, 'vegan': 16772, 'frontal': 6370, 'samantha': 13665, 'imagin': 7923, 'meryl': 10012, 'streep': 15128, 'heckl': 7392, 'octogenarian': 11119, 'minitrain': 10190, 'rub': 13527, 'hallow': 7153, 'cybersecur': 4121, 'nba': 10669, 'mvp': 10575, 'hardi': 7241, 'reallif': 12864, 'supervillain': 15326, 'boundless': 2321, 'viagra': 16834, 'standup': 14946, 'fallon': 5730, 'sienna': 14309, 'anthoni': 1124, 'bourdain': 2325, 'worn': 17451, 'aldrin': 884, 'maryland': 9754, 'partisan': 11618, 'gridlock': 6945, 'taekwondo': 15485, 'congratul': 3642, 'blunder': 2184, 'meme': 9960, 'oasi': 11066, 'cd': 2945, 'scratch': 13858, 'goblin': 6755, 'technic': 15605, 'lucid': 9467, 'va': 16710, 'criss': 3967, 'mindfreak': 10164, 'maxin': 9815, 'dishonor': 4702, 'despic': 4501, 'invis': 8247, 'dotard': 4876, 'rocketman': 13403, 'standoff': 14943, 'rattl': 12826, 'advis': 751, 'classifi': 3320, 'twin': 16271, 'wwii': 17511, '92nd': 571, 'gave': 6550, 'meow': 9990, 'brianna': 2423, 'brochu': 2465, 'connecticut': 3655, 'energyeffici': 5354, 'freeforal': 6311, 'sept': 14036, 'copres': 3760, 'starlet': 14961, 'shyla': 14288, 'stylez': 15193, 'avn': 1514, '88': 549, 'reluctantli': 13082, 'mailbox': 9583, 'frost': 6375, 'jlaw': 8472, 'batman': 1757, 'superman': 15312, 'holi': 7597, 'toenail': 15908, 'mumbl': 10522, 'bedsoreridden': 1827, '155th': 90, 'cabl': 2686, 'retali': 13213, 'breach': 2381, 'nypd': 11059, 'selfmad': 13988, 'tracey': 16009, 'ullman': 16335, '10pound': 43, 'conan': 3592, 'obrien': 11089, 'rough': 13497, 'haiti': 7123, 'reduct': 12973, 'mia': 10050, 'postraci': 12223, 'debunk': 4288, 'wamu': 17035, 'chaplev': 3041, 'nonalcohol': 10884, 'inventor': 8241, 'nonadhes': 10882, 'glue': 6738, 'cough': 3829, 'wet': 17206, 'rhode': 13281, 'stepmom': 15026, 'biomom': 2030, 'franki': 6279, 'indoor': 8051, 'broker': 2475, '150': 88, 'rent': 13121, 'ricki': 13305, 'menudo': 9988, 'mullet': 10501, 'downton': 4908, 'abbey': 601, 'preview': 12373, 'afrolatina': 783, 'nuclearwastedispos': 11013, 'technician': 15606, 'devil': 4536, 'onethird': 11224, 'rico': 13308, 'bolton': 2243, 'cakewalk': 2708, 'wealthiest': 17128, 'fieldtrip': 5919, 'mishap': 10225, 'fulfil': 6406, 'mayer': 9823, 'wiener': 17293, '77yearold': 519, 'tumorriddl': 16223, 'bingedrink': 2015, 'size': 14396, 'rome': 13445, 'penguin': 11739, 'lui': 9477, 'gutierrez': 7075, 'gohmert': 6766, 'swan': 15388, 'arch': 1267, 'hulu': 7777, 'grave': 6900, 'traffick': 16021, 'oblivi': 11086, 'sxsw': 15438, 'grappl': 6888, 'instead': 8163, 'oregon': 11278, 'woooo': 17424, 'forgiven': 6211, 'graveston': 6902, 'toppl': 15956, 'bow': 2328, 'reiser': 13049, 'benevol': 1899, 'possessor': 12192, 'latinx': 9021, 'showcas': 14261, 'talent': 15505, 'ramadan': 12775, 'fervor': 5888, 'capitalist': 2792, 'unsustain': 16604, 'hello': 7427, 'macaulay': 9530, 'culkin': 4057, 'erdogan': 5439, 'orban': 11268, 'junior': 8576, 'tinder': 15864, 'menopaus': 9977, 'craze': 3918, 'loiter': 9351, 'fakebook': 5721, 'colonoscopi': 3500, 'nonfantast': 10904, 'voyag': 16967, 'bake': 1621, 'khalid': 8705, 'sheikh': 14170, 'confess': 3624, 'showtim': 14268, 'apollo': 1214, 'hunki': 7803, 'cardin': 2818, 'celibaci': 2960, 'breakfast': 2389, 'monsanto': 10366, 'weed': 17154, 'lord': 9397, 'cone': 3620, 'acknowledg': 671, '19': 137, 'grill': 6953, 'hourli': 7726, 'aphid': 1209, 'separ': 14033, 'rad': 12728, 'robin': 13390, 'foundat': 6241, 'gracious': 6856, 'thankyou': 15710, '21': 236, 'smoker': 14555, 'phlegmproduc': 11875, 'dolor': 4824, 'huerta': 7765, 'newcom': 10763, 'denver': 4444, 'shoulder': 14252, '1937': 145, 'gi': 6642, 'cobra': 3428, 'henson': 7444, 'merced': 9994, 'ruehl': 13542, 'fantasi': 5751, 'leap': 9077, 'enema': 5350, 'sudden': 15254, 'cardiac': 2816, 'africanamerican': 780, 'cellphon': 2967, 'contradict': 3712, 'middleclass': 10086, 'tampon': 15525, 'triniti': 16132, 'lt': 9460, 'departmentstor': 4448, 'chinawar': 3169, 'meddl': 9904, 'breastfeed': 2400, 'wondersplint': 17408, 'fractur': 6259, 'larger': 8991, 'fuller': 6412, 'robot': 13394, 'chaffetz': 3007, 'cum': 4064, 'blurri': 2188, 'superfan': 15303, 'ancestrycom': 1061, 'juggernaut': 8543, 'nanci': 10611, 'downpour': 4904, 'genet': 6593, 'emphat': 5309, 'wiz': 17385, 'khalifa': 8706, 'fetti': 5898, 'wap': 17043, 'omi': 11197, 'moststream': 10420, 'plead': 12025, 'repudi': 13161, 'hoffa': 7581, 'paradox': 11576, 'ridiculousexcusestostayhom': 13318, 'boomerstyl': 2277, 'gaybi': 6559, 'bloodi': 2157, 'weaken': 17119, 'sculptur': 13879, 'regift': 13014, 'matern': 9792, 'hamilton': 7168, 'kylo': 8904, 'ren': 13103, 'sorta': 14704, 'salvat': 13663, 'sector': 13924, 'duck': 5012, 'bread': 2382, 'afghan': 772, 'nitrogen': 10849, 'goof': 6801, 'confus': 3634, 'laser': 9000, 'lee': 9098, 'up': 16626, 'lingeri': 9264, 'stagger': 14919, 'rosalynn': 13470, 'einstein': 5203, 'tshirt': 16204, 'wnba': 17390, 'champion': 3022, 'biologist': 2028, 'chaotic': 3035, 'intric': 8225, 'sting': 15058, 'airbnb': 837, 'ejacul': 5206, 'redempt': 12956, 'extramarit': 5648, '2036': 218, 'tomi': 15927, 'lahren': 8938, 'theblaz': 15717, 'hanniti': 7213, 'cabin': 2684, 'medicar': 9913, 'nsa': 11003, 'prism': 12414, 'invas': 8239, 'laura': 9034, 'ingraham': 8103, 'bolt': 2242, 'palmol': 11526, 'dawn': 4230, 'coddl': 3445, 'greas': 6909, 'ton': 15932, 'valuabl': 16735, 'semen': 14007, 'berku': 1914, 'jeremiah': 8428, 'brent': 2410, 'lutheran': 9504, 'kaepernick': 8599, 'metoo': 10037, 'boo': 2264, 'leadership': 9068, 'goodel': 6793, 'envi': 5404, '15yearold': 101, 'jot': 8520, 'margin': 9703, 'mockingbird': 10294, 'prankster': 12267, 'trumpinspir': 16184, 'rant': 12801, '17year': 118, 'cicada': 3248, 'hunk': 7802, '36': 337, '000foottal': 8, 'unread': 16564, 'bronx': 2479, 'staten': 14981, '2012': 200, 'degre': 4375, 'malfunct': 9616, 'pyrotechn': 12646, 'madcap': 9549, 'romp': 13450, 'escal': 5462, 'zani': 17626, 'hijink': 7522, 'senil': 14016, 'rendit': 13109, 'easter': 5120, 'pew': 11835, 'load': 9316, 'frank': 6274, 'sinatra': 14347, 'mario': 9715, 'puzo': 12635, 'mcgovern': 9859, 'perkin': 11788, 'milton': 10154, 'berl': 1915, 'cain': 2702, 'danni': 4183, 'aiello': 824, 'bruce': 2501, 'dern': 4480, 'psychicphonelin': 12551, 'closedmind': 3385, 'friggin': 6355, 'endeavor': 5340, 'culmin': 4058, 'detain': 4513, 'allmal': 939, 'facil': 5690, 'apparel': 1221, 'proverb': 12527, 'snatch': 14585, 'dee': 4322, 'bogetti': 2221, 'lynn': 9516, 'huntley': 7806, 'fastdeplet': 5787, 'nonrenew': 10921, 'skyrocket': 14439, 'ding': 4617, 'cosmopolitan': 3814, 'helen': 7419, 'gurley': 7069, 'brown': 2494, 'valencia': 16727, 'strip': 15148, 'sticker': 15043, 'openmind': 11246, 'egregi': 5191, 'ugandan': 16323, 'uganda': 16322, 'unnot': 16544, 'algorithm': 904, 'exposur': 5632, 'glove': 6734, 'mariachi': 9707, 'behalf': 1849, 'publik': 12572, 'edwards2016com': 5174, 'quarantin': 12671, 'protocol': 12517, 'uae': 16309, 'quash': 12675, 'unlaw': 16524, 'assembl': 1382, 'spider': 14804, 'archivist': 1278, 'unpublish': 16560, 'crichton': 3952, 'manuscript': 9680, 'hitch': 7558, 'avail': 1498, 'stream': 15126, 'slaveri': 14458, 'plaza': 12023, 'abridg': 624, 'gari': 6521, 'cohn': 3458, 'aluminum': 987, 'chastis': 3067, 'doorstop': 4858, 'doorblock': 4856, 'patent': 11649, 'arabamerican': 1255, 'asset': 1387, 'intrigu': 8227, 'boomer': 2276, 'jenga': 8419, 'headlin': 7341, 'bright': 2436, 'ultrarar': 16342, 'lion': 9272, 'airplan': 847, 'machiavellian': 9535, 'groundskeep': 6988, '45th': 403, 'fade': 5704, 'tattoo': 15568, 'wrist': 17492, '73': 507, 'marbl': 9692, 'statuett': 14990, 'achil': 669, 'dowag': 4895, 'cecil': 2951, 'baucu': 1769, 'rollout': 13437, '300': 301, '85': 542, 'fertil': 5887, 'doomsday': 4853, 'preacher': 12274, 'stack': 14912, 'capsul': 2796, 'deshawnda': 4492, 'blacklivesmatt': 2088, 'selfdefinit': 13964, 'hijabista': 7520, 'burqa': 2614, 'playoff': 12018, 'cuban': 4045, 'payment': 11691, 'hama': 7164, 'mediat': 9909, 'vertic': 16818, 'meeker': 9923, 'guidanc': 7033, 'counselor': 3838, 'mandela': 9641, 'chewbacca': 3127, 'bald': 1627, 'grin': 6961, 'elv': 5263, 'busstop': 2639, 'edit': 5166, 'scotland': 13842, 'conneri': 3657, 'chilean': 3156, 'rescuer': 13171, 'hiphop': 7538, 'radio': 12735, 'infect': 8074, 'measl': 9888, 'cybergranni': 4120, 'melanesian': 9944, 'thunder': 15814, 'trooper': 16151, 'g7': 6458, 'g8': 6459, 'getaway': 6630, 'angelina': 1083, 'joli': 8501, 'slaw': 14460, 'uneaten': 16457, 'helm': 7429, 'vastli': 16760, 'oversimplifi': 11435, 'combat': 3514, 'islamophobia': 8299, 'retrial': 13223, 'theoriz': 15727, 'chili': 3157, 'pepper': 11756, 'carpool': 2856, 'karaok': 8619, 'goop': 6808, 'foie': 6144, 'gra': 6852, 'snuck': 14612, 'disregard': 4739, 'align': 910, 'enthusiasm': 5388, 'orrin': 11297, 'hatch': 7292, 'utah': 16699, 'marcomentum': 9699, 'complaint': 3571, 'bia': 1965, 'pastor': 11642, 'agnost': 807, 'crawl': 3914, 'schism': 13789, 'household': 7733, 'belief': 1871, 'hanukkah': 7216, 'defac': 4343, '41': 388, 'techfre': 15604, 'frontier': 6371, 'bicycl': 1977, 'spaceship': 14738, 'tobacco': 15898, 'grovel': 6992, 'pathet': 11653, 'unexpect': 16467, 'over': 11392, 'await': 1518, '23': 248, 'monitor': 10353, 'firework': 5983, 'coretta': 3774, 'outlandish': 11358, 'cutler': 4107, 'belt': 1883, 'unknowingli': 16521, 'blowjob': 2175, 'spokesman': 14836, 'avenatti': 1503, 'cohen': 3457, 'nevertrump': 10759, 'crossservic': 3993, 'quot': 12707, 'workout': 17438, 'wynn': 17515, 'dept': 4465, '350': 332, 'watson': 17104, 'powher': 12255, 'ny': 11052, 'nippi': 10841, 'hiker': 7524, 'videotap': 16859, 'insight': 8143, 'sob': 14617, 'bacteria': 1592, 'rainforest': 12763, 'masterstok': 9779, 'giamatti': 6643, 'dishwash': 4703, 'repris': 13154, 'slicker': 14480, 'ray': 12835, 'bradburi': 2349, 'kindl': 8745, 'demis': 4411, 'hungov': 7800, 'hor': 7676, 'doeuvr': 4803, 'sasha': 13713, 'hamster': 7176, 'teeni': 15621, 'oxygen': 11463, 'casulli': 2898, 'shelfi': 14174, 'ripe': 13346, 'authent': 1475, 'autonomi': 1491, 'petit': 11824, 'holist': 7601, 'prestigi': 12359, 'dine': 4615, 'fabl': 5675, '62': 474, 'python': 12647, 'selfdiscoveri': 13969, 'banjowield': 1669, 'damon': 4169, 'bid': 1978, 'excon': 5566, 'boozi': 2284, 'cadburi': 2691, 'creme': 3942, 'milkshak': 10140, 'antebellum': 1121, 'twelv': 16265, 'piefuck': 11915, 'glenbrook': 6714, 'behold': 1856, 'picnic': 11908, 'santorum': 13701, 'absent': 628, 'digniti': 4602, 'earlylif': 5101, 'breitbart': 2408, 'postlondon': 12210, 'jealou': 8404, 'gasp': 6535, 'cardi': 2815, 'rihanna': 13333, 'martyr': 9750, 'romero': 13447, 'newlyw': 10770, 'mitt': 10266, 'cheezburg': 3105, 'exboyfriend': 5547, 'incompat': 8008, 'blm': 2143, 'alicia': 908, 'garza': 6529, 'mobil': 10289, 'axel': 1541, 'spice': 14800, 'whalerid': 17213, 'stuntman': 15188, 'geekier': 6574, 'quizno': 12706, '6footlong': 488, 'gape': 6510, 'hemsworth': 7440, 'cave': 2936, 'morti': 10410, 'rearrang': 12874, 'fsu': 6388, 'dalvin': 4163, 'predictor': 12294, 'robbin': 13385, 'atlanta': 1421, 'brake': 2360, 'suv': 15381, 'villag': 16876, 'aftermath': 788, 'chaplain': 3039, 'rescind': 13169, 'cattral': 2923, 'earmark': 5103, 'scientif': 13819, 'epley': 5423, 'selfconfid': 13959, 'flat': 6046, '83yearold': 539, '65to80': 479, '34th': 329, 'reissu': 13050, 'fleetwood': 6066, 'mac': 9524, 'rumour': 13554, '35th': 335, 'walgreen': 17010, 'plugin': 12046, 'foolproof': 6172, 'muffin': 10490, 'mh370': 10048, 'debri': 4282, 'gunpoint': 7067, 'prosecut': 12501, 'birmingham': 2045, 'bomber': 2246, 'publick': 12568, 'spectacl': 14773, 'glover': 6735, 'wrest': 17481, 'portraitur': 12182, 'microscop': 10072, 'elector': 5217, 'petri': 11826, 'christoph': 3223, 'embed': 5277, 'forehead': 6196, 'muster': 10561, '140': 77, 'primarili': 12391, 'soybean': 14730, 'psa': 12541, 'breastfe': 2399, 'steven': 15036, 'spielberg': 14808, 'rio': 13341, 'freestyl': 6319, 'terrenc': 15673, 'malick': 9619, 'freida': 6324, 'pinto': 11948, 'baruch': 1724, '112th': 53, 'fallaci': 5726, 'statecoerc': 14977, 'primer': 12394, 'chaplainci': 3040, 'chalk': 3016, '1015': 31, 'dioces': 4625, '51': 433, 'clergi': 3345, 'laypeopl': 9057, 'treadmil': 16079, 'crank': 3906, 'inclin': 8003, 'sideway': 14307, 'upsid': 16652, 'startup': 14973, 'taint': 15494, 'misspel': 10248, 'gehri': 6577, 'grandkid': 6875, 'alphabit': 967, 'serif': 14053, 'font': 6160, 'diphtheria': 4631, 'wkzntv': 17388, 'conclud': 3602, 'broadcast': 2461, 'rwandan': 13585, '43yearold': 392, 'skateboard': 14400, 'zee': 17638, 'glitch': 6719, 'warehous': 17050, 'curt': 4090, 'cynthia': 4130, 'nixon': 10852, 'parish': 11597, 'communion': 3550, 'ecowarrior': 5153, 'vandana': 16741, 'shiva': 14215, 'antigmo': 1150, 'freakshow': 6301, 'lifethreaten': 9223, 'stunt': 15186, 'eaten': 5129, 'sweatshirt': 15402, 'ivori': 8330, 'runofthemil': 13564, 'camper': 2742, 'antidonald': 1141, 'thirdparti': 15760, 'welterweight': 17192, 'boxer': 2334, 'bout': 2326, 'cortez': 3808, 'discriminatori': 4684, 'jj': 8470, 'abram': 622, 'lambert': 8948, 'fellow': 5858, 'premis': 12326, 'jogger': 8487, 'warden': 17048, 'el': 5208, 'chapo': 3042, 'spirit': 14821, 'defect': 4348, 'craftmat': 3899, 'sleepaway': 14466, 'barnacl': 1714, 'bureau': 2591, 'vibe': 16838, 'distribut': 4753, 'malnourish': 9624, 'cond': 3607, 'nast': 10643, 'septemb': 14037, 'unse': 16583, 'benedict': 1894, 'cumberbatch': 4065, 'imit': 7929, 'otter': 11327, 'chemic': 3108, 'boar': 2193, 'flare': 6040, 'cheddar': 3089, 'popcorn': 12137, 'breed': 2406, 'necessari': 10691, 'tennesse': 15658, 'nutritionist': 11043, 'nummier': 11028, 'duke': 5028, 'burgundi': 2600, 'allfemal': 932, 'erot': 5453, 'inclement': 8002, 'proudli': 12523, 'paleontologist': 11517, 'reconstruct': 12930, '24piec': 259, 'bucket': 2523, 'tank': 15533, 'secondsemest': 13916, 'fling': 6078, 'firsttrimest': 5998, 'metta': 10039, 'barn': 1713, 'factor': 5700, 'derek': 4475, 'bereav': 1910, 'rhi': 13277, 'creepi': 3938, '18to24yearold': 132, 'ziploc': 17662, 'sub': 15204, 'baggi': 1610, 'voluntari': 16955, 'ikea': 7908, 'bastard': 1745, 'tearyey': 15599, 'locket': 9336, 'parol': 11607, 'owen': 11453, 'tate': 15566, 'sexabus': 14082, 'loretta': 9399, 'abraham': 621, 'lincoln': 9251, 'orvil': 11300, 'redenbach': 12957, 'cube': 4047, 'aggress': 806, 'fasttrack': 5792, 'european': 5496, 'heel': 7400, 'musician': 10553, 'mixtap': 10277, 'peruvian': 11811, 'shockingli': 14220, 'toler': 15918, 'parch': 11589, 'sip': 14370, 'pud': 12575, 'undernutrit': 16421, 'slavin': 14459, 'statist': 14987, 'recycl': 12945, 'naacp': 10589, 'lineup': 9262, 'sniper': 14596, 'becam': 1813, 'megahit': 9934, 'futil': 6447, 'morton': 10412, 'wrap': 17473, 'salt': 13653, 'grain': 6865, 'emili': 5291, 'veil': 16778, 'interpret': 8208, 'waith': 17000, 'offerman': 11136, 'rsvp': 13526, 'swansonesqu': 15390, 'guardian': 7019, 'mailman': 9585, 'disciplinarian': 4669, 'unruli': 16577, 'hightech': 7517, 'hub': 7755, 'lingeriewear': 9265, 'colon': 3497, 'india': 8032, 'indiansubcontin': 8037, 'purs': 12623, 'weirdest': 17173, 'adlib': 722, '97': 585, 'accuraci': 662, 'incent': 7993, 'insur': 8173, 'gratitud': 6897, '3part': 364, 'toronto': 15966, 'dickipedia': 4572, 'founder': 6242, 'bikram': 1999, 'renegoti': 13112, 'equifax': 5428, 'exlov': 5592, 'clive': 3373, 'cussler': 4095, 'novel': 10989, 'newsbrief': 10774, 'earl': 5097, 'flirti': 6087, 'skirt': 14422, 'steph': 15022, '68': 484, 'stan': 14938, 'gundi': 7060, 'poss': 12190, 'happylook': 7224, 'scowl': 13851, 'patienc': 11656, 'physicist': 11895, 'smithereen': 14550, 'flaw': 6057, 'evalu': 5502, 'kahneman': 8601, 'propheci': 12494, 'strict': 15141, 'hallway': 7158, 'pwc': 12638, 'earthquak': 5112, 'januari': 8379, 'amatric': 1002, 'upbeat': 16628, '2k16': 291, 'comprehens': 3585, 'luau': 9461, 'xfilesthem': 17522, 'wikileak': 17302, 'greenwald': 6929, 'revis': 13250, 'theolog': 15723, '400': 376, 'horizon': 7680, 'gmail': 6742, 'piti': 11972, 'hotmail': 7712, 'humbl': 7786, 'dene': 4428, 'benton': 1908, 'aka': 858, 'rubi': 13532, 'unreal': 16565, 'retract': 13220, 'regrett': 13024, 'outofcontrol': 11368, 'lunar': 9489, 'scalia': 13750, 'utter': 16704, 'firm': 5984, 'pray': 12270, 'luge': 9475, 'hitchhik': 7560, 'jazzfest': 8399, 'alumni': 988, 'lahood': 8937, 'kermit': 8686, 'shaggi': 14110, 'wasnt': 17082, 'underwear': 16441, 'kyli': 8903, 'firefox': 5977, 'desktop': 4497, 'ransom': 12800, 'handtohand': 7201, '2065': 225, 'nc': 10672, 'slick': 14479, 'livestock': 9306, 'garrot': 6527, 'wire': 17362, 'heat': 7380, 'lurk': 9501, 'pedicur': 11712, 'tub': 16207, 'administ': 724, '2013': 201, 'flu': 6113, 'vaccin': 16715, 'blew': 2123, 'london': 9357, 'falsehood': 5735, 'loft': 9343, 'convert': 3724, 'mayonnais': 9829, 'justifi': 8589, 'theoret': 15724, 'rebat': 12881, 'advantag': 743, 'benefit': 1897, 'takeout': 15501, 'shield': 14192, 'weekold': 17162, 'oakland': 11065, 'miley': 10132, 'cyru': 4132, 'hannah': 7211, 'chevi': 3124, 'awardwin': 1525, 'screw': 13866, 'cruella': 4016, 'smallmind': 14527, 'retel': 13215, 'lowerclass': 9444, '72': 502, 'worldli': 17445, 'drawnon': 4932, 'eyebrow': 5663, 'nose': 10962, 'hobnob': 7574, 'gamson': 6502, 'alaina': 863, 'perciv': 11773, 'krugman': 8877, 'beatl': 1804, 'bert': 1929, 'bern': 1919, 'mancrush': 9638, 'groceri': 6973, 'trick': 16115, 'guerrilla': 7028, 'jumper': 8565, 'celtic': 2969, 'fell': 5857, 'defi': 4354, 'neonazi': 10723, 'prefer': 12306, 'governmentengin': 6843, 'rapper': 12810, 'livestream': 9307, '17yearold': 119, 'sieg': 14308, 'chess': 3121, 'unitedcom': 16515, 'etheridg': 5484, 'linda': 9252, 'wallem': 17020, '40yearold': 387, 'spiki': 14810, 'spec': 14764, 'script': 13870, 'attic': 1440, 'clue': 3399, 'befriend': 1840, 'fk': 6022, 'widespread': 17289, 'outag': 11336, 'bathroomdisinfect': 1756, 'reinforc': 13042, 'obsessivecompuls': 11094, 'vehicl': 16777, 'idl': 7889, 'offtrack': 11152, 'bet': 1940, 'parlor': 11605, 'affleck': 769, 'unbelt': 16378, 'pvc': 12637, 'tube': 16208, 'campfir': 2743, 'guantnamo': 7015, 'yellowston': 17563, 'wildest': 17308, 'subtemb': 15229, 'napkinless': 10619, 'greasecov': 6910, 'halfass': 7130, 'reader': 12852, 'sciencefict': 13818, 'sketch': 14405, '72inch': 504, 'springsteen': 14874, 'antonio': 1185, 'remorseless': 13100, 'dlist': 4780, 'moana': 10287, 'consecut': 3666, 'yelp': 17564, 'ashtray': 1359, 'acceler': 647, 'mystiqu': 10583, 'improb': 7971, 'dysfunct': 5084, 'eclips': 5145, 'surrog': 15364, 'elev': 5233, 'ep9': 5413, 'inact': 7980, 'dilemma': 4606, 'unsurprisingli': 16602, 'belov': 1882, 'sarkozi': 13712, 'twospe': 16285, 'tighter': 15840, 'urschel': 16672, 'underinvest': 16416, 'assert': 1385, 'ernest': 5451, 'moniz': 10354, 'powerbal': 12250, 'brine': 2442, 'jada': 8348, 'pinkett': 11943, 'gabriel': 6463, 'homophob': 7644, 'thick': 15741, 'duti': 5066, 'gynecologist': 7088, 'disrupt': 4742, 'goldstein': 6779, 'ivorybil': 8331, 'woodpeck': 17420, 'uneven': 16466, 'flagship': 6030, 'peta': 11817, 'sat': 13716, 'chimpanze': 3164, 'cue': 4053, 'unus': 16614, 'duncan': 5043, '38': 346, 'yoyo': 17606, 'ye': 17552, 'sinner': 14366, 'sin': 14346, 'nomakeup': 10877, 'ell': 5247, 'libel': 9191, 'refut': 13005, 'uncertain': 16388, 'hateinspir': 7299, 'comfort': 3527, 'oyster': 11464, 'heir': 7413, 'absurd': 635, 'audiobook': 1454, 'cajun': 2705, 'snowflak': 14606, 'sane': 13690, 'argentina': 1286, 'iggi': 7898, 'azalea': 1550, 'peshawar': 11813, 'pakistan': 11507, 'narr': 10630, 'jerki': 8430, 'prankcal': 12266, 'mourner': 10446, 'lamont': 8952, 'juici': 8550, 'berri': 1926, 'quantico': 12668, 'ode': 11124, 'brighten': 2437, 'presser': 12357, '25year': 268, 'quagmir': 12660, 'tanzania': 15540, 'tool': 15943, 'undi': 16446, 'angela': 1082, 'sharpen': 14148, 'crudeoil': 4013, 'rout': 13507, 'levi': 9169, 'denim': 4434, 'analyz': 1057, 'shake': 14111, 'anytim': 1195, 'bye': 2670, '299': 285, 'lotu': 9412, 'etern': 5483, 'seren': 14045, 'counterterrorist': 3847, 'downplay': 4903, 'ivi': 8329, 'cab': 2682, 'shelton': 14179, 'gobbl': 6751, 'rode': 13413, 'crimescen': 3958, 'devic': 4535, 'sleight': 14474, 'carjack': 2836, 'backseat': 1580, 'comiccon': 3530, 'devast': 4532, '130': 72, 'ira': 8263, '1990': 165, 'bombi': 2247, 'aryan': 1343, 'notion': 10977, 'sixth': 14390, 'dust': 5061, 'buzzfe': 2667, 'champ': 3020, 'english': 5360, 'skype': 14438, 'coat': 3421, 'poignant': 12079, 'discoveri': 4680, 'gruesom': 7002, 'sarah': 13705, 'kirsten': 8765, 'gillibrand': 6661, 'philander': 11862, 'patholog': 11654, 'blister': 2138, 'nonviol': 10937, 'ya': 17534, 'gut': 7073, 'successor': 15241, 'shrug': 14278, 'uproari': 16650, 'demographi': 4417, 'grudgingli': 7001, 'tingl': 15866, 'undergo': 16414, 'falafel': 5723, '3day': 354, 'bogg': 2222, 'castl': 2893, 'plunder': 12052, 'turk': 16234, 'hydraul': 7831, 'firsttim': 5997, 'marathon': 9690, 'atat': 1414, 'oneword': 11226, 'folder': 6147, 'slain': 14445, 'incarcer': 7990, 'hayley': 7318, 'rocker': 13401, 'chad': 3004, 'gilbert': 6658, 'burglari': 2599, 'swell': 15415, 'po': 12062, 'enslav': 5378, 'nanni': 10612, 'iroquoi': 8280, 'inurg': 8237, 'quell': 12681, 'govt': 6845, 'nontarget': 10934, 'contractor': 3711, 'cheat': 3082, 'owl': 11454, 'prefab': 12304, 'cinzano': 3265, 'mortgag': 10409, 'freeman': 6315, 'snapchat': 14578, 'skeptic': 14404, 'profitdriven': 12453, 'miseri': 10222, 'francebound': 6268, 'merri': 10006, 'monopoli': 10362, 'razorthin': 12840, 'libya': 9203, 'benghazi': 1901, 'antizika': 1181, 'gmo': 6743, 'mosquito': 10416, 'liter': 9289, 'uninsur': 16507, 'blindingli': 2129, 'enrag': 5372, 'faulti': 5805, 'sunglass': 15289, 'bloodshot': 2160, 'ohsopreci': 11158, 'moleskin': 10318, 'richest': 13299, '194': 148, 'moron': 10401, 'materi': 9790, 'honeymoon': 7654, 'selfesteem': 13972, 'wackiest': 16985, 'wineri': 17343, 'paddler': 11485, 'shovel': 14258, 'patrick': 11661, 'pursu': 12624, 'grossass': 6982, 'gourd': 6838, 'bumpi': 2575, '40monthlong': 385, 'critiqu': 3971, 'volcanowaterfal': 16945, 'sweetest': 15412, 'matador': 9783, 'cape': 2790, 'bullr': 2564, 'tend': 15654, '98': 586, 'camaro': 2726, 'scarborough': 13765, 'swipe': 15426, 'hotti': 7718, 'mutil': 10571, 'amass': 1000, 'palin': 11520, 'dobbi': 4786, 'houseelf': 7730, 'generos': 6592, 'potter': 12235, 'gyno': 7089, 'exam': 5543, 'inner': 8124, 'occup': 11108, 'birdman': 2042, 'disturb': 4758, 'drain': 4920, '28': 278, 'antimobst': 1161, 'bethenni': 1944, 'frankel': 6275, '8monthold': 554, 'pooh': 12128, 'smug': 14565, 'cutthroat': 4113, 'jpmorgan': 8529, 'stearn': 15007, 'tedioustoread': 15615, 'ramsay': 12784, 'spoon': 14849, 'rightist': 13327, 'romania': 13441, 'exmayor': 5594, 'egyptian': 5193, 'pyramid': 12645, 'enorm': 5369, 'coastlin': 3420, 'sycoph': 15440, 'mistakenli': 10252, 'outta': 11386, 'compton': 3587, 'adam': 698, 'levin': 9170, 'fragranc': 6263, 'antidot': 1143, 'mer': 9991, 'renomin': 13117, 'instanc': 8159, 'coldplay': 3469, 'halftim': 7145, 'armor': 1307, 'yesterday': 17568, 'dumbass': 5033, 'ah': 816, 'blond': 2154, 'uptick': 16658, 'fundament': 6426, 'blog': 2150, 'stylin': 15194, 'pete': 11821, 'oblivion': 11087, 'hosteat': 7701, 'ledg': 9096, 'known': 8818, 'fond': 6155, 'honduran': 7649, 'conscienc': 3663, 'antipoverti': 1166, 'delist': 4395, 'grizzli': 6971, 'bearor': 1797, 'kesha': 8691, 'defrost': 4368, 'ef': 5179, 'tuna': 16224, 'beacon': 1788, '347': 328, 'stealth': 15004, 'handshak': 7198, 'unusu': 16615, 'angl': 1086, 'veloc': 16780, 'skim': 14415, 'handwrit': 7202, 'flotu': 6106, 'honest': 7650, 'legislatur': 9116, 'mathemat': 9794, '32': 315, '000hourlong': 9, 'ifttt': 7896, 'blackjack': 2085, 'entireti': 5391, 'boneless': 2255, 'necrot': 10697, 'da': 4137, 'backtoschool': 1585, 'kitsch': 8774, '75th': 513, 'asghar': 1349, 'farhadi': 5763, 'elli': 5251, 'joel': 8484, 'dosag': 4872, 'acetaminophen': 666, 'tat': 15565, 'zayn': 17633, 'malik': 9620, 'reset': 13178, 'button': 2659, 'excel': 5550, 'brave': 2373, 'stray': 15123, 'lindsay': 9253, 'burden': 2590, 'prefac': 12305, 'downey': 4899, 'ski': 14410, 'vermont': 16808, 'rr': 13523, 'okay': 11168, 'handicap': 7187, 'sidewalk': 14306, 'cycl': 4124, 'npr': 10998, 'tote': 15978, 'casualti': 2896, 'phelp': 11854, 'croc': 3975, 'primat': 12392, 'leather': 9083, 'jacket': 8340, 'vega': 16771, 'reviewjourn': 13249, 'paycheck': 11688, 'heinz': 7412, 'quickrecoveri': 12692, 'ketchup': 8694, 'appropri': 1245, 'genocid': 6598, 'unnecessari': 16541, 'simon': 14339, 'helberg': 7417, 'guild': 7036, 'crimean': 3957, 'donutshap': 4849, 'discern': 4666, 'backpag': 1579, 'pimp': 11932, 'hubri': 7759, 'banyan': 1680, 'smoothi': 14560, 'dewey': 4548, 'decim': 4302, 'helpless': 7434, 'categor': 2914, 'belushi': 1884, 'disciplin': 4668, 'yarn': 17548, 'introvert': 8233, 'visionari': 16912, 'jupit': 8582, 'problemat': 12430, 'charter': 3064, 'pitbul': 11967, 'wander': 17038, 'backstag': 1582, 'hulk': 7776, 'antifa': 1145, 'torn': 15962, 'boycot': 2337, 'evansvil': 5505, 'transphobia': 16062, 'taboo': 15477, 'baptiz': 1684, 'emerson': 5289, 'sordid': 14697, 'acousticguitarwield': 678, 'digitalenhanc': 4597, 'altern': 976, 'playedout': 12014, 'dormroom': 4870, 'capabl': 2788, 'lid': 9210, 'gondoli': 6785, 'adriat': 738, 'milla': 10142, 'jovovich': 8525, 'induct': 8053, 'wipe': 17359, 'rag': 12745, 'lovetest': 9435, 'inebri': 8056, 'bangladesh': 1666, 'xi': 17524, 'jinp': 8468, 'witch': 17376, 'hunt': 7804, 'afterparti': 790, 'seiz': 13946, 'predawn': 12291, 'cauliflow': 2928, 'crust': 4029, 'halfton': 7146, 'horsepow': 7693, 'motown': 10437, 'promin': 12473, 'hezbollah': 7476, 'clooney': 3381, 'darfurbas': 4197, 'transplant': 16063, 'mainstream': 9592, 'staywokeandvot': 14996, 'selfdeprec': 13966, 'trauma': 16070, 'musthav': 10562, 'curvi': 4092, 'heroinaddict': 7461, 'coalit': 3415, 'chile': 3155, 'pubesc': 12564, 'swalwel': 15386, 'reelect': 12982, 'businessman': 2634, 'ethiopia': 5486, 'slit': 14494, 'mechan': 9900, 'throat': 15801, 'purg': 12618, 'abe': 610, 'shortcut': 14239, 'rug': 13545, 'sportutil': 14856, '427': 390, 'naughti': 10658, 'butcher': 2645, 'penisshap': 11742, 'veal': 16768, 'cutlet': 4109, 'emancip': 5268, 'stronghold': 15160, 'juan': 8532, 'fedsrespons': 5840, 'ponytail': 12126, 'libyan': 9204, 'vedder': 16769, 'info': 8092, 'twostep': 16287, 'knife': 8797, 'cutleri': 4108, 'kenneth': 8677, 'highaltitud': 7493, 'voucher': 16964, '27yearold': 277, 'medina': 9916, 'humor': 7791, 'shackl': 14105, 'springload': 14873, 'midair': 10081, 'handbook': 7180, 'parker': 11599, 'uncircumcis': 16392, 'england': 5359, 'cod': 3444, 'fishermen': 6007, 'coal': 3414, 'plight': 12035, 'gethard': 6632, 'peel': 11717, 'explan': 5619, 'reassur': 12878, 'turmoil': 16237, 'shrunk': 14279, 'willem': 17317, 'dafo': 4146, 'bakula': 1624, 'paddleboard': 11484, 'lumberjack': 9484, 'hearti': 7372, 'phish': 11873, 'indigen': 8041, 'pluto': 12057, 'vast': 16759, 'wasteland': 17086, 'disburs': 4664, 'lieuten': 9214, 'filmgoer': 5941, 'blain': 2096, 'gyrocopt': 7092, 'capitol': 2793, 'battleship': 1768, 'awkwardli': 1534, 'prop': 12486, 'garth': 6528, 'gecko': 6568, 'andreessen': 1072, 'coloni': 3499, 'silicon': 14326, 'kiddo': 8724, 'stepdad': 15020, 'goate': 6749, 'dodg': 4798, 'twofer': 16280, '29yearold': 287, 'idahoan': 7878, '47': 407, 'weakwil': 17124, 'bend': 1890, '103yearold': 34, 'inlaw': 8120, 'caller': 2719, 'server': 14058, 'dessert': 4505, 'handheld': 7185, 'thermomet': 15733, 'saturday': 13723, '2001': 184, 'intellectu': 8180, 'clone': 3379, 'lend': 9133, 'legitimaci': 9119, 'export': 5630, 'crude': 4012, 'web': 17142, 'regularli': 13027, 'misjudg': 10229, 'baylor': 1778, 'dumbest': 5035, 'rid': 13310, 'toughest': 15986, 'nave': 10664, 'swamp': 15387, 'dilut': 4609, 'prematur': 12323, 'draft': 4915, 'depend': 4450, 'hud': 7761, 'bio': 2021, 'fairi': 5716, 'braxton': 2377, 'unbreak': 16382, 'spici': 14803, 'kung': 8886, 'fu': 6391, 'iron': 8276, 'ballsi': 1644, 'teri': 15668, 'hatcher': 7293, 'spooki': 14846, 'lourd': 9425, 'grisl': 6966, 'bottl': 2307, 'overlook': 11418, 'newark': 10761, 'reckon': 12917, 'idaho': 7877, 'domino': 4835, 'digest': 4593, 'anthrax': 1125, 'stockpil': 15069, 'strangl': 15114, '4foottal': 416, 'can': 2749, 'dogg': 4806, 'crip': 3961, 'fema': 5862, 'stat': 14975, 'reloc': 13080, 'ip': 8256, 'grasp': 6889, 'balloon': 1640, 'anarchi': 1058, 'newtown': 10783, 'mishandl': 10224, 'brawl': 2375, '37day': 343, 'glossip': 6733, 'autograph': 1486, 'estat': 5475, 'anecdot': 1077, 'appet': 1227, 'aplog': 1210, 'listeria': 9285, 'salad': 13637, 'flashmob': 6045, 'att': 1430, 'represent': 13150, 'upn': 16642, 'obstruct': 11097, 'collus': 3492, 'northeast': 10955, 'championship': 3023, 'longingli': 9371, 'contrarian': 3713, 'upend': 16633, 'consensu': 3667, 'microfib': 10069, 'predispos': 12295, 'dot': 4875, 'pothol': 12233, 'willi': 17318, 'selflov': 13987, 'cosm': 3811, 'firearm': 5969, 'overprescrib': 11424, 'antibiot': 1132, 'narcot': 10628, 'picasso': 11899, 'guernica': 7026, 'tripl': 16135, '1994': 169, 'parkingramp': 11600, 'embezzl': 5279, 'dime': 4610, 'gwen': 7082, 'stefani': 15012, 'rossdal': 13485, 'stupidest': 15190, 'bezo': 1958, 'costcut': 3818, 'glimps': 6717, 'longev': 9370, 'boardgam': 2195, 'penalti': 11733, 'patti': 11666, 'lupon': 9499, 'porno': 12159, 'powder': 12247, 'confound': 3632, 'bewig': 1953, 'pond': 12121, 'gorg': 6819, 'temp': 15641, 'squeez': 14895, 'dwade': 5070, 'udoni': 16318, 'haslem': 7282, 'opt': 11260, 'triumph': 16140, 'pheromon': 11857, 'deciph': 4303, 'sniglet': 14595, 'slowmot': 14510, 'glisten': 6718, 'sixthgrad': 14392, 'rodger': 13416, 'pistachio': 11962, 'biscotti': 2051, 'kirschsoak': 8764, 'dri': 4952, 'riversid': 13365, 'funlov': 6433, 'laidback': 8940, 'bit': 2057, 'scath': 13775, 'charl': 3053, 'bashar': 1732, 'alassad': 868, 'sarin': 13711, 'montreal': 10376, 'osm': 11311, 'couchetard': 3827, 'vire': 16898, 'classiqu': 3321, 'vanessa': 16743, 'kroger': 8875, 'beef': 1830, 'cyclon': 4126, '10pack': 41, 'firebrand': 5972, 'complicit': 3578, 'secreci': 13917, 'lifechang': 9216, 'marni': 9728, 'happier': 7221, 'steak': 14999, '000th': 15, 'salmonella': 13650, 'sicken': 14298, 'multist': 10517, 'rundown': 13560, 'windsurf': 17341, 'milwauke': 10155, 'sooki': 14688, 'twentysometh': 16267, 'disillus': 4705, 'disillusion': 4706, 'tiffani': 15835, 'thiessen': 15744, 'gratif': 6896, 'deliber': 4390, 'postpon': 12218, 'gq': 6851, 'expertli': 5615, 'vaniti': 16746, 'aatish': 597, 'taseer': 15557, 'sanskrit': 13696, '2yearold': 299, 'april': 1248, 'ritz': 13358, 'melania': 9946, 'overtir': 11444, '398monthold': 352, 'tantrum': 15539, 'birdflu': 2040, 'shred': 14269, 'halfpip': 7143, 'cardboard': 2813, 'orlean': 11292, 'meteorit': 10028, 'crazier': 3920, 'carbonbas': 2807, 'broadwel': 2463, 'petraeu': 11825, 'watcher': 17089, 'gregori': 6933, 'lawler': 9042, 'exxon': 5660, 'worldweari': 17448, 'sigh': 14312, 'eman': 5267, 'stall': 14931, 'kassig': 8632, 'dalit': 4159, 'hader': 7103, 'blair': 2097, 'otherwis': 11325, 'sincer': 14349, 'outback': 11337, 'mandatori': 9640, '6month': 491, 'walkabout': 17013, '82': 534, 'illiteraci': 7914, 'encyclopedia': 5334, 'breath': 2401, 'coulier': 3833, 'pufferfish': 12581, 'bitter': 2065, 'friendless': 6349, 'hairtrigg': 7122, 'theyv': 15740, 'prompt': 12479, 'detaine': 4514, 'restart': 13196, 'biliou': 2001, 'unsav': 16580, 'kri': 8865, 'soninlaw': 14683, 'fumbl': 6420, 'ouster': 11334, 'laughabl': 9026, 'cinemark': 3261, 'liabl': 9185, 'deer': 4339, 'honda': 7648, 'mellencamp': 9952, 'spoil': 14831, 'planetarium': 11993, 'floyd': 6112, 'brownback': 2495, 'outsourc': 11384, 'bianchi': 1967, 'commut': 3554, 'milit': 10133, 'kenya': 8680, 'canon': 2777, 'clariti': 3308, 'ident': 7882, 'annihil': 1103, 'candidaci': 2762, 'archaeologist': 1269, 'unearth': 16455, 'earliest': 5100, 'everywher': 5522, 'ashstreak': 1357, 'vital': 16917, 'proclaim': 12436, '30millionyearold': 305, 'bisexu': 2053, 'pansexu': 11554, 'fluid': 6116, 'stanley': 14948, 'forg': 6207, 'dokken': 4814, 'smash': 14538, 'nsfw': 11004, 'acronym': 685, 'deconstruct': 4313, 'damor': 4170, 'sabra': 13595, 'cedar': 2953, 'tribe': 16111, 'harvard': 7274, 'omalley': 11192, 'restless': 13198, 'waltz': 17033, 'workbench': 17430, 'charger': 3047, 'durbin': 5055, 'scalper': 13753, 'tyler': 16294, 'pundit': 12602, 'punk': 12604, '594foothigh': 455, 'mankind': 9664, 'therapist': 15729, 'cuomo': 4071, 'medal': 9901, 'dairi': 4152, 'lotsofpulp': 9410, 'tasti': 15564, 'openli': 11245, 'aretebasebal': 1284, 'pur': 12614, 'mph': 10467, 'highway': 7518, 'invinc': 8246, 'japanes': 8381, 'lenient': 9138, 'surrend': 15363, 'voluntarili': 16956, 'aftershock': 792, 'whistl': 17251, 'probat': 12426, '17thdegre': 117, 'taster': 15563, 'jen': 8418, 'kirkman': 8762, '4beer': 415, 'holler': 7603, 'sharon': 14146, 'tacki': 15480, 'duff': 5022, 'manson': 9673, 'bestsel': 1939, 'stewman': 15040, 'hh': 7479, 'eichner': 5195, 'fixin': 6021, 'worthwhil': 17462, 'mainli': 9590, 'kurdish': 8892, 'provinc': 12529, 'bastil': 1746, 'din': 4613, 'signal': 14316, 'blockad': 2148, 'scifi': 13823, 'asyetunreleas': 1411, 'citizenri': 3283, '1612': 104, 'circumcis': 3273, 'phrase': 11890, 'kleenex': 8782, 'inadequ': 7981, 'ant': 1117, 'crumb': 4021, '165': 105, 'lebowski': 9090, 'posttrump': 12225, 'grid': 6944, 'unpopular': 16554, 'mercilessli': 9997, 'loung': 9424, 'absomoochli': 632, 'scaramucci': 13764, 'palestin': 11518, 'washedup': 17079, 'tuskege': 16249, 'airmen': 846, 'distress': 4752, 'brokenin': 2474, 'camelto': 2733, 'unnerv': 16543, 'highpitch': 7506, 'screech': 13862, 'provolleybal': 12534, 'gabbi': 6461, 'reec': 12975, 'warmli': 17060, 'sturgeon': 15191, 'thang': 15707, 'sleazi': 14463, 'zenefit': 17644, 'stairwel': 14925, 'zoom': 17674, 'alohahuffpost': 957, 'sleepinduc': 14470, 'agribusi': 813, 'cremat': 3941, 'specialist': 14768, 'headband': 7335, 'infrastructur': 8097, 'transnat': 16058, 'albanian': 872, 'tickborn': 15826, 'unpaid': 16547, 'studentathlet': 15174, 'tag': 15487, 'jk': 8471, 'rowl': 13515, 'horcrux': 7678, 'sponsorship': 14842, 'publicli': 12569, 'schill': 13788, 'slot': 14501, 'romeo': 13446, 'juliet': 8557, 'bloodsoak': 2161, 'sail': 13630, '811': 532, 'rapport': 12811, 'furlough': 6440, 'nonessenti': 10901, 'gravedigg': 6901, 'happili': 7223, 'frequent': 6331, 'flighter': 6076, 'pakistani': 11508, '1224': 67, 'profess': 12448, 'worldclass': 17444, 'guru': 7071, 'fuckin': 6397, 'outpour': 11377, 'sympathet': 15448, 'whooshsnapsbiz': 17274, 'coachellago': 3413, 'sahm': 13628, '279': 276, 'leopard': 9145, 'impala': 7945, 'avatar': 1500, 'hassan': 7285, 'jameel': 8364, 'postelect': 12204, 'pang': 11545, '53inch': 443, 'salsa': 13652, 'handiwork': 7190, 'selfcheckout': 13957, 'iud': 8321, 'backlog': 1577, 'chef': 3106, 'dograt': 4809, 'poorest': 12133, 'fever': 5902, '8month': 553, 'waitlist': 17002, 'bollywood': 2240, 'priyanka': 12421, 'chopra': 3205, 'fiasco': 5909, 'flourish': 6108, 'concuss': 3606, 'perot': 11796, 'expedit': 5605, 'rebuild': 12891, 'bankruptci': 1675, 'suburbanit': 15235, 'certain': 2993, 'brita': 2450, 'seagul': 13888, 'diarrhea': 4566, 'gallant': 6481, 'lifestyl': 9222, 'overs': 11430, 'multicolor': 10503, 'weakass': 17118, 'flipflop': 6084, 'dipshit': 4635, 'retain': 13210, 'eeri': 5177, 'vestig': 16822, 'atmospher': 1423, 'rural': 13570, 'stricter': 15142, 'abbi': 602, 'wambach': 17034, 'franklin': 6281, 'gutwrench': 7078, 'katrina': 8643, 'melinda': 9950, 'midtown': 10106, 'deton': 4524, 'spiderman': 14805, 'jebbushcom': 8409, 'tanner': 15535, 'stove': 15101, 'correctli': 3797, 'straighten': 15104, 'lol': 9352, 'jar': 8383, 'bink': 2019, 'ingest': 8102, 'gamewinn': 6501, '3hourlong': 359, 'seduct': 13928, 'passersbi': 11633, 'roam': 13378, 'tbilisi': 15584, 'firemen': 5979, 'barbara': 1691, 'houseboat': 7729, 'pat': 11644, 'toomey': 15944, 'pun': 12598, 'islamist': 8297, 'christin': 3219, 'baranski': 1688, 'bana': 1651, 'mastectomi': 9771, 'venison': 16791, 'sausag': 13734, 'cookout': 3739, 'corey': 3775, 'lewandowski': 9173, 'cluelessli': 3401, 'rattlesnak': 12827, 'chesapeak': 3120, 'mcclendon': 9844, 'indict': 8039, 'wand': 17036, 'goner': 6787, 'yeah': 17553, 'hart': 7271, 'strongli': 15161, 'outcom': 11344, 'partnership': 11621, 'adida': 714, 'antarctica': 1120, 'housepl': 7735, 'tivo': 15885, 'mitzvah': 10269, 'sabotag': 13594, 'adler': 721, 'bumbl': 2570, 'circular': 3272, 'sketchbook': 14406, 'discourag': 4677, 'ucla': 16315, 'bruin': 2504, 'religionmad': 13075, 'certainti': 2995, 'tomm': 15928, 'lasorda': 9003, 'sensibl': 14023, 'bipolar': 2036, 'salma': 13648, 'hayek': 7317, 'manchest': 9634, 'recus': 12944, 'homicid': 7639, 'axi': 1543, 'peru': 11810, 'kuczynski': 8882, 'megachurchgo': 9931, 'devout': 4545, 'jumbotron': 8563, '22nd': 246, 'vessel': 16820, 'reincarn': 13039, 'drip': 4958, 'suspens': 15375, 'nippl': 10842, 'pierc': 11917, 'empath': 5305, 'seychel': 14097, 'nolan': 10874, 'marten': 9742, 'bennett': 1905, 'slipknot': 14491, '8bit': 552, 'kozlewski': 8857, 'modest': 10305, 'topic': 15953, 'voldemort': 16946, 'unspeak': 16593, 'insan': 8137, 'ping': 11938, 'pong': 12123, 'groov': 6977, 'normalci': 10950, 'qaddafi': 12649, 'overthrown': 11440, 'grade': 6858, 'starri': 14966, 'gershwin': 6625, 'philadelphian': 11860, 'margot': 9704, 'robbi': 13384, 'unlucki': 16533, 'valeri': 16729, 'ramsey': 12785, 'schieffer': 13786, 'pumpkin': 12597, 'robber': 13382, 'max': 9812, 'jewelri': 8448, 'polyamor': 12114, 'triad': 16108, 'singapor': 14354, 'roudup': 13495, 'longlost': 9373, 'salamand': 13639, 'guatemalan': 7021, 'testdriven': 15689, 'lugar': 9474, 'strain': 15107, 'hamstr': 7177, 'antimdma': 1159, 'dementia': 4409, 'idyl': 7894, '1950': 151, 'coogler': 3734, 'wakanda': 17004, 'spinoff': 14817, 'birthright': 2050, 'hadnt': 7105, 'afterwork': 794, 'obsolet': 11095, 'safetyconsci': 13620, 'pynk': 12644, 'exact': 5538, 'taught': 15570, 'addit': 705, 'eatingdisord': 5131, 'catastroph': 2908, 'galen': 6480, 'godlik': 6760, 'lobsterman': 9328, 'blacklist': 2087, 'bash': 1731, 'systemat': 15468, 'dreamwork': 4944, 'skg': 14409, 'jh': 8455, 'sixyear': 14394, 'pickup': 11907, 'trumpputin': 16191, 'applebe': 1233, 'sushithem': 15372, 'kitkat': 8773, 'instruct': 8167, 'secondgrad': 13911, 'purpl': 12620, 'breathtak': 2403, 'bolivia': 2236, 'hotspot': 7715, 'fanat': 5745, 'preorder': 12332, 'whiteonwhit': 17258, '2006': 189, 'locust': 9338, 'hord': 7679, 'chapecoens': 3037, 'piloto': 11930, 'boliviano': 2238, 'caucus': 2926, 'fkup': 6025, 'tmobil': 15889, 'airstrik': 850, 'slipperi': 14492, 'slope': 14499, 'intervent': 8216, 'immort': 7938, 'motherhood': 10427, 'holocaust': 7612, 'potemkin': 12230, 'competitor': 3568, 'chromecast': 3225, 'maximum': 9813, 'broad': 2459, 'bolster': 2241, 'middleton': 10089, 'victoria': 16852, 'andrew': 1073, 'bergdahl': 1911, '00003': 2, 'rori': 13469, 'feek': 5846, 'charli': 3056, 'hebdo': 7389, 'wrestl': 17482, 'skull': 14427, 'emit': 5295, 'hidden': 7485, 'alan': 864, 'grier': 6948, 'gutter': 7077, 'todo': 15906, 'delligatti': 4401, 'denounc': 4437, 'safeguard': 13616, 'wellb': 17183, '40hour': 384, 'manga': 9649, 'depp': 4460, 'tonto': 15939, 'knowingli': 8815, 'bruis': 2505, 'kickbox': 8717, 'bangkok': 1665, 'nathan': 10649, 'chen': 3113, 'redeem': 12953, 'recordset': 12934, 'skate': 14399, 'congressawar': 3645, 'tamir': 15520, 'rice': 13294, 'suzann': 15382, 'pleshett': 12032, 'scooter': 13834, 'libbi': 9190, 'hed': 7395, 'nicknam': 10804, 'merkel': 10003, '120year': 65, 'caucasian': 2924, 'curl': 4083, '2s': 295, 'wrench': 17480, 'outgo': 11353, 'briefcas': 2434, 'fiorina': 5967, 'sharia': 14143, 'enda': 5336, 'profession': 12449, 'gucci': 7023, 'mane': 9645, 'labour': 8913, 'kurd': 8890, 'assad': 1378, 'alik': 911, 'summit': 15278, 'strife': 15145, 'stormi': 15094, 'flout': 6109, 'nda': 10677, 'mel': 9943, 'gibson': 6646, 'payback': 11687, 'nutcrack': 11038, 'dana': 4172, 'loesch': 9341, 'rethink': 13216, 'airtim': 851, 'peppermint': 11757, 'mocha': 10291, 'tongu': 15935, 'franchis': 6270, 'antidrug': 1144, 'sham': 14124, 'ministri': 10188, 'pageview': 11492, '20someth': 231, 'mayb': 9821, 'anachron': 1049, 'truman': 16172, 'trim': 16128, 'unload': 16530, 'vowel': 16966, 'careerdriven': 2826, 'iowan': 8255, '1992': 167, '000spideregg': 14, 'omelet': 11195, 'aretha': 1285, 'fudg': 6399, 'lanyardwear': 8978, 'numberon': 11025, 'taser': 15558, 'terroralert': 15682, 'lover': 9433, 'ariana': 1292, 'donut': 4847, 'donutlick': 4848, 'caterina': 2917, 'scorson': 13840, 'toback': 15900, 'mindbodi': 10162, 'seafood': 13887, 'russel': 13573, 'simmon': 14338, 'spar': 14749, 'referendum': 12993, 'unfett': 16474, 'whore': 17277, 'sinead': 14351, 'oconnor': 11116, 'overdos': 11400, '3hour': 358, 'deathrow': 4273, 'wahlberg': 16995, 'scholarship': 13801, 'cautious': 2933, 'mutant': 10567, 'aboveground': 620, 'worrisom': 17453, 'usag': 16677, 'prejudic': 12318, 'bungl': 2584, 'hover': 7740, 'magritt': 9574, 'flash': 6041, 'honesti': 7651, '53': 438, 'cuff': 4054, 'risotto': 13352, 'breuer': 2415, 'placement': 11984, 'carv': 2875, 'octopussi': 11121, 'villain': 16877, 'jourdan': 8521, 'powerpoint': 12254, 'peril': 11781, 'weirdo': 17176, 'cupid': 4074, 'masterson': 9778, 'sicili': 14295, 'napl': 10620, 'houdini': 7719, 'mtv': 10480, 'ondemand': 11211, 'pricey': 12381, 'scarv': 13773, 'bestdress': 1934, 'slideshow': 14484, 'tab': 15471, 'feast': 5828, 'leisur': 9124, 'stroll': 15154, 'bakeri': 1623, 'clair': 3292, 'blur': 2186, 'batgirl': 1753, '2028': 215, 'reboot': 12887, 'macaroni': 9526, 'ado': 730, 'shaman': 14125, 'ebook': 5137, 'stomach': 15074, 'opportun': 11256, 'unlimit': 16529, 'crave': 3912, 'pineappl': 11936, 'starbuck': 14954, 'slap': 14448, 'concret': 3605, 'linger': 9263, 'ellipt': 5253, 'loew': 9342, 'cinema': 3260, 'mariel': 9710, 'hemingway': 7436, 'acn': 673, 'dizzi': 4776, 'nausea': 10659, 'clot': 3392, 'slumber': 14515, 'snakepit': 14574, 'allianc': 936, 'urineproof': 16668, 'pee': 11714, 'perp': 11797, 'cannabi': 2769, 'caribbean': 2834, 'ms': 10472, 'allur': 948, 'carniv': 2847, 'cruis': 4019, 'oneal': 11213, 'gunshot': 7068, '78': 520, 'skinni': 14419, '30yearold': 311, 'suffus': 15260, 'antinazi': 1163, 'underton': 16436, 'fume': 6421, 'flynt': 6130, 'condiment': 3611, 'refriger': 13000, 'tomb': 15924, 'mafia': 9562, 'cutesi': 4105, 'healthfoodstor': 7356, 'vitamin': 16918, 'kaminski': 8614, 'scoop': 13832, 'wallet': 17021, 'trench': 16097, 'congreg': 3643, 'lowkey': 9448, 'rodney': 13418, 'weasley': 17137, 'pure': 12617, 'sync': 15454, 'shine': 14197, 'lea': 9065, 'cutout': 4111, 'philippin': 11868, 'rodrigo': 13419, 'dutert': 5065, 'thin': 15749, 'sauc': 13727, 'dawkin': 4229, 'underus': 16437, 'chamber': 3018, 'storag': 15089, 'okcupid': 11169, 'bestdesign': 1933, 'quinci': 12697, 'experiment': 5612, 'seed': 13930, 'pulitz': 12586, 'journal': 8522, 'butler': 2646, 'grandpar': 6880, 'nerv': 10732, 'griev': 6949, 'chaga': 3008, 'gasstat': 6538, '109': 39, 'underp': 16422, 'halfmast': 7141, 'keynot': 8699, 'kool': 8840, 'fedex': 5838, 'marley': 9725, 'distant': 4747, 'reconnect': 12928, 'kat': 8633, 'amok': 1034, 'fountain': 6243, 'simul': 14344, 'outright': 11380, 'hubbl': 7758, 'venu': 16797, 'granni': 6883, 'rebound': 12888, 'sharpli': 14151, '44': 393, 'awri': 1536, 'breakdown': 2387, 'stippleportrait': 15062, 'muzlim': 10574, 'terroist': 15680, 'spraypaint': 14867, 'mob': 10288, 'disneylucasfilm': 4721, 'obamaera': 11073, '20minut': 226, 'postdeb': 12203, 'janna': 8378, 'fatten': 5801, 'doorstep': 4857, 'dusk': 5060, 'till': 15845, 'katherin': 8637, 'heigl': 7409, 'nye': 11056, 'corni': 3786, 'showoff': 14266, 'pallbear': 11521, 'casket': 2886, 'suicidegirlscom': 15266, '24hour': 258, 'orc': 11270, 'honi': 7657, 'sauron': 13733, 'fudgetast': 6400, 'jade': 8349, 'pettyjohn': 11833, 'nickelodeon': 10802, 'sackhoff': 13600, 'straggler': 15102, 'brazen': 2378, 'heist': 7416, 'amber': 1009, 'riley': 13334, 'dive': 4761, 'blearyey': 2117, 'billionth': 2010, 'toucan': 15979, 'kellogg': 8667, 'ankara': 1097, 'jurisprud': 8586, 'fetishist': 5897, 'michigan': 10062, 'jill': 8463, 'stein': 15013, 'asthmat': 1401, 'benadryl': 1886, 'nondrowsi': 10899, 'dart': 4208, 'pella': 11727, 'mlisand': 10281, 'creed': 3935, 'syndic': 15456, 'ghostbust': 6638, 'pumpedup': 12596, 'trumpobama': 16190, 'lowcost': 9441, 'spooktacular': 14848, 'montag': 10370, 'peek': 11716, 'chubbi': 3231, 'muse': 10548, 'backstreet': 1583, 'troup': 16158, '000ahead': 6, 'antipalestinian': 1165, 'incit': 8001, 'nap': 10614, 'immunotherapi': 7941, 'blasio': 2108, 'ici': 7870, 'snowbal': 14603, '9yearold': 592, 'friendship': 6353, 'clay': 3328, 'aiken': 825, 'bojangl': 2232, 'robotrix': 13395, 'fifti': 5927, 'cameo': 2734, 'safari': 13614, 'poacher': 12064, 'stalk': 14929, 'prey': 12376, 'hostil': 7703, 'territori': 15679, 'fieri': 5922, 'typic': 16300, 'hemophiliac': 7438, 'tipper': 15871, 'thumb': 15811, 'interven': 8215, 'crossword': 3995, 'fals': 5734, 'haphazardli': 7218, 'osprey': 11312, 'mud': 10486, 'quadruplet': 12659, 'yale': 17538, 'smack': 14522, 'michalak': 10058, 'yoda': 17577, 'aunt': 1465, 'deede': 4324, 'aykroyd': 1546, 'notr': 10979, 'dame': 4166, 'allan': 919, 'amering': 1025, 'mceneri': 9856, 'yohe': 17581, 'northern': 10956, 'socialist': 14623, 'myung': 10587, 'imperil': 7954, '42': 389, 'brandi': 2364, 'handler': 7193, 'elimin': 5241, 'chatter': 3074, 'elit': 5243, 'interlud': 8201, 'juliu': 8559, 'gremlin': 6936, '1989': 164, 'misus': 10259, 'curriculum': 4087, 'freespirit': 6318, 'antic': 1136, 'wellf': 17185, 'farleft': 5767, 'wondrou': 17409, '67': 483, 'standout': 14944, 'raptur': 12812, 'wreak': 17475, 'havoc': 7310, 'dye': 5078, 'e3': 5091, 'kowtow': 8856, 'rival': 13359, 'croft': 3978, 'penni': 11745, 'wardrob': 17049, 'shithead': 14210, 'nonsens': 10924, 'vladimir': 16928, 'besti': 1935, 'petti': 11830, 'contracept': 3709, 'amish': 1029, 'rumspringa': 13556, 'harper': 7258, 'caretak': 2830, 'brownfac': 2496, 'sylvil': 15445, 'halfempti': 7134, 'colt': 3507, 'aboard': 615, 'gifford': 6650, 'brawni': 2376, 'mutual': 10573, 'ipod': 8261, 'encas': 5324, 'geo': 6608, 'metro': 10038, 'osama': 11302, 'blownoff': 2177, 'teresa': 15667, 'giudic': 6684, 'bluefish': 2180, 'saor': 13703, 'venetian': 16786, 'insuffer': 8170, 'prick': 12382, 'distinctli': 4749, 'cilantro': 3253, 'flop': 6097, 'edison': 5165, 'antisolar': 1175, 'pr': 12258, 'exempt': 5574, 'canada': 2751, 'bench': 1888, 'sweati': 15400, 'thigh': 15746, 'spam': 14745, 'uptod': 16660, 'wahoo': 16996, 'compat': 3562, 'revenu': 13242, 'hindsight': 7533, 'sacramento': 13602, 'elton': 5261, 'camel': 2732, 'marit': 9717, 'bliss': 2135, 'math': 9793, 'custodyrel': 4099, 'hanger': 7206, 'teammat': 15593, 'averi': 1507, 'strategist': 15120, 'omg': 11196, 'vogu': 16936, 'june': 8572, 'squadgoal': 14883, 'goddess': 6759, 'bunni': 2587, 'autopsi': 1494, 'nhl': 10790, 'ewen': 5534, 'cte': 4040, 'childlik': 3153, 'bewar': 1952, 'biomed': 2029, 'snowden': 14605, 'fave': 5807, 'mayweath': 9832, 'manni': 9669, 'pacquiao': 11479, 'fiat': 5910, 'chrysler': 3230, '105': 36, 'fentanyl': 5876, 'harmless': 7254, 'autonom': 1490, 'junki': 8579, 'exhilar': 5584, 'oldest': 11177, 'orgi': 11285, 'partial': 11612, 'burka': 2604, 'niqab': 10844, 'monstrou': 10368, 'conclus': 3603, 'tuft': 16213, 'nutrit': 11041, 'uncondit': 16399, 'loner': 9361, '3time': 372, 'hyundai': 7851, 'mid80': 10079, 'cheesestuf': 3102, 'stagnant': 14920, 'poz': 12256, 'retreat': 13221, 'deleg': 4386, 'background': 1575, 'sylvest': 15443, 'stallon': 14933, 'kendal': 8673, 'someplac': 14671, 'birthplac': 2049, 'terri': 15674, 'mcauliff': 9836, 'archdioces': 1272, 'sinoamerican': 14367, '2011': 199, 'doll': 4820, 'kushner': 8897, 'defensesector': 4352, 'ninja': 10837, 'turtl': 16246, 'bebop': 1812, 'rocksteadi': 13410, 'doorbel': 4855, 'recur': 12943, 'zhang': 17652, 'ziyi': 17665, 'precious': 12283, 'nepal': 10724, 'idd': 7879, '15week': 100, 'souter': 14717, 'aircraft': 840, 'carrier': 2859, 'raven': 12831, 'steeler': 15009, 'grudg': 7000, 'awarde': 1523, 'nic': 10791, 'mccarthi': 9840, 'headi': 7338, 'bum': 2569, 'apprehend': 1242, 'password': 11639, 'combin': 3515, 'withhold': 17380, 'laquan': 8985, 'tarnish': 15553, 'telegraph': 15629, 'puddl': 12576, 'bodili': 2210, 'bankpromot': 1672, 'deaf': 4263, 'rockett': 13404, 'aint': 834, 'postit': 12209, 'ostens': 11314, 'heterosexu': 7471, 'unsightli': 16587, 'groom': 6975, 'momentum': 10332, 'bump': 2573, 'arthur': 1332, 'albaghdadi': 870, 'oxycontin': 11462, 'format': 6220, 'softspoken': 14637, 'hazard': 7321, 'disadvantag': 4650, 'rene': 13110, 'zellweg': 17642, 'dant': 4185, 'virgil': 16899, 'ensembl': 5377, 'interact': 8186, 'alphabet': 966, 'bernic': 1924, 'bigbudget': 1985, 'bipartisan': 2034, 'decoy': 4315, 'boca': 2205, 'raton': 12824, 'badtzmaru': 1602, 'sanrio': 13695, 'substanti': 15227, 'newsroom': 10779, 'buyout': 2663, 'gunn': 7066, 'countrymus': 3851, '1991': 166, 'scourg': 13848, 'henri': 7443, 'rollin': 13436, 'labori': 8912, 'trimest': 16129, 'kilborn': 8732, 'wither': 17378, 'vultur': 16977, 'nauseou': 10660, 'mindanao': 10160, 'disinterest': 4709, 'whammi': 17215, 'limb': 9243, 'conor': 3660, 'walton': 17032, 'contempl': 3696, 'hellerman': 7424, 'weaver': 17141, 'influenti': 8090, 'plummer': 12049, 'vacuum': 16716, 'intact': 8176, 'storylin': 15096, 'werner': 17198, 'herzog': 7467, 'timothi': 15862, 'treadwel': 16080, 'moonwalk': 10384, 'swarthmor': 15393, 'mull': 10500, 'commenc': 3533, 'mangl': 9651, 'starspangl': 14968, 'gonzalez': 6790, 'poni': 12124, '117aerocar': 59, 'pileup': 11923, 'clog': 3378, 'tropospher': 16154, 'roseburg': 13476, 'meldonium': 9948, 'dope': 4861, 'spike': 14809, 'wheelchair': 17227, 'afterschool': 791, 'lobbyistonlawmak': 9324, 'comparison': 3560, 'cleopatra': 3344, '2525': 263, 'retriev': 13224, 'counsel': 3837, 'phonemak': 11879, 'lighten': 9227, 'overwhelm': 11449, 'dedic': 4320, 'indepth': 8029, 'martha': 9743, 'harpi': 7259, 'crostini': 3996, 'compos': 3581, 'ucsf': 16316, 'benioff': 1902, 'cosmic': 3812, 'statewid': 14983, 'robertson': 13389, 'mandat': 9639, 'coax': 3424, 'thug': 15810, 'grabbi': 6854, 'snub': 14611, 'meka': 9942, 'waterston': 17101, 'ronald': 13453, 'embodi': 5280, 'excop': 5567, 'deemphas': 4326, 'obedi': 11075, 'oneamonth': 11214, 'megadonor': 9932, 'ankl': 1098, 'clueless': 3400, 'fleek': 6063, 'peach': 11701, 'monroe': 10365, 'marti': 9745, 'asham': 1351, 'skittl': 14426, 'airlift': 842, 'tucker': 16211, 'rous': 13503, 'mummifi': 10525, 'deadliest': 4256, 'jazeera': 8397, 'bunk': 2585, 'overtur': 11445, 'default': 4346, 'browser': 2500, 'jacki': 8341, 'haaz': 7093, 'sleiman': 14475, 'plo': 12037, 'krippendorf': 8868, 'locht': 9333, 'fib': 5911, '156': 91, 'sugar': 15261, 'kamikaz': 8613, '3pointer': 367, 'excess': 5554, 'corros': 3801, 'gaug': 6547, 'populac': 12147, 'handmad': 7194, 'dionn': 4627, 'warwick': 17077, 'bobbi': 2202, 'assess': 1386, 'booth': 2282, 'clearhead': 3338, 'reactionist': 12849, 'perman': 11790, 'hitech': 7561, 'veggi': 16775, 'itll': 8318, 'eater': 5130, 'foreman': 6198, 'phonesex': 11880, 'cent': 2977, 'wiretap': 17365, 'centuriesold': 2983, 'palmer': 11525, 'cofound': 3454, '69': 485, 'qa': 12648, 'postberni': 12200, 'multicultur': 10504, 'manifesto': 9662, 'wanna': 17040, 'scuba': 13875, 'ty': 16291, 'herndon': 7457, 'focus': 6137, 'rhymezonecom': 13285, 'jihad': 8460, 'oriol': 11289, 'homeschool': 7633, 'nook': 10940, 'boutiqu': 2327, 'dent': 4439, 'critter': 3972, 'hippi': 7539, 'elus': 5262, 'picturedisc': 11911, 'herb': 7447, 'alpert': 964, 'whip': 17244, 'delight': 4393, 'brows': 2499, 'confisc': 3630, 'xtreme': 17530, 'saltassault': 13654, 'saltin': 13655, 'grew': 6940, 'akon': 860, 'croni': 3979, 'leagu': 9071, 'ballplay': 1642, 'revolutionari': 13259, 'fisherpric': 6008, 'utero': 16701, 'fetal': 5893, 'whirlwind': 17246, 'printondemand': 12407, 'norman': 10951, 'shonda': 14225, 'rhime': 13278, 'epix': 5422, 'oblig': 11084, 'compens': 3565, 'besid': 1930, 'celin': 2961, 'dion': 4626, 'goblet': 6754, 'weekley': 17158, 'duel': 5020, 'clarkson': 3312, 'atroc': 1429, 'flyer': 6127, 'squiggli': 14897, 'tb': 15582, 'nielsen': 10810, 'dekker': 4380, 'postballet': 12199, 'bittersweet': 2067, 'maitr': 9595, 'hostess': 7702, 'everlast': 5515, 'despond': 4504, 'outsmart': 11383, 'populist': 12150, 'hewn': 7472, 'blot': 2169, 'olin': 11183, 'juvenil': 8592, 'altruism': 985, 'forum': 6231, 'malnutrit': 9625, 'shoeshar': 14224, 'pedestrian': 11710, 'chinaperson': 3167, 'lewinski': 9175, 'lowtraff': 9453, 'sawedoff': 13745, 'shotgun': 14251, 'transmut': 16057, 'bless': 2122, 'verdugo': 16802, 'multin': 10512, 'hermion': 7454, 'sophi': 14694, 'firstlook': 5993, 'xmen': 17528, 'phoenix': 11877, 'pudgi': 12577, 'rosi': 13482, 'cheek': 3091, 'chocol': 3192, 'grenad': 6937, 'divert': 4765, 'pointi': 12082, 'shoe': 14222, 'momentarili': 10331, 'gellar': 6582, 'buffi': 2540, 'hagar': 7107, 'speedlimit': 14789, 'comfier': 3526, 'judi': 8539, 'dench': 4426, 'spit': 14823, 'wtf': 17506, 'elia': 5239, 'kotea': 8852, 'olinski': 11184, 'pd': 11698, 'coyot': 3888, 'canva': 2784, 'precoci': 12286, 'senseless': 14022, 'emmett': 5298, 'mi': 10049, '1squareinch': 179, 'hale': 7125, 'veep': 16770, 'smolder': 14557, 'geod': 6609, 'feedback': 5845, 'harriet': 7263, 'tubman': 16209, 'polli': 12110, 'zehnderswad': 17640, 'unwind': 16622, 'prevail': 12371, 'emoji': 5300, 'torment': 15959, 'ration': 12822, 'properli': 12492, 'untest': 16606, 'handmaid': 7195, 'where': 17232, 'faction': 5697, 'sampl': 13670, 'beneficiari': 1896, 'downtown': 4909, 'rabbi': 12708, 'dolphin': 4825, 'type2': 16296, 'sleeper': 14468, 'strengthen': 15133, 'cantmiss': 2781, 'noteworthi': 10971, 'westboro': 17201, 'baptist': 1683, 'arbu': 1263, 'superbug': 15300, 'baboonfac': 1558, 'raspberri': 12817, 'berrilici': 1927, 'nonsharkrel': 10926, 'unjustifi': 16519, 'chappel': 3043, 'acclaim': 654, 'len': 9131, 'chum': 3235, 'toxicwast': 16002, 'byproduct': 2674, 'sheila': 14171, 'korman': 8846, 'uninform': 16503, 'nicola': 10807, 'cage': 2701, 'cleanshaven': 3333, 'tuxedo': 16253, 'nailbit': 10604, 'piazza': 11897, 'cavalleria': 2935, 'rusticana': 13580, 'pagliacci': 11493, 'pedophilia': 11713, 'simpler': 14341, 'entertainmenthistori': 5385, 'buff': 2534, 'drugresist': 4986, 'often': 11154, 'sandbox': 13681, 'blanket': 2106, 'bodyguard': 2212, 'asylumseek': 1413, 'cornyn': 3788, 'innovest': 8130, 'rackspac': 12727, '58': 452, '23yearold': 254, '94th': 578, 'violat': 16891, 'kessler': 8692, 'pipewield': 11953, 'eighth': 5198, 'bignam': 1991, 'gaffer': 6470, 'miniatur': 10177, 'panafrican': 11535, 'deadey': 4253, 'nonhumili': 10906, 'consist': 3675, 'ark': 1298, 'coven': 3871, 'basket': 1737, 'bath': 1754, 'nonstart': 10929, 'paperwork': 11570, 'telemarket': 15630, 'awash': 1526, 'antilgbt': 1156, 'photoshop': 11889, 'fart': 5777, 'typo': 16301, 'nj': 10854, 'inescap': 8065, 'pitchblack': 11969, 'dinizio': 4618, 'ladl': 8928, 'eucharist': 5492, 'temperatur': 15643, 'sunni': 15292, 'fallujah': 5733, 'portray': 12183, 'blacklight': 2086, 'decrimin': 4319, 'jake': 8356, 'tapper': 15543, 'kellyann': 8668, 'conway': 3731, 'mc': 9834, 'lyte': 9522, 'wikipedia': 17303, 'seethrough': 13937, 'obvi': 11100, 'episcopalian': 5419, 'pompeo': 12117, 'disqualifi': 4737, 'jcpenney': 8401, '45second': 402, 'reuben': 13230, 'misti': 10254, 'upham': 16636, 'laport': 8982, 'selfhelp': 13974, 'fatigu': 5799, 'pint': 11946, 'sanit': 13693, 'topless': 15954, 'waxwork': 17111, 'org': 11281, 'pocahonta': 12065, 'navajo': 10661, 'sandra': 13687, 'bland': 2103, 'd23': 4136, 'sanderson': 13684, 'digit': 4595, 'stationari': 14986, 'hypocrit': 7844, 'susten': 15380, 'trumplethinskin': 16188, 'whatshisfac': 17220, '330': 322, 'underreport': 16426, 'teethmark': 15625, 'battersbi': 1763, 'decadesold': 4291, 'hymn': 7837, 'apocalypto': 1213, 'tenant': 15653, 'minni': 10196, '14word': 84, 'cranberri': 3904, 'laptop': 8984, 'indulg': 8054, 'forbidden': 6185, 'pleasur': 12029, '6sentenc': 493, 'smoothli': 14561, 'raffl': 12742, 'uneduc': 16459, 'outbreed': 11341, 'intelligentsia': 8182, '2to1': 296, 'dropoff': 4973, 'conveni': 3719, 'defraud': 4367, 'forprofit': 6225, 'budweis': 2532, 'lager': 8935, 'tavern': 15572, 'driven': 4960, 'swine': 15423, 'proswineflu': 12509, 'trayvon': 16077, 'errat': 5456, 'animatron': 1094, 'friendlyfir': 6352, 'pollster': 12111, 'asu': 1410, 'gsv': 7007, 'insecur': 8139, 'inde': 8022, 'embellish': 5278, 'macklemor': 9542, 'clever': 3348, 'hgtv': 7478, 'toothpick': 15949, 'tester': 15690, 'perpetu': 11799, 'painstak': 11499, 'advent': 744, 'croak': 3973, 'betelgeus': 1943, 'supernova': 15317, 'bombard': 2245, 'scottish': 13845, 'pavel': 11676, 'durov': 5058, 'solitari': 14654, 'confin': 3628, 'borneo': 2291, 'shipwreck': 14203, 'littleknown': 9295, 'buncha': 2579, 'crunch': 4024, 'rever': 13243, 'unsettl': 16585, 'godmoth': 6761, 'maralago': 9689, 'treesu': 16091, 'microaggress': 10066, 'earnhardt': 5106, 'breakup': 2396, 'boweri': 2329, 'collar': 3479, 'outcrop': 11346, 'latenight': 9012, 'schiavo': 13785, 'geithner': 6580, 'dome': 4826, 'blitzer': 2140, 'midway': 10107, 'gag': 6471, 'deflect': 4365, 'stylish': 15195, 'mediasavvi': 9908, 'exhostag': 5585, 'tvnew': 16256, '39': 350, 'guzman': 7080, 'narrowli': 10633, 'bitten': 2064, 'radioact': 12736, 'sloth': 14502, 'lyingaroundallday': 9511, 'wearabl': 17132, '102': 32, 'maim': 9586, 'eccentr': 5138, 'cyndi': 4128, 'lauper': 9033, 'colgat': 3472, 'grout': 6991, 'flatiron': 6049, 'exil': 5587, 'menstruat': 9980, 'hr': 7751, 'mickey': 10065, 'rib': 13288, 'dermatologist': 4478, '3dprint': 355, 'catalan': 2902, 'amplifi': 1040, 'protract': 12519, 'neckhol': 10694, 'ridehail': 13314, 'noun': 10985, 'resigh': 13183, 'louder': 9415, 'aztec': 1554, 'katw': 8647, 'cheeseburgerstuf': 3098, 'glaze': 6708, 'undu': 16453, 'clinic': 3366, 'aquarium': 1251, 'lectur': 9093, 'ecosystem': 5152, 'unsarah': 16579, 'cpac': 3890, 'handsoff': 7199, 'inhal': 8107, 'lycra': 9507, 'bodysuit': 2218, 'goldi': 6777, 'hawn': 7315, '259': 265, 'gummi': 7055, 'furi': 6438, 'scope': 13835, 'alfr': 899, 'hitchcock': 7559, '10year': 48, 'reclin': 12919, 'eventu': 5510, 'watchman': 17090, 'leno': 9140, 'arthampton': 1329, 'appelhof': 1226, 'maidston': 9581, 'falluja': 5732, 'donba': 4840, 'code': 3446, 'vehement': 16776, 'kinki': 8754, 'lawn': 9044, '46': 405, 'gleeful': 6711, 'mckinnon': 9864, 'kurdi': 8891, 'albin': 875, 'dispel': 4728, 'zsa': 17677, 'eva': 5499, 'gabor': 6462, 'collector': 3483, 'alison': 914, 'sweeney': 15407, 'fugoo': 6404, 'methan': 10032, 'rollback': 13433, 'rapaport': 12804, 'motherfk': 10425, 'ava': 1497, 'duvernay': 5068, 'cara': 2803, 'delevingn': 4389, 'paparazzo': 11567, 'kam': 8611, 'chancellor': 3026, 'unkempt': 16520, 'copycat': 3761, 'mimic': 10156, 'liquor': 9281, 'robberi': 13383, '1822': 124, 'huang': 7754, 'asianamerican': 1363, 'flatout': 6051, 'mileag': 10130, 'ufc': 16320, 'hitandrun': 7557, 'eden': 5159, 'bayle': 1776, 'sunset': 15296, 'ayesha': 1545, 'receipt': 12903, 'rees': 12985, 'witherspoon': 17379, 'jcrew': 8402, 'ewan': 5533, 'mcgregor': 9860, 'beast': 1798, 'chickenonchicken': 3141, 'hobbi': 7573, 'tyrann': 16304, 'yoke': 17582, '2010': 198, 'mustang': 10559, 'faux': 5806, 'pa': 11472, '75': 511, 'blowout': 2178, 'finland': 5964, 'polka': 12107, 'loeffelmach': 9340, 'kukor': 8884, 'inkjet': 8119, 'possess': 12191, 'thirdperson': 15761, 'omnisci': 11202, 'houghton': 7721, 'mifflin': 10113, 'harcourt': 7231, 'leatherbound': 9084, 'roth': 13492, 'typhoon': 16299, 'meranti': 9992, 'mayhem': 9826, 'consider': 3674, 'somer': 14672, 'thighmast': 15747, '1915': 139, 'hershey': 7465, 'cram': 3902, 'maw': 9811, 'grooviest': 6978, 'mummi': 10524, 'snyder': 14613, 'prank': 12265, 'slush': 14519, 'tweeter': 16262, 'loav': 9320, 'pewter': 11836, 'orgasm': 11284, 'gorton': 6825, '103': 33, 'oncehomeless': 11208, 'oversea': 11431, 'grim': 6954, 'reaper': 12871, 'mighti': 10115, 'vengeanc': 16788, 'infidel': 8079, 'jewel': 8447, 'mindboggl': 10163, 'optic': 11261, 'lean': 9075, 'balconi': 1626, 'zinnia': 17658, 'doubletre': 4882, 'resort': 13189, 'nudg': 11015, 'incorpor': 8014, 'spew': 14798, 'sewag': 14080, 'ashcroft': 1353, 'frolic': 6367, 'winniethepooh': 17350, 'tobaccoindustri': 15899, 'treatabl': 16084, 'thunderbird': 15815, 'mosqu': 10415, 'dialogu': 4559, 'roadmap': 13373, 'eiffel': 5196, 'zenzing': 17646, 'precari': 12279, 'czech': 4135, 'postpregn': 12219, 'menswear': 9982, 'marcher': 9697, 'permit': 11793, 'survivalist': 15369, 'emperor': 5307, 'smelt': 14544, 'luck': 9468, 'relev': 13067, 'undercurr': 16410, 'roil': 13427, 'beneath': 1893, '50stheme': 431, 'babysitt': 1563, 'susan': 15371, 'untoward': 16611, 'cricket': 3953, 'herointown': 7462, 'jersey': 8433, '4thlargest': 421, '643': 476, '457': 401, 'tamp': 15522, 'toffe': 15910, 'exgay': 5578, 'idf': 7885, 'incap': 7989, 'flatten': 6052, 'backpack': 1578, 'toyota': 16004, 'eight': 5197, 'cocoa': 3441, 'frederick': 6305, 'douglass': 4891, 'deray': 4472, 'mckesson': 9862, 'downhil': 4901, 'middleschool': 10088, 'braill': 2354, 'scent': 13782, 'unfit': 16477, 'enchant': 5325, 'concess': 3600, 'dian': 4561, 'sawyer': 13746, 'primal': 12389, 'supremaci': 15341, 'defin': 4361, 'paleontolog': 11516, 'composit': 3582, 'afeni': 763, 'shakur': 14118, 'snicker': 14592, 'leaflet': 9070, 'tack': 15479, 'whitewat': 17260, 'raft': 12743, '1st': 180, 'burial': 2602, 'shroud': 14277, 'mara': 9688, 'tomskeegan': 15931, 'lift': 9225, 'estim': 5477, 'shriver': 14276, 'hindu': 7534, 'workingclass': 17436, 'archbishop': 1271, 'drove': 4978, 'exaid': 5542, 'airborn': 838, 'antibioticresist': 1133, 'dutch': 5064, 'antidefam': 1139, 'environmentalist': 5408, 'solarpow': 14644, 'rotat': 13491, 'demon': 4420, 'antiqu': 1167, 'wicker': 17281, 'furnitur': 6441, 'malibu': 9618, 'ireport': 8271, 'gillespi': 6659, 'artisan': 1337, 'jan': 8370, 'bridesmaid': 2430, 'etsi': 5489, 'bulletin': 2562, 'kritzer': 8874, 'teal': 15589, 'wick': 17280, 'qaeda': 12650, 'uncov': 16405, '1999': 174, 'carlo': 2840, 'santana': 13699, 'popey': 12141, 'boigler': 2227, 'bobsledd': 2204, 'nadezhda': 10599, 'sergeeva': 14050, 'wilmot': 17327, 'proviso': 12531, 'fanfavorit': 5748, 'calf': 2715, 'cramp': 3903, 'fergi': 5878, 'shelv': 14180, 'cope': 3755, 'bernadett': 1920, 'crest': 3945, 'toothpast': 15948, 'byrn': 2676, 'cannaval': 2770, 'hey': 7473, 'volum': 16953, 'secretli': 13920, 'patrol': 11663, 'isislink': 8292, 'retri': 13222, 'menendez': 9973, 'discours': 4678, 'flapper': 6039, 'devin': 4537, 'mccourti': 9847, 'deliveryman': 4398, 'hitman': 7563, 'blaster': 2110, 'diploma': 4632, '8th': 557, 'uninterest': 16509, 'devote': 4543, 'ihop': 7902, 'syrup': 15465, 'pancak': 11538, 'behav': 1851, 'schneiderman': 13797, 'rickl': 13306, 'autoerot': 1485, 'asphyxi': 1374, 'panti': 11559, 'shittiest': 14214, 'unwant': 16617, 'cuisin': 4055, 'techsupport': 15610, 'aris': 1295, 'feisti': 5856, 'alexand': 893, 'schnook': 13798, 'chunk': 3238, 'datadriven': 4218, 'thorp': 15776, 'sleek': 14464, 'redesign': 12958, 'tacit': 15478, 'cluster': 3403, 'nothing': 10973, 'starletview': 14962, 'endofepisod': 5344, 'piano': 11896, 'doortodoor': 4859, 'hijack': 7521, 'conservat': 3671, 'corridor': 3799, 'powerless': 12252, '360degre': 339, 'panorama': 11552, 'martian': 9747, 'dune': 5045, 'haddish': 7102, 'bjrk': 2071, 'chechen': 3083, 'strongman': 15162, 'excedrin': 5549, 'aguilera': 815, 'endless': 5342, 'catcher': 2911, 'rye': 13588, 'kiyoko': 8779, 'straightup': 15106, 'powerpl': 12253, 'lunchbox': 9493, 'steadi': 14998, 'farther': 5778, 'andi': 1069, 'mientu': 10112, 'cranston': 3907, 'dredg': 4946, 'nonraci': 10920, 'dell': 4399, 'linemans': 9259, 'hitler': 7562, 'suspiciouslook': 15378, '6yearold': 496, 'divis': 4769, 'dryclean': 4997, 'dug': 5023, 'prehistor': 12314, 'uc': 16314, 'berkeley': 1913, 'potti': 12237, 'hyster': 7849, 'overreport': 11428, 'pleasantli': 12027, 'cub': 4043, 'makeov': 9602, 'dj': 4777, 'bourbon': 2324, 'awhil': 1532, 'twa': 16257, 'romper': 13451, 'porcupin': 12154, 'rockatanski': 13399, 'nux': 11048, 'antarct': 1119, 'checklist': 3086, 'belatedli': 1867, 'swordfish': 15436, 'zinger': 17655, 'plop': 12038, 'vday': 16767, 'flower': 6111, 'vase': 16757, 'rave': 12830, 'uppermiddleclass': 16646, 'whcd': 17222, 'categori': 2915, 'miniwheat': 10191, 'nickel': 10800, 'highris': 7511, 'ecuador': 5156, 'zealand': 17635, 'scholar': 13800, 'stemcel': 15016, 'snarl': 14584, 'viciou': 16847, 'badger': 1597, 'mantel': 9675, 'slovenian': 14505, 'nullifi': 11022, 'selma': 14005, 'penelop': 11738, 'disick': 4704, 'duo': 5051, 'shootout': 14230, 'missiondriven': 10244, '160': 103, 'worstev': 17458, 'frothmouth': 6378, 'grandchildren': 6871, 'flay': 6059, 'southwestern': 14724, 'demo': 4412, 'buffer': 2536, 'monkey': 10356, 'gardner': 6517, 'needl': 10701, 'arn': 1310, 'ufo': 16321, 'transcript': 16042, 'ix': 8333, 'boot': 2281, 'longclos': 9365, 'nipsey': 10843, 'couplet': 3857, 'nash': 10637, 'mathematician': 9795, 'uptight': 16659, 'matron': 9800, 'uboat': 16313, 'houthi': 7739, 'runway': 13565, 'slash': 14450, 'muham': 10496, 'nasalspray': 10635, 'naloxon': 10607, 'patagonia': 11645, 'highperform': 7505, 'wearer': 17133, 'clapton': 3303, 'ossifi': 11313, 'sephora': 14034, 'vib': 16837, 'custard': 4096, 'flandem': 6035, 'mumbai': 10521, 'tighten': 15839, 'silvio': 14336, 'berlusconi': 1917, 'plussiz': 12056, 'ashley': 1355, 'wealth': 17125, 'republicanauthor': 13160, 'fisa': 6000, 'invert': 8242, 'supercut': 15301, 'hatefil': 7298, 'vcr': 16766, 'grisli': 6967, 'jaguar': 8350, 'raider': 12754, 'postseason': 12224, 'buster': 2641, 'bluth': 2189, 'cryosleep': 4031, 'glade': 6695, 'meadow': 9876, 'notabl': 10966, 'shoutout': 14256, 'shareholdaz': 14141, 'militia': 10136, 'misdemeanor': 10219, 'easton': 5122, 'gavel': 6551, 'victor': 16850, 'hugo': 7774, 'lunchabl': 9492, 'leah': 9073, 'remini': 13094, 'scientolog': 13821, 'cinco': 3258, 'mayo': 9828, 'eject': 5207, 'bloomberg': 2165, 'portabl': 12169, 'thiel': 15743, 'gawker': 6554, 'overinfl': 11414, 'sternli': 15033, 'microphon': 10071, 'homosexualist': 7647, 'takeov': 15502, 'everyday': 5517, '10step': 45, 'radiu': 12739, 'den': 4425, 'della': 4400, 'briar': 2424, 'patch': 11647, '24yearold': 260, 'bookstor': 2273, 'egger': 5187, '33': 321, 'frenchi': 6328, 'vaulter': 16764, 'flume': 6118, 'cracker': 3895, 'taxi': 15578, 'deadlier': 4255, 'logic': 9347, 'redefinit': 12955, 'sudan': 15252, 'darfur': 4196, 'amnesti': 1032, 'crosbi': 3983, 'dwarven': 5071, 'blacksmith': 2091, 'firstgener': 5991, 'balvin': 1648, 'retrocraz': 13226, 'vagu': 16720, '400th': 377, 'postprimari': 12220, 'protein': 12514, 'wheelbarrow': 17226, 'tgi': 15703, 'sleaterkinney': 14462, 'fireplac': 5981, 'hackathon': 7099, 'atlant': 1420, 'cereal': 2988, 'gateway': 6542, 'verg': 16803, 'cocki': 3433, 'ageist': 800, 'sheepish': 14165, 'cleaner': 3331, 'parkinson': 11601, 'baker': 1622, 'firstamend': 5987, 'prowhit': 12535, 'antinobodi': 1164, 'subscriptionbas': 15221, 'colossu': 3506, 'folli': 6151, 'hurdl': 7808, 'coatless': 3423, 'mushroom': 10551, 'meatloaf': 9896, 'suitcas': 15269, 'prebiot': 12278, 'katehi': 8636, 'label': 8908, 'louisiana': 9423, 'classiest': 3319, 'mre': 10470, 'gubernatori': 7022, 'tone': 15933, 'swizz': 15432, 'beatz': 1806, 'kehlani': 8661, 'houston': 7738, 'astonish': 1402, 'unauthor': 16370, 'josh': 8516, 'ritter': 13356, 'olivia': 11186, 'munn': 10534, 'dumbledor': 5037, 'rerun': 13167, 'umpir': 16353, 'finalist': 5949, 'iditarod': 7888, 'khan': 8709, 'pistoriu': 11964, 'be': 1785, 'listerin': 9286, 'gel': 6581, 'comb': 3513, 'ccd': 2944, 'flexibl': 6072, 'dismay': 4716, 'encrypt': 5332, 'intercept': 8187, 'gaetz': 6468, 'sheet': 14168, 'rupert': 13568, 'murdoch': 10541, 'thorough': 15774, 'yammer': 17542, 'tombston': 15926, 'protagonist': 12510, 'maul': 9808, 'horn': 7682, 'superbl': 15299, 'calvin': 2724, 'ugliest': 16326, 'thinker': 15753, 'blindfold': 2128, 'custodian': 4098, 'yahoo': 17536, 'quaid': 12661, 'intersect': 8213, 'kalief': 8610, 'browder': 2493, 'chaka': 3013, 'lyne': 9515, 'carrington': 2860, 'fetish': 5896, 'photographi': 11886, 'helmut': 7432, 'kohl': 8830, 'brisket': 2447, 'bbq': 1783, 'fest': 5889, 'pinup': 11949, 'glam': 6699, 'readjust': 12855, 'se': 13882, 'cupp': 4075, 'enemi': 5351, 'internation': 8204, 'personnel': 11807, 'untold': 16610, 'antonin': 1184, 'keaton': 8654, 'unsolv': 16592, 'tupac': 16229, 'notori': 10978, 'ridley': 13319, 'blackey': 2081, 'cougar': 3828, 'farmwork': 5772, 'facto': 5698, 'iftar': 7895, 'endofschool': 5345, 'ricci': 13293, 'belli': 1877, 'unpaus': 16549, 'bro': 2457, 'chore': 3207, 'radiant': 12732, 'committ': 3543, '59': 454, 'unreason': 16567, 'capn': 2794, 'brotherinlaw': 2487, 'metaphor': 10026, 'portlandia': 12179, 'mra': 10469, 'hearttoheart': 7376, 'fifthgrad': 5925, 'inth': 8218, 'tpp': 16006, 'bloodsh': 2159, 'photoshoot': 11888, 'apu': 1249, 'biker': 1996, 'macaskil': 9528, 'townsfolk': 15998, 'incarn': 7991, 'sensat': 14020, 'rentcom': 13124, 'reinc': 13038, 'priebu': 12384, 'workforc': 17435, 'deck': 4305, 'jongil': 8509, 'outlier': 11362, 'fog': 6140, 'whiskey': 17249, 'hing': 7535, 'vanilla': 16744, 'coke': 3462, 'certainli': 2994, 'antoni': 1183, 'porowski': 12164, 'hane': 7204, 'tabasco': 15472, 'nytimescom': 11063, 'fey': 5905, 'poehler': 12073, 'recollect': 12924, 'lob': 9321, 'sexposit': 14089, 'minter': 10200, 'glitter': 6720, 'gunk': 7063, 'stalem': 14927, 'discreetli': 4682, 'trail': 16026, 'segment': 13939, 'cocain': 3429, 'overhead': 11411, 'unintent': 16508, 'culinari': 4056, 'abomin': 617, 'helplessli': 7435, 'collud': 3491, 'stingi': 15059, 'agenc': 801, 'spongebob': 14840, 'pineappleshap': 11937, 'villa': 16875, 'punta': 12608, 'cana': 2750, 'reckless': 12915, 'irrespons': 8285, 'obey': 11078, 'tirad': 15874, 'occas': 11105, 'antibodi': 1134, 'dew': 4547, 'foolishli': 6171, 'entrust': 5401, 'collegeag': 3485, 'straw': 15121, 'dadpop': 4145, '49': 410, 'persecut': 11802, 'hygien': 7834, 'differenti': 4588, 'selfdescrib': 13967, 'avid': 1511, 'halfway': 7148, 'dragonrid': 4919, 'pern': 11795, 'millionth': 10151, 'cheech': 3090, 'smokin': 14556, 'merv': 10011, 'jiffi': 8457, 'lofti': 9344, 'width': 17291, 'driveway': 4965, 'widen': 17286, 'proper': 12491, 'fleetingli': 6065, 'clingi': 3365, 'ne': 10678, 'ajit': 857, 'pai': 11495, 'blare': 2107, 'frontrunn': 6373, '10side': 44, 'woodcut': 17416, 'wax': 17110, 'deviat': 4534, 'statistician': 14988, 'pizzadeliveri': 11980, 'moustach': 10450, 'crosshair': 3990, 'soulless': 14710, 'cordless': 3770, 'bias': 1968, 'brexit': 2420, 'ashanti': 1352, 'mockument': 10297, 'tilt': 15848, 'lapel': 8980, 'midwif': 10110, 'tabloid': 15476, 'erik': 5446, 'estrada': 5478, 'boldli': 2235, 'fluster': 6122, 'adjac': 715, 'hoosier': 7667, 'nader': 10597, '747': 510, 'collis': 3490, 'legionnair': 9114, 'kemper': 8671, 'selfimmol': 13978, 'noisili': 10871, 'devour': 4544, 'dow': 4894, 'liveri': 9304, 'mountaintop': 10443, 'maharishi': 9575, 'rupe': 13567, 'doubleentendr': 4879, 'scrutini': 13874, 'yearn': 17558, '45yearold': 404, 'klemk': 8783, 'stump': 15183, 'moscow': 10413, 'lament': 8951, 'rosario': 13473, 'congressmen': 3649, 'fiona': 5966, 'nest': 10736, 'thirdround': 15762, 'succul': 15245, 'plausibl': 12010, 'deniabl': 4431, 'catcal': 2909, 'dangelo': 4179, 'kobe': 8823, 'uh': 16327, 'orphan': 11295, 'dimon': 4612, 'relentless': 13066, 'desir': 4495, 'thrust': 15808, 'maelstrom': 9561, 'harrison': 7265, 'neapolitan': 10680, 'girlongirl': 6679, 'dentist': 4442, 'unpredict': 16556, 'punniest': 12606, 'lightsoff': 9234, 'sevenfoottal': 14071, 'rodent': 13414, 'zucker': 17678, 'billiard': 2006, 'christmasinspir': 3222, 'blige': 2124, 'tune': 16226, 'inuit': 8236, 'mo': 10285, 'emp': 5304, 'subsidiari': 15225, 'kraft': 8860, 'crucifix': 4010, 'righttokil': 13329, 'righttodi': 13328, 'keen': 8658, 'twing': 16273, 'traction': 16013, 'antiflood': 1147, 'studenttutor': 15176, 'startl': 14972, 'mecca': 9899, 'undiscov': 16448, 'nastier': 10645, 'presumpt': 12362, '4year': 422, 'hibern': 7481, 'unseat': 16584, 'newsweek': 10780, 'franco': 6273, 'infest': 8078, 'portal': 12170, 'bagel': 1608, 'antismok': 1173, 'molt': 10326, 'smallspac': 14529, 'softwar': 14638, 'frontman': 6372, 'styx': 15198, 'mp': 10464, 'taro': 15554, 'kono': 8838, 'embark': 5273, 'willard': 17316, 'laker': 8943, 'midgam': 10093, 'detox': 4525, 'lander': 8961, 'flavorless': 6056, 'aspir': 1375, 'elitist': 5244, 'woundup': 17468, 'snore': 14601, 'lengthi': 9136, 'forbear': 6184, 'distanc': 4746, 'slater': 14452, 'stopandfrisk': 15087, 'ozzi': 11470, 'osbourn': 11303, 'fivepound': 6018, 'expans': 5600, 'firstterm': 5996, 'roadblock': 13372, 'auction': 1449, 'conglomer': 3638, 'transpacif': 16059, 'impli': 7958, 'ecoconsci': 5146, 'synergi': 15458, 'headon': 7343, 'crunchi': 4025, 'gooey': 6800, 'intoler': 8223, 'warranti': 17069, 'blink': 2134, 'wanderlust': 17039, 'ope': 11243, 'lightli': 9230, 'proindepend': 12466, 'vma': 16930, 'subsidi': 15224, 'tj': 15886, 'maxx': 9817, 'slather': 14453, 'paxton': 11685, 'sack': 13599, 'babylon': 1560, '539': 442, 'bc': 1784, 'glori': 6727, 'dissent': 4745, 'aniston': 1096, 'sht': 14280, 'atm': 1422, 'spanish': 14747, 'backfir': 1573, 'copar': 3754, 'williamsburg': 17320, 'reinvent': 13047, 'sexiest': 14085, 'dominican': 4833, 'monetari': 10345, '14yearold': 86, 'whiz': 17265, 'nemesi': 10718, 'univis': 16518, 'easytear': 5126, 'perfor': 11778, 'scoggin': 13827, 'cadillac': 2693, 'poprock': 12143, 'hardwir': 7246, 'wonk': 17411, 'shtick': 14281, 'creatur': 3931, 'euphem': 5494, 'dukaki': 5027, '1988': 163, 'lookalik': 9382, 'disquiet': 4738, 'sherwinwilliam': 14188, 'triumphantli': 16142, 'reminisc': 13095, 'colombia': 3495, 'midst': 10103, 'preparti': 12337, 'botanist': 2303, 'botani': 2302, 'youngest': 17598, 'steam': 15005, 'jarvi': 8387, 'dispens': 4729, 'haunted': 7307, 'transmit': 16056, 'rampant': 12783, 'enterpris': 5383, 'loophol': 9387, 'grassroot': 6893, 'fx': 6453, 'oldperson': 11180, 'maniac': 9657, 'shipyard': 14204, 'yanke': 17545, 'affili': 767, 'coincid': 3461, 'silliest': 14331, 'everyman': 5518, '1996': 171, 'reintegr': 13045, 'asexu': 1348, 'erivo': 5449, 'anaconda': 1050, 'rembrandt': 13089, 'sticki': 15044, 'lubitz': 9463, 'stigmat': 15047, 'railroad': 12756, 'mistress': 10255, 'stapl': 14949, 'nurseri': 11034, 'drew': 4950, 'bree': 2405, 'overnight': 11420, 'erika': 5447, 'christensen': 3216, 'maness': 9647, 'grad': 6857, 'frosti': 6376, 'wonderland': 17407, 'chimp': 3163, '32yearold': 320, 'lactos': 8922, 'infecti': 8075, 'pork': 12155, 'defici': 4359, 'retold': 13219, 'dumbfound': 5036, 'indecis': 8023, 'minson': 10198, '1948': 150, 'apartheid': 1202, 'clinch': 3363, 'attitud': 1441, 'pantyhos': 11562, 'rack': 12725, 'kmart': 8790, 'wobbl': 17392, 'experienc': 5611, 'wack': 16982, 'deepstat': 4336, 'treasuri': 16082, 'eritrean': 5448, 'martini': 9749, 'puke': 12585, 'jewmerica': 8451, 'panhandl': 11546, 'quarter': 12672, 'gig': 6652, 'rapist': 12809, 'aloft': 955, 'delta': 4403, 'discount': 4676, 'impart': 7946, 'trumpbacktoschooltip': 16175, 'preciou': 12282, 'cap': 2787, 'silverman': 14334, 'emptier': 5318, 'wolv': 17399, 'unscientif': 16581, 'uneth': 16464, 'inhuman': 8112, 'lowcut': 9442, 'chiropractor': 3180, 'vertebra': 16817, 'resuscit': 13208, 'lowsodium': 9452, 'zagat': 17616, 'ebay': 5133, 'matur': 9807, 'surmis': 15357, 'heartach': 7366, 'buckingham': 2524, 'hyland': 7836, 'kansa': 8616, 'chosen': 3210, 'perjuri': 11785, 'marcel': 9694, 'duchamp': 5008, 'squat': 14889, 'zebra': 17636, 'mixedrac': 10274, 'selig': 14001, 'lili': 9241, 'michelin': 10061, 'halffabr': 7135, 'rsum': 13525, 'stoplight': 15088, 'overshadow': 11432, 'waffl': 16990, 'chan': 3024, 'blooper': 2167, 'jakob': 8357, 'songwrit': 14679, 'porch': 12153, 'cede': 2954, 'coollook': 3744, 'shortcom': 14238, 'screenplay': 13864, 'ukrainian': 16332, 'chicaneri': 3137, 'sundown': 15286, 'crier': 3954, 'twilight': 16270, 'casanova': 2878, 'sellout': 14004, '900': 562, 'gimm': 6664, '2022': 210, 'undercut': 16411, 'throwback': 15805, 'bryant': 2514, 'unwinn': 16623, 'hardwork': 7248, 'gadot': 6467, 'lanc': 8958, 'armstrong': 1309, 'snowstorm': 14610, 'cleverli': 3349, 'reich': 13032, 'persuad': 11809, 'endometri': 5346, 'slut': 14521, 'lookin': 9383, 'thaler': 15705, 'unrest': 16575, 'mcchicken': 9843, 'acosta': 676, 'katsuya': 8644, 'brentwood': 2411, 'dodger': 4800, 'coowner': 3750, 'bonker': 2259, 'psychiatri': 12548, 'spatial': 14755, 'furrow': 6443, 'brow': 2491, 'applaus': 1232, 'tribeca': 16112, '25yearold': 269, 'rentfre': 13125, 'gulf': 7049, 'superpac': 15318, 'haul': 7305, 'upris': 16648, 'defiantli': 4357, 'scone': 13830, 'transfer': 16044, '87th': 547, 'holiest': 7600, 'tcbi': 15585, 'virul': 16905, 'soy': 14729, 'tofurkey': 15911, 'rebuff': 12890, 'aleppo': 888, 'hsn': 7753, 'taskforc': 15560, 'uneasi': 16456, 'pamela': 11531, 'combo': 3516, 'threemonth': 15789, 'menstrual': 9979, 'pad': 11481, 'newversusold': 10784, 'electricslid': 5222, 'weddingrecept': 17150, 'nonstop': 10931, 'eclair': 5144, 'inn': 8122, 'unafraid': 16359, 'timetravel': 15857, 'commod': 3545, 'trader': 16018, 'earbud': 5095, 'hbcu': 7328, 'filipino': 5936, 'gonna': 6788, 'chemo': 3112, 'tutu': 16252, 'sequin': 14041, 'wrestler': 17483, 'summerslam': 15277, 'omarosa': 11194, 'xfile': 17521, 'veget': 16773, 'acut': 696, 'stair': 14923, 'idol2': 7892, 'popchart': 12136, 'jeev': 8411, 'wart': 17074, '15straight': 98, 'tensil': 15661, 'rockin': 13408, 'retweet': 13229, 'benito': 1903, 'mussolini': 10556, 'juror': 8587, 'beverag': 1950, 'foggi': 6142, 'skittish': 14425, 'broomwield': 2484, 'housewif': 7737, 'webmd': 17145, 'backwat': 1588, '1800': 122, 'reimagin': 13035, '1743': 110, '1919': 140, 'stout': 15100, 'cardamom': 2812, 'silk': 14327, 'indigo': 8044, 'reshingl': 13180, 'courthous': 3863, 'trumpcar': 16177, 'thinktank': 15754, 'bonu': 2262, 'lobe': 9325, 'occupi': 11109, 'emojisinthewild': 5301, 'impal': 7944, 'wickerchair': 17282, 'allconsum': 923, 'selfpiti': 13990, 'expartn': 5601, 'earthlik': 5111, 'robust': 13396, 'barrel': 1718, 'lice': 9205, 'blagojevich': 2094, 'crater': 3911, 'storybook': 15095, 'crumpledup': 4023, 'wrinklefre': 17490, 'bouquet': 2323, 'granit': 6882, 'defund': 4371, 'highrol': 7513, 'coward': 3877, 'mcgorri': 9858, 'extrovert': 5655, 'drunkdriv': 4994, 'elisabeth': 5242, 'kblerross': 8650, 'manner': 9668, 'lifelong': 9219, 'newport': 10772, 'conjoin': 3652, 'kidney': 8727, 'chinatown': 3168, 'jay': 8394, 'warcraft': 17046, 'blizzcon': 2142, '500million': 427, 'alyssa': 993, 'unbalanc': 16373, '2037': 219, 'troy': 16162, 'odonnel': 11127, 'moneymak': 10347, 'effici': 5181, 'paraphernalia': 11587, 'yordano': 17587, 'ventura': 16796, 'kabatzinn': 8596, 'assemblag': 1383, 'belgium': 1869, 'transfat': 16043, 'sheryl': 14189, 'sandberg': 13680, 'actorcomedian': 692, 'pauli': 11671, 'shore': 14235, 'mildfir': 10126, 'ambl': 1012, 'aaa': 594, 'acr': 684, 'flog': 6091, 'courtord': 3866, 'perfectforpack': 11776, '20th': 232, 'jindal': 8466, '52year': 436, 'risheq': 13349, 'trailblaz': 16027, 'inexperi': 8067, 'appointe': 1238, 'cheerlead': 3095, 'plinko': 12036, 'buttdial': 2648, 'lorn': 9400, 'bing': 2014, 'drinker': 4957, 'wisconsinmadison': 17368, 'ultrarealist': 16343, 'tarantino': 15548, 'droop': 4971, 'groan': 6972, 'norway': 10960, 'kontiki': 8839, 'daredevil': 4195, 'enzym': 5411, 'biochem': 2022, 'rumba': 13551, 'rowland': 13516, 'choir': 3195, 'cyberspac': 4122, 'clearanc': 3336, 'fabul': 5678, 'stool': 15084, 'trebek': 16089, 'deftli': 4369, 'prolong': 12470, 'agon': 809, 'mcdermott': 9850, 'zappa': 17629, 'frisbe': 6359, 'shave': 14156, 'outofthisworld': 11374, 'harward': 7277, 'mckinney': 9863, '52': 435, 'ireland': 8270, 'surinames': 15356, 'waist': 16997, 'reza': 13270, 'aslan': 1367, 'southeastern': 14721, 'memphi': 9968, 'spector': 14777, 'jeremi': 8427, 'piven': 11976, 'kokopelli': 8832, 'crayola': 3916, 'jarringli': 8386, 'ambiti': 1011, '5year': 464, 'sharehold': 14140, '49er': 413, 'ot': 11322, 'unfaz': 16473, 'innocu': 8128, 'livid': 9308, 'cassidi': 2887, 'szep': 15469, 'sisterhood': 14377, 'perpetr': 11798, 'blade': 2093, 'runner': 13561, '2049': 222, 'cocktailparti': 3439, 'carol': 2849, 'pattinson': 11667, 'vampir': 16737, 'scour': 13847, 'papal': 11565, 'raci': 12720, 'retrospect': 13227, 'moma': 10329, 'vanquish': 16747, 'foe': 6139, 'harlem': 7250, 'unannounc': 16363, 'smallclub': 14524, 'coyn': 3887, 'futurist': 6451, 'monopol': 10361, 'millennia': 10145, 'crushworthi': 4028, 'attach': 1431, 'timmi': 15860, 'cheadl': 3078, 'milo': 10152, 'ventimiglia': 16793, 'crockpot': 3976, 'behindtheback': 1855, 'bunt': 2588, 'creak': 3924, 'darci': 4193, 'militaryindustri': 10135, 'regimeheld': 13016, 'policymak': 12101, 'manipul': 9663, 'fullsiz': 6417, 'teaser': 15601, 'antman': 1182, 'discharg': 4667, 'quentin': 12683, 'uma': 16348, 'thurman': 15818, 'windmil': 17336, 'lehrer': 9122, 'pasta': 11641, 'honey': 7653, 'miamibas': 10052, 'cubansaf': 4046, 'subhuman': 15209, 'lobbyist': 9323, 'bitcoin': 2060, 'currenc': 4084, 'timelin': 15855, 'zodiac': 17667, 'kingpin': 8751, 'sandler': 13686, 'penthous': 11751, 'quaalud': 12654, 'quaaludetak': 12655, 'texan': 15697, 'kickin': 8719, 'contort': 3708, 'span': 14746, 'rockwel': 13411, 'jetblu': 8442, '2day': 289, 'zs': 17676, 'unreleas': 16570, 'wherev': 17235, 'buffett': 2539, 'charit': 3051, 'contribut': 3714, 'travolta': 16075, 'poop': 12130, 'proudest': 12522, 'selen': 13950, 'chin': 3165, 'chauvinist': 3076, 'gospel': 6827, 'silmarillion': 14332, 'ambul': 1013, 'dynamit': 5082, 'sweeten': 15411, 'dubos': 5006, 'barista': 1705, 'frankli': 6280, '17thcenturi': 116, 'lighter': 9228, 'humpback': 7792, 'pronunci': 12483, 'weeknd': 17161, 'juno': 8580, 'antichoic': 1137, 'misbehavior': 10210, 'getgo': 6631, 'prescrib': 12345, 'aruban': 1341, 'compli': 3575, 'fierc': 5920, 'voltag': 16951, 'electrifi': 5223, 'nph': 10997, 'hedwig': 7398, 'radcliff': 12730, 'crippl': 3962, 'immens': 7932, 'shakeup': 14115, 'citat': 3279, 'noxon': 10996, 'anorexia': 1111, 'brotherli': 2488, 'crowdfund': 4004, 'basement': 1729, 'theatr': 15716, 'ca': 2681, 'afraid': 776, 'invad': 8238, 'deadspin': 4262, 'lupita': 9498, 'nyongo': 11058, 'alongsid': 960, '48': 409, 'deen': 4327, 'sprawl': 14865, 'expresslan': 5635, 'jenkin': 8420, 'trifecta': 16123, 'titanicthem': 15880, 'misshapen': 10240, 'raisin': 12767, 'citizenship': 3284, 'revolution': 13258, 'persist': 11803, 'inher': 8108, 'freemason': 6316, 'revolt': 13256, 'walt': 17030, 'whitman': 17263, 'breakout': 2392, 'mein': 9941, 'fhrer': 5906, 'twinkl': 16274, 'wk': 17387, 'staunch': 14992, 'partyadvocaci': 11624, 'seventhday': 14073, 'adventist': 745, 'ordin': 11276, 'pynchon': 12643, 'sizzl': 14398, 'fajita': 5718, 'platter': 12009, 'humanevas': 7781, 'feceshurl': 5834, 'paleo': 11515, 'carrot': 2862, 'flick': 6074, 'medalist': 9902, 'holcomb': 7591, 'bod': 2208, 'ethnic': 5487, 'siren': 14373, 'subscrib': 15219, 'closeup': 3390, 'lactat': 8921, 'nutrient': 11040, 'cookoff': 3738, 'dangl': 4181, 'keg': 8660, 'kneel': 8793, 'alpha': 965, 'trickortreat': 16118, 'flock': 6090, 'unhrc': 16493, 'urgent': 16665, 'freyda': 6342, 'deed': 4323, 'subcultur': 15207, 'thrive': 15800, 'biograph': 2025, 'mikhail': 10121, 'gorbachev': 6815, 'sir': 14371, 'newgirlfriend': 10767, 'threepound': 15790, 'transitionrel': 16051, 'referenc': 12992, 'tooth': 15946, 'necklac': 10695, 'dreamcatch': 4939, 'rearview': 12875, 'array': 1317, 'scandinavia': 13759, 'seizur': 13947, 'rebecca': 12882, 'unambiti': 16360, 'collid': 3488, 'daytimetalkshow': 4240, '000pound': 12, 'hipster': 7545, 'jana': 8371, 'kramer': 8861, 'eleg': 5228, 'bullst': 2568, 'colorblind': 3504, 'monarchi': 10339, 'typefac': 16298, 'headset': 7348, 'rapidli': 12808, 'subtext': 15230, 'extendedtrack': 5638, 'naval': 10662, 'sequenc': 14040, 'stephani': 15023, 'immor': 7937, 'bender': 1891, 'equip': 5431, 'flyswattin': 6132, 'verdict': 16801, 'soloway': 14657, 'caduceu': 2694, 'fck': 5819, 'annul': 1109, 'tyres': 16306, 'pregnancyrel': 12310, 'convuls': 3730, 'synthet': 15460, 'boast': 2198, 'svu': 15383, 'ledecki': 9095, 'transfus': 16046, 'tania': 15532, 'bruguera': 2503, 'oldtimey': 11181, '2nd': 294, 'laughter': 9027, 'banter': 1679, 'tenni': 15659, 'manor': 9671, 'wartim': 17075, 'breviti': 2416, 'proactiv': 12424, 'undertheradar': 16435, 'sacha': 13598, 'grimsbi': 6960, 'bicentenni': 1974, 'sorkin': 14699, 'slid': 14481, 'fking': 6024, 'autocrat': 1483, 'nicaraguan': 10792, 'irvin': 8286, 'yalom': 17541, '18th': 130, 'seminar': 14009, 'toughguy': 15987, 'trumpzilla': 16195, 'broth': 2485, 'bronz': 2480, 'flintston': 6081, 'aggrav': 805, 'selfinterest': 13981, 'juliann': 8556, 'hough': 7720, 'endometriosi': 5347, 'sore': 14698, 'isisturkey': 8294, 'reprehens': 13148, 'prohibit': 12465, 'kaleidoscop': 8608, 'ascet': 1347, 'inflight': 8087, 'vape': 16749, 'solidifi': 14653, 'lyricist': 9520, 'pioneer': 11950, 'barlow': 1711, 'spinach': 14813, 'pebbl': 11706, 'ageofcons': 804, 'grizzl': 6970, 'proofread': 12485, 'fusion': 6445, 'grip': 6964, 'resound': 13190, '6minut': 490, 'ovat': 11391, 'estrang': 5479, 'pea': 11699, 'clamor': 3294, 'snail': 14572, 'walkway': 17018, 'arrog': 1322, 'schoolchildren': 13806, 'dhaka': 4552, 'expat': 5602, 'sometim': 14674, 'goodfella': 6794, 'fragment': 6262, 'nobl': 10859, 'ilana': 7910, 'glazer': 6709, 'errand': 5454, 'kitti': 8777, 'similar': 14337, 'meat14': 9891, 'submiss': 15214, 'reus': 13233, 'faceread': 5685, 'lowfat': 9446, 'rogu': 13425, 'palac': 11511, 'zapp': 17628, 'cowboy': 3879, 'steami': 15006, 'raphael': 12806, 'depth': 4466, 'thinnest': 15757, 'acamaz': 646, 'riffoff': 13321, 'behar': 1850, 'disparag': 4727, '2024': 211, '54': 444, 'yogurt': 17579, 'tableau': 15474, 'windowsil': 17339, 'dixi': 4772, '71': 501, 'ivana': 8323, 'exhusband': 5586, 'colm': 3493, '530': 439, 'ungodli': 16484, 'childfre': 3149, 'mediaev': 9906, 'fortress': 6229, 'monemvasia': 10343, 'looney': 9385, 'mustard': 10560, 'workfamili': 17434, 'silli': 14329, 'putti': 12634, 'jowl': 8526, 'ecclesiast': 5139, 'pub': 12562, 'sullen': 15271, 'finetun': 5957, 'gass': 6536, 'kenyan': 8681, 'picker': 11903, 'rwanda': 13584, 'whoop': 17272, 'lgbtfriendli': 9180, 'viall': 16836, 'bikiniclad': 1998, 'bret': 2413, 'baier': 1615, 'rustic': 13579, 'schweitzer': 13814, 'dolli': 4823, 'parton': 11622, 'bahai': 1612, 'saffron': 13621, 'flatearth': 6048, 'whine': 17242, '121': 66, 'gigawatt': 6654, 'trivia': 16143, 'pitcher': 11970, '401': 378, 'geeki': 6573, 'sold': 14645, 'liam': 9186, 'duller': 5031, 'crook': 3981, 'supermodel': 15314, 'underrepres': 16427, 'usback': 16681, 'raqqa': 12813, 'gchat': 6565, 'impregn': 7968, 'perch': 11772, 'deadlock': 4258, 'repay': 13132, '84': 540, 'limbaugh': 9244, 'remnant': 13098, 'sofia': 14633, 'vergara': 16804, 'cameraman': 2736, 'beforeandaft': 1839, 'dolbi': 4817, 'hunchback': 7793, 'rafter': 12744, 'nittygritti': 10851, 'blogospher': 2152, 'zac': 17612, 'efron': 5185, 'ab': 598, 'fawlti': 5812, 'alexa': 892, 'orphanag': 11296, 'ferrera': 5885, 'quintanilla': 12701, 'kebab': 8655, 'dimens': 4611, 'tremend': 16096, 'gunfight': 7061, 'nascar': 10636, 'williamssonoma': 17322, 'madrid': 9559, '72yearold': 506, 'bestlaid': 1937, 'cheeserel': 3100, 'spoke': 14833, 'abduct': 606, 'nigerian': 10816, 'blacker': 2080, 'mayfield': 9824, 'enquir': 5371, 'forens': 6201, 'autopsyturvi': 1495, 'fleec': 6062, 'scattergori': 13777, 'ellison': 5254, 'layoff': 9054, 'churchgo': 3240, 'smellalik': 14543, 'courtney': 3864, 'manicurist': 9660, 'unibeam': 16495, 'kimmi': 8738, 'schmidt': 13793, 'tituss': 15884, 'burgess': 2597, 'peeno': 11718, 'noir': 10866, 'comcast': 3517, 'fearsom': 5826, 'arrieta': 1320, 'nohitt': 10865, 'spencer': 14793, '565': 448, 'resent': 13175, 'nondog': 10896, 'knifethrow': 8800, 'platespin': 12004, 'newscast': 10775, 'speechwrit': 14784, '15second': 97, 'dahlia': 4150, 'tomato': 15923, 'cowpok': 3882, 'lasso': 9004, 'grexit': 6941, 'neg': 10704, 'peterson': 11823, 'behaivor': 1848, 'soviet': 14726, 'bananaobsess': 1655, 'shingl': 14198, 'languish': 8975, 'slaughterhous': 14455, 'walnut': 17028, '220': 244, 'brando': 2366, '239': 251, '134yearold': 73, 'attribut': 1444, 'typograph': 16302, 'stalker': 14930, 'orozco': 11294, 'gymnast': 7087, 'congalin': 3635, 'beckon': 1818, 'warhol': 17053, 'seasid': 13896, 'rumsfeld': 13555, 'takeaway': 15498, 'icymi': 7875, 'blizzard': 2141, 'chug': 3234, 'middeb': 10083, '114': 55, 'visin': 16910, 'eyewhiten': 5668, 'taxpay': 15579, 'soprano': 14696, 'shotbyshot': 14249, 'starn': 14964, 'chickfila': 3142, 'grimli': 6957, 'wrought': 17503, 'roleplay': 13431, 'unaccount': 16356, 'secretlift': 13921, 'fig': 5928, 'orbit': 11269, 'effortless': 5184, 'overclassif': 11397, '106': 37, 'gaunt': 6549, 'hollowey': 7608, 'upcloseandperson': 16630, 'carhartt': 2833, 'thong': 15768, 'shaken': 14112, 'bargoer': 1703, '2043': 221, 'swimsuit': 15420, 'sesam': 14061, '3ring': 371, 'binder': 2013, 'debra': 4281, 'paramount': 11583, 'sneaki': 14588, 'tricycl': 16121, 'herman': 7453, 'quinn': 12698, 'infuri': 8100, 'lastditch': 9006, 'vaquita': 16751, 'smallest': 14526, 'porpois': 12165, 'timeout': 15856, 'angst': 1090, 'finest': 5956, 'baylesss': 1777, 'hayward': 7320, '870': 546, 'flake': 6032, 'greenpeac': 6927, 'diein': 4580, 'preelect': 12298, 'indi': 8031, 'lit': 9287, 'firecrack': 5973, 'imf': 7928, 'interdisciplinari': 8192, 'napkin': 10618, 'webdesign': 17144, 'walkout': 17016, 'antidepress': 1140, 'buse': 2628, 'freakylook': 6302, 'permafrost': 11789, 'greenland': 6924, 'diseasecaus': 4688, 'labgrown': 8910, 'lyon': 9517, 'smasher': 14539, 'indispens': 8046, 'drugrel': 4985, 'decre': 4316, 'kirk': 8761, 'trekki': 16093, 'rudd': 13536, 'mischa': 10215, 'barton': 1723, 'couldv': 3832, 'slept': 14477, 'mediev': 9915, 'nun': 11029, 'sonic': 14682, 'syrupi': 15466, 'vein': 16779, 'boggl': 2223, 'petul': 11834, 'mnuchin': 10284, 'unconstitut': 16401, 'lineitem': 9258, 'vicin': 16846, 'polio': 12102, 'satisfact': 13721, 'conced': 3594, 'lin': 9250, 'entourag': 5395, 'maid': 9579, 'manifest': 9661, 'ghouta': 6641, 'drivetim': 4964, 'jampack': 8369, 'ragnar': 12747, 'twotier': 16289, 'idli': 7890, 'headsup': 7349, 'leo': 9141, 'toil': 15913, 'israelgaza': 8305, 'sociologist': 14628, 'entitl': 5392, 'afi': 774, 'doc': 4789, 'heyday': 7474, 'fm': 6133, 'leftist': 9105, 'bermuda': 1918, 'nevertheless': 10758, 'discard': 4665, 'luminari': 9486, 'suri': 15355, 'std': 14997, 'hutcherson': 7822, 'juliett': 8558, 'fee': 5842, 'docent': 4790, 'ducttap': 5016, 'sadder': 13608, 'halperin': 7161, 'landrieu': 8967, 'liposuct': 9279, 'plouff': 12042, 'psychopath': 12555, '10yearold': 49, 'fuckedup': 6394, 'telecast': 15628, 'brewer': 2418, 'goingaway': 6767, 'ag': 795, 'method': 10033, 'handsfre': 7197, 'analyst': 1055, 'grind': 6962, 'wheat': 17223, 'nutso': 11046, 'slovakia': 14503, 'fico': 5913, 'poundston': 12242, 'plutocrat': 12058, 'konner': 8837, 'zombi': 17668, 'bp': 2342, 'officewid': 11141, 'outing': 11355, '3foottal': 357, 'leyco': 9177, 'purport': 12621, 'malaria': 9607, 'maneat': 9646, 'carnivor': 2848, 'bogosian': 2224, 'gregorio': 6934, 'yohanna': 17580, 'ibrahim': 7858, 'boulo': 2315, 'yazigi': 17551, 'tamagotchi': 15516, 'mythbust': 10585, 'zeu': 17651, 'thor': 15769, 'hawkey': 7314, 'colonel': 3498, 'blazer': 2114, '91': 566, 'hamburglar': 7166, 'robbl': 13386, 'kearney': 8653, 'squawk': 14891, 'hustler': 7820, 'liberian': 9195, 'dignitari': 4601, 'fuckbuddi': 6393, 'fuckfianc': 6396, 'bingelisten': 2017, 'katt': 8645, 'whitecollar': 17256, 'bestow': 1938, 'tribun': 16113, 'cyberattack': 4118, 'postur': 12226, 'reaffirm': 12856, 'suffici': 15258, 'zen': 17643, 'catacomb': 2901, 'waterboard': 17093, 'gallow': 6485, 'thaw': 15713, 'flasher': 6043, 'lyndon': 9514, 'youngerlook': 17597, 'saudiua': 13731, 'qatari': 12652, 'emir': 5293, 'heckler': 7393, 'lasik': 9002, 'inciner': 8000, 'shadi': 14107, 'foremost': 6200, 'brunch': 2506, 'raucou': 12828, 'immun': 7939, 'vietnames': 16863, 'pageant': 11488, 'headinsand': 7339, 'purist': 12619, 'notsosubtl': 10982, 'flub': 6114, 'scavengerhunt': 13778, 'twine': 16272, 'serch': 14044, 'gasfac': 6533, 'glacier': 6693, 'afternoon': 789, 'trout': 16160, 'rainstorm': 12764, 'pummel': 12594, 'congoles': 3640, 'unendors': 16462, 'crane': 3905, '360': 338, 'heavili': 7388, 'freaki': 6297, 'asleep': 1368, 'advisori': 753, 'plethora': 12033, 'patio': 11658, 'pillar': 11926, '1993': 168, 'camri': 2748, 'obamathem': 11074, 'louis': 9421, 'munson': 10535, 'playwright': 12022, 'luigi': 9478, 'flyover': 6131, 'schiff': 13787, 'circumstanti': 3275, 'daylewi': 4236, 'fullpag': 6415, 'bipartisanship': 2035, 'bhangra': 1961, 'impend': 7951, 'lowbudget': 9439, 'pander': 11542, 'shamelessli': 14131, 'cater': 2916, 'higherpr': 7496, 'goldman': 6778, 'beachgoer': 1787, 'underneath': 16420, 'ugh': 16324, 'terrier': 15676, 'squeak': 14892, 'counter': 3840, 'prophet': 12496, 'mist': 10249, 'pup': 12610, 'slugger': 14513, '000peso': 11, 'phan': 11843, 'hid': 7484, 'oxi': 11460, 'philosophi': 11872, 'pretrump': 12367, 'zionist': 17660, 'rabbin': 12709, 'abstent': 634, '14th': 83, 'fletch': 6069, 'hellish': 7425, 'depopul': 4454, 'prelim': 12321, 'roosevelt': 13466, 'nonverb': 10936, 'wavi': 17109, 'custodi': 4097, 'fetu': 5899, 'advers': 748, 'globalist': 6723, 'misbutton': 10211, 'mckinsey': 9865, 'stain': 14921, 'rumbl': 13552, 'teas': 15600, 'wwe': 17509, 'wrestletalk': 17484, '239hour': 252, 'usabl': 16676, 'backer': 1572, 'animos': 1095, 'coldblood': 3468, '20piec': 228, 'mcnugget': 9871, 'flintoff': 6080, 'sonor': 14686, 'modul': 10307, 'obscen': 11090, 'avildsen': 1512, 'oscarwin': 11308, '81': 531, 'midlif': 10096, 'escape': 5464, 'firewood': 5982, 'multimillion': 10510, 'forth': 6228, 'stoner': 15079, 'bunker': 2586, '3inch': 360, 'satin': 13719, 'cusp': 4094, 'giveaway': 6688, 'supper': 15330, 'warrant': 17068, 'allnight': 940, 'ohh': 11156, 'disapprov': 4656, 'interraci': 8209, 'mister': 10253, 'rove': 13509, 'motion': 10430, 'wouldb': 17464, 'knocker': 8810, 'spectacular': 14774, 'worklif': 17437, 'unsubscrib': 16598, 'scarf': 13767, 'krispi': 8869, 'kreme': 8862, 'lizard': 9311, 'antislaveri': 1172, 'slaver': 14457, 'shallow': 14123, 'snapcash': 14577, 'peertop': 11721, 'carefre': 2828, 'frown': 6379, 'daylong': 4238, 'shoebox': 14223, 'coffin': 3452, 'profound': 12454, 'baller': 1633, 'wu': 17507, 'tang': 15530, 'clan': 3297, 'rza': 13589, 'kungfu': 8887, 'legion': 9113, 'bidder': 1979, 'embattl': 5276, 'glee': 6710, 'marker': 9719, 'emotionless': 5303, 'bois': 2230, 'knudsen': 8820, 'goto': 6833, 'beani': 1792, 'storkhold': 15092, 'ruben': 13530, 'studdard': 15172, 'waft': 16991, 'resentenc': 13176, 'gaybash': 6558, 'bracelet': 2345, 'maytag': 9831, 'ariel': 1294, 'needi': 10700, 'loyal': 9455, 'subsid': 15223, 'gerbil': 6619, 'kidman': 8725, 'prepper': 12339, 'romcom': 13444, 'maci': 9539, 'poseidon': 12187, 'esa': 5461, 'phoenician': 11876, 'tyre': 16305, 'battlefront': 1766, 'greasedup': 6911, '3po': 366, 'wean': 17129, 'implos': 7963, 'ecigarett': 5142, 'explod': 5623, 'handbag': 7179, 'dieoff': 4582, 'deepwat': 4338, 'warp': 17065, 'preteen': 12364, 'gigglingateveryth': 6656, 'neversmil': 10757, 'megamal': 9935, 'electronicbiblevers': 5227, 'databas': 4216, 'covet': 3875, 'galact': 6477, 'allstar': 943, 'jd': 8403, 'vanc': 16739, '2032': 217, '5millioncar': 459, 'dallasfort': 4161, 'pavlovian': 11678, 'shriek': 14271, 'ballot': 1641, 'lefthand': 9104, 'stewarthann': 15039, 'presidencyenhanc': 12352, 'outofstyl': 11372, 'comicbook': 3529, 'superrman': 15319, 'impervi': 7956, 'copyedit': 3762, 'doe': 4801, 'rossi': 13486, 'antispumanti': 1176, 'lennon': 9139, 'slipup': 14493, '19inch': 175, 'quicker': 12689, 'checkout': 3087, 'murrow': 10545, 'dirtbag': 4646, 'renov': 13120, 'buren': 2593, 'thalia': 15706, 'cassuto': 2890, 'dzhokhar': 5090, 'annot': 1105, 'coli': 3473, 'bellhop': 1876, 'rooftop': 13459, 'bernin': 1925, 'reno': 13114, 'roster': 13488, 'hebrew': 7390, 'buddhist': 2529, 'monk': 10355, 'ouija': 11331, 'basilica': 1735, 'jess': 8435, 'variant': 16754, 'multipli': 10516, 'breakneck': 2391, 'tamblyn': 15517, 'janitor': 8377, 'crucifi': 4009, 'shortli': 14244, 'conductor': 3618, 'rooney': 13465, 'upkeep': 16640, 'loch': 9332, 'ness': 10735, 'hopper': 7675, 'nativist': 10655, 'entrepreneurship': 5399, 'limo': 9248, 'pamplona': 11533, 'centenni': 2979, 'wwi': 17510, 'simultan': 14345, 'indign': 8043, 'audaci': 1450, 'eerili': 5178, 'maldiv': 9613, 'amelia': 1017, 'earhart': 5096, 'southcarolinaravag': 14719, 'beasti': 1799, 'mashup': 9759, 'unlicens': 16527, 'boyband': 2336, 'nag': 10601, 'plymouth': 12059, 'conyer': 3732, 'verbal': 16799, 'deplet': 4452, 'bruegger': 2502, 'frame': 6264, 'physician': 11894, 'carp': 2853, 'diem': 4581, 'dubai': 5004, 'classi': 3317, 'canvass': 2785, 'suburb': 15233, 'daryl': 4212, 'dixon': 4774, 'catherin': 2919, 'citrix': 3285, 'fumig': 6422, 'neardeath': 10683, 'snowmobil': 14609, 'nonconform': 10892, 'highcultur': 7494, 'schlegel': 13792, 'hyatt': 7826, 'vienna': 16861, 'sheen': 14164, 'aereo': 758, 'thimbl': 15748, 'hasbro': 7279, 'axe': 1540, 'token': 15915, 'shortsight': 14246, 'phenomenon': 11856, 'forrest': 6226, 'gump': 7056, 'dentaloffic': 4441, 'receptionist': 12907, 'pga': 11840, 'selfdefens': 13963, 'penicillin': 11741, 'pieeat': 11914, 'drum': 4990, 'tens': 15660, 'vil': 16871, 'yearson': 17560, 'condoleezza': 3615, 'samuel': 13674, 'pilsner': 11931, 'gould': 6837, 'officesupplylov': 11140, 'electricrazor': 5221, 'haegu': 7106, 'yang': 17543, 'leeum': 9102, 'seoul': 14032, 'vine': 16886, '6x60': 495, '000acr': 4, 'narcissist': 10625, 'melanoma': 9947, 'genderaffirm': 6585, 'mideast': 10090, 'dese': 4488, 'bombink': 2248, 'disgustip': 4697, 'fisheri': 6005, 'acquit': 682, 'durst': 5059, 'mutter': 10572, 'firenz': 5980, 'florenc': 6102, 'chikfila': 3146, 'dwell': 5073, 'ronda': 13455, 'rousey': 13505, 'pageturn': 11491, 'prek': 12320, 'alvah': 990, 'roebuck': 13422, 'voicemail': 16939, 'lip': 9274, 'beatbox': 1801, 'jargon': 8385, 'blowhol': 2174, 'bigfoot': 1987, 'toe': 15907, '700': 498, 'walkon': 17015, 'rayban': 12836, 'nune': 11032, 'offbeat': 11131, 'buttermilk': 2655, 'biscuit': 2052, 'jettison': 8445, 'henchmen': 7441, 'airlock': 844, 'stossel': 15098, 'dwyan': 5077, 'judici': 8540, '40gigabit': 383, 'homemad': 7625, 'lectern': 9092, 'bearnak': 1796, 'mouthwat': 10452, 'talisman': 15508, 'dui': 5026, 'gymnasium': 7086, 'prima': 12388, 'donna': 4842, 'halfful': 7137, 'nestl': 10737, 'lockhe': 9337, 'graveyard': 6903, 'marrow': 9735, 'cayle': 2938, 'soni': 14680, 'detangl': 4515, 'dogfight': 4805, 'swastika': 15394, 'effigi': 5182, 'reserv': 13177, 'vicechairman': 16844, 'vie': 16860, 'breweri': 2419, '205': 223, 'stumbl': 15182, 'nitroglycerin': 10850, 'chex': 3129, 'gingerli': 6669, 'hypothet': 7847, 'altitud': 980, 'chargeyouatwhim': 3048, 'barron': 1721, 'sprint': 14876, 'clarinet': 3306, 'albuquerqu': 878, 'eyeopen': 5667, 'playground': 12016, 'writeup': 17496, 'soundandfurywordpresscom': 14713, 'winndixi': 17347, 'thousanda': 15780, 'out': 11335, 'allay': 920, 'pixar': 11978, 'singleword': 14362, 'blossom': 2168, 'launcher': 9029, 'marilinda': 9712, 'garcia': 6514, 'mcmahon': 9867, 'autobiographi': 1481, 'drawn': 4931, 'cabletv': 2687, 'overrul': 11429, 'networktv': 10744, 'allbusi': 922, 'beelin': 1834, 'pinhead': 11940, 'agedefi': 798, 'knit': 8803, 'libat': 9189, 'ventriloquist': 16794, 'bueller': 2533, 'conversationalist': 3723, 'que': 12676, 'vivan': 16923, 'amo': 1033, 'casa': 2876, 'a1': 593, 'winston': 17354, 'neyo': 10787, 'instagramm': 8157, 'farley': 5768, 'germ': 6621, 'depict': 4451, 'menac': 9971, 'heifer': 7406, 'pharrel': 11850, 'peoplewhovot': 11753, 'octavia': 11117, 'janel': 8373, 'mone': 10342, 'pharma': 11845, 'sexier': 14084, 'angrili': 1089, 'revolv': 13260, 'edibl': 5163, 'hush': 7816, 'madoff': 9557, 'cellmat': 2966, 'girlboss': 6675, 'enact': 5322, 'megabillionair': 9929, 'zionism': 17659, 'succubu': 15244, 'hugger': 7772, 'cardiomyopathi': 2819, 'hatecrim': 7297, 'prohat': 12464, 'buttercup': 2652, '25foottal': 266, 'ecig': 5141, 'vaper': 16750, 'detach': 4511, 'sadiq': 13612, 'stereo': 15028, 'spite': 14824, 'depressingli': 4463, 'neat': 10688, 'clickbait': 3352, 'gamechang': 6496, '38yearold': 349, 'businessown': 2636, 'womenown': 17404, 'grumblethor': 7005, 'mischiev': 10216, 'housefbi': 7731, 'hallucinatori': 7157, 'stamina': 14934, 'predisposit': 12296, 'pushup': 12629, 'exchief': 5556, 'launder': 9030, 'lionel': 9273, 'hollywoodworthi': 7610, 'pabst': 11473, '1893': 128, 'ribbon': 13289, 'hilaria': 7526, 'livingston': 9309, 'trafficstop': 16022, 'unafford': 16358, 'existenti': 5590, 'complimentari': 3580, 'hosedown': 7696, 'helmet': 7430, 'helmetinspir': 7431, 'compass': 3561, 'usain': 16679, 'ratner': 12823, 'disembodi': 4690, 'unravel': 16563, 'paterno': 11651, 'firstperson': 5994, 'chatroulett': 3072, 'queue': 12687, 'weatherman': 17139, 'compel': 3564, 'gumbel': 7053, 'popekil': 12139, 'granddaught': 6872, 'neuter': 10751, 'benatar': 1887, 'waterbead': 17092, 'endanger': 5338, 'srvgsvatn': 14904, 'intimid': 8222, 'dagestan': 4148, 'kosher': 8848, 'mildew': 10125, 'uterin': 16700, 'bouncer': 2318, 'belafont': 1863, 'faker': 5722, 'koko': 8831, 'gorilla': 6821, 'fingerquot': 5961, 'parenthes': 11593, 'outcast': 11343, 'hangov': 7209, 'austen': 1469, 'teeter': 15622, 'playlist': 12017, 'seventh': 14072, 'gotten': 6835, 'chia': 3132, 'birdse': 2043, 'mainsplain': 9591, 'nonindigen': 10908, 'nonapolog': 10885, 'talli': 15515, 'drakemeek': 4922, 'mill': 10141, 'evo': 5528, 'es': 5460, 'pueblo': 12578, 'rc': 12843, 'jefferson': 8414, 'kemp': 8670, 'laundromat': 9032, 'athen': 1418, 'fabio': 5674, 'viviani': 16925, 'serflik': 14049, 'subjug': 15211, 'oaf': 11064, 'oat': 11067, 'barley': 1710, 'karl': 8625, 'substitut': 15228, 'audiotap': 1455, 'sculptor': 13878, 'teamwork': 15595, 'karen': 8623, 'jumpshot': 8569, 'mugab': 10493, 'mcdreami': 9855, '33yearold': 325, 'endlessli': 5343, 'ostrichfarm': 11319, 'majest': 9596, 'steril': 15030, 'whitney': 17264, 'raffi': 12741, 'accompani': 657, 'sultri': 15273, 'stressfest': 15137, 'prostat': 12506, 'neighborhoodwatch': 10712, 'bareknuckl': 1700, 'au': 1448, 'vlogger': 16929, 'hangglid': 7207, 'hotairballoon': 7706, 'cabaret': 2683, 'overpay': 11422, 'breathalyz': 2402, 'midsex': 10101, 'shouldv': 14254, 'hscc2015': 7752, 'technicolor': 15607, 'motel': 10423, 'puget': 12583, 'wikiconstitut': 17301, '110': 51, 'scotu': 13846, 'chamomil': 3019, 'churchgoer': 3241, 'votiv': 16963, 'candl': 2763, 'cringeworthi': 3960, 'crotchhit': 3998, 'greenlit': 6926, 'komodo': 8834, 'dragon': 4918, 'skyfal': 14433, 'transcanada': 16039, 'lester': 9156, 'heartshap': 7374, 'selfassur': 13954, 'affirm': 768, 'pan': 11534, 'gratuiti': 6899, 'tempt': 15648, 'ob': 11070, 'cornel': 3782, 'jian': 8456, 'ghomeshi': 6636, 'confidenti': 3627, 'lego': 9120, 'hatchet': 7294, 'vori': 16958, 'maggi': 9565, 'bitsi': 2063, 'brainfood': 2357, 'asid': 1364, 'petticoat': 11831, 'tampa': 15523, 'trove': 16161, 'weep': 17163, 'fineo': 5954, 'affabl': 764, 'whimsic': 17241, 'barcelona': 1698, 'gunfir': 7062, 'faint': 5711, 'catamaran': 2906, 'doabl': 4785, 'imbal': 7925, 'dzhokar': 5089, 'explicit': 5621, 'pissscent': 11961, 'diffus': 4591, 'nonoilrich': 10915, 'footnot': 6178, 'sexton': 14092, 'chadwick': 3005, 'stoke': 15071, 'deutsch': 4530, 'microsft': 10073, 'bello': 1880, 'derrick': 4481, 'hype': 7838, 'rambl': 12777, 'tee': 15617, 'kimy': 8740, 'ludicr': 9472, 'jameson': 8366, 'dropthecov': 4974, 'midget': 10094, 'deng': 4429, 'xiaop': 17526, 'daydream': 4235, 'envoy': 5410, 'rowdi': 13513, 'auditorium': 1458, 'antisoci': 1174, 'girthi': 6680, 'schoolboard': 13805, 'disproven': 4735, 'bendi': 1892, 'allknow': 938, 'tibetan': 15824, 'googler': 6805, 'payday': 11689, 'lender': 9134, 'relaunch': 13062, 'terrorismrel': 15683, 'shrivel': 14275, 'motherinlaw': 10428, 'mcpherson': 9873, 'bossi': 2297, 'coloradan': 3502, 'deregist': 4474, 'kobach': 8821, 'spaghetti': 14743, 'sunrob': 15294, 'overwork': 11451, 'unplug': 16552, 'roast': 13380, 'fiber': 5912, 'plow': 12043, 'antiracist': 1168, 'unev': 16465, 'procr': 12439, 'rut': 13581, 'fahrenheit': 5707, 'showstop': 14267, 'bale': 1629, 'heap': 7361, 'apex': 1207, 'cneyt': 3406, 'arkin': 1301, 'daze': 4242, 'spine': 14815, 'charliz': 3057, 'theron': 15734, 'waymo': 17114, 'degrass': 4374, 'tyson': 16307, 'canteen': 2780, 'mytron': 10586, 'illuminati': 7916, 'ruler': 13549, '112': 52, 'fussi': 6446, 'yolo': 17585, 'tyra': 16303, '550': 446, '449': 395, 'fritter': 6363, 'sidelin': 14305, 'encod': 5328, 'menstruationrel': 9981, 'procter': 12441, 'gambl': 6493, 'dribbl': 4953, 'ramp': 12781, 'beverli': 1951, 'roadrag': 13374, 'screwbal': 13867, 'nabor': 10594, 'bap': 1681, 'perk': 11786, 'usrussian': 16694, 'condo': 3614, 'bylaw': 2672, 'deb': 4275, 'solemnli': 14649, 'platoon': 12008, 'undiagnos': 16447, 'diagnos': 4555, 'narcolepsi': 10626, 'boulud': 2316, 'ccap': 2943, 'alum': 986, 'pgrate': 11841, 'mandi': 9642, 'shini': 14199, 'warsaw': 17073, '89': 551, 'israelpalestin': 8308, 'baskinrobbin': 1739, 'woe': 17393, 'myopia': 10579, 'nicer': 10794, 'freudian': 6341, 'ward': 17047, 'priscilla': 12413, 'presley': 12355, 'insta': 8154, 'tricorn': 16120, 'drywal': 4999, '44yearold': 397, 'portugues': 12185, 'sitar': 14380, 'curat': 4077, 'girder': 6673, 'tussl': 16250, 'unencumb': 16461, 'declutt': 4310, 'ghoulish': 6640, 'boni': 2258, 'thinli': 15755, 'airfar': 841, 'pickler': 11906, 'buzzer': 2665, 'overcharg': 11396, 'fingerprint': 5960, 'etiquett': 5488, 'penitentiari': 11743, 'inchamb': 7997, 'cockpit': 3434, 'rachael': 12718, 'ewww': 5536, 'bugnado': 2545, 'radar': 12729, 'selfcent': 13956, 'wallpap': 17025, 'psychiatr': 12547, 'gefloigel': 6576, 'wormhol': 17450, 'obnoxi': 11088, 'stoneheart': 15077, 'forgo': 6212, 'exclam': 5561, 'mainten': 9594, 'slender': 14476, 'kline': 8785, 'oppendahl': 11254, 'blanchard': 2101, 'sisi': 14375, 'dax': 4232, 'shepard': 14182, 'treatingyoulikeanadult': 16087, 'halfhour': 7140, 'louisa': 9422, 'lisa': 9282, 'gornick': 6823, 'suppress': 15339, 'nwa': 11050, 'coachella': 3412, 'upload': 16641, 'yeltsin': 17565, 'trmp': 16145, 'ram': 12774, 'lightn': 9231, 'wheelchairbound': 17228, 'sleev': 14472, 'barbra': 1696, 'streisand': 15131, 'subwoof': 15238, 'guitarinstruct': 7046, 'halen': 7126, 'rhodi': 13282, 'headach': 7334, 'cinnabontographi': 3263, 'exactchang': 5539, 'branch': 2362, 'formul': 6223, 'stepson': 15027, 'mcenro': 9857, 'torogerstein': 15965, 'poncho': 12120, 'exhibitionist': 5583, 'monteith': 10372, 'espi': 5468, 'setback': 14064, 'weeklong': 17160, 'doubter': 4884, 'shittier': 14213, 'goliath': 6781, 'platinum': 12006, 'shiver': 14216, 'scenic': 13781, 'alexandria': 895, 'familiar': 5741, 'mold': 10316, 'hagel': 7108, 'cambodia': 2727, 'smb': 14540, 'harington': 7249, 'mena': 9970, 'ascend': 1345, 'cocreat': 3443, 'treati': 16086, 'kyoto': 8905, 'brussel': 2511, 'lumber': 9483, 'whoopi': 17273, 'maiden': 9580, 'pepsicoown': 11765, 'mexicanthem': 10044, 'inflict': 8086, 'moviego': 10457, 'goodwil': 6798, 'gigant': 6653, 'durn': 5057, 'hock': 7576, 'fourpound': 6249, 'phlegm': 11874, '74': 509, 'easiest': 5117, 'stepbystep': 15019, 'neon': 10721, 'hue': 7764, 'hgar': 7477, '40th': 386, 'fran': 6266, 'drescher': 4947, 'cinch': 3256, 'notch': 10968, 'wildcat': 17305, '501': 429, 'addclimatechangetotv': 702, 'misconcept': 10217, 'carlson': 2841, 'aton': 1425, 'atoni': 1426, 'campbel': 2741, 'cansiz': 2778, 'noodl': 10939, 'papua': 11571, 'ineptitud': 8061, 'bff': 1959, 'boundari': 2320, 'raisman': 12769, 'ballad': 1632, '22yearold': 247, 'disturbingli': 4759, 'unpop': 16553, 'kernel': 8687, 'uninspir': 16506, 'charth': 3065, 'vader': 16717, 'cement': 2970, 'fondest': 6158, 'debilit': 4279, 'potomac': 12234, 'daycar': 4234, 'forklift': 6216, 'restroom': 13203, 'revuls': 13261, 'minisurg': 10189, 'johnsvil': 8493, 'il': 7909, '11717': 58, 'congressmemb': 3648, 'meatless': 9895, 'bocc': 2206, 'heartfelt': 7371, 'lettuc': 9163, 'heartless': 7373, 'derang': 4471, 'scrawl': 13860, 'pt': 12558, 'ham': 7163, '393rd': 351, 'fdc': 5821, 'cretac': 3947, 'hospic': 7697, 'dowd': 4896, '000mile': 10, 'dolez': 4819, 'overfund': 11408, 'deeplydivid': 4334, 'chrome': 3224, 'networksanct': 10743, 'dungeon': 5046, 'mow': 10459, 'whini': 17243, 'gerber': 6618, 'skier': 14412, 'caldwel': 2712, 'snooz': 14600, 'arc': 1264, 'defibril': 4358, 'volt': 16950, 'pita': 11966, 'nonmasturb': 10912, 'deepr': 4335, 'croatian': 3974, 'turnip': 16241, 'heirloom': 7414, 'plasticwar': 12002, 'lovingli': 9437, 'backtoback': 1584, 'cock': 3430, 'dunst': 5050, 'suffoc': 15259, 'vuitton': 16973, 'unwil': 16621, 'velociraptor': 16781, 'jurass': 8583, 'innerc': 8125, 'prodigi': 12444, 'ged': 6569, 'lasagna': 8999, 'wino': 17351, 'neurotransmitt': 10750, 'bluetooth': 2182, 'meara': 9887, 'fist': 6010, 'dub': 5003, 'knick': 8795, 'carmelo': 2842, 'hefti': 7404, 'ozonedeplet': 11467, 'seismologist': 13945, 'richter': 13302, 'tractorpul': 16015, 'tasteless': 15562, 'wig': 17299, 'evillook': 5526, 'brighter': 2438, 'spire': 14820, 'julia': 8554, 'stile': 15048, 'preston': 12360, 'repli': 13142, 'inbox': 7986, 'relish': 13078, 'overpass': 11421, 'woken': 17396, 'loudspeak': 9418, '125': 68, 'outlaw': 11360, 'singlepay': 14360, 'mlk': 10282, 'promptli': 12480, 'doze': 4911, 'debtreduct': 4287, 'sinist': 14364, 'cataclysm': 2900, 'starr': 14965, 'antimarcos': 1158, 'promarcos': 12472, 'luggag': 9476, 'faucet': 5803, 'rickman': 13307, 'californian': 2717, 'cliff': 3355, 'buchanan': 2521, 'forbusi': 6186, 'oscarworthi': 11309, 'prompos': 12478, 'wideey': 17285, 'yank': 17544, 'tail': 15489, 'newshour': 10777, 'pivot': 11977, 'lawabid': 9041, 'jemel': 8417, 'nabj': 10593, 'fullcircl': 6410, 'obesitystudi': 11077, 'frein': 6326, 'plaqu': 12000, 'leprosi': 9149, 'saucespatt': 13729, 'meatbal': 9892, 'sprite': 14878, 'colaflavor': 3464, 'juicero': 8549, 'juicer': 8548, 'thatll': 15712, 'camcord': 2730, 'indonesia': 8049, 'albani': 871, 'firstborn': 5988, 'ninemonthold': 10835, 'larami': 8987, 'pleasantri': 12028, 'vulgar': 16974, 'chineseamerican': 3171, 'compromis': 3586, 'norwegian': 10961, 'easytotackl': 5127, 'supplement': 15333, 'nci': 10674, 'ceas': 2948, 'squirm': 14898, 'ace': 665, 'punctuat': 12601, 'bigscreen': 1994, 'tight': 15838, 'corrobor': 3800, 'precipic': 12284, 'none': 10900, '31': 312, 'comprehend': 3584, 'kubrick': 8880, 'distinct': 4748, 'emeritu': 5288, 'freethink': 6320, 'pharoah': 11849, 'kisser': 8767, 'cere': 2987, 'nonminingrel': 10913, 'outbad': 11338, 'chronicl': 3227, 'thumbsup': 15812, 'overexplain': 11406, 'dual': 5002, 'roma': 13439, 'envis': 5409, 'standbi': 14942, 'hocu': 7578, 'pocu': 12067, 'jeanphilipp': 8407, 'courtoi': 3865, '1776': 112, 'shamefac': 14129, 'stockstil': 15070, 'zip': 17661, 'pregam': 12308, 'whatsapp': 17219, 'biolog': 2027, 'hayrid': 7319, 'wagon': 16994, 'palpabl': 11527, 'angerstok': 1085, 'griffith': 6951, 'nearest': 10685, 'gull': 7050, 'zandt': 17625, 'yali': 17539, 'lad': 8923, 'billow': 2011, 'imaginari': 7924, 'sidebysid': 14303, 'patriarchi': 11659, 'galpago': 6489, 'municip': 10533, 'chapel': 3038, 'particular': 11616, 'taxcut': 15576, 'hominid': 7640, 'balk': 1630, 'joggingsuit': 8488, 'uncanni': 16384, 'icbm': 7861, 'colli': 3487, 'winneshiek': 17349, 'bankrol': 1673, 'michiganstyl': 10063, 'whoisdsharp': 17269, 'violin': 16895, 'commonwealth': 3548, 'starch': 14955, 'factfre': 5696, 'russiag': 13575, 'idri': 7893, 'elba': 5211, 'girllik': 6678, 'ironickitschappreci': 8279, 'nana': 10610, 'ozzfest': 11469, 'equinox': 5430, '37325': 342, 'alito': 915, 'hd': 7330, 'euthan': 5498, 'irrelev': 8282, 'zanjeer': 17627, 'razor': 12839, 'dreadlock': 4937, 'branson': 2369, 'globalwarm': 6724, 'redfac': 12960, 'incoher': 8006, 'cloak': 3376, '3month': 363, 'malaysian': 9610, 'petrona': 11828, 'skybridg': 14431, 'keebler': 8656, 'residencethem': 13182, 'longsil': 9377, 'insul': 8171, 'versac': 16813, 'polar': 12094, 'dapper': 4189, 'spook': 14845, 'flinch': 6077, 'pharmaci': 11847, 'iphonefeatures4politician': 8260, 'kellyonmymind': 8669, 'gissendan': 6682, 'nois': 10867, 'undertak': 16434, 'embalm': 5271, 'lucr': 9471, 'overhaul': 11410, 'michelangelo': 10060, 'muteresist': 10570, 'itun': 8320, 'arcad': 1265, 'iver': 8326, 'supergroup': 15309, 'hamil': 7167, 'henderson': 7442, 'redbox': 12949, 'touchscreen': 15982, 'assimil': 1390, 'anheuserbusch': 1092, 'realest': 12859, 'corp': 3792, 'womenonli': 17403, 'icantbreath': 7860, 'craziest': 3921, 'gen': 6583, 'ironi': 8278, 'braun': 2372, 'postrachel': 12222, 'louie': 9420, 'undesign': 16444, 'faroff': 5774, 'cypriot': 4131, 'monasteri': 10340, 'hotair': 7705, 'haiku': 7110, 'iv': 8322, 'psych': 12546, 'dougla': 4890, 'unmark': 16535, 'eia': 5194, 'gerrymand': 6624, 'chronic': 3226, 'townsperson': 16000, 'rpg': 13522, 'trumpcomey': 16178, 'saga': 13623, 'flow': 6110, 'onlook': 11233, 'passersby': 11634, 'mortal': 10406, 'vale': 16726, 'davanzo': 4223, 'draymond': 4934, 'antihero': 1152, 'riverdal': 13364, 'reinhart': 13043, 'insensit': 8140, 'printabl': 12405, 'meaning': 9883, 'hemmedin': 7437, 'bandit': 1660, 'napoleon': 10621, 'strive': 15151, 'isil': 8290, 'lampoon': 8954, 'overdr': 11401, 'odom': 11126, 'khamenei': 8708, 'interfer': 8196, '7season': 525, 'jung': 8573, 'bejewel': 1861, 'tush': 16248, 'disclosur': 4671, 'reclaim': 12918, 'regress': 13022, 'zetajon': 17650, 'csi': 4037, '21stcenturi': 241, 'cashless': 2883, 'roofer': 13458, 'badmouth': 1600, 'inout': 8133, 'misogyni': 10233, 'feign': 5852, 'footwid': 6182, 'hotdog': 7708, 'mesquit': 10014, 'nina': 10833, 'dobrev': 4788, 'tug': 16214, 'multifacet': 10507, 'tile': 15844, 'spellbind': 14792, 'anticip': 1138, 'nea': 10679, 'clae': 3290, 'oldenburg': 11175, 'threeway': 15794, 'followup': 6153, 'zamboni': 17624, 'iceshav': 7867, 'pickl': 11905, 'crouton': 4001, 'shortterm': 14247, 'erad': 5437, '3rdworld': 370, '2040': 220, 'jewsponsor': 8453, 'talc': 15503, 'extrahard': 5646, 'rash': 12815, 'noos': 10941, '1981': 159, 'incest': 7995, 'maria': 9706, 'dominica': 4832, 'recordstor': 12935, 'aloof': 961, 'peripher': 11783, 'unborn': 16381, 'guncheck': 7058, 'penal': 11732, 'rod': 13412, 'abu': 636, 'dhabi': 4551, 'benjamin': 1904, '451': 400, 'bouje': 2313, 'context': 3704, 'prinz': 12410, 'nylon': 11057, 'captor': 2800, 'recant': 12897, '2002': 185, '731st': 508, 'denysid': 4445, 'hunchedforward': 7794, 'stephon': 15025, '76er': 516, 'jahlil': 8351, 'okafor': 11167, 'ravag': 12829, 'adject': 716, 'intimaci': 8221, 'soulcrush': 14709, 'stayathom': 14994, 'trumplov': 16189, 'xl': 17527, 'rental': 13122, 'explainthe90sin4word': 5618, 'resurfac': 13206, 'dogurin': 4810, 'xfl': 17523, '839': 537, '947': 576, 'ought': 11330, 'schizophren': 13790, 'fogl': 6143, 'spokesperson': 14837, 'buildabear': 2548, 'ewok': 5535, 'trybeatingmelightli': 16200, 'wifeb': 17297, 'napaquak': 10616, 'napastrong': 10617, 'iger': 7897, 'threefourth': 15788, 'counterpart': 3844, 'zenith': 17645, 'gamespac': 6499, 'hardhit': 7240, 'heed': 7399, 'ps': 12539, 'merit': 10002, 'countyclerk': 3854, 'errant': 5455, 'keystrok': 8701, 'octopu': 11120, 'demor': 4422, 'minibar': 10178, 'phylli': 11892, 'schlafli': 13791, 'kingmak': 8750, 'mildli': 10127, 'treatableyet': 16085, 'smore': 14563, '175': 111, 'ppm': 12257, 'co2': 3410, 'shinto': 14200, 'priestess': 12386, 'sword': 15435, 'shrine': 14273, 'prog': 12457, 'cactu': 2690, 'carmin': 2844, 'appic': 1229, 'mccarti': 9841, 'shimabukuro': 14195, 'amc': 1016, 'makeareasonablerequest': 9599, 'decent': 4299, 'timberwolv': 15852, 'gan': 6503, 'charisma': 3049, 'turretmount': 16245, 'bassist': 1743, 'grossest': 6983, 'tattletal': 15567, 'scoot': 13833, 'fashionforward': 5783, 'microlend': 10070, 'aumf': 1464, 'nugent': 11018, 'jaskoviak': 8388, 'bailout': 1618, 'suburban': 15234, 'dapl': 4188, 'somalian': 14666, 'bile': 2000, 'mere': 9999, 'diaz': 4568, 'gpa': 6850, 'olsen': 11187, 'prettiest': 12369, 'temporari': 15646, 'bate': 1752, 'migrain': 10116, 'inanim': 7983, 'jumbl': 8561, 'cord': 3768, '56yearold': 449, 'palahniuk': 11513, 'antivaxx': 1180, 'leverag': 9168, 'incorrectli': 8016, 'directv': 4644, 'acquisit': 681, 'dunkin': 5049, 'almond': 953, 'spank': 14748, 'bitterli': 2066, 'wouldv': 17466, 'ridden': 13311, 'schneider': 13796, 'abramson': 623, 'emmanuel': 5297, 'heidi': 7405, 'obgyn': 11079, 'premonit': 12328, 'lepag': 9147, 'guillotin': 7039, 'baja': 1620, 'palmar': 11524, 'loreto': 9398, 'malawi': 9608, 'digitalcamera': 4596, 'slimmer': 14488, 'disneyland': 4720, 'pepperspray': 11759, 'restrain': 13201, 'scotch': 13841, 'antitransgend': 1178, 'blab': 2072, 'presup': 12363, 'dismal': 4715, 'steroid': 15034, 'bodyslam': 2217, 'gianfort': 6644, 'scorch': 13836, 'frenchman': 6329, 'bataclan': 1748, 'mediaobsess': 9907, 'predica': 12292, 'goya': 6848, 'seventhgrad': 14074, 'dissect': 4744, 'hugh': 7773, 'cdr': 2947, 'joann': 8477, 'silverstein': 14335, 'protector': 12513, 'fidel': 5916, 'kansasoklahoma': 8617, '30minut': 306, 'highintens': 7501, 'tripledeck': 16136, 'trumpsupport': 16194, 'biraci': 2037, 'readin': 12854, 'researchin': 13173, 'writin': 17498, 'truffl': 16170, 'geni': 6594, 'supposedli': 15337, 'wellendow': 17184, 'leprechaun': 9148, 'maraud': 9691, 'irl': 8274, 'mona': 10335, 'sparkli': 14753, 'princeton': 12400, 'woodrow': 17421, 'kozol': 8858, 'mustread': 10564, 'arafat': 1258, 'uhaul': 16328, 'reintroduc': 13046, 'yearlong': 17557, 'hatewatch': 7301, '79': 521, 'zest': 17648, 'rightw': 13331, 'everytown': 5521, 'flex': 6071, 'expend': 5607, 'solver': 14662, 'pornhub': 12158, 'presauc': 12343, 'liferaft': 9220, 'companion': 3558, 'hip': 7537, '90yearold': 565, 'hooti': 7669, 'blowfish': 2173, '2005': 188, 'gloat': 6721, 'draconian': 4914, 'skewer': 14408, 'trashfre': 16069, 'selfreal': 13993, 'riyadh': 13366, 'nuisanc': 11020, 'nuanc': 11007, 'puck': 12574, 'snarki': 14583, 'saltnpepa': 13657, 'poland': 12092, 'proce': 12431, 'acid': 670, 'usrussia': 16693, 'nike': 10827, 'pared': 11591, 'suad': 15200, 'entenmann': 5380, 'spookiest': 14847, 'nafta': 10600, 'anchorman': 1064, 'spermicid': 14797, 'regard': 13008, 'sontag': 14687, 'uncheck': 16391, 'seawe': 13902, 'nourish': 10986, 'crumbl': 4022, 'unlabel': 16523, 'tvfree': 16255, 'davo': 4228, 'fedotowski': 5839, 'fianc': 5907, 'manno': 9670, 'nova': 10988, 'abouncin': 619, 'blindfaithbas': 2127, 'nonthreaten': 10935, 'inflect': 8085, 'niro': 10845, 'disk': 4711, 'rosetta': 13481, 'hungarian': 7798, 'yearli': 17556, 'sneakiest': 14589, 'kingdom': 8749, 'rebelheld': 12884, 'g41': 6457, 'ophelia': 11249, 'braless': 2361, 'grasshopp': 6891, 'thorax': 15770, '34yearold': 330, 'debtor': 4286, '300pound': 302, 'missionari': 10243, 'ultraproduct': 16341, 'middlemen': 10087, 'mariana': 9709, 'longshot': 9376, 'fluctuat': 6115, 'broward': 2492, 'fetus': 5900, 'plenti': 12031, 'asterisk': 1398, 'gentl': 6601, '1click': 177, 'arthriti': 1331, 'proceed': 12433, 'whippl': 17245, 'popsicl': 12144, 'plain': 11988, '3minut': 362, 'playplac': 12019, 'goon': 6806, 'cedrick': 2955, 'chatman': 3070, 'greed': 6918, 'sarawak': 13708, 'weav': 17140, 'israelhizballahiran': 8306, 'japaneseamerican': 8382, 'gonzaga': 6789, 'profoundli': 12455, 'mammogram': 9629, 'wooden': 17417, 'nonchristian': 10890, 'volatil': 16943, 'magna': 9569, 'carta': 2866, 'reb': 12880, 'zalman': 17621, 'stonecold': 15076, 'rockrun': 13409, 'solvent': 14661, 'outsiz': 11382, 'ego': 5189, 'lowincom': 9447, 'forag': 6183, 'sweatshop': 15403, 'sew': 14079, 'tilda': 15843, 'swinton': 15425, 'splash': 14825, 'fatherhood': 5797, 'cheyenn': 3130, 'pompeii': 12116, 'excav': 5548, 'ragtag': 12750, 'but': 2643, 'pepsiawar': 11763, '00000000001': 1, 'kickstart': 8721, 'bosss': 2298, 'cautiou': 2932, 'traci': 16010, 'tenison': 15657, 'jojo': 8496, 'maman': 9627, 'bb': 1781, 'glaad': 6692, 'voyeur': 16968, 'bluray': 2187, 'breaker': 2388, 'macdonald': 9531, 'backedup': 1571, 'shoo': 14226, 'waterslid': 17099, 'tailor': 15492, 'unclaim': 16394, 'hyperrealist': 7840, 'repuls': 13162, 'breakfocus': 2390, 'threshold': 15796, 'aret': 1283, 'pulp': 12590, 'weirdlook': 17175, 'splice': 14826, 'mainbrac': 9588, 'jihadist': 8461, 'elmo': 5255, 'coe': 3448, 'publicrel': 12570, 'condescendingli': 3610, 'stimulu': 15056, 'fuse': 6444, 'flew': 6070, 'emeril': 5287, 'bam': 1649, 'groupi': 6990, 'reuter': 13234, 'eyelin': 5666, 'lg': 9178, 'hapa': 7217, 'espero': 5467, 'eighti': 5200, 'toner': 15934, 'cartridg': 2873, 'strictest': 15143, 'hollow': 7606, 'ichabod': 7869, 'tnt': 15891, 'headless': 7340, 'horseman': 7692, 'preet': 12302, 'bharara': 1962, 'manafort': 9632, 'americana': 1022, 'mta': 10477, 'rejoic': 13053, 'salon': 13651, 'nagel': 10602, 'nemo': 10719, 'bangerz': 1664, 'seeth': 13936, 'djener': 4778, 'sur': 15343, 'lherb': 9182, 'monet': 10344, 'whoa': 17267, 'ragsdal': 12749, 'homan': 7618, 'schulz': 13811, 'neverbeforeseen': 10756, 'easel': 5114, 'renaissancestyl': 13104, 'goofi': 6803, 'levelhead': 9166, 'charismat': 3050, 'lichen': 9207, 'zod': 17666, 'cocktailnationcraz': 3438, 'sagan': 13624, 'superstit': 15324, 'unrepres': 16574, 'shakespear': 14114, 'upbraid': 16629, 'scoff': 13826, 'sprain': 14864, 'ayn': 1548, 'promo': 12476, 'moroccan': 10399, 'gargamel': 6519, 'trumpism': 16185, 'myroommateisweird': 10580, 'roomi': 13463, 'bumrush': 2576, 'botan': 2301, 'misunderstood': 10258, 'censur': 2975, 'specialw': 14771, 'irregular': 8281, 'nationbuild': 10652, 'walsh': 17029, 'midsolo': 10102, 'caleb': 2713, 'merriamwebst': 10007, 'imper': 7952, 'spicey': 14802, 'dea': 4250, 'isiss': 8293, 'understudi': 16433, 'suitor': 15270, 'giddili': 6648, 'loserman': 9404, 'libslavesinfo': 9201, 'wideawakepatriotcom': 17284, '25pound': 267, 'wedg': 17151, 'adrift': 739, 'drank': 4925, 'reda': 12947, 'kateb': 8635, 'hippocr': 7541, 'coliseum': 3475, 'healthcaregov': 7355, 'syriaalthough': 15462, 'skyscrap': 14440, 'pagedriven': 11489, 'adrenalin': 736, '354': 334, 'fingernail': 5959, 'selfridg': 13996, 'duggar': 5024, 'unceremoni': 16387, 'waver': 17107, 'stuntin': 15187, 'epiphani': 5418, 'chloe': 3187, 'chillax': 3159, 'gnar': 6744, 'policewoman': 12099, 'shall': 14122, 'diaspora': 4567, 'religionthem': 13076, 'ave': 1501, 'collegi': 3486, 'ramarley': 12776, 'judgment': 8538, 'wrongdo': 17501, 'kurdistan': 8893, 'twostat': 16286, '63': 475, 'wrestlingfil': 17485, 'tumbl': 16219, 'staircas': 14924, 'mulligan': 10502, 'tar': 15544, 'delarg': 4382, 'droog': 4969, 'amidst': 1028, 'maddow': 9550, 'cav': 2934, 'charla': 3054, 'commentari': 3535, 'attentiontodeficit': 1439, 'lypsinka': 9518, 'trilog': 16127, 'mozart': 10463, 'flute': 6124, '2150': 238, 'osteoporosi': 11316, 'serbia': 14042, 'mahmoud': 9577, 'abba': 600, 'talkshow': 15510, 'wist': 17374, 'via': 16831, 'garca': 6513, 'mrquez': 10471, 'tantric': 15538, 'hokey': 7590, 'pokey': 12090, 'introspect': 8231, 'schoolhous': 13809, 'kristin': 8871, 'medium': 9920, 'malala': 9606, 'yousafzai': 17600, 'elsa': 5259, 'pataki': 11646, '120': 64, 'fax': 5814, 'krypton': 8878, 'koechner': 8827, 'barksdal': 1709, 'arnold': 1311, 'swagger': 15384, 'kerr': 8688, 'alshabaab': 972, 'congressperson': 3650, 'entwin': 5402, 'triplex': 16137, 'protrump': 12520, 'madam': 9547, 'oilrich': 11163, 'paygap': 11690, 'walkov': 17017, '237': 250, 'brainstorm': 2358, 'colbear': 3465, 'elder': 5213, 'seminud': 14010, 'ept': 5425, 'bestkept': 1936, 'slight': 14485, 'ebolastricken': 5136, 'bouilleri': 2312, '31st': 313, 'trivial': 16144, 'pursuit': 12625, 'oj': 11165, 'cannsa': 2775, 'properti': 12493, 'mayfli': 9825, 'autumn': 1496, 'runaway': 13558, '96yearold': 584, 'iri': 8272, 'apfel': 1208, 'barbi': 1695, 'hm': 7565, 'balmain': 1645, 'luckiest': 9470, 'enviro': 5405, 'guin': 7043, 'alina': 913, 'zagitova': 17617, '2025': 212, 'hijab': 7519, '100yearold': 29, '100meter': 24, 'looselip': 9390, 'selfdirect': 13968, 'turnkey': 16242, 'columbia': 3508, 'rosenstein': 13479, 'asap': 1344, 'anaheim': 1051, 'welter': 17191, 'contentedli': 3701, '100mile': 25, 'nov': 10987, 'woodcraft': 17415, 'ut': 16698, 'honolulu': 7660, 'redskin': 12970, 'lint': 9269, 'cardigan': 2817, 'stallion': 14932, '29': 282, 'oneyearold': 11228, 'haitian': 7124, 'ragnark': 12748, 'portauprinc': 12172, 'homeboy': 7620, 'outer': 11350, 'umbil': 16350, 'franchesca': 6269, 'strangul': 15115, 'firmli': 5985, 'nondouchey': 10898, 'hoverboard': 7741, 'bloc': 2146, 'pancakecrav': 11539, 'reuther': 13235, 'suppositori': 15338, 'uninhabit': 16504, 'sympath': 15447, 'upstag': 16654, 'preshow': 12350, 'sheeran': 14167, 'sailboat': 13631, 'jobless': 8481, 'shampoo': 14132, 'dollhous': 4822, 'worsen': 17455, 'videostor': 16858, 'moan': 10286, 'allglowedup': 934, 'wizard': 17386, 'waverli': 17108, 'climatologist': 3360, 'petsmart': 11829, 'enclosur': 5327, 'kofi': 8829, 'annan': 1101, 'wreath': 17476, 'hoarder': 7570, 'casino': 2885, 'saddest': 13609, 'harleydavidson': 7252, '532': 440, 'sparkl': 14752, 'englishlanguag': 5361, 'misplac': 10236, 'selflot': 13986, 'lazier': 9061, 'aimlessli': 832, 'blackberri': 2077, 'alright': 971, 'injustic': 8117, 'rower': 13514, 'propaganda': 12487, 'batshitzania': 1759, 'buckwild': 2526, 'unaffect': 16357, 'whim': 17239, 'absorb': 633, 'choru': 3209, 'juke': 8551, 'incorrect': 8015, 'teamlogan': 15592, 'fetch': 5894, 'freakish': 6299, 'clemson': 3342, 'lsu': 9459, 'conservationist': 3672, 'dieselg': 4584, 'nrabeholden': 11001, 'marthaapprov': 9744, 'deadbeat': 4252, '20year': 234, 'sickli': 14300, 'kirbi': 8760, 'juxtapos': 8593, 'iconographi': 7873, 'luke': 9479, 'aikin': 827, 'parachut': 11573, 'longoria': 9374, 'largescal': 8992, 'exmarin': 5593, 'trumpet': 16181, 'csection': 4036, '5mile': 458, 'outdo': 11348, 'lampshad': 8956, 'surpass': 15358, 'aha': 817, 'slum': 14514, 'ammonia': 1030, 'whop': 17275, 'stimul': 15055, 'outweigh': 11388, 'carchas': 2810, 'weightloss': 17168, 'boon': 2278, 'doddfrank': 4797, 'godpar': 6762, 'squalor': 14884, 'firstworld': 5999, 'campuss': 2746, 'meanttob': 9886, 'ivf': 8328, 'embryo': 5284, 'guardrail': 7020, 'grassley': 6892, 'unheardof': 16489, 'foxconn': 6254, 'foxx': 6256, 'bundl': 2582, 'fur': 6437, '9month': 590, 'unhappi': 16486, 'pesticid': 11815, 'noquestionsask': 10943, 'crib': 3951, '2021': 209, '4minut': 417, 'preambl': 12276, 'clarenc': 3304, 'blackfac': 2082, 'surfrock': 15350, 'laundri': 9031, '8x10': 559, 'danza': 4186, 'disfigur': 4692, 'flashback': 6042, 'wept': 17195, 'seadoo': 13886, 'halfstaff': 7144, 'audubon': 1461, 'blackcap': 2078, 'chickade': 3139, 'electrician': 5220, 'noman': 10878, 'thrush': 15807, 'fondli': 6159, 'breadwinn': 2384, 'constructionist': 3688, 'domehom': 4827, 'moin': 10315, 'perat': 11767, 'feelthebern': 5849, 'merrygoround': 10010, 'roar': 13379, 'mound': 10440, 'greatgrandmoth': 6915, 'layov': 9056, 'priestley': 12387, 'shannen': 14134, 'doherti': 4811, 'braveri': 2374, 'dendi': 4427, 'labyrinth': 8915, 'influencedbyadcampaign': 8089, 'draftk': 4916, 'dblaze': 4244, 'sift': 14311, 'acquitt': 683, 'dystopia': 5088, 'inadvert': 7982, 'unman': 16534, '1800eatshit': 123, 'recklessdriv': 12916, 'gilliam': 6660, 'muppet': 10537, 'jeffrey': 8415, 'ming': 10173, 'yuan': 17607, 'dynasti': 5083, 'mainland': 9589, 'sweepstak': 15409, 'wasserman': 17084, 'schultz': 13810, 'huh': 7775, 'mantra': 9677, 'drexel': 4951, 'satir': 13720, 'emiss': 5294, 'zz': 17680, 'detractor': 4526, 'girli': 6677, 'grit': 6969, 'lipbalm': 9275, 'slowerburn': 14508, 'scar': 13763, 'plunger': 12054, 'arteri': 1328, 'uproar': 16649, 'cumbr': 4066, 'amrica': 1043, 'otro': 11326, 'desastr': 4483, 'para': 11572, 'despacito': 4498, 'digitalonli': 4599, 'sharewar': 14142, 'litter': 9293, 'oilfield': 11160, 'legeno': 9112, 'jacuzzi': 8347, 'sia': 14290, 'grammat': 6866, 'molli': 10321, 'bicker': 1976, 'jostl': 8519, 'ideal': 7881, 'kristol': 8873, 'herculean': 7449, 'reclus': 12920, 'archi': 1274, 'jughead': 8545, 'jude': 8536, 'epperson': 5424, 'unmask': 16537, 'norri': 10952, 'hogwart': 7588, 'typecast': 16297, 'savannah': 13736, 'guthri': 7074, 'tamra': 15526, 'housew': 7736, 'repercuss': 13138, 'rosamund': 13471, 'pike': 11921, 'ravish': 12833, 'styrofoam': 15197, 'sherbet': 14183, 'superfriendli': 15307, 'beautifi': 1809, 'enbridg': 5323, 'daytim': 4239, 'ciro': 3276, 'guerra': 7027, 'cann': 2768, 'bishop': 2054, 'outvet': 11387, 'virus': 16906, 'preemptiv': 12300, 'casualwear': 2897, 'mannequin': 9667, 'bauer': 1770, 'hoodi': 7663, 'jaim': 8353, 'wee': 17153, 'tmz': 15890, 'chopper': 3204, 'silki': 14328, 'heavenli': 7385, 'kickabout': 8715, 'khlo': 8711, 'primit': 12396, 'hardwar': 7245, 'lukewarm': 9480, 'lsd': 9458, 'poetri': 12076, 'rail': 12755, 'kkk': 8780, 'schwarzenegg': 13813, 'catchphras': 2912, 'noway': 10993, 'coral': 3765, 'reef': 12979, 'squarep': 14887, 'rancher': 12788, 'bundi': 2581, 'carrey': 2857, 'psycho': 12552, 'attenborough': 1435, 'courtship': 3868, 'karenina': 8624, '5th': 462, 'dilig': 4607, '750': 512, 'ulterior': 16336, 'vy': 16979, 'introvers': 8232, 'swimwear': 15421, 'unedit': 16458, 'paparazzi': 11566, 'lemoni': 9128, 'snicket': 14593, 'wesleyan': 17199, 'chainsaw': 3010, 'caution': 2931, 'cobbl': 3426, 'orchestra': 11272, 'philharmon': 11866, 'freight': 6325, 'avenu': 1505, 'afrodisney': 782, 'rca': 12844, 'arista': 1296, 'daltrey': 4162, 'hernan': 7455, 'barangan': 1687, 'rebellion': 12885, 'augment': 1462, 'submerg': 15213, 'icecream': 7865, 'ultrasound': 16345, 'chipmunk': 3175, 'lightsab': 9232, 'obliter': 11085, 'tricki': 16116, 'monarch': 10338, 'directori': 4640, 'onthejob': 11240, 'impati': 7948, 'calcutta': 2711, 'beckford': 1816, 'fullmoon': 6414, 'equival': 5433, '200page': 193, 'memorandum': 9965, '75year': 514, 'pension': 11749, 'btch': 2517, 'rejuven': 13055, 'crispi': 3966, 'heath': 7381, 'ledger': 9097, 'birkenstock': 2044, 'ftc': 6389, 'knockoff': 8811, 'pronazi': 12481, 'oclock': 11114, 'fraudul': 6292, 'muchanticip': 10483, '4se': 419, 'derbi': 4473, 'hpv': 7750, 'subpoena': 15217, 'pitzer': 11975, 'clipper': 3371, 'misspeak': 10247, 'mahoney': 9578, 'nirvana': 10846, '9pound': 591, 'sugari': 15262, 'amazingli': 1004, 'humanlik': 7785, 'freelanc': 6313, 'abdul': 607, 'conspir': 3678, 'carbonmonoxid': 2808, '18hour': 129, 'meg': 9928, 'ouchless': 11329, 'adhes': 713, 'regardless': 13009, 'releg': 13065, 'waddl': 16987, 'realtim': 12866, 'falwel': 5737, 'gulagthem': 7048, 'siberia': 14291, 'willow': 17324, 'rita': 13353, 'holocaustdeni': 7613, 'oracl': 11265, 'raindrop': 12761, 'laze': 9059, 'cinnamon': 3264, 'parliamentari': 11604, 'dormant': 4869, 'supervolcano': 15329, 'toah': 15894, 'nyse': 11061, 'blackback': 2076, 'jackal': 8338, 'quadrupl': 12658, 'mockingli': 10296, 'circumst': 3274, 'carousel': 2852, 'videograph': 16857, 'opiuminspir': 11253, 'tum': 16218, 'jingl': 8467, 'outcri': 11345, 'magnanim': 9570, 'banker': 1671, 'corset': 3805, 'headlock': 7342, 'corbett': 3766, 'pankaj': 11550, 'mishra': 10226, 'empower': 5316, 'ocasey': 11104, 'freshli': 6335, 'exoskeleton': 5597, 'deeuphem': 4341, 'meteor': 10027, 'streak': 15124, 'bookclub': 2270, 'degener': 4372, 'safest': 13618, 'secondguess': 13912, 'builtin': 2551, 'vodka': 16935, 'hw': 7825, 'preemi': 12299, 'nicu': 10809, 'longlast': 9372, 'fyi': 6454, 'trotter': 16155, 'paypal': 11694, 'banado': 1652, 'nort': 10953, 'liberac': 9193, 'paddi': 11482, 'overstockcom': 11437, 'seniorcent': 14018, 'anchorwoman': 1065, 'oscarnight': 11305, 'underpublic': 16424, 'hillaryhuma': 7530, 'saddam': 13606, 'weaktheyr': 17123, 'reignit': 13034, 'longdebunk': 9367, 'insignia': 8144, 'portug': 12184, 'hormon': 7681, 'servicememb': 14060, 'tarantinostyl': 15549, 'portfolio': 12176, 'flustricken': 6123, 'tarot': 15555, 'fitzgerald': 6013, 'intricaci': 8226, 'inperson': 8134, 'latt': 9022, 'trio': 16133, 'cutup': 4114, 'landlord': 8964, 'nw': 11049, 'sommeli': 14676, 'antifatti': 1146, 'airbrush': 839, '999': 588, 'mindset': 10169, 'fka': 6023, 'twig': 16269, 'chateau': 3069, 'marmont': 9727, 'multidisciplinari': 10505, 'threer': 15791, 'verbatim': 16800, 'smirk': 14548, 'nicki': 10803, 'minaj': 10157, 'domenici': 4828, '92yearold': 572, 'allig': 937, 'momtob': 10334, 'nobannowal': 10857, 'disguis': 4695, 'walli': 17024, 'exwal': 5658, 'raccoon': 12713, 'lightheart': 9229, 'mao': 9683, 'censorship': 2973, 'appeas': 1224, 'strenlow': 15134, 'dander': 4177, 'glu': 6737, 'lava': 9038, 'onehour': 11219, 'itch': 8315, 'enlarg': 5367, 'nofilt': 10864, 'modernday': 10304, 'lancelot': 8959, 'domhnal': 4830, 'gleeson': 6713, 'hux': 7824, 'brightest': 2439, 'om': 11190, 'heathcliff': 7382, 'windi': 17335, 'ladyinwait': 8930, 'talibanlook': 15507, 'insurancederegulationbil': 8174, 'thereisaidit': 15731, 'wannab': 17041, 'jellyfish': 8416, 'nyad': 11053, 'emporia': 5314, 'suction': 15250, 'cupwear': 4076, 'cower': 3880, 'chandeli': 3027, 'facilit': 5691, 'omiss': 11199, 'gere': 6620, 'ralph': 12773, 'rundmc': 13559, 'shown': 14265, 'laffi': 8932, 'taffi': 15486, 'cobbleston': 3427, 'corrugatedcardboard': 3802, '535': 441, 'corrugatedcardboardrel': 3803, '450': 399, 'waterspout': 17100, 'hurl': 7809, 'consent': 3668, 'ocallaghan': 11103, 'convey': 3725, 'pti': 12560, 'floppi': 6098, 'aman': 997, 'sethi': 14066, 'editorinchief': 5169, 'seclud': 13907, 'vincent': 16883, 'canbi': 2756, 'overlong': 11417, 'glanc': 6702, 'nbd': 10671, 'azor': 1553, 'drivethru': 4963, 'mcdougal': 9854, 'fring': 6358, 'antiimmigr': 1154, 'egocentr': 5190, 'sentient': 14030, 'herpetologist': 7463, 'nuestra': 11017, 'palabra': 11510, 'janic': 8375, 'norton': 10959, 'amplifydcom': 1041, 'undet': 16445, 'trexit': 16105, 'inept': 8060, '720': 503, 'knack': 8791, 'pricegoug': 12379, 'framework': 6265, 'na': 10588, 'misogynoir': 10235, 'aerosmith': 760, 'watkin': 17103, 'eminem': 5292, 'newfront': 10766, 'aoki': 1198, 'edm': 5170, 'heffern': 7401, 'cw': 4116, 'buckley': 2525, 'metzger': 10041, 'exert': 5576, 'instantli': 8161, 'fbomb': 5816, 'anni': 1102, 'mumolo': 10526, 'favreau': 5811, 'liveact': 9299, 'renal': 13105, 'fallibl': 5728, 'gta': 7009, 'morani': 10390, 'straighttovideo': 15105, 'shortrang': 14245, 'djimon': 4779, 'hounsou': 7723, '6figur': 487, 'tumblr': 16220, 'halfunderstand': 7147, 'shehulk': 14169, 'unblemish': 16379, 'suppl': 15331, 'foremanali': 6199, 'rivalri': 13360, 'miter': 10264, 'faceshield': 5686, 'u2': 16308, 'freud': 6340, 'onehalf': 11217, 'nightlif': 10822, 'brinkley': 2446, 'barney': 1715, 'lyft': 9510, 'ghostwrit': 6639, 'unsolicit': 16591, 'waterg': 17096, 'nixonian': 10853, 'aloud': 962, 'jessi': 8436, 'decker': 4306, 'boseman': 2294, 'frapp': 6285, 'halfheartedli': 7138, 'versa': 16812, 'tropic': 16153, 'client': 3353, 'scoutflavor': 13850, 'mongol': 10350, 'kerryprimari': 8690, 'fafsa': 5705, 'synesthesia': 15459, 'sonia': 14681, '4th': 420, 'axact': 1539, 'sped': 14781, 'duchovni': 5011, 'miniseri': 10186, 'setlist': 14067, 'flawless': 6058, '115': 56, 'backdrop': 1570, 'fraggl': 6260, 'meatlov': 9897, 'mute': 10569, 'unscript': 16582, 'sentiment': 14031, 'noseble': 10963, 'macarena': 9525, 'heartbreakingli': 7369, 'toot': 15945, 'whoever': 17268, 'trickl': 16117, 'odorless': 11129, 'claud': 3325, 'brinegar': 2443, 'wiser': 17371, 'allstat': 944, 'racket': 12726, 'inflat': 8084, 'renorm': 13118, 'arti': 1333, 'lang': 8971, 'dominion': 4834, 'whisker': 17248, 'clearer': 3337, 'creationist': 3928, 'foodborn': 6163, 'zell': 17641, 'leatherclad': 9085, 'renoarea': 13115, 'selfmutil': 13989, 'deadlin': 4257, 'stacey': 14910, 'pusha': 12627, 'registr': 13020, 'subdu': 15208, 'fourleg': 6247, 'tactic': 15483, 'airtosurfac': 852, 'minc': 10158, 'helium': 7421, 'squeaki': 14893, 'hysterectomi': 7850, 'provoc': 12532, '20142015': 203, 'aspirin': 1376, '1983': 161, 'speedboat': 14786, 'sri': 14901, 'srinivasan': 14903, '1939': 146, 'goodlook': 6796, 'i90': 7852, 'crosscountri': 3986, 'midfebruari': 10091, 'kiper': 8758, 'spreadsheet': 14870, 'grecian': 6916, 'formula': 6224, 'nongrecian': 10905, 'spinal': 14814, 'belgrad': 1870, 'slink': 14489, 'implod': 7961, 'archangel': 1270, 'cobain': 3425, 'prehab': 12313, 'coopt': 3748, 'queercor': 12680, 'spontan': 14843, 'forefront': 6195, 'samsonit': 13672, 'wipeout': 17360, 'reven': 13240, 'selflessli': 13985, 'trait': 16033, 'huma': 7779, 'abedin': 611, 'sixyearold': 14395, 'ballerina': 1634, 'veterinarian': 16826, 'horsebackrid': 7690, 'auditor': 1457, 'belliger': 1878, 'mele': 9949, 'womanhood': 17401, 'shitcak': 14208, 'urinesoak': 16669, 'postmast': 12211, 'kellen': 8664, 'di': 4553, 'quantiti': 12669, 'compil': 3569, 'lyfe': 9509, 'gamer': 6498, 'insurg': 8175, 'cheesesteak': 3101, 'rabid': 12712, 'omnigrain': 11201, 'cheerio': 3094, 'excerpt': 5553, 'shitfac': 14209, 'multimillionair': 10511, 'kucinich': 8881, 'feasibl': 5827, 'scripp': 13869, 'burlesqu': 2607, 'deign': 4377, 'protestor': 12516, 'masterchef': 9774, 'prawn': 12269, 'raw': 12834, 'cleans': 3332, 'theall': 15714, 'unremark': 16571, 'burt': 2620, 'refrain': 12997, 'stonewal': 15082, 'cindi': 3259, 'crawford': 3913, 'agoni': 810, 'nurtur': 11036, 'ballscopi': 1643, 'headbutt': 7336, 'quicksand': 12693, 'dixieland': 4773, 'evict': 5523, 'reauthor': 12879, 'sharpest': 14150, 'crayon': 3917, 'duress': 5056, 'itd': 8316, 'cherish': 3116, 'fritolay': 6361, 'milki': 10139, 'shimmer': 14196, 'onpoint': 11235, 'workahol': 17429, 'devot': 4542, 'tranc': 16036, 'intox': 8224, 'firstclass': 5989, 'sensual': 14027, 'unhook': 16492, 'clasp': 3314, '85yearold': 543, 'recogniz': 12923, 'batarang': 1749, 'knot': 8813, 'uv': 16706, 'lollapalooza': 9354, 'boynton': 2341, 'robinson': 13391, '104': 35, 'sweatstaind': 15404, 'unlock': 16531, 'cuddl': 4051, 'defang': 4345, '66yearold': 482, 'liveblog': 9300, 'tarana': 15547, 'untelevis': 16605, 'ps4': 12540, 'higgin': 7491, 'lauren': 9036, 'bushnel': 2631, 'tort': 15971, 'hasti': 7288, 'evok': 5529, 'omaha': 11191, 'flabbergast': 6026, 'hannib': 7212, 'buress': 2594, 'turbul': 16232, 'poo': 12127, 'durat': 5054, 'grader': 6860, 'reimpos': 13036, 'savion': 13740, 'vfw': 16828, 'corteg': 3806, 'prairi': 12263, 'lonesom': 9362, 'townshend': 15999, 'buoyant': 2589, 'displac': 4731, 'nordstrom': 10946, 'cellar': 2964, 'workshop': 17441, 'kindr': 8747, '5k': 457, 'unreward': 16576, '29decemb': 286, 'eighthgrad': 5199, 'twelfthgrad': 16264, 'reallyloudwhistl': 12865, 'bhp': 1963, 'unifi': 16500, 'illwil': 7919, 'courtesi': 3862, 'buttock': 2658, 'undul': 16454, 'sexualitychalleng': 14095, 'sucker': 15248, 'toastabl': 15896, 'pretoast': 12366, 'billionnair': 2009, 'kci': 8651, 'consul': 3689, 'carb': 2805, 'subvert': 15236, 'we': 17116, 'bentley': 1907, 'bedford': 1822, 'ku': 8879, 'klux': 8789, 'klan': 8781, 'unforgett': 16478, 'superstar': 15323, 'holli': 7604, 'woodlawn': 17419, 'pogg': 12077, 'hazmat': 7324, 'aunti': 1466, 'mammal': 9628, 'manmad': 9666, 'rosk': 13483, 'condens': 3609, 'unansw': 16364, 'betti': 1949, 'friedan': 6347, 'secondclass': 13910, 'postag': 12196, 'stargat': 14959, 'sg1': 14102, 'confederaci': 3622, 'nif': 10813, 'fraca': 6257, 'friar': 6344, 'misrabl': 10237, '28game': 280, 'skid': 14411, 'dorner': 4871, 'kwanzaa': 8900, 'laps': 8983, 'preak': 12275, 'slappi': 14449, 'bi': 1964, 'bookcas': 2269, 'trekthem': 16094, 'unchart': 16390, 'straley': 15109, 'hideou': 7490, 'harde': 7236, 'magicmark': 9568, 'deter': 4519, 'ricecak': 13295, 'thief': 15742, 'counteroffens': 3843, 'minisequel': 10185, 'brendan': 2409, 'fraser': 6287, 'premovi': 12329, 'lowskil': 9451, 'leeri': 9101, 'titanium': 15881, 'feijoada': 5853, '3rdgrade': 369, 'faq': 5753, 'sgt': 14103, 'pepperstyl': 11760, 'lew': 9172, 'mandibl': 9643, 'heather': 7383, 'heyer': 7475, 'giddi': 6647, 'trueblu': 16168, 'traumat': 16071, 'jil': 8462, 'irresist': 8284, 'corgi': 3776, 'culturelov': 4063, 'halo': 7159, 'multiplay': 10514, 'werent': 17196, 'delawar': 4384, 'robocal': 13392, 'pantomim': 11560, 'warlord': 17055, 'dacament': 4139, 'pellet': 11728, 'infograph': 8093, 'contextless': 3705, 'selectivelyedit': 13949, 'jb': 8400, 'smoov': 14562, 'ovarian': 11390, 'intercultur': 8191, '20week': 233, 'cinemax': 3262, 'skinematographi': 14418, 'gett': 6633, 'vivian': 16924, 'amsalem': 1044, 'altright': 984, 'excercis': 5552, 'priorit': 12411, 'lil': 9240, 'inconsider': 8012, 'upstand': 16656, 'infertil': 8077, 'erlich': 5450, 'sweetheart': 15413, 'biotech': 2033, 'stapler': 14950, 'heisman': 7415, 'allevi': 931, 'internship': 8207, '7eleven': 524, 'busch': 2627, 'carrol': 2861, 'corduroy': 3771, 'rockhard': 13406, 'reindeer': 13040, 'noisi': 10870, 'aleck': 886, 'shale': 14119, 'geopolit': 6613, 'tedx': 15616, 'seamlessli': 13892, 'byrd': 2675, 'demolit': 4419, 'equin': 5429, 'serengeti': 14048, 'surgic': 15354, 'needleswap': 10703, 'blackown': 2090, 'battlebot': 1765, 'cpu': 3891, 'freeheld': 6312, 'cardiovascular': 2820, 'abuzz': 638, 'cspan': 4038, 'highpow': 7507, 'scoliosi': 13829, 'besieg': 1931, 'daraya': 4192, 'jewri': 8452, 'spacethem': 14739, 'wildebeest': 17306, 'elevenyearold': 5235, 'dodgebal': 4799, 'homeopath': 7627, 'selfrat': 13992, 'saucer': 13728, 'jumpstart': 8570, 'pittsburgh': 11974, 'corral': 3795, 'afterward': 793, 'weasel': 17136, 'minimumwag': 10183, 'hazzard': 7325, 'putter': 12633, 'mulan': 10498, 'chipper': 3177, 'unplay': 16550, 'acoust': 677, 'doggi': 4807, 'savethed': 13739, 'ruff': 13543, 'nonhungov': 10907, 'postwhit': 12227, 'preoccup': 12331, 'gendiy': 6589, 'hotb': 7707, 'rhinocero': 13280, 'timewarn': 15858, 'distraught': 4751, 'consciou': 3664, 'posthum': 12208, '2199': 239, 'shack': 14104, 'jeter': 8443, 'xenic': 17519, 'propecia': 12488, 'claritin': 3309, 'paxil': 11684, 'drixor': 4967, 'lipitor': 9277, 'tavistd': 15574, 'puffer': 12580, 'vest': 16821, 'sanford': 13691, 'fiance': 5908, 'mida': 10080, 'segreg': 13940, 'aveag': 1502, 'nonjewish': 10911, 'salk': 13646, 'sherri': 14187, 'lans': 8976, 'algeria': 902, 'unfairli': 16471, 'impair': 7943, 'asp': 1369, 'bori': 2289, '1928': 142, 'uncertainti': 16389, 'urinari': 16667, 'tract': 16012, 'diplomaci': 4633, 'jigsaw': 8459, 'remiss': 13096, 'cher': 3115, 'faintli': 5712, 'audibl': 1451, 'pettingzoo': 11832, 'swarm': 15392, 'veronaon': 16810, 'vicari': 16842, 'tridelta': 16122, 'dariu': 4198, 'rucker': 13535, 'gamecock': 6497, 'cuter': 4104, 'lawncar': 9045, 'wasp': 17083, 'infin': 8081, 'yowl': 17605, 'kiwi': 8778, 'atv': 1445, '15minut': 96, 'outlook': 11365, 'conventiongo': 3721, 'yolk': 17584, 'vendingmachin': 16784, 'airway': 854, 'slider': 14483, 'ladenschlussgesetz': 8926, 'concis': 3601, 'knobbyfac': 8806, '297': 284, 'minutia': 10203, 'indivis': 8048, 'intuit': 8235, 'chummi': 3236, 'dictat': 4573, 'mild': 10124, 'hassl': 7286, 'zedd': 17637, 'beyhiv': 1955, 'onscreen': 11237, 'xylophonist': 17533, 'needleexchang': 10702, 'druggi': 4984, 'csa': 4035, 'booz': 2283, 'eucalyptu': 5491, 'headphoneswear': 7345, 'filament': 5933, 'allud': 947, 'babbl': 1555, 'emt': 5319, 'stretcher': 15140, 'cop21': 3753, '23hour': 253, 'outgrown': 11354, 'sense8': 14021, 'offshor': 11147, 'cafepresscom': 2699, 'improperli': 7974, 'dada': 4142, 'bass': 1740, 'freshmen': 6337, 'osteoarthr': 11315, 'partisanship': 11619, 'nutriti': 11042, 'cafe': 2698, 'hooter': 7668, 'childish': 3151, 'gambino': 6491, 'candler': 2765, 'dayton': 4241, 'weedstuf': 17155, 'alp': 963, 'tandem': 15529, 'underway': 16440, 'tirelessli': 15876, 'npt': 10999, 'redmayn': 12967, 'factfind': 5695, 'tame': 15518, 'ducharm': 5009, '1967': 154, '87yearold': 548, 'tsoureki': 16205, 'cleansingfocus': 3334, '65yearold': 480, 'ub': 16311, 'lardfac': 8988, 'bureaucrat': 2592, '918': 568, '1969': 155, 'kobani': 8822, 'valadao': 16724, 'tk': 15887, 'propel': 12490, 'porsha': 12166, 'conrad': 3662, 'constabl': 3680, 'teetertott': 15623, 'plank': 11995, 'beam': 1790, 'earnest': 5105, 'discredit': 4681, 'cheapest': 3081, 'careen': 2823, 'ssri': 14905, 'prosecutori': 12503, 'shannon': 14135, 'tweed': 16260, 'nuditi': 11016, 'mozambiqu': 10462, '145': 79, 'sexuallytransmit': 14096, 'dous': 4892, 'berk': 1912, 'reshap': 13179, 'dinti': 4624, 'farallon': 5755, 'usfw': 16689, 'taxfre': 15577, 'solang': 14642, 'knowl': 8816, 'hectic': 7394, 'barbado': 1689, 'saver': 13738, 'krieger': 8866, 'spatter': 14756, 'byblo': 2669, 'brim': 2441, 'reenerg': 12984, 'unwork': 16625, 'kbeauti': 8649, 'ching': 3173, 'homoji': 7643, 'shorthand': 14243, 'garri': 6525, 'kasparov': 8631, 'methodist': 10034, 'upstat': 16657, 'voltaggio': 16952, 'onestar': 11223, 'rebrand': 12889, 'xxxxii': 17532, 'cftc': 3001, 'downstair': 4906, 'unsold': 16590, 'hice': 7482, 'antiislam': 1155, 'diou': 4629, 'cruce': 4007, 'turpan': 16244, 'manpow': 9672, 'marcu': 9700, 'mariota': 9716, 'dre': 4935, 'ecstat': 5155, 'lacklust': 8920, 'stach': 14911, 'skywalk': 14441, 'tara': 15545, 'lipinski': 9276, 'weir': 17171, 'pragmatist': 12261, 'foolish': 6170, 'ruffalo': 13544, 'mcneil': 9869, 'atran': 1427, 'clint': 3367, 'eastwood': 5123, 'guitarist': 7047, 'vinni': 16888, 'blankenship': 2105, 'upper': 16644, 'socialit': 14624, 'cunt': 4069, 'beatti': 1805, 'messi': 10018, 'cayman': 2939, 'snag': 14571, 'drugstor': 4988, 'sinu': 14368, 'luxurycrav': 9506, 'pre2008': 12272, '18to35': 133, 'quench': 12682, 'thirst': 15763, 'narcoterror': 10629, 'crimea': 3956, 'mollifi': 10322, 'herd': 7450, 'def': 4342, 'seahawk': 13889, 'punt': 12607, 'nomsens': 10881, 'unhyphen': 16494, 'senatori': 14013, 'heartstr': 7375, 'pelvic': 11730, 'irreplac': 8283, 'suav': 15202, 'leavein': 9088, 'condition': 3613, 'keanu': 8652, 'reev': 12987, 'selfhood': 13975, '70th': 499, 'nightmarish': 10825, 'labyrinthian': 8916, 'darkest': 4202, 'deprav': 4461, 'scampi': 13756, 'femalelibidoenhanc': 5865, 'miscellan': 10214, 'wield': 17292, 'checkpoint': 3088, 'commish': 3539, 'copp': 3758, 'lovin': 9436, 'fastlearn': 5791, 'pathway': 11655, 'crete': 3948, 'businessmen': 2635, 'advocaci': 755, 'mohanda': 10311, 'gandhi': 6505, 'nucleartest': 11012, 'khrushchev': 8713, 'stalin': 14928, 'orient': 11286, 'hatchim': 7295, 'hefner': 7403, 'foreplay': 6202, 'atx': 1447, 'chafe': 3006, 'roker': 13428, 'inhof': 8111, 'messeng': 10017, 'antitragedi': 1177, 'oxiclean': 11461, 'stainremov': 14922, 'fabric': 5677, 'scissor': 13824, 'disorderli': 4724, 'sunbath': 15282, 'crise': 3963, 'mcommerc': 9872, 'pansi': 11555, 'acclim': 655, '340': 327, 'facemask': 5682, 'selfcontrol': 13961, 'bleak': 2116, 'trickortreatin100year': 16119, 'demolish': 4418, 'kennel': 8676, 'coup': 3855, 'plotter': 12041, 'inhibit': 8110, 'lawnmow': 9046, 'messiah': 10019, 'zoroastrian': 17675, 'transylvania': 16065, 'segel': 13938, 'afterlif': 787, 'stapleton': 14951, 'glutenfre': 6739, 'quinoa': 12699, 'deafen': 4264, 'howl': 7746, 'seigner': 13943, 'apologist': 1216, 'mower': 10460, 'quarterback': 12673, 'dojo': 4813, 'smugbastard': 14566, 'bassnectar': 1744, 'hb': 7326, 'weakest': 17121, 'knockedout': 8808, 'chocolatesaucefil': 3193, 'riaa': 13287, 'feverishli': 5903, 'joseph': 8515, 'gordonlevitt': 6817, 'tit': 15878, 'margaret': 9701, 'atwood': 1446, 'roadtrip': 13377, 'unfriendli': 16482, 'fascism': 5780, 'quaker': 12664, 'canist': 2767, 'relabel': 13058, 'sidecar': 14304, 'parentteach': 11595, 'banjo': 1668, 'lemur': 9130, 'contributor': 3715, 'gulp': 7051, 'albarn': 873, 'denmark': 4435, '5hour': 456, 'broach': 2458, 'vixen': 16927, 'cuddli': 4052, 'gadfli': 6465, 'unesco': 16463, 'selfieh': 13977, 'photobomb': 11883, 'howi': 7745, 'bonus': 2263, 'estrogen': 5480, 'nunberg': 11031, 'meltdown': 9956, 'farflung': 5761, 'sitdown': 14382, 'ref': 12989, 'brouhaha': 2490, 'chive': 3184, 'mornin': 10398, 'perriello': 11801, '95': 579, 'tanker': 15534, 'whalesong': 17214, 'aussi': 1468, 'pictori': 11909, 'serenad': 14047, 'smiley': 14547, 'scrub': 13872, 'cellist': 2965, 'burmes': 2610, 'shaven': 14157, 'cologn': 3494, 'dday': 4248, 'mixalot': 10272, 'hiddleston': 7487, 'honki': 7659, 'tonkin': 15938, 'nintendo': 10839, 'outexercis': 11351, 'notsh': 10980, 'docil': 4791, 'redraw': 12969, '576piec': 451, 'hofner': 7583, 'mccartney': 9842, 'slurp': 14518, 'stilltwitch': 15052, 'automak': 1488, 'tormund': 15961, 'hound': 7722, 'mtm': 10479, 'proguncontrol': 12463, 'eggnog': 5188, 'superstiti': 15325, 'extraleg': 5647, 'apparatu': 1220, 'builder': 2549, 'optim': 11262, 'ecstasi': 5154, 'despair': 4499, 'edtech': 5171, 'elena': 5231, 'kagan': 8600, 'paraglid': 11577, 'garfield': 6518, 'har': 7225, 'punni': 12605, 'threeday': 15787, 'freeassoci': 6307, 'bedtim': 1828, 'ian': 7854, 'mckellen': 9861, 'proposit': 12498, 'froot': 6374, 'shelli': 14176, 'rezon': 13272, 'uday': 16317, 'nutsack': 11045, 'shocker': 14219, 'caddi': 2692, 'dazzl': 4243, 'variou': 16756, 'chiquita': 3179, 'easygrip': 5125, 'mucu': 10485, 'facinelli': 5692, 'jaimi': 8354, 'tehran': 15626, 'antigovern': 1151, 'pri': 12377, 'dubiou': 5005, 'credibl': 3932, 'verma': 16807, 'winovomit': 17352, 'dispar': 4726, 'stif': 15045, 'miracul': 10205, 'bloomsday': 2166, 'pointless': 12083, 'tailgat': 15490, 'saltless': 13656, 'bulbheat': 2553, 'nonbinari': 10886, 'keeganmichael': 8657, 'vai': 16721, 'weirdli': 17174, 'esteem': 5476, 'screwdriv': 13868, 'minu': 10201, 'fistpump': 6011, 'notyetreleas': 10984, 'switzerland': 15430, 'matterhorn': 9803, 'cop20': 3752, 'hiddencamera': 7486, 'foodinspir': 6165, 'ninjalik': 10838, 'jesuslov': 8440, 'sendoff': 14015, 'cubicl': 4048, 'salah': 13638, 'abdeslam': 604, 'yanni': 17546, 'motor': 10432, 'zestito': 17649, 'genius': 6597, 'mustwatch': 10566, 'deloitt': 4402, 'filler': 5938, 'krous': 8876, 'rosenth': 13480, 'brunett': 2507, 'bleach': 2115, 'techview': 15611, 'linu': 9270, 'torvald': 15974, 'linux': 9271, 'usb': 16680, 'swank': 15389, 'hideaway': 7489, 'earphon': 5107, '000aday': 5, 'f150': 5670, 'lantern': 8977, 'nsync': 11005, 'bandmat': 1661, 'under70': 16407, 'brokeback': 2471, 'zambia': 17623, 'bei': 1858, 'underwood': 16442, 'stitch': 15065, 'reedu': 12978, 'udpat': 16319, 'severu': 14077, 'snape': 14579, 'suckerpunch': 15249, 'torrenti': 15969, 'greenwood': 6930, 'joshua': 8517, 'beal': 1789, 'tressel': 16102, 'fireey': 5974, 'gutsi': 7076, 'mapplethorp': 9686, 'closedm': 3384, 'spokesbeast': 14834, 'hansom': 7215, 'brainwash': 2359, 'offspr': 11148, 'lundergan': 9495, 'grime': 6956, 'vortex': 16959, 'pend': 11736, 'warfar': 17051, 'makebeliev': 9600, 'nicest': 10795, 'oilman': 11162, 'infal': 8070, 'shoddi': 14221, 'chinesemad': 3172, 'giggl': 6655, 'xavier': 17517, 'dolan': 4816, 'thriller': 15799, 'excolleg': 5564, 'tatum': 15569, '2way': 297, 'infract': 8096, 'uninvestig': 16510, 'intergener': 8198, 'gma': 6741, 'kaley': 8609, 'cuoco': 4070, 'haim': 7112, 'descript': 4487, 'sulli': 15272, 'gradea': 6859, 'khizr': 8710, 'juicebas': 8547, 'maureen': 9809, 'bedhog': 1823, 'revamp': 13237, 'wpa': 17472, 'disassembl': 4658, 'reassembl': 12877, 'lynda': 9513, 'heffernan': 7402, 'selfcompass': 13958, 'whimper': 17240, 'giuliana': 6685, 'rancic': 12789, 'oconnel': 11115, 'selfdoubt': 13970, 'tormentor': 15960, 'saliv': 13644, 'menndez': 9976, 'dietari': 4586, 'brit': 2449, 'hertz': 7466, 'disinvest': 4710, 'lotion': 9409, 'selfish': 13982, 'flamethrow': 6034, 'jokingli': 8500, 'habsburg': 7096, 'clout': 3396, 'evapor': 5506, 'cano': 2776, '10thgrade': 47, 'seller': 14003, 'lario': 8994, 'buffooneri': 2542, 'pepperoni': 11758, 'markpaul': 9722, 'gosselaar': 6828, 'imdb': 7926, 'welloff': 17187, 'onslaught': 11238, 'mysteryland': 10582, 'aikman': 828, 'void': 16941, 'drowsi': 4980, 'psychot': 12557, 'epidur': 5417, 'greenbuild': 6922, 'downgrad': 4900, 'isaac': 8287, 'hamlet': 7170, 'cutoff': 4110, 'vestment': 16823, 'homecom': 7622, 'vawa': 16765, 'speeddial': 14787, 'leann': 9076, 'rime': 13336, 'cowrit': 3883, 'genrecross': 6600, 'rosemari': 13478, 'farina': 5765, 'nachosupremacist': 10596, 'compound': 3583, 'guacamolemak': 7012, 'danci': 4176, 'langston': 8973, 'uteru': 16702, 'portend': 12173, 'grapevin': 6886, 'repost': 13147, 'sportswrit': 14855, 'mitsubishi': 10265, 'sicario': 14294, 'villeneuv': 16879, 'sioux': 14369, 'ire': 8269, 'prejudici': 12319, 'nonstraight': 10932, 'shag': 14109, 'jesuit': 8439, 'paraguay': 11578, 'tray': 16076, 'sprinkl': 14875, 'vh1': 16829, 'ballmer': 1639, 'benchmark': 1889, 'highprofil': 7508, 'trumpfriendli': 16182, 'ustrain': 16695, 'grisham': 6965, 'noncandid': 10887, 'tellnoth': 15640, 'jackolantern': 8342, 'vod': 16934, 'thu': 15809, 'ninetysometh': 10836, 'nomad': 10876, 'terrif': 15677, 'interchang': 8188, 'ronni': 13456, 'scrabblethem': 13853, 'buttonedup': 2660, 'indigest': 8042, 'wellprepar': 17189, 'disaffect': 4651, 'gravit': 6905, 'neonaz': 10722, 'shatner': 14153, 'nimoy': 10831, 'sunmin': 15291, 'somali': 14664, 'marsa': 9736, 'yoko': 17583, 'ono': 11234, 'scariest': 13771, 'madelein': 9552, 'albright': 876, 'drape': 4926, 'shawl': 14159, 'immodest': 7936, 'replica': 13143, '350th': 333, 'offset': 11146, 'mixedtypographi': 10275, 'troglodyt': 16146, 'radiohead': 12737, 'beep': 1835, 'reverber': 13244, 'divin': 4768, 'repealanddelay': 13134, 'multitask': 10518, 'propeciahandl': 12489, 'intak': 8177, 'violet': 16894, 'subtitl': 15231, 'sneez': 14591, 'disdain': 4686, 'bazooka': 1780, '56': 447, 'holt': 7614, 'belamid': 1865, 'nyquil': 11060, 'reconsid': 12929, 'mcdonnel': 9852, 'circuit': 3269, 'homecar': 7621, 'unheed': 16490, 'singular': 14363, 'leaguer': 9072, 'dartmouth': 4210, 'bibhu': 1970, 'mohapatra': 10312, 'mangi': 9650, 'overdu': 11402, 'ashor': 1356, 'standpoint': 14945, 'occident': 11107, 'rework': 13265, 'homag': 7617, 'cassini': 2888, 'petrifi': 11827, 'topher': 15952, 'jefferi': 8413, 'deaver': 4274, 'sportsteam': 14854, 'render': 13107, 'mose': 10414, 'imelda': 7927, 'brass': 2370, 'urn': 16671, 'wozniak': 17471, 'zair': 17618, 'seatback': 13899, 'commerc': 3536, 'fedup': 5841, 'brookston': 2483, 'bodymassag': 2215, 'twogener': 16281, 'alic': 907, 'hoda': 7579, 'kotb': 8851, 'coanchor': 3416, 'allbeef': 921, 'slowthink': 14511, 'selfrespons': 13995, 'dehydr': 4376, 'hallowein': 7155, 'frankfest': 6278, 'relic': 13070, 'eagle_warrior_1776': 5093, 'morph': 10402, 'painless': 11498, 'infrequ': 8098, 'overhydr': 11413, 'murrieta': 10544, 'delaria': 4383, 'tellal': 15638, 'lineback': 9256, 'spiral': 14819, '16th': 106, 'beavan': 1810, 'clap': 3301, 'faad': 5672, 'fourplay': 6248, 'si': 14289, 'selfinflict': 13980, '200k': 192, 'heartbeat': 7367, 'twenti': 16266, 'topmost': 15955, 'barkley': 1708, 'cisgend': 3278, 'cognit': 3456, 'enrolle': 5375, 'anxious': 1190, 'unisex': 16513, '91yearold': 569, 'saddl': 13611, 'gopro': 6814, 'gunmen': 7065, 'eqypt': 5434, 'moyer': 10461, 'deodor': 4446, 'lumbersexu': 9485, 'mace': 9533, 'c3po': 2680, 'mag': 9563, 'bingewatch': 2018, 'ideolog': 7884, 'sealant': 13891, 'telemedicin': 15631, 'washer': 17080, 'indonesian': 8050, 'signifi': 14318, 'clandestin': 3299, 'rendezv': 13108, 'roach': 13370, 'extraterrestri': 5651, 'backward': 1587, 'tomboy': 15925, 'implicit': 7960, 'streamlin': 15127, 'hazen': 7323, '290': 283, 'crouch': 4000, 'scapegoat': 13762, 'wearhous': 17134, 'clipon': 3370, 'trouser': 16159, 'fugit': 6403, 'maskingtap': 9761, 'icethem': 7868, 'racehors': 12716, 'shaker': 14113, 'diagram': 4557, 'moneypenni': 10348, 'monthlong': 10375, 'lenienc': 9137, 'overtil': 11441, 'romanian': 13442, 'communistera': 3552, 'liverpool': 9305, 'hardwood': 7247, 'lowli': 9449, 'cartwheel': 2874, 'deadpool': 4261, 'hyperact': 7839, 'mouseket': 10448, 'marqu': 9731, 'haddad': 7101, 'starstud': 14969, 'mason': 9763, 'ebolahit': 5135, 'liberia': 9194, 'trumpland': 16187, 'outburst': 11342, 'suge': 15263, 'spineless': 14816, 'connick': 3659, 'showbiz': 14260, 'warhead': 17052, 'supplant': 15332, 'mustknow': 10563, 'crestfallen': 3946, 'torso': 15970, 'andholi': 1068, 'cowtoni': 3884, 'awardnomin': 1524, 'streetcar': 15130, 'conductorr': 3619, 'wowcalypso': 17470, 'independentfilm': 8028, 'warplan': 17067, 'der': 4469, 'beek': 1832, 'ts': 16201, 'betatest': 1942, 'downvot': 4910, 'perki': 11787, 'pc': 11697, 'crowdfundgin': 4005, 'darrel': 4206, 'smudg': 14564, 'breadstick': 2383, 'fenimor': 5875, '224': 245, 'quarterli': 12674, 'jayn': 8395, 'krentz': 8864, 'dire': 4636, 'strait': 15108, 'portion': 12177, 'heimlich': 7410, 'royalti': 13520, 'cach': 2688, 'sneaker': 14587, 'interim': 8199, 'collater': 3480, '9596': 580, 'ladyrememb': 8931, 'hera': 7446, 'jyothi': 8595, 'rao': 12802, 'elig': 5240, 'wolff': 17398, 'skirmish': 14421, 'lohan': 9349, 'gassi': 6537, 'circa': 3266, '1980': 158, 'peev': 11723, 'clavin': 3327, 'maximumsecur': 9814, 'sillier': 14330, 'mund': 10532, 'shaun': 14155, 'anu': 1187, 'upandcom': 16627, 'twocassett': 16279, 'anchorag': 1063, 'crotchless': 3999, 'burkini': 2606, 'podiatrist': 12071, 'hydrant': 7830, 'obituaryclip': 11081, '249': 257, 'sapphir': 13704, 'segway': 13942, 'plothol': 12040, 'nonvot': 10938, 'trumpdevo': 16179, 'revisit': 13251, 'bloodsuck': 2163, 'lamprey': 8955, 'vertigoinduc': 16819, 'unbeleaf': 16376, 'overjoy': 11415, 'mcmuffin': 9868, 'liechtenstein': 9213, 'jo': 8475, 'andr': 1070, 'philando': 11863, 'castil': 2892, 'scrape': 13856, 'livelihood': 9301, 'speechless': 14783, 'doobi': 4850, 'hodor': 7580, 'ashton': 1358, 'kutcher': 8898, 'wyclef': 17514, 'fuge': 6402, 'farberwar': 5756, 'nonstick': 10930, 'xenomorph': 17520, 'tresspass': 16103, 'onionman77': 11231, 'wh': 17209, 'excia': 5557, 'whelan': 17230, 'nycb': 11055, 'deux': 4531, 'lamp': 8953, 'firststori': 5995, 'hyslop': 7848, 'chokingblack': 3198, 'literatur': 9291, 'diss': 4743, 'blockbust': 2149, 'gobag': 6750, 'steakfuel': 15000, 'randstad': 12796, 'reneg': 13111, 'panten': 11557, '1in2': 178, 'willingli': 17323, 'shep': 14181, 'pizzag': 11981, 'overemphas': 11403, 'widereach': 17288, 'infomerci': 8094, 'alin': 912, 'kominskycrumb': 8833, 'abject': 613, 'eli': 5238, 'flail': 6031, 'sclerosi': 13825, 'immin': 7935, 'spacesav': 14737, 'fatsham': 5800, 'nemtsov': 10720, 'neardef': 10684, 'chow': 3211, 'vitaminwat': 16919, 'glassencas': 6706, 'ar15': 1253, 'childless': 3152, 'mustse': 10565, 'audra': 1459, 'amorph': 1037, 'indefin': 8025, 'kindli': 8746, 'stfu': 15041, 'praia': 12262, 'iracema': 8264, 'pawprint': 11682, 'anti': 1129, 'rbgformerrickgarland': 12842, 'swap': 15391, 'megasuccess': 9938, 'popper': 12142, 'redund': 12974, 'nasim': 10640, 'nasr': 10641, 'zaeefeh': 17615, 'wretched': 17486, 'gagproject': 6473, 'adelaid': 708, 'humanli': 7784, 'cooker': 3736, 'rehabilit': 13030, 'artweekla': 1340, 'politwoop': 12106, 'schmooz': 13794, 'nonsport': 10928, 'newlydiscov': 10769, 'smallpox': 14528, 'vial': 16835, 'bane': 1662, 'koran': 8842, 'weighti': 17166, 'greenlight': 6925, 'overgrown': 11409, 'longvac': 9380, 'flatter': 6053, 'costli': 3820, 'index': 8030, 'sooo': 14692, 'portapotti': 12171, 'stinki': 15061, 'atom': 1424, 'watereddown': 17095, 'skyhigh': 14434, 'subprim': 15218, 'redid': 12963, 'limp': 9249, 'vu': 16972, 'spacedout': 14735, 'groovin': 6979, 'hellscap': 7428, 'acaamaz': 642, 'bono': 2260, 'ordain': 11273, 'excommun': 5565, 'hum': 7778, 'slang': 14447, 'fleshlighthous': 6068, 'vagin': 16718, 'textur': 15701, 'yutu': 17610, 'paintbal': 11501, 'guacamol': 7011, 'peasant': 11705, 'juniorhighschool': 8577, 'badminton': 1599, '948': 577, 'shuttlecock': 14287, 'fischer': 6002, 'pam': 11530, 'perez': 11774, 'hellmann': 7426, 'unbefit': 16375, 'magnat': 9571, 'vicent': 16845, 'stark': 14960, 'newfound': 10765, 'horseconnect': 7691, 'jab': 8335, 'fatherson': 5798, 'arlington': 1303, 'preregist': 12342, 'mistyey': 10257, 'ringo': 13338, '26th': 272, 'woke': 17395, 'petcar': 11819, 'costliest': 3821, 'oili': 11161, 'pelican': 11726, 'huski': 7817, 'awww': 1538, 'dumbshit': 5038, 'remast': 13088, 'fritz': 6364, 'influenza': 8091, 'flutter': 6125, 'allyoucaneat': 950, 'krill': 8867, 'randal': 12791, 'seced': 13906, 'randalia': 12792, 'edict': 5164, 'arcan': 1266, 'handcuff': 7183, 'crossshap': 3994, 'dignifi': 4600, 'stimpi': 15054, 'bodym': 2214, 'bh': 1960, 'nashvil': 10638, '137': 74, 'cutscen': 4112, 'cosign': 3810, 'sunblock': 15283, 'botox': 2306, 'burmashavestyl': 2609, '30year': 310, 'sevenyearold': 14075, 'bs': 2515, 'homophobia': 7645, 'manchild': 9635, 'maledomin': 9615, '258159': 264, 'mercat': 9993, 'darla': 4204, 'multiterm': 10519, 'shanghai': 14133, '4monthold': 418, 'congeni': 3636, 'siberian': 14292, 'reinstat': 13044, 'wealthier': 17127, 'uncommon': 16397, 'gentleman': 6602, 'lube': 9462, 'fryer': 6386, 'portland': 12178, 'stood': 15083, 'juggl': 8544, 'recidiv': 12910, 'deportersinchief': 4456, 'marsh': 9738, 'wren': 17479, 'chirp': 3181, 'aquat': 1252, 'mindi': 10166, 'kale': 8607, 'darn': 4205, 'olean': 11182, 'surfboard': 15347, 'blackwat': 2092, 'ae': 756, 'elleninspir': 5250, 'phat': 11852, 'jnco': 8474, 'regurgit': 13028, 'munchkin': 10529, 'asimo': 1365, 'lbd': 9063, 'ignit': 7899, 'cgi': 3002, 'mire': 10207, 'jumpin': 8566, 'luftwaffl': 9473, 'psychiatrist': 12549, 'ketamin': 8693, 'pulsat': 12592, 'sludg': 14512, 'drumstick': 4992, 'blackhawk': 2083, 'jinx': 8469, 'jpso': 8530, 'natali': 10647, 'clamp': 3295, '301': 304, 'yuletid': 17608, 'stuckup': 15171, 'trumprussia': 16192, 'begun': 1847, 'hygen': 7833, 'apportion': 1239, 'vocalist': 16932, 'cuckold': 4049, 'aca': 641, 'ivycov': 8332, 'midriff': 10100, 'limbo': 9245, 'slager': 14444, 'minidress': 10179, 'boitano': 2231, 'codfath': 3447, 'scamper': 13755, 'pine': 11935, 'yak': 17537, 'nonissu': 10910, 'shalit': 14121, 'lowpaid': 9450, 'versatil': 16814, 'gisel': 6681, 'bundchen': 2580, 'don': 4836, '1982': 160, 'countless': 3849, 'lac': 8917, 'megant': 9937, 'multiethn': 10506, 'hmo': 7566, 'gurney': 7070, '18thcenturi': 131, 'blender': 2121, 'baboon': 1557, 'hearttranspl': 7377, 'overstay': 11436, 'lupe': 9497, 'foodcrim': 6164, 'strut': 15167, 'ortiz': 11299, 'antimexican': 1160, 'llc': 9312, 'harshli': 7270, 'letterman': 9162, 'depos': 4457, 'holyok': 7616, 'starlight': 14963, 'jonah': 8505, 'neurosci': 10747, 'zeev': 17639, 'aram': 1259, '15th': 99, 'pogu': 12078, 'degrad': 4373, '200pound': 194, 'aviari': 1509, 'outbid': 11339, 'bonoautograph': 2261, 'elbow': 5212, 'acorn': 675, 'shopkeep': 14232, '40disc': 381, 'dunk': 5048, 'rereleas': 13166, 'spinster': 14818, 'disagr': 4652, 'paladino': 11512, 'vanuatu': 16748, 'brittani': 2454, 'kwatinetz': 8901, 'shudder': 14282, 'hardbal': 7233, 'formerli': 6222, 'americorp': 1024, 'nokia': 10872, 'concentr': 3596, 'gambler': 6494, 'flo': 6088, 'foo': 6161, 'energ': 5352, 'basest': 1730, 'dishearten': 4699, 'outperform': 11376, 'wabi': 16981, 'sabi': 13593, 'materialist': 9791, 'nonpar': 10917, 'feroci': 5882, 'indefens': 8024, 'pennsylvaniabas': 11747, 'pennsylvanian': 11748, 'articul': 1335, 'overenthusiast': 11404, 'unqualifi': 16562, 'ophthalmologist': 11250, 'outdat': 11347, 'astray': 1404, '5minut': 460, 'naawp': 10590, 'statut': 14991, 'edgi': 5162, 'slower': 14507, 'layla': 9053, 'dubsmash': 5007, 'grrrl': 6999, 'redact': 12948, 'acadia': 644, 'sidebar': 14302, 'marv': 9751, 'um': 16347, 'wissam': 17373, 'mana': 9631, 'sameday': 13667, 'deriv': 4477, 'symphoni': 15450, 'ammunit': 1031, 'reiner': 13041, 'rouhani': 13499, 'postnuclear': 12215, 'vicious': 16848, 'fullbodi': 6409, 'camouflag': 2738, 'alaskan': 867, 'chokehold': 3197, 'unfamiliar': 16472, 'knob': 8805, 'cristiano': 3968, 'ronaldo': 13454, 'babyontheway': 1561, 'burr': 2615, 'dataclysm': 4217, 'ultra': 16339, 'genderbend': 6586, 'queerbait': 12679, 'boudoir': 2310, 'theroux': 15735, 'busey': 2629, 'wordforword': 17426, 'mobydick': 10290, 'wifi': 17298, 'cassoulet': 2889, 'unconsci': 16400, 'directtv': 4643, 'fabr': 5676, 'dsl': 5000, 'gestapo': 6627, 'beguil': 1846, 'marriott': 9734, 'innat': 8123, 'elvi': 5264, 'costello': 3819, 'nigeria': 10815, 'heineken': 7411, 'specialreleas': 14770, 'vulgaria': 16975, 'flyingcar': 6128, 'aikido': 826, 'moonlit': 10383, 'bonfir': 2257, 'conjur': 3653, 'rim': 13335, 'succinct': 15242, 'chronolog': 3228, 'tulsa': 16217, 'mastercard': 9773, 'hotrodlincolndriv': 7713, 'millionsmarchsf': 10150, 'preholiday': 12315, 'garofalo': 6524, 'guestappear': 7031, 'arsehol': 1324, 'westbrook': 17202, 'offthebackofthedefend': 11149, 'buzzerbeat': 2666, '77': 517, 'winwood': 17357, 'finer': 5955, 'presum': 12361, 'brittl': 2455, 'jewess': 8449, '10piec': 42, '300th': 303, 'proisrael': 12467, 'selfdeport': 13965, 'fastbal': 5786, 'vidcon': 16854, 'righttowork': 13330, 'tittiesonglass': 15883, 'benson': 1906, 'greenhous': 6923, 'gase': 6530, 'hookup': 7665, 'linkedin': 9267, 'ionospher': 8252, 'top40': 15951, 'scanner': 13760, 'exoner': 5596, 'defenseless': 4351, '99': 587, 'wookie': 17423, 'rodeo': 13415, 'extradit': 5645, 'weakl': 17122, 'spotifi': 14858, 'poupon': 12243, 'gauguin': 6548, 'fondat': 6157, 'beyel': 1954, 'meetup': 9927, 'halogen': 7160, 'samberg': 13666, '16yearold': 107, 'sydney': 15441, 'mclaughlin': 9866, 'meter': 10030, 'photoedit': 11884, 'pssi': 12544, 'tuscan': 16247, 'sundanc': 15284, 'cloaca': 3375, 'insomniac': 8150, 'worldsstrongestman': 17446, 'appetit': 1228, 'solac': 14641, 'reced': 12902, 'floodwat': 6095, 'extent': 5640, 'postharvey': 12207, 'reflex': 12995, 'deliri': 4394, 'hallucin': 7156, 'electrocut': 5224, 'norad': 10944, 'femstat': 5870, 'canadianiranian': 2753, 'reproduc': 13155, 'spong': 14839, 'overthink': 11438, 'fern': 5881, 'latework': 9015, 'vain': 16722, 'underworld': 16443, 'avert': 1508, 'yazidi': 17550, 'arthous': 1330, 'proclam': 12437, 'phallu': 11842, 'factoid': 5699, 'dove': 4893, 'alternativefact': 978, 'promiscu': 12475, 'cockblock': 3432, 'blissedout': 2136, 'hempwear': 7439, 'kinney': 8756, 'hopkin': 7674, 'bodyhairmow': 2213, 'microwaveresist': 10078, 'stouffer': 15099, 'statehous': 14979, 'mastermind': 9776, 'spiegel': 14807, 'secondperson': 13915, 'enthral': 5386, 'pistol': 11963, 'gangsta': 6508, 'whitfield': 17262, 'sherman': 14185, 'alexi': 896, 'noisecancel': 10869, 'flesheat': 6067, 'bacteri': 1591, 'strawberri': 15122, 'manicdepress': 9659, 'mont': 10369, 'racecar': 12715, 'coo': 3733, 'heaviest': 7387, 'hpp': 7749, 'filmrev': 5943, 'looptheloop': 9388, 'pendulum': 11737, 'manvendra': 9681, 'singh': 14356, 'gohil': 6765, 'zinn': 17657, 'onceinalifetim': 11209, 'sistin': 14378, 'onetim': 11225, 'mutat': 10568, 'autopilot': 1492, 'gervai': 6626, 'bun': 2577, 'isla': 8295, 'alderson': 883, 'exdefens': 5570, 'insignific': 8145, 'lazygirl': 9062, 'erykah': 5459, 'badu': 1603, 'ultraorthodox': 16340, 'microst': 10075, 'papa': 11564, 'funkier': 6432, 'ficu': 5915, 'knievel': 8796, 'bedsid': 1826, 'idina': 7886, 'menzel': 9989, 'epitom': 5421, 'wrinkli': 17491, 'jumanji': 8560, '1995': 170, 'plumag': 12047, 'wright': 17487, '3822': 347, 'carnag': 2845, 'kabul': 8597, 'friendshipgo': 6354, 'iverson': 8327, 'famer': 5739, 'applianc': 1235, 'uhoh': 16329, 'prepaid': 12334, 'debit': 4280, 'etc': 5482, 'onedayonli': 11216, 'nonsal': 10923, 'chap': 3036, 'whove': 17279, 'hasan': 7278, 'minhaj': 10175, 'ink': 8118, 'kumbaya': 8885, 'rollerblad': 13435, 'karzai': 8627, 'fark': 5766, '071': 21, 'variabl': 16753, 'disgrac': 4693, 'williamson': 17321, 'cleat': 3340, 'rockefel': 13400, 'alga': 900, 'biodegrad': 2023, 'homepag': 7629, 'sofa': 14632, 'sculpt': 13877, 'deet': 4340, 'stylist': 15196, 'reddit': 12952, 'cremeinject': 3943, 'elsewher': 5260, 'postplan': 12217, 'oftburn': 11153, 'passengersid': 11631, 'billcosbycom': 2004, 'lydia': 9508, 'polgreen': 12096, 'unoffici': 16546, 'gt': 7008, 'cola': 3463, 'pg': 11839, 'tailspin': 15493, 'overthrow': 11439, 'futurethem': 6450, 'cliffhang': 3356, 'conni': 3658, 'britton': 2456, 'fray': 6294, 'yin': 17573, 'inroad': 8136, 'inferior': 8076, 'regener': 13010, 'textilemessag': 15700, 'mademoisel': 9554, 'tummi': 16221, 'cyborg': 4123, 'trumpbeast': 16176, 'creflo': 3940, 'iamthegoldenstatekillercom': 7853, 'vito': 16920, 'corleon': 3779, 'benefactor': 1895, 'onenightonli': 11221, 'fete': 5895, 'backflip': 1574, 'overshoot': 11434, 'easygo': 5124, 'dislodg': 4714, 'femor': 5869, 'tickl': 15828, 'reverend': 13245, 'sharpton': 14152, 'yiannopoulo': 17571, 'latex': 9016, 'harmoni': 7256, 'glorifi': 6729, 'zippori': 17663, 'archaeolog': 1268, 'donaldson': 4838, '2027': 214, 'rubik': 13533, 'midpan': 10098, 'bulg': 2554, 'prosettl': 12504, 'playth': 12021, 'caress': 2829, 'apocalypt': 1212, 'prejud': 12317, 'cellulit': 2968, 'burrow': 2618, 'vw': 16978, 'goldenag': 6775, 'ibtihaj': 7859, 'poopgangsta': 12131, 'mivil': 10270, 'censustak': 2976, 'negat': 10705, 'miscarriag': 10213, 'nondomin': 10897, 'nonmonogami': 10914, 'rebutt': 12893, 'stoop': 15085, 'statehood': 14978, 'hardcor': 7235, 'sculli': 13876, 'hippohung': 7543, 'kicklin': 8720, 'wellattend': 17182, 'wtc': 17505, 'bonafid': 2251, 'duval': 5067, 'deadonarriv': 4259, 'valiantli': 16731, 'cambodian': 2728, 'dictatorship': 4574, 'hardboil': 7234, 'underdraft': 16412, 'anybodi': 1191, 'lorna': 9401, '201': 197, 'gizmo': 6691, '1945': 149, 'exfifa': 5577, 'sepp': 14035, 'blatter': 2112, 'dullard': 5030, 'vocat': 16933, 'alumnu': 989, 'dial': 4558, 'vitriol': 16921, 'unamerican': 16361, 'snowman': 14608, 'lebanon': 9089, 'outstand': 11385, 'madaya': 9548, 'panelist': 11544, 'windowless': 17338, 'maxwel': 9816, 'oldestfashion': 11178, 'devito': 4540, 'taller': 15514, 'thinner': 15756, 'teamnocanc': 15594, 'hinder': 7532, 'liner': 9261, 'marlin': 9726, '2month': 293, 'prehouseguest': 12316, 'wyom': 17516, 'loral': 9396, 'nawal': 10667, 'motawi': 10422, 'telework': 15636, 'algebra': 901, 'brunt': 2509, 'septuplet': 14038, 'junta': 8581, 'footballnah': 6176, 'tiebreak': 15833, 'sportsrel': 14853, 'localnew': 9330, 'segu': 13941, 'tediou': 15614, 'breathtakingli': 2404, 'halfopen': 7142, 'drawbridg': 4929, '72nd': 505, 'wrinkl': 17489, 'spectacularli': 14775, '240': 256, 'abdulrahman': 609, 'cianci': 3246, 'voiceless': 16938, 'wiesenth': 17295, 'tweak': 16259, 'cheeto': 3104, 'chester': 3123, 'clich': 3350, 'battleground': 1767, 'vi': 16830, 'landfil': 8962, 'paz': 11695, 'reedsburg': 12977, 'commercecom': 3537, 'countrywith': 3853, 'tweetless': 16263, 'bedbug': 1821, 'anspach': 1115, 'howdi': 7744, 'odessa': 11125, 't1': 15470, 'snowiest': 14607, 'benetton': 1898, 'rubbl': 13529, 'hash': 7280, 'offlimit': 11143, 'dildoshap': 4605, 'madmen': 9556, 'lalann': 8944, 'beijingback': 1860, 'webcam': 17143, 'longplan': 9375, 'mistrial': 10256, 'monaco': 10336, 'gendernonconform': 6588, 'nicoderm': 10805, 'nicotin': 10808, 'raiser': 12766, 'bafta': 1606, 'rollup': 13438, 'ipecac': 8258, 'hippocrat': 7542, 'expenseaccount': 5609, 'mortarboard': 10408, 'offduti': 11132, 'intrud': 8234, 'squirt': 14900, 'dcor': 4247, 'partownership': 11623, 'sudaf': 15251, 'congest': 3637, 'kidz': 8729, 'bop': 2285, 'snapper': 14580, 'megachurch': 9930, 'improp': 7973, 'predatorinchief': 12290, 'meloni': 9954, 'coco': 3440, 'highfat': 7498, 'waken': 17006, 'ecointegr': 5148, 'omran': 11203, 'daqneesh': 4191, 'meathead': 9893, 'deput': 4467, 'incumb': 8021, 'arlen': 1302, 'specter': 14776, 'nonchal': 10889, 'dirtiest': 4648, 'bassem': 1741, 'youssef': 17601, 'americaa': 1020, 'moos': 10386, 'vicar': 16841, 'trendi': 16100, 'airwav': 853, 'crackl': 3896, 'geddi': 6571, 'onrush': 11236, 'justopen': 8591, '170': 109, 'douchey': 4885, 'mooch': 10379, 'mayim': 9827, 'bialik': 1966, 'passport': 11638, 'ponder': 12122, 'complianc': 3576, 'arbitr': 1261, 'gator': 6545, 'eel': 5176, 'gumbi': 7054, 'busboy': 2625, 'wurst': 17508, 'aria': 1291, 'myer': 10577, 'orthodox': 11298, 'significantli': 14320, 'dupe': 5052, 'mascara': 9755, '7stori': 526, 'foundart': 6240, 'charmin': 3062, 'exot': 5598, 'kashkari': 8628, '214': 237, 'bolivian': 2237, 'pointer': 12081, 'pinpoint': 11945, 'counterterror': 3846, 'lax': 9050, 'holidaythem': 7599, 'bosley': 2295, 'gees': 6575, 'jetlin': 8444, 'ferrant': 5883, 'munchstros': 10531, 'fritolayboratori': 6362, 'jamar': 8362, 'bronchiti': 2477, 'rudest': 13539, 'vindic': 16884, 'malkovich': 9621, 'burkina': 2605, 'faso': 5784, 'outkast': 11356, 'postclim': 12201, 'backsplash': 1581, 'madelin': 9553, 'wale': 17009, 'redey': 12959, 'nuclearbomb': 11011, 'saddestlook': 13610, 'dislik': 4712, 'unpresidenti': 16558, 'extravag': 5652, 'breslin': 2412, 'handwritten': 7203, 'saldiva': 13641, 'lagard': 8934, 'payout': 11693, '30yard': 309, 'fuzzi': 6452, 'devri': 4546, 'clotheslin': 3394, 'sneer': 14590, 'unprovok': 16559, 'autocorrect': 1482, 'eurostar': 5497, 'gasolin': 6534, 'inexplic': 8069, 'harrington': 7264, 'souvenir': 14725, 'carney': 2846, 'pepe': 11755, 'lamelo': 8950, 'maze': 9833, 'kinko': 8755, 'copykey': 3763, 'switcheroo': 15429, 'burma': 2608, 'doggon': 4808, 'duet': 5021, 'mcveigh': 9874, 'drunkenli': 4996, 'conair': 3591, 'doublesid': 4881, 'sacrif': 13603, 'hopelessli': 7673, 'maryk': 9753, '17hour': 113, 'filmstrip': 5945, 'beekeep': 1833, 'wrath': 17474, 'bumbum': 2572, 'unwatch': 16619, 'unblink': 16380, 'jacaranda': 8336, 'akin': 859, 'blemish': 2119, 'spotless': 14859, 'kudrow': 8883, 'wyatt': 17513, 'gu': 7010, 'sant': 13697, 'shotforshot': 14250, 'monkfish': 10357, 'vineyard': 16887, 'alcoholthem': 880, 'starcraft': 14956, 'predominantli': 12297, 'permut': 11794, 'bassett': 1742, 'pointz': 12084, 'fairey': 5715, 'blatantli': 2111, 'demagogu': 4406, 'wheeldon': 17229, 'pitchperfect': 11971, 'ergonom': 5442, 'lumbar': 9482, 'darker': 4201, 'skullfuck': 14428, 'maggot': 9566, 'distrust': 4757, 'liu': 9296, 'xiaobo': 17525, 'sacagawea': 13596, 'racetrack': 12717, 'handi': 7186, 'possum': 12194, 'creditcard': 3934, 'ike': 7907, 'barinholtz': 1704, '1927': 141, 'publicspeak': 12571, 'bizkit': 2070, 'unharm': 16487, 'lund': 9494, 'starship': 14967, 'unapp': 16366, 'compatriot': 3563, 'literari': 9290, 'vol': 16942, 'vent': 16792, 'rrate': 13524, 'zappo': 17630, 'wneck': 17391, 'trillionair': 16126, 'selfstorag': 13998, 'casamigo': 2877, 'ibiza': 7856, 'doppelgng': 4863, 'babyfac': 1559, 'muscular': 10547, 'stonestreet': 15081, '200th': 195, 'statham': 14984, 'sung': 15288, 'sager': 13626, 'agam': 796, 'facetim': 5687, 'selfright': 13997, 'constitution': 3686, '460': 406, 'mtley': 10478, 'cre': 3923, 'sexualharass': 14094, 'elliott': 5252, 'tonywin': 15941, 'shiit': 14194, 'quadripleg': 12656, 'upright': 16647, 'sensor': 14025, 'mentalist': 9984, 'merl': 10004, 'highregist': 7509, 'unfunni': 16483, 'warmth': 17062, 'pavement': 11677, '146': 80, 'divorcedfatherandchild': 4771, 'viewership': 16866, 'ricketi': 13304, 'transgress': 16049, 'beau': 1807, 'onceadventur': 11205, 'morass': 10391, 'unsuspect': 16603, 'homogen': 7642, 'solomon': 14656, 'erni': 5452, 'bodysham': 2216, 'busker': 2637, 'gudmunsen': 7024, 'scotsman': 13843, 'chlo': 3186, 'sevigni': 14078, 'umlaut': 16352, 'reliv': 13079, 'afd': 762, 'geico': 6578, 'morbid': 10392, 'tunisian': 16227, 'usedbookstor': 16686, 'nigel': 10814, 'seabird': 13884, 'ol': 11172, 'tavi': 15573, 'syring': 15464, 'cackl': 2689, 'tougher': 15985, 'podesta': 12070, 'cradl': 3897, 'rfk': 13273, 'busybodi': 2642, 'ineptli': 8062, 'oncecut': 11206, 'beckham': 1817, 'pout': 12245, 'highrisk': 7512, 'asiana': 1362, 'buttercov': 2651, 'vilsack': 16880, 'crazygood': 3922, 'whitefish': 17257, 'danson': 4184, 'tig': 15836, 'notaro': 10967, 'synchron': 15455, 'disco': 4672, 'jumprop': 8568, 'repairmen': 13130, 'haugh': 7304, 'phoni': 11881, 'wad': 16986, 'garrison': 6526, 'keillor': 8662, 'jealousi': 8405, 'microchip': 10068, 'repopul': 13144, 'recordhigh': 12933, 'vile': 16873, 'spa': 14731, 'ocelot': 11113, 'dempsey': 4424, 'jurgen': 8584, 'klinsmann': 8786, 'cheeki': 3092, 'stealin': 15003, 'deadpan': 4260, 'meticul': 10035, 'catti': 2922, 'jokest': 8499, 'lull': 9481, 'dod': 4796, 'aww': 1537, 'waldorf': 17008, 'astoria': 1403, 'catapult': 2907, 'erectil': 5441, '613th': 473, 'secondkeg': 13914, 'jog': 8486, 'mover': 10455, 'dearli': 4270, 'gedd': 6570, 'flaccid': 6027, 'khaki': 8704, 'lipstick': 9280, 'masseus': 9769, 'anew': 1080, 'tiq': 15873, 'milan': 10123, 'cruelest': 4015, 'fraught': 6293, 'criteria': 3969, '60th': 469, 'halfdress': 7133, 'toyotathon': 16005, 'blackclad': 2079, 'shaq': 14138, 'lever': 9167, '141': 78, 'countrysid': 3852, 'donovan': 4844, 'mitchel': 10262, 'footwear': 6181, 'uwwhitewat': 16708, 'reprimand': 13153, 'sciencebas': 13817, 'patdown': 11648, 'adeyemi': 712, 'rowboat': 13512, 'moran': 10389, 'trembl': 16095, 'pallid': 11522, 'porta': 12168, 'click': 3351, 'maven': 9810, 'highresolut': 7510, 'warmak': 17057, 'testlaunch': 15694, 'geographi': 6611, 'delegitim': 4387, 'peak': 11702, 'judaism': 8534, 'unfilt': 16475, 'sila': 14322, 'panason': 11537, '500disc': 426, 'tipto': 15872, 'smartwatch': 14537, 'necessarili': 10692, 'underserv': 16429, 'jerkoff': 8431, 'afrotextur': 784, 'nappi': 10622, 'permin': 11791, 'cane': 2766, 'meati': 9894, 'twohead': 16282, 'ambushstyl': 1015, 'outland': 11357, 'denuclear': 4443, 'gayass': 6557, 'lace': 8918, 'whaboom': 17210, 'snar': 14582, 'maasai': 9523, 'looseyia': 9391, '61': 472, 'latifah': 9017, 'steakhous': 15001, 'lara': 8986, 'boyl': 2340, 'russianiranian': 13578, 'arrhythm': 1319, 'bernank': 1921, 'dowdhiggin': 4897, 'buscemi': 2626, 'legit': 9117, 'panoram': 11551, 'imageri': 7922, 'astrid': 1406, 'menk': 9975, 'petal': 11818, 'spreadeagl': 14869, 'bmw': 2191, 'shawn': 14160, 'mend': 9972, 'iheartradio': 7901, 'immers': 7933, '40day': 380, 'biz': 2068, 'magnific': 9573, 'cheroke': 3117, 'cherub': 3119, 'pantsuit': 11561, 'selfjudg': 13983, 'goingtobathroomwithdooropen': 6769, 'libtard': 9202, 'betacuck': 1941, 'mindhunt': 10165, 'pullup': 12589, 'knowshon': 8819, 'moreno': 10394, 'gatorad': 6546, 'fresca': 6332, '1834': 125, 'mathew': 9796, 'incubu': 8020, 'culpo': 4059, 'hoard': 7569, 'restock': 13199, 'rum': 13550, 'goofbal': 6802, 'cushion': 4093, 'rabi': 12711, '200timesbak': 196, 'entomolog': 5393, 'bingeeat': 2016, 'broccoli': 2464, 'bracketolog': 2347, 'salv': 13659, 'tamer': 15519, 'lole': 9353, 'papertowel': 11569, 'mosquitoborn': 10417, 'acaher': 645, 'communitybas': 3553, 'sonni': 14684, 'atrisk': 1428, 'duplic': 5053, 'institution': 8166, 'sprinter': 14877, 'hairi': 7119, 'stink': 15060, 'altogeth': 982, 'carpent': 2854, 'marseil': 9737, 'chattman': 3075, 'notsosweet': 10983, 'gawkercom': 6555, 'peddl': 11709, 'glamour': 6701, 'terrain': 15672, '1930': 144, 'vot': 16960, 'hollist': 7605, 'eleanor': 5215, 'rigbi': 13325, 'scarfac': 13768, 'onesi': 11222, 'tipoff': 15870, 'wx': 17512, 'bondinspir': 2253, 'smalltalk': 14530, 'yother': 17591, 'adjourn': 717, 'chocobastard': 3191, 'unskew': 16588, 'unrepent': 16572, 'gatlinburg': 6544, 'riddl': 13312, 'pamphlet': 11532, 'deflateg': 4364, 'seediest': 13931, 'caffein': 2700, 'trespass': 16101, 'fluoresc': 6119, 'faceoff': 5683, 'burnout': 2613, 'phd': 11853, 'fab': 5673, 'flyboy': 6126, 'dreamili': 4942, 'sire': 14372, 'guidelin': 7035, 'daphn': 4187, 'historymak': 7555, 'kaia': 8602, 'eisenhow': 5204, 'broderick': 2467, 'feather': 5830, 'deiti': 4378, 'sooner': 14690, 'immeasur': 7930, 'frisk': 6360, 'franz': 6283, 'ferdinand': 5877, 'gavrilo': 6553, 'overus': 11447, 'enzymebas': 5412, 'superstain': 15322, 'dyson': 5086, 'bulls': 2565, 'provenc': 12526, 'pont': 12125, 'du': 5001, 'gard': 6515, 'audrey': 1460, 'hepburn': 7445, 'gladhand': 6696, '118': 60, 'yeti': 17570, 'abdomin': 605, 'munch': 10527, 'munchabl': 10528, '6day': 486, 'stiller': 15051, 'zooland': 17672, '7day': 523, 'butterbal': 2650, 'travels': 16073, 'alderman': 882, '14year': 85, 'bandicoot': 1659, 'outofservic': 11370, 'guerilla': 7025, 'mirjana': 10208, 'lucicbaroni': 9466, 'freshen': 6334, 'watterson': 17105, 'hobb': 7572, 'formaldehyd': 6219, 'raytheon': 12837, 'nil': 10829, 'hognestad': 7586, 'shambl': 14126, 'cult': 4060, 'aspca': 1371, 'adopte': 734, 'underscor': 16428, 'lagerfeld': 8936, 'lobsterbib': 9327, '49yearold': 414, 'premiddleschool': 12324, 'focusgroup': 6138, 'qualm': 12667, 'disrob': 4741, 'unwieldi': 16620, 'dck': 4246, 'corbyn': 3767, 'exodu': 5595, 'tenac': 15651, 'ramen': 12778, 'kungpao': 8888, 'halfhop': 7139, 'hubbi': 7757, 'abysm': 639, 'comrad': 3589, 'nonsuit': 10933, 'handcar': 7181, 'md': 9875, 'friendliest': 6351, 'feingold': 5854, 'drugsnif': 4987, 'bitohoney': 2062, 'tijuana': 15841, 'tollfre': 15921, 'upskirt': 16653, 'macdowel': 9532, 'watertown': 17102, 'guillen': 7037, 'nickatnit': 10799, 'gandalf': 6504, 'abyss': 640, 'daft': 4147, 'calmli': 2722, 'glimmer': 6716, 'pinocchio': 11944, 'nutritionistapprov': 11044, 'kinda': 8742, 'quilt': 12696, 'retaken': 13212, 'homesick': 7634, 'mgm': 10047, 'sixthanniversari': 14391, 'disingenu': 4707, 'derezz': 4476, 'cog': 3455, 'teuwen': 15695, 'absolv': 631, 'licht': 9208, 'dexter': 4549, 'polack': 12091, 'narcicyst': 10624, 'wartorn': 17076, 'recaptur': 12900, 'armour': 1308, 'playbook': 12012, 'whitbi': 17253, 'museveni': 10550, 'roadsid': 13375, 'noncelebr': 10888, 'fatti': 5802, 'afrobrazilian': 781, 'pouch': 12238, 'vasectomi': 16758, 'rewind': 13264, 'trampolin': 16034, '15coat': 95, 'crisp': 3965, 'dapperli': 4190, 'nuclearattack': 11010, 'profan': 12447, '2d': 288, 'lag': 8933, 'freakin': 6298, 'gingerbread': 6668, 'nighttim': 10826, 'ned': 10698, 'flandersthem': 6036, 'sow': 14727, 'succeed': 15239, 'nimrud': 10832, 'gondola': 6784, 'threeyearold': 15795, 'mermaid': 10005, 'incess': 7994, 'overshar': 11433, 'alexia': 897, 'kosmid': 8849, 'transjourney': 16052, 'blist': 2137, 'thewrap': 15736, 'chixx': 3185, 'asteroid': 1399, 'iovin': 8253, 'threeandahalfminut': 15786, 'channelsurf': 3032, 'pubic': 12565, 'bayer': 1774, 'anthropomorph': 1127, 'giraff': 6672, 'neptun': 10728, 'cohost': 3459, 'transmasculin': 16054, 'talkshowguest': 15511, 'gerard': 6617, 'alessandrini': 890, 'denial': 4432, 'antisci': 1170, 'suitabl': 15268, 'forebod': 6192, 'entre': 5396, 'fullscal': 6416, 'raciest': 12722, 'andromeda': 1075, 'specialne': 14769, 'singlepar': 14359, 'hurtl': 7814, 'pornographydesensit': 12162, 'orific': 11287, '835': 536, 'lessfarintothefutur': 9154, 'labrador': 8914, 'glaxosmithklin': 6707, 'grocerystor': 6974, 'barr': 1717, 'twoparti': 16284, 'waaah': 16980, 'detest': 4523, 'deceit': 4297, 'devious': 4538, 'lifelin': 9218, 'stager': 14918, 'antidop': 1142, 'canard': 2755, '14month': 82, 'brandnam': 2365, 'kissing': 8768, 'verb': 16798, 'preposit': 12338, 'navarro': 10663, 'entomologist': 5394, '70yearold': 500, 'rakhin': 12771, 'bullsht': 2567, 'wherea': 17233, 'recalibr': 12896, 'misdirect': 10220, 'writh': 17497, 'tentacl': 15664, 'strangest': 15113, '1861': 127, 'masochist': 9762, 'chavez': 3077, 'bloodless': 2158, 'longdead': 9366, '1987': 162, 'preclud': 12285, 'overreact': 11427, 'killmong': 8735, 'templeton': 15645, 'posh': 12188, 'isbel': 8288, 'nashvillebas': 10639, 'perceiv': 11768, 'dol': 4815, 'ahmad': 820, 'rahami': 12751, 'notif': 10975, 'climaterel': 3359, 'harmon': 7255, 'movierel': 10458, 'hotelworthi': 7710, 'boll': 2239, 'bratz': 2371, 'gazebo': 6564, 'underutil': 16438, 'megadrought': 9933, 'triumphant': 16141, 'chrysali': 3229, 'gastropub': 6539, 'nokil': 10873, 'numbertwo': 11026, 'shook': 14227, 'derulo': 4482, 'coolio': 3743, 'baptism': 1682, 'aspect': 1372, 'lamb': 8947, 'rhubarb': 13283, 'rosecolor': 13477, 'reverseengin': 13247, 'meander': 9881, 'absentmind': 629, 'nexplanon': 10785, 'cometh': 3523, 'acupunctur': 695, 'leatherjacket': 9086, 'jubile': 8533, 'millard': 10143, 'fillmor': 5939, 'highfiv': 7499, 'unwarr': 16618, 'clamshel': 3296, 'exquisit': 5636, 'nonexist': 10903, 'warmest': 17059, '90th': 564, 'testfir': 15691, 'defianc': 4355, 'classact': 3316, 'kiev': 8730, 'dasha': 4214, 'pegida': 11724, 'mcdonnelldougla': 9853, 'gaydar': 6560, 'dadlif': 4144, 'electricbil': 5219, 'uncash': 16386, 'meek': 9922, 'goodman': 6797, 'voiceov': 16940, 'narcost': 10627, 'cursiv': 4089, 'procoal': 12438, 'highfli': 7500, 'trapez': 16067, 'necess': 10690, 'clif': 3354, 'loaf': 9318, 'darth': 4209, 'memorabilia': 9964, 'wheaton': 17224, 'mixcd': 10273, 'selfindulg': 13979, '193': 143, '000115': 3, 'metallurgist': 10024, 'polonium': 12113, 'regain': 13006, 'wltz': 17389, 'hartford': 7272, 'melo': 9953, 'triangl': 16110, '84yearold': 541, 'summa': 15275, 'alejandro': 887, 'nieto': 10812, 'stillundecid': 15053, 'seatbelt': 13900, 'asthma': 1400, 'ginger': 6667, 'minj': 10192, 'pepral': 11761, 'crossdress': 3987, 'artistor': 1339, 'masterpiec': 9777, 'mortifi': 10411, 'stung': 15185, 'unreport': 16573, 'nelli': 10716, 'reiter': 13051, 'sexlik': 14088, 'homemak': 7626, 'rubbermaid': 13528, 'jolson': 8502, '8thgrader': 558, 'alma': 951, 'mater': 9789, 'powercraz': 12251, 'orkin': 11290, 'incheon': 7998, 'amonderez': 1035, 'mink': 10193, 'taillight': 15491, 'underprotect': 16423, 'spade': 14742, 'passerbi': 11632, 'holdout': 7594, 'flipbook': 6083, 'flippin': 6085, 'repress': 13151, 'quinon': 12700, 'embroid': 5282, 'diehard': 4579, 'nien': 10811, 'nunb': 11030, 'allgirl': 933, 'sweeti': 15414, 'ambassadori': 1008, 'flaunt': 6054, 'nite': 10848, 'stte': 15168, 'toughen': 15984, 'nonsign': 10927, 'soontobeaudit': 14691, 'plywood': 12060, 'padr': 11486, 'grimac': 6955, 'viacom': 16833, 'superfast': 15304, 'earthenwar': 5110, 'michaela': 10057, 'femaledriven': 5864, 'interreligi': 8210, 'santegidio': 13700, 'alvin': 991, 'tosh': 15975, 'chuckl': 3233, 'workerfriendli': 17433, 'enigmat': 5365, 'josef': 8514, 'koudelka': 8854, 'basi': 1733, 'willam': 17315, 'cliven': 3374, 'retard': 13214, 'celinda': 2962, 'inhabit': 8106, 'homestyl': 7635, 'amandla': 999, 'stenberg': 15017, 'mccrazi': 9848, 'superfici': 15305, 'programmat': 12460, 'skywrit': 14442, 'lowcalori': 9440, 'mixer': 10276, 'yngwie': 17575, 'malmsteen': 9623, 'chemist': 3110, 'nano': 10613, 'rentboy': 13123, 'hamiltoninspir': 7169, 'hangnail': 7208, 'metamorphosi': 10025, '32minut': 319, 'withstand': 17383, 'tilsen': 15847, 'ridg': 13316, 'vacanc': 16711, 'queso': 12684, 'loot': 9392, 'limitless': 9247, 'pupil': 12611, 'nichol': 10796, 'fomo': 6154, 'hatala': 7291, 'larsen': 8996, 'necromanc': 10696, 'oncedead': 11207, 'briskli': 2448, 'fishoil': 6009, 'antacid': 1118, '585': 453, 'strata': 15117, 'merchandis': 9995, 'nichola': 10797, 'safir': 13622, 'whopper': 17276, 'offhand': 11137, 'chyna': 3243, 'fallthem': 5731, 'saget': 13627, 'reimpregn': 13037, 'guiltridden': 7042, 'whitewash': 17259, 'machineri': 9538, 'bearabl': 1794, 'robocop': 13393, 'policeman': 12098, 'overli': 11416, 'mening': 9974, '500yearold': 428, 'decapit': 4293, 'descent': 4485, 'volley': 16948, 'birchbox': 2038, 'emerald': 5285, 'roland': 13429, 'greedi': 6919, 'bubba': 2519, 'refri': 12999, '18to36yearold': 134, 'chobani': 3190, 'supers': 15320, 'tff': 15702, 'orzab': 11301, 'langplu': 8972, 'fork': 6215, 'tine': 15865, 'tronc': 16149, 'levinsohn': 9171, 'ladybug': 8929, 'proctoscop': 12443, 'monogami': 10359, 'populargirl': 12149, 'careerdefin': 2825, 'superson': 15321, 'mackenzi': 9541, 'tiananmen': 15822, 'bengal': 1900, 'jaipur': 8355, 'antiag': 1131, 'kink': 8753, 'celebfil': 2958, 'hardest': 7239, 'accessori': 651, 'futon': 6448, 'fifa': 5923, 'burnedout': 2612, 'coffeeshop': 3450, 'clapper': 3302, 'crucifixion': 4011, 'muncho': 10530, 'disodium': 4722, 'guanyl': 7016, 'districtwid': 4756, 'sox': 14728, 'moloch': 10324, 'watercolor': 17094, 'zarin': 17632, 'ramona': 12780, 'harsher': 7269, 'exisra': 5588, 'butch': 2644, 'bargain': 1702, 'overflow': 11407, 'buffoon': 2541, 'fecesthrow': 5835, 'pinkerton': 11942, 'cylindr': 4127, 'manchin': 9636, 'firebomb': 5971, '3m': 361, 'foam': 6135, 'monaghan': 10337, 'adapt': 699, 'tobolowski': 15902, 'janin': 8376, 'molinari': 10320, 'bionic': 2031, 'fingertip': 5962, 'ampute': 1042, 'nam': 10608, 'impecc': 7950, 'overr': 11425, 'shorten': 14240, 'spaz': 14759, 'umass': 16349, 'dishevel': 4700, 'infami': 8071, 'postqueer': 12221, 'cfl': 3000, 'unsportsmanlik': 16595, 'smooch': 14558, 'paintstyl': 11503, 'uptown': 16661, 'beggar': 1843, 'coatcheck': 3422, 'nonclich': 10891, 'banal': 1653, 'schock': 13799, 'scrutin': 13873, 'maroon': 9729, '20yearold': 235, 'wackier': 16984, 'electrod': 5225, 'brokaw': 2469, 'wellmean': 17186, 'pest': 11814, 'sabatino': 13591, 'dinklag': 4619, 'obiwan': 11082, 'kenobi': 8678, 'rockford': 13405, 'datelin': 4221, 'flursday': 6120, 'showerhead': 14264, 'progay': 12458, 'ozon': 11466, 'replet': 13141, 'piggi': 11920, 'swindl': 15422, 'peebl': 11715, 'ranch': 12787, 'balsam': 1646, '90day': 563, 'feebl': 5843, 'clarissa': 3307, 'postcrisi': 12202, 'watergateera': 17097, 'appel': 1225, 'hotter': 7716, 'richrath': 13301, 'reo': 13126, 'speedwagon': 14790, 'cronyist': 3980, 'cartel': 2867, 'emphas': 5308, 'sleeverollingup': 14473, 'sage': 13625, 'pornstor': 12163, 'shamebas': 14128, 'prototyp': 12518, 'yayoi': 17549, 'kusama': 8896, '650': 478, 'linecut': 9257, 'unpunish': 16561, '3621': 340, 'goldblum': 6773, 'clump': 3402, 'matchmak': 9787, 'gloria': 6728, 'steinem': 15014, 'joey': 8485, 'potteri': 12236, 'bumbler': 2571, 'pencil': 11735, 'ns': 11002, 'nd': 10676, 'dwf': 5074, 'unlov': 16532, 'solstic': 14658, 'flatbread': 6047, 'architectur': 1276, '157': 92, 'interf': 8194, 'deject': 4379, 'althea': 979, 'eightyearold': 5201, 'antibulli': 1135, 'affluenza': 770, 'tonya': 15940, 'rotari': 13490, 'jug': 8542, 'medvedev': 9921, 'cisco': 3277, 'undocucarevan': 16451, 'twothird': 16288, 'porki': 12156, 'renoir': 13116, 'convincingli': 3729, 'faro': 5773, 'flounder': 6107, 'workweek': 17442, 'enthron': 5387, 'closeknit': 3386, 'bayh': 1775, 'nonpriest': 10918, 'beethoven': 1837, 'digitalhealth': 4598, 'disconnect': 4673, 'plier': 12034, 'vengeancemind': 16789, 'bide': 1980, 'fret': 6339, 'kathryn': 8640, 'bigelow': 1986, 'directress': 4642, 'cait': 2703, 'redd': 12950, 'jacqui': 8346, 'mcnish': 9870, 'andsean': 1076, 'silcoff': 14323, 'strobe': 15152, 'dement': 4408, 'grieco': 6946, 'supergirl': 15308, 'boardwalk': 2197, 'chump': 3237, 'concoct': 3604, 'fanduel': 5747, 'dudley': 5018, 'icu': 7874, 'ruhroh': 13546, 'argo': 1288, 'misrememb': 10238, 'dinnertim': 4621, 'darken': 4200, 'extv': 5657, 'hohohorowitz': 7589, 'viscer': 16908, 'suspicion': 15377, 'untrustworthi': 16613, 'uncool': 16403, 'diorama': 4628, 'unnam': 16540, 'wring': 17488, 'stirrup': 15064, 'sharknado': 14145, '1010911': 30, 'tenaci': 15652, 'learner': 9080, 'kirku': 8763, 'saberrattl': 13592, 'counterproduct': 3845, 'homo': 7641, 'tringl': 16131, 'turd': 16233, 'fraudster': 6291, 'reap': 12870, 'wiretransf': 17366, 'frolick': 6368, 'dysphoria': 5087, 'dysmorphia': 5085, 'anguish': 1091, 'perjur': 11784, 'wiesel': 17294, 'slovenia': 14504, '280': 279, 'piraci': 11956, 'tarmac': 15552, 'theodor': 15722, 'vinc': 16882, 'osha': 11310, 'jameela': 8365, 'jamil': 8368, 'adderal': 703, 'divebomb': 4762, 'lng': 9314, 'caustic': 2930, 'shedd': 14163, 'ghastli': 6635, 'gorillagram': 6822, 'nondisclosur': 10894, 'mealymouth': 9879, 'heller': 7423, 'entent': 5381, 'bain': 1619, 'kitschrefer': 8775, 'tantalizingli': 15537, 'meekli': 9924, 'rinkydink': 13340, 'singalong': 14353, 'ingber': 8101, 'sensori': 14026, 'depriv': 4464, 'multiplex': 10515, 'slushi': 14520, 'aislewid': 856, 'bacchanalia': 1564, 'decaf': 4292, 'acnefre': 674, 'puberti': 12563, 'legoland': 9121, 'usmexico': 16691, 'oscarssowhit': 11307, 'pyer': 12641, 'moss': 10418, 'calligraphi': 2720, 'postmistress': 12213, '6075': 468, 'priu': 12417, 'rudimentari': 13541, 'psilocybin': 12543, 'mindlessli': 10167, 'lem': 9125, 'pediatrician': 11711, 'offload': 11144, 'hungari': 7797, 'volleybal': 16949, 'en': 5320, 'grindr': 6963, 'inbu': 7987, 'trumpstyl': 16193, 'rippon': 13347, 'multiinstitut': 10509, 'priceless': 12380, 'lightskin': 9233, 'repriev': 13152, 'precheck': 12281, 'tiein': 15834, 'plantbas': 11999, 'reconfirm': 12927, 'medallist': 9903, 'organiz': 11283, 'android': 1074, 'forearm': 6191, 'circuitri': 3270, 'newsguild': 10776, 'visor': 16915, 'debtfre': 4285, 'unform': 16480, 'breastf': 2398, 'mockingjay': 10295, 'nope': 10942, 'beatifi': 1803, 'fuji': 6405, 'strongarm': 15157, 'assemblyman': 1384, 'discont': 4674, 'canyon': 2786, 'mylanta': 10578, 'iceand': 7863, 'beliz': 1874, 'fullyencrypt': 6419, 'anglican': 1087, 'hippothem': 7544, 'ined': 8057, 'kailash': 8603, 'satyarthi': 13726, 'pantywaist': 11563, 'lightweight': 9236, 'linen': 9260, 'kite': 8772, 'harley': 7251, 'commonsens': 3547, 'sicilian': 14296, 'nub': 11008, 'offtherail': 11151, 'blooddrench': 2156, 'koenig': 8828, 'swivel': 15431, 'in': 7977, 'liven': 9302, 'pullout': 12588, 'nh': 10789, 'matchbox': 9785, 'scratchoff': 13859, 'swearingin': 15397, '3335': 324, 'fitzpatrick': 6014, 'councilman': 3836, 'rec': 12894, 'hypothesi': 7846, 'yearround': 17559, 'nobrain': 10861, 'firebal': 5970, 'kosovo': 8850, 'careerlink': 2827, 'secondbysecond': 13909, 'gambia': 6490, 'catalogu': 2904, 'checkin': 3085, 'explet': 5620, 'lipnicki': 9278, 'spacebal': 14733, 'ultimatum': 16338, 'multifloor': 10508, '000pump': 13, 'scumbag': 13881, 'midstreet': 10104, 'noaa': 10855, 'thorogood': 15773, 'folksi': 6150, 'structur': 15164, 'rotisseri': 13493, 'winwinwin': 17356, 'scant': 13761, 'feeler': 5848, 'ripa': 13345, 'stonerturneddoctor': 15080, '35to44yearold': 336, 'walltowal': 17026, 'starfuck': 14958, 'biodivers': 2024, 'buss': 2638, 'recuper': 12942, 'disbelief': 4663, 'grift': 6952, '100year': 28, 'extraslanti': 5650, 'ital': 8312, 'engrav': 5362, 'spokeschild': 14835, 'minimarathon': 10181, 'medicalert': 9912, 'badpicturemonday': 1601, 'proctor': 12442, 'overcam': 11395, 'internetfre': 8206, 'symptomat': 15452, 'rudder': 13537, 'karma': 8626, 'turban': 16231, 'transgender': 16048, 'spruce': 14879, 'gratuit': 6898, '6piec': 492, 'ncnolt': 10675, 'unslic': 16589, 'particularli': 11617, 'dumpl': 5041, 'darl': 4203, 'blanco': 2102, 'viola': 16890, 'handicappedaccess': 7188, 'qtip': 12653, 'catchup': 2913, 'singleengin': 14358, 'cessna': 2999, 'salvadoran': 13661, '02': 18, 'conscious': 3665, 'jacob': 8345, 'ulbricht': 16333, 'kochfund': 8825, 'femur': 5871, 'cakeshop': 2707, 'tamper': 15524, 'taiwanesemad': 15496, 'coy': 3886, 'isisinspir': 8291, 'trumpacandi': 16174, 'glorious': 6731, 'daviss': 4227, 'pulver': 12593, 'ashevil': 1354, 'supernatur': 15316, '186': 126, 'whacker': 17211, 'paso': 11627, 'skillingsbol': 14414, 'sridevi': 14902, '44th': 396, 'sociocultur': 14626, 'sarcast': 13710, 'boatless': 2200, 'serbian': 14043, 'filmschool': 5944, 'pagoda': 11494, 'mors': 10405, 'mccabe': 9838, 'spacex': 14740, 'sc': 13748, 'tempurped': 15649, 'furniturestor': 6442, 'pawnshop': 11681, 'brangelina': 2368, 'footlong': 6177, 'hoagi': 7568, 'cesarean': 2998, 'redo': 12968, 'pippa': 11955, 'spawn': 14758, 'mooc': 10378, 'introduct': 8230, 'sperm': 14796, 'anal': 1052, 'louvr': 9427, 'teem': 15618, '1970': 156, 'cosmo': 3813, 'cornrow': 3787, 'rodham': 13417, 'amazonian': 1006, 'bulldoz': 2560, 'quadriscuit': 12657, 'dwight': 5075, 'lowwag': 9454, 'foxwood': 6255, 'cruelli': 4017, 'spiderwoman': 14806, 'rashida': 12816, 'horner': 7683, 'remington': 13093, 'murdersuicid': 10540, 'drool': 4970, 'crawlspac': 3915, 'deepen': 4329, 'loi': 9350, 'lerner': 9150, 'handel': 7184, 'inthroat': 8219, 'astana': 1397, 'razzledazzl': 12841, 'roadster': 13376, 'copper': 3759, 'barbar': 1690, 'goug': 6836, 'bulk': 2557, 'gre': 6908, 'snapback': 14576, 'healthylook': 7360, 'drose': 4975, 'unshak': 16586, 'til': 15842, 'hammersmith': 7174, 'motrhead': 10438, 'dachshund': 4140, 'cockatiel': 3431, 'cholesterol': 3200, 'skew': 14407, 'uaw': 16310, 'fca': 5817, 'hourbyhour': 7725, 'booster': 2280, 'flonas': 6092, 'mittenaer': 10267, 'knockedov': 8809, 'essenc': 5472, 'redirect': 12965, 'rift': 13323, '14day': 81, 'merritt': 10009, 'freeway': 6321, 'ctrl': 4042, 'webster': 17148, 'melti': 9957, 'lexicon': 9176, 'pringl': 12403, 'foolhardi': 6169, 'rubenesqu': 13531, 'picassoesqu': 11900, 'slump': 14516, 'forgav': 6208, 'militiaman': 10137, 'smartest': 14534, 'vilanch': 16872, 'sodom': 14631, 'waitingroom': 17001, 'masondixon': 9764, 'ihopwaffl': 7903, 'paranoid': 11585, 'loveless': 9432, 'fourbedroom': 6245, 'ibeam': 7855, '15by20foot': 94, 'enron': 5376, 'deathafterlif': 4272, 'galecki': 6479, 'sorrow': 14702, 'peep': 11719, 'vindict': 16885, 'dotcom': 4877, 'grater': 6895, 'runoff': 13563, 'aspershirt': 1373, 'braga': 2353, 'otaviano': 11323, 'canuto': 2783, 'rem': 13083, 'adelanto': 709, 'ungrat': 16485, '000yard': 16, 'ja': 8334, 'fyre': 6455, 'censor': 2972, 'uncoupl': 16404, 'wimp': 17330, '52yearold': 437, 'cornerback': 3784, 'centenarian': 2978, 'popsiclestick': 12145, 'grandbabi': 6869, 'predatori': 12289, 'itt': 8319, 'dalai': 4155, 'lama': 8945, 'planetari': 11992, 'utopia': 16703, 'gotta': 6834, 'nightingal': 10820, 'vid': 16853, 'stageplay': 14917, 'unconvincingli': 16402, 'comp': 3556, 'allah': 917, 'homey': 7638, 'ninth': 10840, 'cicillin': 3249, 'detroitarea': 4528, '1963': 153, 'onebedroom': 11215, 'knive': 8804, 'squid': 14896, 'cebu': 2950, 'chord': 3206, 'regi': 13013, 'philbin': 11865, 'facetofac': 5688, 'expoliceman': 5629, 'rowthem': 13517, 'recanvass': 12898, 'fanpag': 5749, 'buttigieg': 2657, 'microwavepopcorn': 10077, 'arrow': 1323, 'anesthet': 1079, 'fastforward': 5790, 'catalogmodel': 2903, 'kiddi': 8723, 'disrepair': 4740, 'gladi': 6697, 'reddi': 12951, 'wip': 17358, 'couscou': 3869, 'progun': 12462, 'planethappi': 11994, 'gogett': 6764, 'conveyor': 3726, 'danceclub': 4174, 'meatonthebottom': 9898, 'miamidad': 10053, 'logan': 9346, '4999': 412, 'natale': 10646, 'holloway': 7607, '113th': 54, 'reggaetn': 13011, 'supermoon': 15315, 'unicyclist': 16498, 'quantum': 12670, 'hypothes': 7845, 'burrel': 2616, 'pajamaclad': 11506, 'gresham': 6938, 'rattan': 12825, 'ayurveda': 1549, 'scoobydoo': 13831, 'scrappydoo': 13857, 'lovel': 9431, 'gabriella': 6464, 'wimbledon': 17329, 'socioeconom': 14627, 'bracket': 2346, 'sinclair': 14350, 'makeshift': 9604, 'viewpoint': 16867, 'psalm': 12542, 'cc': 2942, 'sabathia': 13590, 'equestrian': 5427, 'instinct': 8164, 'sandersclinton': 13683, 'uphil': 16638, 'stern': 15032, 'innerchild': 8126, 'mofo': 10308, 'reestablish': 12986, 'whereabout': 17234, 'employeesnewborn': 5313, 'nonsexu': 10925, 'extermin': 5641, 'dru': 4981, 'bae': 1604, 'inexperienc': 8068, 'streaker': 15125, 'unbroken': 16383, 'passov': 11637, 'plato': 12007, 'understood': 16432, 'terminolog': 15671, 'deduct': 4321, 'truecrim': 16169, 'sf': 14100, 'popemobil': 12140, 'sittin': 14385, 'jwoww': 8594, 'rommel': 13448, 'hummel': 7788, 'handili': 7189, 'gspot': 7006, 'dearbetsi': 4269, 'arya': 1342, 'lazboy': 9058, 'cormac': 3780, 'rhea': 13275, 'maceri': 9534, 'lyricsdoc': 9521, 'jauregui': 8391, 'mumford': 10523, 'mandolin': 9644, 'blah': 2095, 'relaps': 13059, 'godaw': 6757, 'kurrencykookcom': 8894, 'odorit': 11128, 'threetier': 15793, 'fio': 5965, 'fttp': 6390, 'broadband': 2460, 'debrief': 4283, 'radish': 12738, 'csuit': 4039, 'stoneheng': 15078, 'druid': 4989, 'makeout': 9601, 'relinquish': 13077, 'crenna': 3944, '18yearoldm': 136, 'slightest': 14486, 'porcelain': 12152, 'dinnerwar': 4622, 'masterclass': 9775, '32m': 318, 'officem': 11139, 'unwittingli': 16624, 'seyfri': 14098, 'twister': 16276, '117': 57, 'nissan': 10847, 'biathlon': 1969, 'freebak': 6308, 'faild': 5709, 'sarajevo': 13706, 'pepsico': 11764, 'lemonlim': 9129, 'outofcourt': 11369, 'preexist': 12303, 'squeal': 14894, 'echo': 5140, 'handmouth': 7196, 'foodservic': 6167, 'zakaria': 17619, 'preenactor': 12301, 'microbrew': 10067, 'squatter': 14890, 'frozenthem': 6381, 'defunct': 4370, 'hydropow': 7832, 'halffinish': 7136, 'lastsecond': 9008, 'bavarian': 1772, 'tenuou': 15665, 'cleft': 3341, 'palat': 11514, 'twomoresong': 16283, 'becker': 1815, 'saturn': 13725, 'sed': 13926, 'omar': 11193, 'khadr': 8703, 'profus': 12456, 'touchi': 15981, 'marcellu': 9695, 'candic': 2760, 'p5': 11471, 'sectarian': 13922, 'bahrain': 1614, 'floodgat': 6094, 'fordham': 6190, 'ozthem': 11468, 'gallop': 6484, 'onehand': 11218, 'cilla': 3254, 'mack': 9540, 'urkel': 16670, 'motto': 10439, 'alreadypurchas': 970, 'rockandrol': 13398, 'spearmint': 14763, 'afterdinn': 786, 'offtheradar': 11150, 'fivedecad': 6017, 'suaviti': 15203, 'trenchcoat': 16098, 'kniferel': 8799, 'cardsstyl': 2821, 'lourea': 9426, '6lane': 489, 'trumpismo': 16186, 'hdtv': 7331, 'bringyouuptod': 2445, 'decompos': 4311, 'nerdiest': 10731, 'rhythm': 13286, 'bulimia': 2556, 'syke': 15442, 'gargoyl': 6520, 'largemouth': 8990, 'sass': 13714, 'embroideri': 5283, 'mousi': 10449, 'sexpot': 14090, 'liabil': 9184, 'timbaland': 15850, 'densiti': 4438, 'reeva': 12988, 'steenkamp': 15010, 'forwomen': 6233, 'bywomen': 2679, 'dopec': 4862, 'oswald': 11320, 'hippo': 7540, 'hillarybash': 7529, 'sarandon': 13707, 'womenunit': 17405, 'preraphaelit': 12341, 'contessa': 3702, 'lovestruck': 9434, 'arabian': 1257, 'vacationbound': 16714, 'galor': 6488, 'taxpayerfund': 15580, 'kilauea': 8731, 'wholeheartedli': 17271, 'margarita': 9702, 'tiara': 15823, 'hogsmead': 7587, 'workrel': 17440, 'instadium': 8155, 'americansn': 1023, 'sadden': 13607, 'emil': 5290, 'hirsch': 7548, 'gilligan': 6662, 'tove': 15993, 'protection': 12512, 'anthropomorphologist': 1128, 'distributor': 4754, '20pound': 229, 'eyelash': 5664, 'mite': 10263, 'fakeawish': 5720, 'favr': 5810, 'insinu': 8146, 'digger': 4594, 'skylight': 14436, '2year': 298, 'raindrench': 12760, 'lolworthi': 9355}\n",
            "[ 6.07930063 10.27650257 10.27650257 ... 10.27650257  7.97391748\n",
            " 10.27650257]\n",
            "(21367, 17681)\n",
            "(5342, 17681)\n"
          ],
          "name": "stdout"
        }
      ]
    },
    {
      "cell_type": "markdown",
      "metadata": {
        "id": "7lVbFTL05fJo",
        "colab_type": "text"
      },
      "source": [
        "Bộ từ vựng có 17681 từ. Vì sau quá trình stem đã có nhiều từ trùng nhau."
      ]
    },
    {
      "cell_type": "code",
      "metadata": {
        "id": "s0tS8xQM4aUI",
        "colab_type": "code",
        "colab": {
          "base_uri": "https://localhost:8080/",
          "height": 134
        },
        "outputId": "6b3cdf47-b0f8-4652-db69-7e8b5f05a29e"
      },
      "source": [
        "print(vectorStem_train[0])"
      ],
      "execution_count": 19,
      "outputs": [
        {
          "output_type": "stream",
          "text": [
            "  (0, 17669)\t0.36264109592649063\n",
            "  (0, 16542)\t0.4643718725905546\n",
            "  (0, 13202)\t0.37978937229647863\n",
            "  (0, 11318)\t0.4643718725905546\n",
            "  (0, 9040)\t0.2841187195302858\n",
            "  (0, 9001)\t0.40172837070020306\n",
            "  (0, 1280)\t0.22552131942766498\n"
          ],
          "name": "stdout"
        }
      ]
    },
    {
      "cell_type": "markdown",
      "metadata": {
        "id": "5dUrsduZ7X85",
        "colab_type": "text"
      },
      "source": [
        "# Apply models."
      ]
    },
    {
      "cell_type": "code",
      "metadata": {
        "id": "NkoaGvxZ935_",
        "colab_type": "code",
        "colab": {}
      },
      "source": [
        "def show_score(train, test):\n",
        "  bnb = BernoulliNB()\n",
        "  lgr = LogisticRegression()\n",
        "  svm = SVC()\n",
        "  mlp = MLPClassifier()\n",
        "\n",
        "  name = ['BernoulliNB', 'SVM', 'LogisticRegression', 'MLPClassifier']\n",
        "\n",
        "  for model, name in zip([bnb, svm, lgr, mlp], name):\n",
        "    model.fit(train, y_train)\n",
        "\n",
        "    print(f\"{name}:\")\n",
        "    print(\"Accuracy on training set: {:.3f}\".format(model.score(train, y_train)))\n",
        "    print(\"Accuracy on test set: {:.3f}\".format(model.score(test, y_test)))"
      ],
      "execution_count": 20,
      "outputs": []
    },
    {
      "cell_type": "code",
      "metadata": {
        "id": "BNsA1ONA_lpQ",
        "colab_type": "code",
        "colab": {
          "base_uri": "https://localhost:8080/",
          "height": 218
        },
        "outputId": "ba436bb3-d2c8-4e4a-d9ec-d28dcb9bd1e6"
      },
      "source": [
        "show_score(vector_train, vector_test)"
      ],
      "execution_count": 21,
      "outputs": [
        {
          "output_type": "stream",
          "text": [
            "BernoulliNB:\n",
            "Accuracy on training set: 0.922\n",
            "Accuracy on test set: 0.804\n",
            "SVM:\n",
            "Accuracy on training set: 0.990\n",
            "Accuracy on test set: 0.806\n",
            "LogisticRegression:\n",
            "Accuracy on training set: 0.901\n",
            "Accuracy on test set: 0.795\n",
            "MLPClassifier:\n",
            "Accuracy on training set: 1.000\n",
            "Accuracy on test set: 0.772\n"
          ],
          "name": "stdout"
        }
      ]
    },
    {
      "cell_type": "code",
      "metadata": {
        "id": "YGZZP9YcN0Qg",
        "colab_type": "code",
        "colab": {
          "base_uri": "https://localhost:8080/",
          "height": 218
        },
        "outputId": "1aa8ae9c-de4a-40e5-921e-9ea56759f449"
      },
      "source": [
        "show_score(vectorStem_train, vectorStem_test)"
      ],
      "execution_count": 22,
      "outputs": [
        {
          "output_type": "stream",
          "text": [
            "BernoulliNB:\n",
            "Accuracy on training set: 0.895\n",
            "Accuracy on test set: 0.803\n",
            "SVM:\n",
            "Accuracy on training set: 0.982\n",
            "Accuracy on test set: 0.801\n",
            "LogisticRegression:\n",
            "Accuracy on training set: 0.878\n",
            "Accuracy on test set: 0.788\n",
            "MLPClassifier:\n",
            "Accuracy on training set: 1.000\n",
            "Accuracy on test set: 0.739\n"
          ],
          "name": "stdout"
        }
      ]
    },
    {
      "cell_type": "markdown",
      "metadata": {
        "id": "zAaqLvt0-6z2",
        "colab_type": "text"
      },
      "source": [
        "Ta thấy bộ dữ liệu có stem từ cho kết quả thấp hơn bộ dữ liệu không áp dụng stem từ => Chọn bộ dữ liệu không *stem* từ.\n",
        "\n",
        "Chọn **SVM** model vì nó có kết quả cao nhất."
      ]
    },
    {
      "cell_type": "markdown",
      "metadata": {
        "id": "RH4m2EKd_iBK",
        "colab_type": "text"
      },
      "source": [
        "Tiến hành tuning hyper parameter.\n",
        "\n",
        "Sử dụng GridSearchCV."
      ]
    },
    {
      "cell_type": "code",
      "metadata": {
        "id": "TMBuWn4azzda",
        "colab_type": "code",
        "colab": {}
      },
      "source": [
        "# Tạo các tham số cần thử\n",
        "param_grid = {'C': [0.1,1,10], 'gamma': [10,1,0.1],'kernel': ['rbf', 'poly', 'sigmoid']}"
      ],
      "execution_count": 53,
      "outputs": []
    },
    {
      "cell_type": "code",
      "metadata": {
        "id": "mlM8_kxAz_hY",
        "colab_type": "code",
        "colab": {
          "base_uri": "https://localhost:8080/",
          "height": 1000
        },
        "outputId": "cc017732-38b1-42b6-8c47-e44d87f8f1fb"
      },
      "source": [
        "grid = GridSearchCV(SVC(),param_grid,verbose=2)\n",
        "grid.fit(vector_train,y_train)"
      ],
      "execution_count": 54,
      "outputs": [
        {
          "output_type": "stream",
          "text": [
            "Fitting 5 folds for each of 27 candidates, totalling 135 fits\n",
            "[CV] C=0.1, gamma=10, kernel=rbf .....................................\n"
          ],
          "name": "stdout"
        },
        {
          "output_type": "stream",
          "text": [
            "[Parallel(n_jobs=1)]: Using backend SequentialBackend with 1 concurrent workers.\n"
          ],
          "name": "stderr"
        },
        {
          "output_type": "stream",
          "text": [
            "[CV] ...................... C=0.1, gamma=10, kernel=rbf, total= 1.3min\n",
            "[CV] C=0.1, gamma=10, kernel=rbf .....................................\n"
          ],
          "name": "stdout"
        },
        {
          "output_type": "stream",
          "text": [
            "[Parallel(n_jobs=1)]: Done   1 out of   1 | elapsed:  1.3min remaining:    0.0s\n"
          ],
          "name": "stderr"
        },
        {
          "output_type": "stream",
          "text": [
            "[CV] ...................... C=0.1, gamma=10, kernel=rbf, total= 1.3min\n",
            "[CV] C=0.1, gamma=10, kernel=rbf .....................................\n",
            "[CV] ...................... C=0.1, gamma=10, kernel=rbf, total= 1.2min\n",
            "[CV] C=0.1, gamma=10, kernel=rbf .....................................\n",
            "[CV] ...................... C=0.1, gamma=10, kernel=rbf, total= 1.2min\n",
            "[CV] C=0.1, gamma=10, kernel=rbf .....................................\n",
            "[CV] ...................... C=0.1, gamma=10, kernel=rbf, total= 1.3min\n",
            "[CV] C=0.1, gamma=10, kernel=poly ....................................\n",
            "[CV] ..................... C=0.1, gamma=10, kernel=poly, total= 1.4min\n",
            "[CV] C=0.1, gamma=10, kernel=poly ....................................\n",
            "[CV] ..................... C=0.1, gamma=10, kernel=poly, total= 1.4min\n",
            "[CV] C=0.1, gamma=10, kernel=poly ....................................\n",
            "[CV] ..................... C=0.1, gamma=10, kernel=poly, total= 1.4min\n",
            "[CV] C=0.1, gamma=10, kernel=poly ....................................\n",
            "[CV] ..................... C=0.1, gamma=10, kernel=poly, total= 1.4min\n",
            "[CV] C=0.1, gamma=10, kernel=poly ....................................\n",
            "[CV] ..................... C=0.1, gamma=10, kernel=poly, total= 1.4min\n",
            "[CV] C=0.1, gamma=10, kernel=sigmoid .................................\n",
            "[CV] .................. C=0.1, gamma=10, kernel=sigmoid, total=  22.8s\n",
            "[CV] C=0.1, gamma=10, kernel=sigmoid .................................\n",
            "[CV] .................. C=0.1, gamma=10, kernel=sigmoid, total=  22.8s\n",
            "[CV] C=0.1, gamma=10, kernel=sigmoid .................................\n",
            "[CV] .................. C=0.1, gamma=10, kernel=sigmoid, total=  22.7s\n",
            "[CV] C=0.1, gamma=10, kernel=sigmoid .................................\n",
            "[CV] .................. C=0.1, gamma=10, kernel=sigmoid, total=  23.1s\n",
            "[CV] C=0.1, gamma=10, kernel=sigmoid .................................\n",
            "[CV] .................. C=0.1, gamma=10, kernel=sigmoid, total=  23.0s\n",
            "[CV] C=0.1, gamma=1, kernel=rbf ......................................\n",
            "[CV] ....................... C=0.1, gamma=1, kernel=rbf, total=  32.8s\n",
            "[CV] C=0.1, gamma=1, kernel=rbf ......................................\n",
            "[CV] ....................... C=0.1, gamma=1, kernel=rbf, total=  32.7s\n",
            "[CV] C=0.1, gamma=1, kernel=rbf ......................................\n",
            "[CV] ....................... C=0.1, gamma=1, kernel=rbf, total=  32.7s\n",
            "[CV] C=0.1, gamma=1, kernel=rbf ......................................\n",
            "[CV] ....................... C=0.1, gamma=1, kernel=rbf, total=  32.7s\n",
            "[CV] C=0.1, gamma=1, kernel=rbf ......................................\n",
            "[CV] ....................... C=0.1, gamma=1, kernel=rbf, total=  32.5s\n",
            "[CV] C=0.1, gamma=1, kernel=poly .....................................\n",
            "[CV] ...................... C=0.1, gamma=1, kernel=poly, total=  57.6s\n",
            "[CV] C=0.1, gamma=1, kernel=poly .....................................\n",
            "[CV] ...................... C=0.1, gamma=1, kernel=poly, total=  57.9s\n",
            "[CV] C=0.1, gamma=1, kernel=poly .....................................\n",
            "[CV] ...................... C=0.1, gamma=1, kernel=poly, total=  57.5s\n",
            "[CV] C=0.1, gamma=1, kernel=poly .....................................\n",
            "[CV] ...................... C=0.1, gamma=1, kernel=poly, total=  57.2s\n",
            "[CV] C=0.1, gamma=1, kernel=poly .....................................\n",
            "[CV] ...................... C=0.1, gamma=1, kernel=poly, total=  57.3s\n",
            "[CV] C=0.1, gamma=1, kernel=sigmoid ..................................\n",
            "[CV] ................... C=0.1, gamma=1, kernel=sigmoid, total=  26.8s\n",
            "[CV] C=0.1, gamma=1, kernel=sigmoid ..................................\n",
            "[CV] ................... C=0.1, gamma=1, kernel=sigmoid, total=  27.0s\n",
            "[CV] C=0.1, gamma=1, kernel=sigmoid ..................................\n",
            "[CV] ................... C=0.1, gamma=1, kernel=sigmoid, total=  26.9s\n",
            "[CV] C=0.1, gamma=1, kernel=sigmoid ..................................\n",
            "[CV] ................... C=0.1, gamma=1, kernel=sigmoid, total=  27.0s\n",
            "[CV] C=0.1, gamma=1, kernel=sigmoid ..................................\n",
            "[CV] ................... C=0.1, gamma=1, kernel=sigmoid, total=  26.9s\n",
            "[CV] C=0.1, gamma=0.1, kernel=rbf ....................................\n",
            "[CV] ..................... C=0.1, gamma=0.1, kernel=rbf, total=  31.8s\n",
            "[CV] C=0.1, gamma=0.1, kernel=rbf ....................................\n",
            "[CV] ..................... C=0.1, gamma=0.1, kernel=rbf, total=  31.6s\n",
            "[CV] C=0.1, gamma=0.1, kernel=rbf ....................................\n",
            "[CV] ..................... C=0.1, gamma=0.1, kernel=rbf, total=  31.9s\n",
            "[CV] C=0.1, gamma=0.1, kernel=rbf ....................................\n",
            "[CV] ..................... C=0.1, gamma=0.1, kernel=rbf, total=  31.5s\n",
            "[CV] C=0.1, gamma=0.1, kernel=rbf ....................................\n",
            "[CV] ..................... C=0.1, gamma=0.1, kernel=rbf, total=  31.6s\n",
            "[CV] C=0.1, gamma=0.1, kernel=poly ...................................\n",
            "[CV] .................... C=0.1, gamma=0.1, kernel=poly, total=  25.4s\n",
            "[CV] C=0.1, gamma=0.1, kernel=poly ...................................\n",
            "[CV] .................... C=0.1, gamma=0.1, kernel=poly, total=  25.6s\n",
            "[CV] C=0.1, gamma=0.1, kernel=poly ...................................\n",
            "[CV] .................... C=0.1, gamma=0.1, kernel=poly, total=  25.5s\n",
            "[CV] C=0.1, gamma=0.1, kernel=poly ...................................\n",
            "[CV] .................... C=0.1, gamma=0.1, kernel=poly, total=  25.6s\n",
            "[CV] C=0.1, gamma=0.1, kernel=poly ...................................\n",
            "[CV] .................... C=0.1, gamma=0.1, kernel=poly, total=  25.5s\n",
            "[CV] C=0.1, gamma=0.1, kernel=sigmoid ................................\n",
            "[CV] ................. C=0.1, gamma=0.1, kernel=sigmoid, total=  28.0s\n",
            "[CV] C=0.1, gamma=0.1, kernel=sigmoid ................................\n",
            "[CV] ................. C=0.1, gamma=0.1, kernel=sigmoid, total=  27.8s\n",
            "[CV] C=0.1, gamma=0.1, kernel=sigmoid ................................\n",
            "[CV] ................. C=0.1, gamma=0.1, kernel=sigmoid, total=  28.0s\n",
            "[CV] C=0.1, gamma=0.1, kernel=sigmoid ................................\n",
            "[CV] ................. C=0.1, gamma=0.1, kernel=sigmoid, total=  27.9s\n",
            "[CV] C=0.1, gamma=0.1, kernel=sigmoid ................................\n",
            "[CV] ................. C=0.1, gamma=0.1, kernel=sigmoid, total=  27.7s\n",
            "[CV] C=1, gamma=10, kernel=rbf .......................................\n",
            "[CV] ........................ C=1, gamma=10, kernel=rbf, total= 1.7min\n",
            "[CV] C=1, gamma=10, kernel=rbf .......................................\n",
            "[CV] ........................ C=1, gamma=10, kernel=rbf, total= 1.7min\n",
            "[CV] C=1, gamma=10, kernel=rbf .......................................\n",
            "[CV] ........................ C=1, gamma=10, kernel=rbf, total= 1.7min\n",
            "[CV] C=1, gamma=10, kernel=rbf .......................................\n",
            "[CV] ........................ C=1, gamma=10, kernel=rbf, total= 1.7min\n",
            "[CV] C=1, gamma=10, kernel=rbf .......................................\n",
            "[CV] ........................ C=1, gamma=10, kernel=rbf, total= 1.8min\n",
            "[CV] C=1, gamma=10, kernel=poly ......................................\n",
            "[CV] ....................... C=1, gamma=10, kernel=poly, total= 1.5min\n",
            "[CV] C=1, gamma=10, kernel=poly ......................................\n",
            "[CV] ....................... C=1, gamma=10, kernel=poly, total= 1.5min\n",
            "[CV] C=1, gamma=10, kernel=poly ......................................\n",
            "[CV] ....................... C=1, gamma=10, kernel=poly, total= 1.5min\n",
            "[CV] C=1, gamma=10, kernel=poly ......................................\n",
            "[CV] ....................... C=1, gamma=10, kernel=poly, total= 1.5min\n",
            "[CV] C=1, gamma=10, kernel=poly ......................................\n",
            "[CV] ....................... C=1, gamma=10, kernel=poly, total= 1.5min\n",
            "[CV] C=1, gamma=10, kernel=sigmoid ...................................\n",
            "[CV] .................... C=1, gamma=10, kernel=sigmoid, total=  18.6s\n",
            "[CV] C=1, gamma=10, kernel=sigmoid ...................................\n",
            "[CV] .................... C=1, gamma=10, kernel=sigmoid, total=  18.8s\n",
            "[CV] C=1, gamma=10, kernel=sigmoid ...................................\n",
            "[CV] .................... C=1, gamma=10, kernel=sigmoid, total=  18.5s\n",
            "[CV] C=1, gamma=10, kernel=sigmoid ...................................\n",
            "[CV] .................... C=1, gamma=10, kernel=sigmoid, total=  18.6s\n",
            "[CV] C=1, gamma=10, kernel=sigmoid ...................................\n",
            "[CV] .................... C=1, gamma=10, kernel=sigmoid, total=  18.2s\n",
            "[CV] C=1, gamma=1, kernel=rbf ........................................\n",
            "[CV] ......................... C=1, gamma=1, kernel=rbf, total= 1.1min\n",
            "[CV] C=1, gamma=1, kernel=rbf ........................................\n",
            "[CV] ......................... C=1, gamma=1, kernel=rbf, total= 1.1min\n",
            "[CV] C=1, gamma=1, kernel=rbf ........................................\n",
            "[CV] ......................... C=1, gamma=1, kernel=rbf, total= 1.1min\n",
            "[CV] C=1, gamma=1, kernel=rbf ........................................\n",
            "[CV] ......................... C=1, gamma=1, kernel=rbf, total= 1.1min\n",
            "[CV] C=1, gamma=1, kernel=rbf ........................................\n",
            "[CV] ......................... C=1, gamma=1, kernel=rbf, total= 1.1min\n",
            "[CV] C=1, gamma=1, kernel=poly .......................................\n",
            "[CV] ........................ C=1, gamma=1, kernel=poly, total= 1.4min\n",
            "[CV] C=1, gamma=1, kernel=poly .......................................\n",
            "[CV] ........................ C=1, gamma=1, kernel=poly, total= 1.4min\n",
            "[CV] C=1, gamma=1, kernel=poly .......................................\n",
            "[CV] ........................ C=1, gamma=1, kernel=poly, total= 1.4min\n",
            "[CV] C=1, gamma=1, kernel=poly .......................................\n",
            "[CV] ........................ C=1, gamma=1, kernel=poly, total= 1.4min\n",
            "[CV] C=1, gamma=1, kernel=poly .......................................\n",
            "[CV] ........................ C=1, gamma=1, kernel=poly, total= 1.4min\n",
            "[CV] C=1, gamma=1, kernel=sigmoid ....................................\n",
            "[CV] ..................... C=1, gamma=1, kernel=sigmoid, total=  26.2s\n",
            "[CV] C=1, gamma=1, kernel=sigmoid ....................................\n",
            "[CV] ..................... C=1, gamma=1, kernel=sigmoid, total=  25.9s\n",
            "[CV] C=1, gamma=1, kernel=sigmoid ....................................\n",
            "[CV] ..................... C=1, gamma=1, kernel=sigmoid, total=  25.8s\n",
            "[CV] C=1, gamma=1, kernel=sigmoid ....................................\n",
            "[CV] ..................... C=1, gamma=1, kernel=sigmoid, total=  26.0s\n",
            "[CV] C=1, gamma=1, kernel=sigmoid ....................................\n",
            "[CV] ..................... C=1, gamma=1, kernel=sigmoid, total=  26.8s\n",
            "[CV] C=1, gamma=0.1, kernel=rbf ......................................\n",
            "[CV] ....................... C=1, gamma=0.1, kernel=rbf, total=  31.7s\n",
            "[CV] C=1, gamma=0.1, kernel=rbf ......................................\n",
            "[CV] ....................... C=1, gamma=0.1, kernel=rbf, total=  31.9s\n",
            "[CV] C=1, gamma=0.1, kernel=rbf ......................................\n",
            "[CV] ....................... C=1, gamma=0.1, kernel=rbf, total=  31.9s\n",
            "[CV] C=1, gamma=0.1, kernel=rbf ......................................\n",
            "[CV] ....................... C=1, gamma=0.1, kernel=rbf, total=  32.4s\n",
            "[CV] C=1, gamma=0.1, kernel=rbf ......................................\n",
            "[CV] ....................... C=1, gamma=0.1, kernel=rbf, total=  32.4s\n",
            "[CV] C=1, gamma=0.1, kernel=poly .....................................\n",
            "[CV] ...................... C=1, gamma=0.1, kernel=poly, total=  28.0s\n",
            "[CV] C=1, gamma=0.1, kernel=poly .....................................\n",
            "[CV] ...................... C=1, gamma=0.1, kernel=poly, total=  28.2s\n",
            "[CV] C=1, gamma=0.1, kernel=poly .....................................\n",
            "[CV] ...................... C=1, gamma=0.1, kernel=poly, total=  27.9s\n",
            "[CV] C=1, gamma=0.1, kernel=poly .....................................\n",
            "[CV] ...................... C=1, gamma=0.1, kernel=poly, total=  27.7s\n",
            "[CV] C=1, gamma=0.1, kernel=poly .....................................\n",
            "[CV] ...................... C=1, gamma=0.1, kernel=poly, total=  28.0s\n",
            "[CV] C=1, gamma=0.1, kernel=sigmoid ..................................\n",
            "[CV] ................... C=1, gamma=0.1, kernel=sigmoid, total=  28.9s\n",
            "[CV] C=1, gamma=0.1, kernel=sigmoid ..................................\n",
            "[CV] ................... C=1, gamma=0.1, kernel=sigmoid, total=  29.1s\n",
            "[CV] C=1, gamma=0.1, kernel=sigmoid ..................................\n",
            "[CV] ................... C=1, gamma=0.1, kernel=sigmoid, total=  29.1s\n",
            "[CV] C=1, gamma=0.1, kernel=sigmoid ..................................\n",
            "[CV] ................... C=1, gamma=0.1, kernel=sigmoid, total=  29.0s\n",
            "[CV] C=1, gamma=0.1, kernel=sigmoid ..................................\n",
            "[CV] ................... C=1, gamma=0.1, kernel=sigmoid, total=  28.8s\n",
            "[CV] C=10, gamma=10, kernel=rbf ......................................\n",
            "[CV] ....................... C=10, gamma=10, kernel=rbf, total= 2.5min\n",
            "[CV] C=10, gamma=10, kernel=rbf ......................................\n",
            "[CV] ....................... C=10, gamma=10, kernel=rbf, total= 2.6min\n",
            "[CV] C=10, gamma=10, kernel=rbf ......................................\n",
            "[CV] ....................... C=10, gamma=10, kernel=rbf, total= 2.6min\n",
            "[CV] C=10, gamma=10, kernel=rbf ......................................\n",
            "[CV] ....................... C=10, gamma=10, kernel=rbf, total= 2.4min\n",
            "[CV] C=10, gamma=10, kernel=rbf ......................................\n",
            "[CV] ....................... C=10, gamma=10, kernel=rbf, total= 2.5min\n",
            "[CV] C=10, gamma=10, kernel=poly .....................................\n",
            "[CV] ...................... C=10, gamma=10, kernel=poly, total= 1.6min\n",
            "[CV] C=10, gamma=10, kernel=poly .....................................\n",
            "[CV] ...................... C=10, gamma=10, kernel=poly, total= 1.6min\n",
            "[CV] C=10, gamma=10, kernel=poly .....................................\n",
            "[CV] ...................... C=10, gamma=10, kernel=poly, total= 1.5min\n",
            "[CV] C=10, gamma=10, kernel=poly .....................................\n",
            "[CV] ...................... C=10, gamma=10, kernel=poly, total= 1.5min\n",
            "[CV] C=10, gamma=10, kernel=poly .....................................\n",
            "[CV] ...................... C=10, gamma=10, kernel=poly, total= 1.5min\n",
            "[CV] C=10, gamma=10, kernel=sigmoid ..................................\n",
            "[CV] ................... C=10, gamma=10, kernel=sigmoid, total=  16.0s\n",
            "[CV] C=10, gamma=10, kernel=sigmoid ..................................\n",
            "[CV] ................... C=10, gamma=10, kernel=sigmoid, total=  16.9s\n",
            "[CV] C=10, gamma=10, kernel=sigmoid ..................................\n",
            "[CV] ................... C=10, gamma=10, kernel=sigmoid, total=  16.7s\n",
            "[CV] C=10, gamma=10, kernel=sigmoid ..................................\n",
            "[CV] ................... C=10, gamma=10, kernel=sigmoid, total=  16.6s\n",
            "[CV] C=10, gamma=10, kernel=sigmoid ..................................\n",
            "[CV] ................... C=10, gamma=10, kernel=sigmoid, total=  16.6s\n",
            "[CV] C=10, gamma=1, kernel=rbf .......................................\n",
            "[CV] ........................ C=10, gamma=1, kernel=rbf, total= 1.7min\n",
            "[CV] C=10, gamma=1, kernel=rbf .......................................\n",
            "[CV] ........................ C=10, gamma=1, kernel=rbf, total= 1.7min\n",
            "[CV] C=10, gamma=1, kernel=rbf .......................................\n",
            "[CV] ........................ C=10, gamma=1, kernel=rbf, total= 1.7min\n",
            "[CV] C=10, gamma=1, kernel=rbf .......................................\n",
            "[CV] ........................ C=10, gamma=1, kernel=rbf, total= 1.7min\n",
            "[CV] C=10, gamma=1, kernel=rbf .......................................\n",
            "[CV] ........................ C=10, gamma=1, kernel=rbf, total= 1.7min\n",
            "[CV] C=10, gamma=1, kernel=poly ......................................\n",
            "[CV] ....................... C=10, gamma=1, kernel=poly, total= 1.5min\n",
            "[CV] C=10, gamma=1, kernel=poly ......................................\n",
            "[CV] ....................... C=10, gamma=1, kernel=poly, total= 1.5min\n",
            "[CV] C=10, gamma=1, kernel=poly ......................................\n",
            "[CV] ....................... C=10, gamma=1, kernel=poly, total= 1.5min\n",
            "[CV] C=10, gamma=1, kernel=poly ......................................\n",
            "[CV] ....................... C=10, gamma=1, kernel=poly, total= 1.5min\n",
            "[CV] C=10, gamma=1, kernel=poly ......................................\n",
            "[CV] ....................... C=10, gamma=1, kernel=poly, total= 1.5min\n",
            "[CV] C=10, gamma=1, kernel=sigmoid ...................................\n",
            "[CV] .................... C=10, gamma=1, kernel=sigmoid, total= 3.4min\n",
            "[CV] C=10, gamma=1, kernel=sigmoid ...................................\n",
            "[CV] .................... C=10, gamma=1, kernel=sigmoid, total= 2.8min\n",
            "[CV] C=10, gamma=1, kernel=sigmoid ...................................\n",
            "[CV] .................... C=10, gamma=1, kernel=sigmoid, total= 2.3min\n",
            "[CV] C=10, gamma=1, kernel=sigmoid ...................................\n",
            "[CV] .................... C=10, gamma=1, kernel=sigmoid, total= 3.6min\n",
            "[CV] C=10, gamma=1, kernel=sigmoid ...................................\n",
            "[CV] .................... C=10, gamma=1, kernel=sigmoid, total= 3.1min\n",
            "[CV] C=10, gamma=0.1, kernel=rbf .....................................\n",
            "[CV] ...................... C=10, gamma=0.1, kernel=rbf, total= 1.3min\n",
            "[CV] C=10, gamma=0.1, kernel=rbf .....................................\n",
            "[CV] ...................... C=10, gamma=0.1, kernel=rbf, total= 1.3min\n",
            "[CV] C=10, gamma=0.1, kernel=rbf .....................................\n",
            "[CV] ...................... C=10, gamma=0.1, kernel=rbf, total= 1.6min\n",
            "[CV] C=10, gamma=0.1, kernel=rbf .....................................\n",
            "[CV] ...................... C=10, gamma=0.1, kernel=rbf, total= 1.4min\n",
            "[CV] C=10, gamma=0.1, kernel=rbf .....................................\n",
            "[CV] ...................... C=10, gamma=0.1, kernel=rbf, total= 1.5min\n",
            "[CV] C=10, gamma=0.1, kernel=poly ....................................\n",
            "[CV] ..................... C=10, gamma=0.1, kernel=poly, total=  49.9s\n",
            "[CV] C=10, gamma=0.1, kernel=poly ....................................\n",
            "[CV] ..................... C=10, gamma=0.1, kernel=poly, total=  49.1s\n",
            "[CV] C=10, gamma=0.1, kernel=poly ....................................\n",
            "[CV] ..................... C=10, gamma=0.1, kernel=poly, total=  49.0s\n",
            "[CV] C=10, gamma=0.1, kernel=poly ....................................\n",
            "[CV] ..................... C=10, gamma=0.1, kernel=poly, total=  50.3s\n",
            "[CV] C=10, gamma=0.1, kernel=poly ....................................\n",
            "[CV] ..................... C=10, gamma=0.1, kernel=poly, total=  50.4s\n",
            "[CV] C=10, gamma=0.1, kernel=sigmoid .................................\n",
            "[CV] .................. C=10, gamma=0.1, kernel=sigmoid, total=  41.4s\n",
            "[CV] C=10, gamma=0.1, kernel=sigmoid .................................\n",
            "[CV] .................. C=10, gamma=0.1, kernel=sigmoid, total=  40.7s\n",
            "[CV] C=10, gamma=0.1, kernel=sigmoid .................................\n",
            "[CV] .................. C=10, gamma=0.1, kernel=sigmoid, total=  40.9s\n",
            "[CV] C=10, gamma=0.1, kernel=sigmoid .................................\n",
            "[CV] .................. C=10, gamma=0.1, kernel=sigmoid, total=  40.8s\n",
            "[CV] C=10, gamma=0.1, kernel=sigmoid .................................\n",
            "[CV] .................. C=10, gamma=0.1, kernel=sigmoid, total=  39.8s\n"
          ],
          "name": "stdout"
        },
        {
          "output_type": "stream",
          "text": [
            "[Parallel(n_jobs=1)]: Done 135 out of 135 | elapsed: 139.5min finished\n"
          ],
          "name": "stderr"
        },
        {
          "output_type": "execute_result",
          "data": {
            "text/plain": [
              "GridSearchCV(cv=None, error_score=nan,\n",
              "             estimator=SVC(C=1.0, break_ties=False, cache_size=200,\n",
              "                           class_weight=None, coef0=0.0,\n",
              "                           decision_function_shape='ovr', degree=3,\n",
              "                           gamma='scale', kernel='rbf', max_iter=-1,\n",
              "                           probability=False, random_state=None, shrinking=True,\n",
              "                           tol=0.001, verbose=False),\n",
              "             iid='deprecated', n_jobs=None,\n",
              "             param_grid={'C': [0.1, 1, 10], 'gamma': [10, 1, 0.1],\n",
              "                         'kernel': ['rbf', 'poly', 'sigmoid']},\n",
              "             pre_dispatch='2*n_jobs', refit=True, return_train_score=False,\n",
              "             scoring=None, verbose=2)"
            ]
          },
          "metadata": {
            "tags": []
          },
          "execution_count": 54
        }
      ]
    },
    {
      "cell_type": "code",
      "metadata": {
        "id": "PyU47fkFnP7W",
        "colab_type": "code",
        "colab": {
          "base_uri": "https://localhost:8080/",
          "height": 34
        },
        "outputId": "07607dad-5497-4404-ec80-19c6eb21b318"
      },
      "source": [
        "print(\"Best: %f using %s\" % (grid.best_score_, grid.best_params_))"
      ],
      "execution_count": 61,
      "outputs": [
        {
          "output_type": "stream",
          "text": [
            "Best: 0.798661 using {'C': 10, 'gamma': 1, 'kernel': 'rbf'}\n"
          ],
          "name": "stdout"
        }
      ]
    },
    {
      "cell_type": "code",
      "metadata": {
        "id": "4TxGZcw49eT8",
        "colab_type": "code",
        "colab": {}
      },
      "source": [
        "grid_predictions = grid.predict(vector_test)"
      ],
      "execution_count": 56,
      "outputs": []
    },
    {
      "cell_type": "code",
      "metadata": {
        "id": "5MFwsbLe-rOP",
        "colab_type": "code",
        "colab": {
          "base_uri": "https://localhost:8080/",
          "height": 202
        },
        "outputId": "35e611be-e4c9-4ecd-b4f4-d80cefcadb04"
      },
      "source": [
        "print(confusion_matrix(y_test,grid_predictions))\n",
        "print(classification_report(y_test,grid_predictions))"
      ],
      "execution_count": 62,
      "outputs": [
        {
          "output_type": "stream",
          "text": [
            "[[2582  425]\n",
            " [ 600 1735]]\n",
            "              precision    recall  f1-score   support\n",
            "\n",
            "           0       0.81      0.86      0.83      3007\n",
            "           1       0.80      0.74      0.77      2335\n",
            "\n",
            "    accuracy                           0.81      5342\n",
            "   macro avg       0.81      0.80      0.80      5342\n",
            "weighted avg       0.81      0.81      0.81      5342\n",
            "\n"
          ],
          "name": "stdout"
        }
      ]
    },
    {
      "cell_type": "markdown",
      "metadata": {
        "id": "CpO0hyVKmkX5",
        "colab_type": "text"
      },
      "source": [
        "Tạo model với các tham số tốt nhất"
      ]
    },
    {
      "cell_type": "code",
      "metadata": {
        "id": "X99cinNxDnXD",
        "colab_type": "code",
        "colab": {}
      },
      "source": [
        "best_model = SVC(C=10, gamma=1, kernel='rbf')"
      ],
      "execution_count": 23,
      "outputs": []
    },
    {
      "cell_type": "code",
      "metadata": {
        "id": "SXXPUuzZDpvJ",
        "colab_type": "code",
        "colab": {
          "base_uri": "https://localhost:8080/",
          "height": 84
        },
        "outputId": "c92324e3-cee0-4f78-dd97-2ea103e8e5c3"
      },
      "source": [
        "best_model.fit(vector_train, y_train)"
      ],
      "execution_count": 24,
      "outputs": [
        {
          "output_type": "execute_result",
          "data": {
            "text/plain": [
              "SVC(C=10, break_ties=False, cache_size=200, class_weight=None, coef0=0.0,\n",
              "    decision_function_shape='ovr', degree=3, gamma=1, kernel='rbf', max_iter=-1,\n",
              "    probability=False, random_state=None, shrinking=True, tol=0.001,\n",
              "    verbose=False)"
            ]
          },
          "metadata": {
            "tags": []
          },
          "execution_count": 24
        }
      ]
    },
    {
      "cell_type": "code",
      "metadata": {
        "id": "Y59TWw4dtLtk",
        "colab_type": "code",
        "colab": {
          "base_uri": "https://localhost:8080/",
          "height": 34
        },
        "outputId": "ae294ec8-493c-4fd8-de86-f8cd4a0d9e39"
      },
      "source": [
        "best_model.score(vector_test, y_test)"
      ],
      "execution_count": 365,
      "outputs": [
        {
          "output_type": "execute_result",
          "data": {
            "text/plain": [
              "0.8081242980157245"
            ]
          },
          "metadata": {
            "tags": []
          },
          "execution_count": 365
        }
      ]
    },
    {
      "cell_type": "markdown",
      "metadata": {
        "id": "e9Q53iEnp2V9",
        "colab_type": "text"
      },
      "source": [
        "# Áp dụng model trên 2000 headlines mới\n",
        "\n",
        "\n",
        "\n"
      ]
    },
    {
      "cell_type": "markdown",
      "metadata": {
        "id": "ddYO0jq4gpvD",
        "colab_type": "text"
      },
      "source": [
        "Cách lấy dữ liệu thực hiện [tại đây](https://drive.google.com/drive/folders/1GKPxe7OWpz-eFiUz5DFl04zjEFZ5MzUJ?usp=sharing)\n",
        "\n"
      ]
    },
    {
      "cell_type": "markdown",
      "metadata": {
        "id": "vGMmYhEyhC8h",
        "colab_type": "text"
      },
      "source": [
        "Tạo bộ dự liệu từ 2 file dữ liệu được lấy về.\n",
        "\n",
        "Bộ dữ liệu này bao gồm 1100 headlines của trang [Huffpost](https://www.huffpost.com/) với nhãn 0 và 900 headlines của trang [The onion](https://www.theonion.com/) với nhãn 1."
      ]
    },
    {
      "cell_type": "code",
      "metadata": {
        "id": "IzrYXuschm8k",
        "colab_type": "code",
        "colab": {
          "base_uri": "https://localhost:8080/",
          "height": 195
        },
        "outputId": "479039bb-da4e-4100-c5a2-797b829be143"
      },
      "source": [
        "df_huffpost = pd.read_csv('./huffpost.csv')\n",
        "df_huffpost.head()"
      ],
      "execution_count": 120,
      "outputs": [
        {
          "output_type": "execute_result",
          "data": {
            "text/html": [
              "<div>\n",
              "<style scoped>\n",
              "    .dataframe tbody tr th:only-of-type {\n",
              "        vertical-align: middle;\n",
              "    }\n",
              "\n",
              "    .dataframe tbody tr th {\n",
              "        vertical-align: top;\n",
              "    }\n",
              "\n",
              "    .dataframe thead th {\n",
              "        text-align: right;\n",
              "    }\n",
              "</style>\n",
              "<table border=\"1\" class=\"dataframe\">\n",
              "  <thead>\n",
              "    <tr style=\"text-align: right;\">\n",
              "      <th></th>\n",
              "      <th>web-scraper-order</th>\n",
              "      <th>web-scraper-start-url</th>\n",
              "      <th>headlines</th>\n",
              "    </tr>\n",
              "  </thead>\n",
              "  <tbody>\n",
              "    <tr>\n",
              "      <th>0</th>\n",
              "      <td>1592909279-4416</td>\n",
              "      <td>https://www.huffpost.com/news/</td>\n",
              "      <td>Joe Biden Mocked In Trump Campaign Ad For Knee...</td>\n",
              "    </tr>\n",
              "    <tr>\n",
              "      <th>1</th>\n",
              "      <td>1592909279-4804</td>\n",
              "      <td>https://www.huffpost.com/news/</td>\n",
              "      <td>Tammy Duckworth: Trump's Use Of Military Again...</td>\n",
              "    </tr>\n",
              "    <tr>\n",
              "      <th>2</th>\n",
              "      <td>1592909279-3877</td>\n",
              "      <td>https://www.huffpost.com/news/</td>\n",
              "      <td>Donald Trump Vows To Keep Trying To End Dreame...</td>\n",
              "    </tr>\n",
              "    <tr>\n",
              "      <th>3</th>\n",
              "      <td>1592909279-4019</td>\n",
              "      <td>https://www.huffpost.com/news/</td>\n",
              "      <td>Rep. Ilhan Omar’s Father Dies From Complicatio...</td>\n",
              "    </tr>\n",
              "    <tr>\n",
              "      <th>4</th>\n",
              "      <td>1592909279-4667</td>\n",
              "      <td>https://www.huffpost.com/news/</td>\n",
              "      <td>Protesters Topple Confederate Statue In Virgin...</td>\n",
              "    </tr>\n",
              "  </tbody>\n",
              "</table>\n",
              "</div>"
            ],
            "text/plain": [
              "  web-scraper-order  ...                                          headlines\n",
              "0   1592909279-4416  ...  Joe Biden Mocked In Trump Campaign Ad For Knee...\n",
              "1   1592909279-4804  ...  Tammy Duckworth: Trump's Use Of Military Again...\n",
              "2   1592909279-3877  ...  Donald Trump Vows To Keep Trying To End Dreame...\n",
              "3   1592909279-4019  ...  Rep. Ilhan Omar’s Father Dies From Complicatio...\n",
              "4   1592909279-4667  ...  Protesters Topple Confederate Statue In Virgin...\n",
              "\n",
              "[5 rows x 3 columns]"
            ]
          },
          "metadata": {
            "tags": []
          },
          "execution_count": 120
        }
      ]
    },
    {
      "cell_type": "code",
      "metadata": {
        "id": "-NPEE6jXoFUo",
        "colab_type": "code",
        "colab": {}
      },
      "source": [
        "df_huffpost = df_huffpost.drop([\"web-scraper-order\", \"web-scraper-start-url\"], axis=1)"
      ],
      "execution_count": 121,
      "outputs": []
    },
    {
      "cell_type": "markdown",
      "metadata": {
        "id": "8VLs_4R9qK21",
        "colab_type": "text"
      },
      "source": [
        "Dán nhãn 0 cho các headlines của huffpost"
      ]
    },
    {
      "cell_type": "code",
      "metadata": {
        "id": "d2wRPjWGp3Ep",
        "colab_type": "code",
        "colab": {}
      },
      "source": [
        "df_huffpost['is_sarcastic'] = 0"
      ],
      "execution_count": 172,
      "outputs": []
    },
    {
      "cell_type": "code",
      "metadata": {
        "id": "5gx8ajwjpwgh",
        "colab_type": "code",
        "colab": {
          "base_uri": "https://localhost:8080/",
          "height": 195
        },
        "outputId": "1d9074f0-58ae-4e82-f019-1dfea52322fd"
      },
      "source": [
        "df_huffpost.head()"
      ],
      "execution_count": 173,
      "outputs": [
        {
          "output_type": "execute_result",
          "data": {
            "text/html": [
              "<div>\n",
              "<style scoped>\n",
              "    .dataframe tbody tr th:only-of-type {\n",
              "        vertical-align: middle;\n",
              "    }\n",
              "\n",
              "    .dataframe tbody tr th {\n",
              "        vertical-align: top;\n",
              "    }\n",
              "\n",
              "    .dataframe thead th {\n",
              "        text-align: right;\n",
              "    }\n",
              "</style>\n",
              "<table border=\"1\" class=\"dataframe\">\n",
              "  <thead>\n",
              "    <tr style=\"text-align: right;\">\n",
              "      <th></th>\n",
              "      <th>headlines</th>\n",
              "      <th>is_sarcastic</th>\n",
              "    </tr>\n",
              "  </thead>\n",
              "  <tbody>\n",
              "    <tr>\n",
              "      <th>0</th>\n",
              "      <td>Joe Biden Mocked In Trump Campaign Ad For Knee...</td>\n",
              "      <td>0</td>\n",
              "    </tr>\n",
              "    <tr>\n",
              "      <th>1</th>\n",
              "      <td>Tammy Duckworth: Trump's Use Of Military Again...</td>\n",
              "      <td>0</td>\n",
              "    </tr>\n",
              "    <tr>\n",
              "      <th>2</th>\n",
              "      <td>Donald Trump Vows To Keep Trying To End Dreame...</td>\n",
              "      <td>0</td>\n",
              "    </tr>\n",
              "    <tr>\n",
              "      <th>3</th>\n",
              "      <td>Rep. Ilhan Omar’s Father Dies From Complicatio...</td>\n",
              "      <td>0</td>\n",
              "    </tr>\n",
              "    <tr>\n",
              "      <th>4</th>\n",
              "      <td>Protesters Topple Confederate Statue In Virgin...</td>\n",
              "      <td>0</td>\n",
              "    </tr>\n",
              "  </tbody>\n",
              "</table>\n",
              "</div>"
            ],
            "text/plain": [
              "                                           headlines  is_sarcastic\n",
              "0  Joe Biden Mocked In Trump Campaign Ad For Knee...             0\n",
              "1  Tammy Duckworth: Trump's Use Of Military Again...             0\n",
              "2  Donald Trump Vows To Keep Trying To End Dreame...             0\n",
              "3  Rep. Ilhan Omar’s Father Dies From Complicatio...             0\n",
              "4  Protesters Topple Confederate Statue In Virgin...             0"
            ]
          },
          "metadata": {
            "tags": []
          },
          "execution_count": 173
        }
      ]
    },
    {
      "cell_type": "code",
      "metadata": {
        "id": "yo7_SGSRqQW6",
        "colab_type": "code",
        "colab": {
          "base_uri": "https://localhost:8080/",
          "height": 195
        },
        "outputId": "dd5ba09b-323b-47a6-a664-685fa452c72c"
      },
      "source": [
        "df_theonion = pd.read_csv('./union.csv')\n",
        "df_theonion.head()"
      ],
      "execution_count": 174,
      "outputs": [
        {
          "output_type": "execute_result",
          "data": {
            "text/html": [
              "<div>\n",
              "<style scoped>\n",
              "    .dataframe tbody tr th:only-of-type {\n",
              "        vertical-align: middle;\n",
              "    }\n",
              "\n",
              "    .dataframe tbody tr th {\n",
              "        vertical-align: top;\n",
              "    }\n",
              "\n",
              "    .dataframe thead th {\n",
              "        text-align: right;\n",
              "    }\n",
              "</style>\n",
              "<table border=\"1\" class=\"dataframe\">\n",
              "  <thead>\n",
              "    <tr style=\"text-align: right;\">\n",
              "      <th></th>\n",
              "      <th>web-scraper-order</th>\n",
              "      <th>web-scraper-start-url</th>\n",
              "      <th>headlines</th>\n",
              "    </tr>\n",
              "  </thead>\n",
              "  <tbody>\n",
              "    <tr>\n",
              "      <th>0</th>\n",
              "      <td>1592922726-6574</td>\n",
              "      <td>https://www.theonion.com/latest?startTime=1589...</td>\n",
              "      <td>Updated Patriot Act Finally Legalizes 80% Of C...</td>\n",
              "    </tr>\n",
              "    <tr>\n",
              "      <th>1</th>\n",
              "      <td>1592922906-6811</td>\n",
              "      <td>https://www.theonion.com/latest?startTime=1592...</td>\n",
              "      <td>Tips For Going To Protests</td>\n",
              "    </tr>\n",
              "    <tr>\n",
              "      <th>2</th>\n",
              "      <td>1592922302-6003</td>\n",
              "      <td>https://www.theonion.com/latest?startTime=1584...</td>\n",
              "      <td>Biden Pledges To Select Woman As Vice Presiden...</td>\n",
              "    </tr>\n",
              "    <tr>\n",
              "      <th>3</th>\n",
              "      <td>1592922922-6825</td>\n",
              "      <td>https://www.theonion.com/latest?startTime=1592...</td>\n",
              "      <td>Fantasy Baseball League Commissioner Knows Han...</td>\n",
              "    </tr>\n",
              "    <tr>\n",
              "      <th>4</th>\n",
              "      <td>1592922743-6585</td>\n",
              "      <td>https://www.theonion.com/latest?startTime=1589...</td>\n",
              "      <td>Recipe Calls For Banana As If Man Has Access T...</td>\n",
              "    </tr>\n",
              "  </tbody>\n",
              "</table>\n",
              "</div>"
            ],
            "text/plain": [
              "  web-scraper-order  ...                                          headlines\n",
              "0   1592922726-6574  ...  Updated Patriot Act Finally Legalizes 80% Of C...\n",
              "1   1592922906-6811  ...                         Tips For Going To Protests\n",
              "2   1592922302-6003  ...  Biden Pledges To Select Woman As Vice Presiden...\n",
              "3   1592922922-6825  ...  Fantasy Baseball League Commissioner Knows Han...\n",
              "4   1592922743-6585  ...  Recipe Calls For Banana As If Man Has Access T...\n",
              "\n",
              "[5 rows x 3 columns]"
            ]
          },
          "metadata": {
            "tags": []
          },
          "execution_count": 174
        }
      ]
    },
    {
      "cell_type": "code",
      "metadata": {
        "id": "pISWsMg0qcVx",
        "colab_type": "code",
        "colab": {}
      },
      "source": [
        "df_theonion = df_theonion.drop(['web-scraper-order', 'web-scraper-start-url'], axis=1)"
      ],
      "execution_count": 175,
      "outputs": []
    },
    {
      "cell_type": "markdown",
      "metadata": {
        "id": "bTzoSDX3qs1u",
        "colab_type": "text"
      },
      "source": [
        "Dán nhãn 1 cho các headlines từ theonion"
      ]
    },
    {
      "cell_type": "code",
      "metadata": {
        "id": "RO7ILomnqlwB",
        "colab_type": "code",
        "colab": {}
      },
      "source": [
        "df_theonion['is_sarcastic'] = np.int64(1)"
      ],
      "execution_count": 176,
      "outputs": []
    },
    {
      "cell_type": "code",
      "metadata": {
        "id": "tGEVo_X9qpr0",
        "colab_type": "code",
        "colab": {
          "base_uri": "https://localhost:8080/",
          "height": 195
        },
        "outputId": "b253e849-101f-4949-b40c-eacfdd0675dc"
      },
      "source": [
        "df_theonion.head()"
      ],
      "execution_count": 177,
      "outputs": [
        {
          "output_type": "execute_result",
          "data": {
            "text/html": [
              "<div>\n",
              "<style scoped>\n",
              "    .dataframe tbody tr th:only-of-type {\n",
              "        vertical-align: middle;\n",
              "    }\n",
              "\n",
              "    .dataframe tbody tr th {\n",
              "        vertical-align: top;\n",
              "    }\n",
              "\n",
              "    .dataframe thead th {\n",
              "        text-align: right;\n",
              "    }\n",
              "</style>\n",
              "<table border=\"1\" class=\"dataframe\">\n",
              "  <thead>\n",
              "    <tr style=\"text-align: right;\">\n",
              "      <th></th>\n",
              "      <th>headlines</th>\n",
              "      <th>is_sarcastic</th>\n",
              "    </tr>\n",
              "  </thead>\n",
              "  <tbody>\n",
              "    <tr>\n",
              "      <th>0</th>\n",
              "      <td>Updated Patriot Act Finally Legalizes 80% Of C...</td>\n",
              "      <td>1</td>\n",
              "    </tr>\n",
              "    <tr>\n",
              "      <th>1</th>\n",
              "      <td>Tips For Going To Protests</td>\n",
              "      <td>1</td>\n",
              "    </tr>\n",
              "    <tr>\n",
              "      <th>2</th>\n",
              "      <td>Biden Pledges To Select Woman As Vice Presiden...</td>\n",
              "      <td>1</td>\n",
              "    </tr>\n",
              "    <tr>\n",
              "      <th>3</th>\n",
              "      <td>Fantasy Baseball League Commissioner Knows Han...</td>\n",
              "      <td>1</td>\n",
              "    </tr>\n",
              "    <tr>\n",
              "      <th>4</th>\n",
              "      <td>Recipe Calls For Banana As If Man Has Access T...</td>\n",
              "      <td>1</td>\n",
              "    </tr>\n",
              "  </tbody>\n",
              "</table>\n",
              "</div>"
            ],
            "text/plain": [
              "                                           headlines  is_sarcastic\n",
              "0  Updated Patriot Act Finally Legalizes 80% Of C...             1\n",
              "1                         Tips For Going To Protests             1\n",
              "2  Biden Pledges To Select Woman As Vice Presiden...             1\n",
              "3  Fantasy Baseball League Commissioner Knows Han...             1\n",
              "4  Recipe Calls For Banana As If Man Has Access T...             1"
            ]
          },
          "metadata": {
            "tags": []
          },
          "execution_count": 177
        }
      ]
    },
    {
      "cell_type": "markdown",
      "metadata": {
        "id": "KdJUnN6pvM7J",
        "colab_type": "text"
      },
      "source": [
        "Tạo một DataFrame mới"
      ]
    },
    {
      "cell_type": "code",
      "metadata": {
        "id": "WnrSDsV9qy2c",
        "colab_type": "code",
        "colab": {}
      },
      "source": [
        "new_df_1 = pd.DataFrame(df_huffpost.values[0:1100], columns=['headlines', 'is_sarcastic'])\n",
        "new_df_2 = pd.DataFrame(df_theonion.values[0:900], columns=['headlines', 'is_sarcastic'])\n",
        "new_df = new_df_1.append(new_df_2, ignore_index=True)"
      ],
      "execution_count": 178,
      "outputs": []
    },
    {
      "cell_type": "code",
      "metadata": {
        "id": "rdzKt0Bszt2h",
        "colab_type": "code",
        "colab": {
          "base_uri": "https://localhost:8080/",
          "height": 402
        },
        "outputId": "8f0667db-0e8e-45d6-a07b-2c3ada008004"
      },
      "source": [
        "# Xóa các hàng có dữ liệu rỗng (NaN)\n",
        "new_df = new_df.dropna()\n",
        "new_df"
      ],
      "execution_count": 179,
      "outputs": [
        {
          "output_type": "execute_result",
          "data": {
            "text/html": [
              "<div>\n",
              "<style scoped>\n",
              "    .dataframe tbody tr th:only-of-type {\n",
              "        vertical-align: middle;\n",
              "    }\n",
              "\n",
              "    .dataframe tbody tr th {\n",
              "        vertical-align: top;\n",
              "    }\n",
              "\n",
              "    .dataframe thead th {\n",
              "        text-align: right;\n",
              "    }\n",
              "</style>\n",
              "<table border=\"1\" class=\"dataframe\">\n",
              "  <thead>\n",
              "    <tr style=\"text-align: right;\">\n",
              "      <th></th>\n",
              "      <th>headlines</th>\n",
              "      <th>is_sarcastic</th>\n",
              "    </tr>\n",
              "  </thead>\n",
              "  <tbody>\n",
              "    <tr>\n",
              "      <th>0</th>\n",
              "      <td>Joe Biden Mocked In Trump Campaign Ad For Knee...</td>\n",
              "      <td>0</td>\n",
              "    </tr>\n",
              "    <tr>\n",
              "      <th>1</th>\n",
              "      <td>Tammy Duckworth: Trump's Use Of Military Again...</td>\n",
              "      <td>0</td>\n",
              "    </tr>\n",
              "    <tr>\n",
              "      <th>2</th>\n",
              "      <td>Donald Trump Vows To Keep Trying To End Dreame...</td>\n",
              "      <td>0</td>\n",
              "    </tr>\n",
              "    <tr>\n",
              "      <th>3</th>\n",
              "      <td>Rep. Ilhan Omar’s Father Dies From Complicatio...</td>\n",
              "      <td>0</td>\n",
              "    </tr>\n",
              "    <tr>\n",
              "      <th>4</th>\n",
              "      <td>Protesters Topple Confederate Statue In Virgin...</td>\n",
              "      <td>0</td>\n",
              "    </tr>\n",
              "    <tr>\n",
              "      <th>...</th>\n",
              "      <td>...</td>\n",
              "      <td>...</td>\n",
              "    </tr>\n",
              "    <tr>\n",
              "      <th>1995</th>\n",
              "      <td>Oscar Meyer Whiner</td>\n",
              "      <td>1</td>\n",
              "    </tr>\n",
              "    <tr>\n",
              "      <th>1996</th>\n",
              "      <td>Man Hates How Hot Dog-Eating Contests Reduce A...</td>\n",
              "      <td>1</td>\n",
              "    </tr>\n",
              "    <tr>\n",
              "      <th>1997</th>\n",
              "      <td>Report: Amazon Using Heat-Sensing Alien Hunter...</td>\n",
              "      <td>1</td>\n",
              "    </tr>\n",
              "    <tr>\n",
              "      <th>1998</th>\n",
              "      <td>Germany Cancels Oktoberfest Due To Coronavirus...</td>\n",
              "      <td>1</td>\n",
              "    </tr>\n",
              "    <tr>\n",
              "      <th>1999</th>\n",
              "      <td>Speedrunner Accidentally Enjoys Game For A Moment</td>\n",
              "      <td>1</td>\n",
              "    </tr>\n",
              "  </tbody>\n",
              "</table>\n",
              "<p>2000 rows × 2 columns</p>\n",
              "</div>"
            ],
            "text/plain": [
              "                                              headlines is_sarcastic\n",
              "0     Joe Biden Mocked In Trump Campaign Ad For Knee...            0\n",
              "1     Tammy Duckworth: Trump's Use Of Military Again...            0\n",
              "2     Donald Trump Vows To Keep Trying To End Dreame...            0\n",
              "3     Rep. Ilhan Omar’s Father Dies From Complicatio...            0\n",
              "4     Protesters Topple Confederate Statue In Virgin...            0\n",
              "...                                                 ...          ...\n",
              "1995                                 Oscar Meyer Whiner            1\n",
              "1996  Man Hates How Hot Dog-Eating Contests Reduce A...            1\n",
              "1997  Report: Amazon Using Heat-Sensing Alien Hunter...            1\n",
              "1998  Germany Cancels Oktoberfest Due To Coronavirus...            1\n",
              "1999  Speedrunner Accidentally Enjoys Game For A Moment            1\n",
              "\n",
              "[2000 rows x 2 columns]"
            ]
          },
          "metadata": {
            "tags": []
          },
          "execution_count": 179
        }
      ]
    },
    {
      "cell_type": "code",
      "metadata": {
        "id": "_gjKPzEPB32k",
        "colab_type": "code",
        "colab": {}
      },
      "source": [
        "new_df['is_sarcastic'] = new_df['is_sarcastic'].astype('int64')"
      ],
      "execution_count": 231,
      "outputs": []
    },
    {
      "cell_type": "markdown",
      "metadata": {
        "id": "XbJ4fRwGvSJC",
        "colab_type": "text"
      },
      "source": [
        "Tiền xử lý trên bộ dữ liệu mới"
      ]
    },
    {
      "cell_type": "code",
      "metadata": {
        "id": "o3WFd8livMAf",
        "colab_type": "code",
        "colab": {
          "base_uri": "https://localhost:8080/",
          "height": 118
        },
        "outputId": "219f81e8-81e9-4951-8a7a-287a841637af"
      },
      "source": [
        "new_df['headlines'] = new_df['headlines'].apply(clean_text)\n",
        "new_df.head()['headlines']"
      ],
      "execution_count": 232,
      "outputs": [
        {
          "output_type": "execute_result",
          "data": {
            "text/plain": [
              "0    joe biden mocked trump campaign ad kneeling ch...\n",
              "1    tammy duckworth trumps use military protesters...\n",
              "2    donald trump vows keep trying end dreamer prot...\n",
              "3    rep ilhan omars father dies complications covid19\n",
              "4    protesters topple confederate statue virginia ...\n",
              "Name: headlines, dtype: object"
            ]
          },
          "metadata": {
            "tags": []
          },
          "execution_count": 232
        }
      ]
    },
    {
      "cell_type": "markdown",
      "metadata": {
        "id": "hrtIKj7k1h9v",
        "colab_type": "text"
      },
      "source": [
        "Chuyển dữ liệu chữ thành vector số"
      ]
    },
    {
      "cell_type": "code",
      "metadata": {
        "id": "exqIasZU3Lv5",
        "colab_type": "code",
        "colab": {}
      },
      "source": [
        "X_new = new_df['headlines']\n",
        "y_new = new_df['is_sarcastic']"
      ],
      "execution_count": 233,
      "outputs": []
    },
    {
      "cell_type": "code",
      "metadata": {
        "id": "VhMWoJ2j22li",
        "colab_type": "code",
        "colab": {
          "base_uri": "https://localhost:8080/",
          "height": 34
        },
        "outputId": "d872585f-df5f-4cdf-8915-c50e0473aaff"
      },
      "source": [
        "vector_new = vectorizer.transform(X_new)\n",
        "print(vector_new.shape)"
      ],
      "execution_count": 234,
      "outputs": [
        {
          "output_type": "stream",
          "text": [
            "(2000, 25194)\n"
          ],
          "name": "stdout"
        }
      ]
    },
    {
      "cell_type": "markdown",
      "metadata": {
        "id": "fOjT-TKO4DgS",
        "colab_type": "text"
      },
      "source": [
        "Dùng model đã tạo để dự đoán trên bộ dữ liệu mới"
      ]
    },
    {
      "cell_type": "code",
      "metadata": {
        "id": "igEBdI3W4JRs",
        "colab_type": "code",
        "colab": {
          "base_uri": "https://localhost:8080/",
          "height": 34
        },
        "outputId": "16d842f4-7fc1-4070-f45f-eb7852063a32"
      },
      "source": [
        "best_model.score(vector_new, y_new)"
      ],
      "execution_count": 236,
      "outputs": [
        {
          "output_type": "execute_result",
          "data": {
            "text/plain": [
              "0.6985"
            ]
          },
          "metadata": {
            "tags": []
          },
          "execution_count": 236
        }
      ]
    },
    {
      "cell_type": "code",
      "metadata": {
        "id": "oOgFdVZ2CmWe",
        "colab_type": "code",
        "colab": {
          "base_uri": "https://localhost:8080/",
          "height": 202
        },
        "outputId": "7694a4fa-bd01-4d42-e047-18c07e004da0"
      },
      "source": [
        "print(confusion_matrix(y_new, best_model.predict(vector_new)))\n",
        "print(classification_report(y_new, best_model.predict(vector_new)))"
      ],
      "execution_count": 238,
      "outputs": [
        {
          "output_type": "stream",
          "text": [
            "[[946 154]\n",
            " [449 451]]\n",
            "              precision    recall  f1-score   support\n",
            "\n",
            "           0       0.68      0.86      0.76      1100\n",
            "           1       0.75      0.50      0.60       900\n",
            "\n",
            "    accuracy                           0.70      2000\n",
            "   macro avg       0.71      0.68      0.68      2000\n",
            "weighted avg       0.71      0.70      0.69      2000\n",
            "\n"
          ],
          "name": "stdout"
        }
      ]
    },
    {
      "cell_type": "markdown",
      "metadata": {
        "id": "eqMyMy_eDAGd",
        "colab_type": "text"
      },
      "source": [
        "# Chương trình dự đoán một headline bất kì"
      ]
    },
    {
      "cell_type": "code",
      "metadata": {
        "id": "GyCfhJk8DVxd",
        "colab_type": "code",
        "colab": {}
      },
      "source": [
        "input = \"Realtor Thinks Flourishing Neighborhood Full Of Middle-Class Latino Families Has Real Turnaround Potential\""
      ],
      "execution_count": 259,
      "outputs": []
    },
    {
      "cell_type": "code",
      "metadata": {
        "id": "UZ7CMpczDsII",
        "colab_type": "code",
        "colab": {
          "base_uri": "https://localhost:8080/",
          "height": 34
        },
        "outputId": "d593bb1b-c381-4637-af61-0dc025728c63"
      },
      "source": [
        "# Tiền xử lí\n",
        "clean_input = [clean_text(input)]\n",
        "# Chuyển thành vector\n",
        "vec_input = vectorizer.transform(clean_input)\n",
        "# Dự đoán\n",
        "if best_model.predict(vec_input) == 0:\n",
        "  print(\"Headline is not sarcastic\")\n",
        "else:\n",
        "  print(\"Headline is sarcastic\")"
      ],
      "execution_count": 260,
      "outputs": [
        {
          "output_type": "stream",
          "text": [
            "Headline is sarcastic\n"
          ],
          "name": "stdout"
        }
      ]
    },
    {
      "cell_type": "markdown",
      "metadata": {
        "id": "XtG98h2xWO6B",
        "colab_type": "text"
      },
      "source": [
        "# Nhận xét"
      ]
    },
    {
      "cell_type": "markdown",
      "metadata": {
        "id": "uY6mxMtoVNDU",
        "colab_type": "text"
      },
      "source": [
        "Ta thấy hiệu suất trên 2000 headlines mới thấp hơn so với hiệu suất trên dữ liệu cũ (70% so với 80%).\n",
        "\n",
        "Để bài toán này càng đạt được kết quả cao thì cần có thêm nhiều input, nhằm tăng số lượng từ trong bộ từ vựng. Số từ vựng tiếng Anh hiện nay khoảng 171.476 từ (theo Wikipedia) tuy nhiên model chỉ được xây dựng trên 25.194 từ nên hiệu suất sẽ không cao."
      ]
    }
  ]
}