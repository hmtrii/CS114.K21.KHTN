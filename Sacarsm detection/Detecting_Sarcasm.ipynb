{
  "nbformat": 4,
  "nbformat_minor": 0,
  "metadata": {
    "colab": {
      "name": "Detecting_Sarcasm.ipynb",
      "provenance": [],
      "collapsed_sections": []
    },
    "kernelspec": {
      "name": "python3",
      "display_name": "Python 3"
    },
    "accelerator": "GPU"
  },
  "cells": [
    {
      "cell_type": "markdown",
      "metadata": {
        "id": "i7-ObeK2n_CI",
        "colab_type": "text"
      },
      "source": [
        "\n",
        "\n",
        "--------------------------------------------------------------------------------------------MÔ TẢ BÀI TOÁN--------------------------------------------------------------------------------------------\n",
        "\n",
        "\n",
        "\n",
        "> Bài toán phát hiện tính châm biếm trong các bình luận, câu văn, tiêu đề,.. trên các trang mạng xã hội như (Twiter, Facebook, Instagram,..) hay trong các trang báo. Việc thu thập dữ liệu cho bài toán này rất khó. Các bình luận, tiêu đề đến từ nhiều ngôn ngữ, nhiều lĩnh vực, có thể chứa nhiều thông tin không cần thiết, có thể có lỗi chính tả. Việc dán nhãn cũng phải được thực hiện khó khăn, không có tiêu chuẩn cụ thể cho người dán nhãn để phát hiện châm biếm.\n",
        "\n",
        "\n",
        "\n",
        "> Bộ dữ liệu đã có là những tiêu đề được lấy từ 2 trang báo Onion và HuffPost. Onion là trang báo chỉ đăng những tin châm biếm. HuffPost là trang báo uy tín, đăng những tin chính thống. Đây là bộ dữ liệu sạch, rõ ràng đáp ứng những yêu cầu sau:\n",
        "*   Dữ liệu hoàn toàn bằng tiếng Anh.\n",
        "*   Các tiêu đề được viết bởi những người chuyên nghiệp, không có lỗi chính tả.\n",
        "*   Hai trang báo có uy tín cao trong những bài viết của mình, có sự rõ ràng giữa những tiêu đề có châm biếm và những tiêu đề không châm biếm.\n",
        "\n",
        "\n",
        "\n",
        "\n",
        "\n",
        "\n"
      ]
    },
    {
      "cell_type": "code",
      "metadata": {
        "id": "RwJNrC1BzoJ0",
        "colab_type": "code",
        "colab": {}
      },
      "source": [
        "import pandas as pd\n",
        "import seaborn as sns\n",
        "from sklearn.model_selection import train_test_split \n",
        "import matplotlib.pyplot as plt\n",
        "import numpy as np\n",
        "from sklearn.feature_extraction.text import TfidfVectorizer\n",
        "from sklearn.naive_bayes import BernoulliNB\n",
        "from sklearn.neural_network import MLPClassifier\n",
        "from sklearn.linear_model import LogisticRegression\n",
        "from sklearn.svm import SVC\n",
        "from sklearn.model_selection import GridSearchCV\n",
        "from sklearn.metrics import classification_report, confusion_matrix"
      ],
      "execution_count": 3,
      "outputs": []
    },
    {
      "cell_type": "markdown",
      "metadata": {
        "id": "m3rCqYV5BIYS",
        "colab_type": "text"
      },
      "source": [
        "# Import data\n"
      ]
    },
    {
      "cell_type": "code",
      "metadata": {
        "id": "DHPdobAnfw19",
        "colab_type": "code",
        "colab": {
          "base_uri": "https://localhost:8080/",
          "height": 195
        },
        "outputId": "9bd521ed-c77c-4764-f82c-d121cd098817"
      },
      "source": [
        "df = pd.read_json(\"./Sarcasm_Headlines_Dataset.json\", lines=True)\n",
        "df.head()"
      ],
      "execution_count": 368,
      "outputs": [
        {
          "output_type": "execute_result",
          "data": {
            "text/html": [
              "<div>\n",
              "<style scoped>\n",
              "    .dataframe tbody tr th:only-of-type {\n",
              "        vertical-align: middle;\n",
              "    }\n",
              "\n",
              "    .dataframe tbody tr th {\n",
              "        vertical-align: top;\n",
              "    }\n",
              "\n",
              "    .dataframe thead th {\n",
              "        text-align: right;\n",
              "    }\n",
              "</style>\n",
              "<table border=\"1\" class=\"dataframe\">\n",
              "  <thead>\n",
              "    <tr style=\"text-align: right;\">\n",
              "      <th></th>\n",
              "      <th>article_link</th>\n",
              "      <th>headline</th>\n",
              "      <th>is_sarcastic</th>\n",
              "    </tr>\n",
              "  </thead>\n",
              "  <tbody>\n",
              "    <tr>\n",
              "      <th>0</th>\n",
              "      <td>https://www.huffingtonpost.com/entry/versace-b...</td>\n",
              "      <td>former versace store clerk sues over secret 'b...</td>\n",
              "      <td>0</td>\n",
              "    </tr>\n",
              "    <tr>\n",
              "      <th>1</th>\n",
              "      <td>https://www.huffingtonpost.com/entry/roseanne-...</td>\n",
              "      <td>the 'roseanne' revival catches up to our thorn...</td>\n",
              "      <td>0</td>\n",
              "    </tr>\n",
              "    <tr>\n",
              "      <th>2</th>\n",
              "      <td>https://local.theonion.com/mom-starting-to-fea...</td>\n",
              "      <td>mom starting to fear son's web series closest ...</td>\n",
              "      <td>1</td>\n",
              "    </tr>\n",
              "    <tr>\n",
              "      <th>3</th>\n",
              "      <td>https://politics.theonion.com/boehner-just-wan...</td>\n",
              "      <td>boehner just wants wife to listen, not come up...</td>\n",
              "      <td>1</td>\n",
              "    </tr>\n",
              "    <tr>\n",
              "      <th>4</th>\n",
              "      <td>https://www.huffingtonpost.com/entry/jk-rowlin...</td>\n",
              "      <td>j.k. rowling wishes snape happy birthday in th...</td>\n",
              "      <td>0</td>\n",
              "    </tr>\n",
              "  </tbody>\n",
              "</table>\n",
              "</div>"
            ],
            "text/plain": [
              "                                        article_link  ... is_sarcastic\n",
              "0  https://www.huffingtonpost.com/entry/versace-b...  ...            0\n",
              "1  https://www.huffingtonpost.com/entry/roseanne-...  ...            0\n",
              "2  https://local.theonion.com/mom-starting-to-fea...  ...            1\n",
              "3  https://politics.theonion.com/boehner-just-wan...  ...            1\n",
              "4  https://www.huffingtonpost.com/entry/jk-rowlin...  ...            0\n",
              "\n",
              "[5 rows x 3 columns]"
            ]
          },
          "metadata": {
            "tags": []
          },
          "execution_count": 368
        }
      ]
    },
    {
      "cell_type": "code",
      "metadata": {
        "id": "47NmAzz7ij-8",
        "colab_type": "code",
        "colab": {
          "base_uri": "https://localhost:8080/",
          "height": 402
        },
        "outputId": "385647da-697e-47bf-8294-e271444a6a5f"
      },
      "source": [
        "df.drop([\"article_link\"], axis=1)"
      ],
      "execution_count": 5,
      "outputs": [
        {
          "output_type": "execute_result",
          "data": {
            "text/html": [
              "<div>\n",
              "<style scoped>\n",
              "    .dataframe tbody tr th:only-of-type {\n",
              "        vertical-align: middle;\n",
              "    }\n",
              "\n",
              "    .dataframe tbody tr th {\n",
              "        vertical-align: top;\n",
              "    }\n",
              "\n",
              "    .dataframe thead th {\n",
              "        text-align: right;\n",
              "    }\n",
              "</style>\n",
              "<table border=\"1\" class=\"dataframe\">\n",
              "  <thead>\n",
              "    <tr style=\"text-align: right;\">\n",
              "      <th></th>\n",
              "      <th>headline</th>\n",
              "      <th>is_sarcastic</th>\n",
              "    </tr>\n",
              "  </thead>\n",
              "  <tbody>\n",
              "    <tr>\n",
              "      <th>0</th>\n",
              "      <td>former versace store clerk sues over secret 'b...</td>\n",
              "      <td>0</td>\n",
              "    </tr>\n",
              "    <tr>\n",
              "      <th>1</th>\n",
              "      <td>the 'roseanne' revival catches up to our thorn...</td>\n",
              "      <td>0</td>\n",
              "    </tr>\n",
              "    <tr>\n",
              "      <th>2</th>\n",
              "      <td>mom starting to fear son's web series closest ...</td>\n",
              "      <td>1</td>\n",
              "    </tr>\n",
              "    <tr>\n",
              "      <th>3</th>\n",
              "      <td>boehner just wants wife to listen, not come up...</td>\n",
              "      <td>1</td>\n",
              "    </tr>\n",
              "    <tr>\n",
              "      <th>4</th>\n",
              "      <td>j.k. rowling wishes snape happy birthday in th...</td>\n",
              "      <td>0</td>\n",
              "    </tr>\n",
              "    <tr>\n",
              "      <th>...</th>\n",
              "      <td>...</td>\n",
              "      <td>...</td>\n",
              "    </tr>\n",
              "    <tr>\n",
              "      <th>26704</th>\n",
              "      <td>american politics in moral free-fall</td>\n",
              "      <td>0</td>\n",
              "    </tr>\n",
              "    <tr>\n",
              "      <th>26705</th>\n",
              "      <td>america's best 20 hikes</td>\n",
              "      <td>0</td>\n",
              "    </tr>\n",
              "    <tr>\n",
              "      <th>26706</th>\n",
              "      <td>reparations and obama</td>\n",
              "      <td>0</td>\n",
              "    </tr>\n",
              "    <tr>\n",
              "      <th>26707</th>\n",
              "      <td>israeli ban targeting boycott supporters raise...</td>\n",
              "      <td>0</td>\n",
              "    </tr>\n",
              "    <tr>\n",
              "      <th>26708</th>\n",
              "      <td>gourmet gifts for the foodie 2014</td>\n",
              "      <td>0</td>\n",
              "    </tr>\n",
              "  </tbody>\n",
              "</table>\n",
              "<p>26709 rows × 2 columns</p>\n",
              "</div>"
            ],
            "text/plain": [
              "                                                headline  is_sarcastic\n",
              "0      former versace store clerk sues over secret 'b...             0\n",
              "1      the 'roseanne' revival catches up to our thorn...             0\n",
              "2      mom starting to fear son's web series closest ...             1\n",
              "3      boehner just wants wife to listen, not come up...             1\n",
              "4      j.k. rowling wishes snape happy birthday in th...             0\n",
              "...                                                  ...           ...\n",
              "26704               american politics in moral free-fall             0\n",
              "26705                            america's best 20 hikes             0\n",
              "26706                              reparations and obama             0\n",
              "26707  israeli ban targeting boycott supporters raise...             0\n",
              "26708                  gourmet gifts for the foodie 2014             0\n",
              "\n",
              "[26709 rows x 2 columns]"
            ]
          },
          "metadata": {
            "tags": []
          },
          "execution_count": 5
        }
      ]
    },
    {
      "cell_type": "code",
      "metadata": {
        "id": "rH533RjufD3I",
        "colab_type": "code",
        "colab": {}
      },
      "source": [
        "num_sarcastic = df.sum(axis=0, skipna=True)['is_sarcastic']\n",
        "num_nonsarcastic = len(df) - num_sarcastic"
      ],
      "execution_count": 6,
      "outputs": []
    },
    {
      "cell_type": "code",
      "metadata": {
        "id": "_OCq_cqmkRLH",
        "colab_type": "code",
        "colab": {
          "base_uri": "https://localhost:8080/",
          "height": 296
        },
        "outputId": "d8a651d9-6013-4c54-ffc7-c55600ca91fe"
      },
      "source": [
        "labels = [1, 0]\n",
        "x = np.arange(len(labels))\n",
        "fig, ax = plt.subplots()\n",
        "rect_1 = ax.bar(x[0], num_sarcastic)\n",
        "rect_2 = ax.bar(x[1], num_nonsarcastic)\n",
        "ax.set_ylabel('Count')\n",
        "ax.set_xlabel('is sarcastic')\n",
        "ax.set_xticks(x)\n",
        "ax.set_xticklabels(labels)\n",
        "\n",
        "ax.annotate(\n",
        "    '{}'.format(num_sarcastic),\n",
        "    xy=(x[0], num_sarcastic),\n",
        "    ha='center', va='bottom',\n",
        "    )\n",
        "ax.annotate(\n",
        "    '{}'.format(num_nonsarcastic),\n",
        "    xy=(x[1], num_nonsarcastic),\n",
        "    ha='center', va='bottom',\n",
        "    )"
      ],
      "execution_count": 7,
      "outputs": [
        {
          "output_type": "execute_result",
          "data": {
            "text/plain": [
              "Text(1, 14985, '14985')"
            ]
          },
          "metadata": {
            "tags": []
          },
          "execution_count": 7
        },
        {
          "output_type": "display_data",
          "data": {
            "image/png": "[encoded data removed]",
            "text/plain": [
              "<Figure size 432x288 with 1 Axes>"
            ]
          },
          "metadata": {
            "tags": [],
            "needs_background": "light"
          }
        }
      ]
    },
    {
      "cell_type": "markdown",
      "metadata": {
        "id": "Q0H0mg6-rje5",
        "colab_type": "text"
      },
      "source": [
        "Ta thấy số lượng tiêu đề châm biếm và không châm biếm cân bằng nhau trong bộ dữ liệu"
      ]
    },
    {
      "cell_type": "markdown",
      "metadata": {
        "id": "EQxAyC8C0Gq2",
        "colab_type": "text"
      },
      "source": [
        "# Pre-training data, using  NLTK library"
      ]
    },
    {
      "cell_type": "markdown",
      "metadata": {
        "id": "uqeVLyoPQwkt",
        "colab_type": "text"
      },
      "source": [
        "***USING NLTK LIBRARY***"
      ]
    },
    {
      "cell_type": "code",
      "metadata": {
        "id": "olHrLA14RB28",
        "colab_type": "code",
        "colab": {
          "base_uri": "https://localhost:8080/",
          "height": 322
        },
        "outputId": "c490fbae-96d9-4cc2-f202-f8cb26136b3d"
      },
      "source": [
        "!pip install -U nltk"
      ],
      "execution_count": 8,
      "outputs": [
        {
          "output_type": "stream",
          "text": [
            "Collecting nltk\n",
            "\u001b[?25l  Downloading https://files.pythonhosted.org/packages/92/75/ce35194d8e3022203cca0d2f896dbb88689f9b3fce8e9f9cff942913519d/nltk-3.5.zip (1.4MB)\n",
            "\u001b[K     |████████████████████████████████| 1.4MB 4.7MB/s \n",
            "\u001b[?25hRequirement already satisfied, skipping upgrade: click in /usr/local/lib/python3.6/dist-packages (from nltk) (7.1.2)\n",
            "Requirement already satisfied, skipping upgrade: joblib in /usr/local/lib/python3.6/dist-packages (from nltk) (0.15.1)\n",
            "Requirement already satisfied, skipping upgrade: regex in /usr/local/lib/python3.6/dist-packages (from nltk) (2019.12.20)\n",
            "Requirement already satisfied, skipping upgrade: tqdm in /usr/local/lib/python3.6/dist-packages (from nltk) (4.41.1)\n",
            "Building wheels for collected packages: nltk\n",
            "  Building wheel for nltk (setup.py) ... \u001b[?25l\u001b[?25hdone\n",
            "  Created wheel for nltk: filename=nltk-3.5-cp36-none-any.whl size=1434672 sha256=aee87e3dc81a139db9e79dc766d2ad5f8cf5aaccc6a5e2394547f67db6b4c2d1\n",
            "  Stored in directory: /root/.cache/pip/wheels/ae/8c/3f/b1fe0ba04555b08b57ab52ab7f86023639a526d8bc8d384306\n",
            "Successfully built nltk\n",
            "Installing collected packages: nltk\n",
            "  Found existing installation: nltk 3.2.5\n",
            "    Uninstalling nltk-3.2.5:\n",
            "      Successfully uninstalled nltk-3.2.5\n",
            "Successfully installed nltk-3.5\n"
          ],
          "name": "stdout"
        }
      ]
    },
    {
      "cell_type": "code",
      "metadata": {
        "id": "qYdgz_13RQOe",
        "colab_type": "code",
        "colab": {
          "base_uri": "https://localhost:8080/",
          "height": 806
        },
        "outputId": "4cf94a76-223c-45c0-ed3e-02de0c3fc2e6"
      },
      "source": [
        "import nltk\n",
        "nltk.download(\"popular\")"
      ],
      "execution_count": 9,
      "outputs": [
        {
          "output_type": "stream",
          "text": [
            "[nltk_data] Downloading collection 'popular'\n",
            "[nltk_data]    | \n",
            "[nltk_data]    | Downloading package cmudict to /root/nltk_data...\n",
            "[nltk_data]    |   Unzipping corpora/cmudict.zip.\n",
            "[nltk_data]    | Downloading package gazetteers to /root/nltk_data...\n",
            "[nltk_data]    |   Unzipping corpora/gazetteers.zip.\n",
            "[nltk_data]    | Downloading package genesis to /root/nltk_data...\n",
            "[nltk_data]    |   Unzipping corpora/genesis.zip.\n",
            "[nltk_data]    | Downloading package gutenberg to /root/nltk_data...\n",
            "[nltk_data]    |   Unzipping corpora/gutenberg.zip.\n",
            "[nltk_data]    | Downloading package inaugural to /root/nltk_data...\n",
            "[nltk_data]    |   Unzipping corpora/inaugural.zip.\n",
            "[nltk_data]    | Downloading package movie_reviews to\n",
            "[nltk_data]    |     /root/nltk_data...\n",
            "[nltk_data]    |   Unzipping corpora/movie_reviews.zip.\n",
            "[nltk_data]    | Downloading package names to /root/nltk_data...\n",
            "[nltk_data]    |   Unzipping corpora/names.zip.\n",
            "[nltk_data]    | Downloading package shakespeare to /root/nltk_data...\n",
            "[nltk_data]    |   Unzipping corpora/shakespeare.zip.\n",
            "[nltk_data]    | Downloading package stopwords to /root/nltk_data...\n",
            "[nltk_data]    |   Unzipping corpora/stopwords.zip.\n",
            "[nltk_data]    | Downloading package treebank to /root/nltk_data...\n",
            "[nltk_data]    |   Unzipping corpora/treebank.zip.\n",
            "[nltk_data]    | Downloading package twitter_samples to\n",
            "[nltk_data]    |     /root/nltk_data...\n",
            "[nltk_data]    |   Unzipping corpora/twitter_samples.zip.\n",
            "[nltk_data]    | Downloading package omw to /root/nltk_data...\n",
            "[nltk_data]    |   Unzipping corpora/omw.zip.\n",
            "[nltk_data]    | Downloading package wordnet to /root/nltk_data...\n",
            "[nltk_data]    |   Unzipping corpora/wordnet.zip.\n",
            "[nltk_data]    | Downloading package wordnet_ic to /root/nltk_data...\n",
            "[nltk_data]    |   Unzipping corpora/wordnet_ic.zip.\n",
            "[nltk_data]    | Downloading package words to /root/nltk_data...\n",
            "[nltk_data]    |   Unzipping corpora/words.zip.\n",
            "[nltk_data]    | Downloading package maxent_ne_chunker to\n",
            "[nltk_data]    |     /root/nltk_data...\n",
            "[nltk_data]    |   Unzipping chunkers/maxent_ne_chunker.zip.\n",
            "[nltk_data]    | Downloading package punkt to /root/nltk_data...\n",
            "[nltk_data]    |   Unzipping tokenizers/punkt.zip.\n",
            "[nltk_data]    | Downloading package snowball_data to\n",
            "[nltk_data]    |     /root/nltk_data...\n",
            "[nltk_data]    | Downloading package averaged_perceptron_tagger to\n",
            "[nltk_data]    |     /root/nltk_data...\n",
            "[nltk_data]    |   Unzipping taggers/averaged_perceptron_tagger.zip.\n",
            "[nltk_data]    | \n",
            "[nltk_data]  Done downloading collection popular\n"
          ],
          "name": "stderr"
        },
        {
          "output_type": "execute_result",
          "data": {
            "text/plain": [
              "True"
            ]
          },
          "metadata": {
            "tags": []
          },
          "execution_count": 9
        }
      ]
    },
    {
      "cell_type": "markdown",
      "metadata": {
        "id": "kQ3CToyAsO0x",
        "colab_type": "text"
      },
      "source": [
        "**Tiền xử lí dữ liệu:**\n",
        "\n",
        "\n",
        "*   Chuyển các chữ in hoa thành in thường.\n",
        "*   Xóa các kí tự đặc biệt như: ' [ / ( ) { } \\ [ \\ ] \\ | @ , ; ] ' \n",
        "*   Xóa các từ stopwords.\n",
        "\n"
      ]
    },
    {
      "cell_type": "code",
      "metadata": {
        "id": "xyU7jdQ9mQFD",
        "colab_type": "code",
        "colab": {}
      },
      "source": [
        "import re\n",
        "from bs4 import BeautifulSoup\n",
        "from nltk.corpus import stopwords\n",
        "\n",
        "REPLACE_BY_SPACE_RE = re.compile('[/(){}\\[\\]\\|@,;]')\n",
        "BAD_SYMBOLS_RE = re.compile('[^0-9a-z #+_]')\n",
        "STOPWORDS = set(stopwords.words('english'))\n",
        "\n",
        "def clean_text(text):\n",
        "    text = BeautifulSoup(text, \"lxml\").text # HTML decoding\n",
        "    text = text.lower() # lowercase text\n",
        "    text = REPLACE_BY_SPACE_RE.sub(' ', text) # replace REPLACE_BY_SPACE_RE symbols by space in text\n",
        "    text = BAD_SYMBOLS_RE.sub('', text) # delete symbols which are in BAD_SYMBOLS_RE from text\n",
        "    text = ' '.join(word for word in text.split() if word not in STOPWORDS) # delete stopwors from text\n",
        "    \n",
        "    return text"
      ],
      "execution_count": 10,
      "outputs": []
    },
    {
      "cell_type": "code",
      "metadata": {
        "id": "9784vqHur7Rb",
        "colab_type": "code",
        "colab": {
          "base_uri": "https://localhost:8080/",
          "height": 118
        },
        "outputId": "f9f9722d-f6a3-4ff3-a3d2-62ab914deb7a"
      },
      "source": [
        "df['headline'] = df['headline'].apply(clean_text)\n",
        "df.head()['headline']"
      ],
      "execution_count": 11,
      "outputs": [
        {
          "output_type": "execute_result",
          "data": {
            "text/plain": [
              "0    former versace store clerk sues secret black c...\n",
              "1    roseanne revival catches thorny political mood...\n",
              "2    mom starting fear sons web series closest thin...\n",
              "3    boehner wants wife listen come alternative deb...\n",
              "4    jk rowling wishes snape happy birthday magical...\n",
              "Name: headline, dtype: object"
            ]
          },
          "metadata": {
            "tags": []
          },
          "execution_count": 11
        }
      ]
    },
    {
      "cell_type": "markdown",
      "metadata": {
        "id": "dDxM88JPvCYS",
        "colab_type": "text"
      },
      "source": [
        "***Stem*** (đưa các từ về dạng nguyên mẫu trong tiếng Anh) các từ trong bộ dữ liệu.\n",
        "\n",
        "Lưu dữ liệu đã được áp dụng *stem* để so sánh với dữ liệu không *stem*."
      ]
    },
    {
      "cell_type": "code",
      "metadata": {
        "id": "Gt3VUJC9nBfM",
        "colab_type": "code",
        "colab": {}
      },
      "source": [
        "from nltk.stem.porter import PorterStemmer\n",
        "porter = PorterStemmer()\n",
        "\n",
        "def convert_to_sentence(tokens):\n",
        "  s = ''\n",
        "  for token in tokens:\n",
        "    s += token + ' '\n",
        "  s = s.strip()\n",
        "  return s\n",
        "\n",
        "def stemming(text):\n",
        "  tokens = text.split()\n",
        "  tokens = [porter.stem(w) for w in tokens] \n",
        "  new_sentence = convert_to_sentence(tokens)\n",
        "\n",
        "  return new_sentence"
      ],
      "execution_count": 12,
      "outputs": []
    },
    {
      "cell_type": "code",
      "metadata": {
        "id": "oihnNfJluGNH",
        "colab_type": "code",
        "colab": {
          "base_uri": "https://localhost:8080/",
          "height": 118
        },
        "outputId": "a1de6c5a-38b1-481c-c3d4-0564c18d57dd"
      },
      "source": [
        "stemmed_df = df['headline'].apply(stemming)\n",
        "stemmed_df.head()"
      ],
      "execution_count": 13,
      "outputs": [
        {
          "output_type": "execute_result",
          "data": {
            "text/plain": [
              "0    former versac store clerk sue secret black cod...\n",
              "1    roseann reviv catch thorni polit mood better wors\n",
              "2    mom start fear son web seri closest thing gran...\n",
              "3    boehner want wife listen come altern debtreduc...\n",
              "4          jk rowl wish snape happi birthday magic way\n",
              "Name: headline, dtype: object"
            ]
          },
          "metadata": {
            "tags": []
          },
          "execution_count": 13
        }
      ]
    },
    {
      "cell_type": "markdown",
      "metadata": {
        "id": "NCazDP_fwJ34",
        "colab_type": "text"
      },
      "source": [
        "# Split train, test\n"
      ]
    },
    {
      "cell_type": "markdown",
      "metadata": {
        "id": "InNwQOMfvcS-",
        "colab_type": "text"
      },
      "source": [
        "Chia bộ dữ liệu thành 2 bộ train và test theo tỉ lệ 8/2"
      ]
    },
    {
      "cell_type": "code",
      "metadata": {
        "id": "Y6G6ORrpwNhM",
        "colab_type": "code",
        "colab": {}
      },
      "source": [
        "X_train, X_test, y_train, y_test = train_test_split(df['headline'], df['is_sarcastic'], train_size=0.8, random_state=0)"
      ],
      "execution_count": 14,
      "outputs": []
    },
    {
      "cell_type": "code",
      "metadata": {
        "id": "xUuNstf3wu0i",
        "colab_type": "code",
        "colab": {}
      },
      "source": [
        "Xstem_train, Xstem_test, ystem_train, ystem_test = train_test_split(stemmed_df, df['is_sarcastic'], train_size=0.8, random_state=0)"
      ],
      "execution_count": 15,
      "outputs": []
    },
    {
      "cell_type": "markdown",
      "metadata": {
        "id": "r1h_jz-TwLDj",
        "colab_type": "text"
      },
      "source": [
        "# Feature engineering"
      ]
    },
    {
      "cell_type": "markdown",
      "metadata": {
        "id": "h8T8_HchxR7z",
        "colab_type": "text"
      },
      "source": [
        "Sử dụng Word Frequencies với TfidfVectorizer.\n",
        "\n",
        "TfidfVectorizer sẽ tách từ, xây dựng bộ từ vựng từ dữ liệu của bộ train.\n",
        "\n",
        "Bộ từ vựng là một vector, mỗi từ được gán 1 vị trí số nguyên duy nhất.\n",
        "\n",
        "Vector tần suất được tính tương ứng cho các từ trong bộ từ vựng, từ có tần suất cao nhất được gán giá trị thấp nhất là 1,0.\n",
        "\n",
        "Đối với dữ liệu test, nếu có các từ không xuất hiện trong bộ từ vựng thì các từ này sẽ được bỏ qua."
      ]
    },
    {
      "cell_type": "markdown",
      "metadata": {
        "id": "j8nw25SZ4Dqc",
        "colab_type": "text"
      },
      "source": [
        "Dữ liệu không stem"
      ]
    },
    {
      "cell_type": "code",
      "metadata": {
        "id": "-TG8xLM7NfBG",
        "colab_type": "code",
        "colab": {
          "base_uri": "https://localhost:8080/",
          "height": 67
        },
        "outputId": "a67a55af-cc48-4643-8e40-cdb7cc611648"
      },
      "source": [
        "vectorizer = TfidfVectorizer()\n",
        "vectorizer.fit(X_train)\n",
        "# print(vectorizer.vocabulary_)\n",
        "# print(vectorizer.idf_)\n",
        "print(len(vectorizer.vocabulary_))\n",
        "\n",
        "vector_train = vectorizer.transform(X_train)\n",
        "vector_test = vectorizer.transform(X_test)\n",
        "\n",
        "print(vector_train.shape)\n",
        "print(vector_test.shape)"
      ],
      "execution_count": 373,
      "outputs": [
        {
          "output_type": "stream",
          "text": [
            "25194\n",
            "(21367, 25194)\n",
            "(5342, 25194)\n"
          ],
          "name": "stdout"
        }
      ]
    },
    {
      "cell_type": "markdown",
      "metadata": {
        "id": "DA-ehHX91JbP",
        "colab_type": "text"
      },
      "source": [
        "Ta thấy bộ từ vựng có 25194 từ."
      ]
    },
    {
      "cell_type": "code",
      "metadata": {
        "id": "uex6U6d41aRC",
        "colab_type": "code",
        "colab": {
          "base_uri": "https://localhost:8080/",
          "height": 134
        },
        "outputId": "db278e95-47fa-4974-d560-762a544354f3"
      },
      "source": [
        "print(vector_train[0])"
      ],
      "execution_count": 17,
      "outputs": [
        {
          "output_type": "stream",
          "text": [
            "  (0, 25179)\t0.4002035964591255\n",
            "  (0, 23668)\t0.42914961621321124\n",
            "  (0, 18904)\t0.41221728011193726\n",
            "  (0, 16002)\t0.42914961621321124\n",
            "  (0, 12907)\t0.33299301995694935\n",
            "  (0, 12841)\t0.38327126035785153\n",
            "  (0, 1624)\t0.2092701574760716\n"
          ],
          "name": "stdout"
        }
      ]
    },
    {
      "cell_type": "markdown",
      "metadata": {
        "id": "FWako0wy4F1z",
        "colab_type": "text"
      },
      "source": [
        "Dữ liệu đã stem từ"
      ]
    },
    {
      "cell_type": "code",
      "metadata": {
        "id": "Eb6ckZhiLpue",
        "colab_type": "code",
        "colab": {
          "base_uri": "https://localhost:8080/",
          "height": 67
        },
        "outputId": "ef7ce730-2966-43ad-e20d-8ad1ff094bb7"
      },
      "source": [
        "vectorizer_stem = TfidfVectorizer()\n",
        "vectorizer_stem.fit(Xstem_train)\n",
        "# print(vectorizer_stem.vocabulary_)\n",
        "# print(vectorizer_stem.idf_)\n",
        "print(len(vectorizer_stem.vocabulary_))\n",
        "\n",
        "vectorStem_train = vectorizer_stem.transform(Xstem_train)\n",
        "vectorStem_test = vectorizer_stem.transform(Xstem_test)\n",
        "\n",
        "print(vectorStem_train.shape)\n",
        "print(vectorStem_test.shape)"
      ],
      "execution_count": 372,
      "outputs": [
        {
          "output_type": "stream",
          "text": [
            "17681\n",
            "(21367, 17681)\n",
            "(5342, 17681)\n"
          ],
          "name": "stdout"
        }
      ]
    },
    {
      "cell_type": "markdown",
      "metadata": {
        "id": "7lVbFTL05fJo",
        "colab_type": "text"
      },
      "source": [
        "Bộ từ vựng có 17681 từ. Vì sau quá trình stem đã có nhiều từ trùng nhau."
      ]
    },
    {
      "cell_type": "code",
      "metadata": {
        "id": "s0tS8xQM4aUI",
        "colab_type": "code",
        "colab": {
          "base_uri": "https://localhost:8080/",
          "height": 134
        },
        "outputId": "6b3cdf47-b0f8-4652-db69-7e8b5f05a29e"
      },
      "source": [
        "print(vectorStem_train[0])"
      ],
      "execution_count": 19,
      "outputs": [
        {
          "output_type": "stream",
          "text": [
            "  (0, 17669)\t0.36264109592649063\n",
            "  (0, 16542)\t0.4643718725905546\n",
            "  (0, 13202)\t0.37978937229647863\n",
            "  (0, 11318)\t0.4643718725905546\n",
            "  (0, 9040)\t0.2841187195302858\n",
            "  (0, 9001)\t0.40172837070020306\n",
            "  (0, 1280)\t0.22552131942766498\n"
          ],
          "name": "stdout"
        }
      ]
    },
    {
      "cell_type": "markdown",
      "metadata": {
        "id": "5dUrsduZ7X85",
        "colab_type": "text"
      },
      "source": [
        "# Apply models."
      ]
    },
    {
      "cell_type": "code",
      "metadata": {
        "id": "NkoaGvxZ935_",
        "colab_type": "code",
        "colab": {}
      },
      "source": [
        "def show_score(train, test):\n",
        "  bnb = BernoulliNB()\n",
        "  lgr = LogisticRegression()\n",
        "  svm = SVC()\n",
        "  mlp = MLPClassifier()\n",
        "\n",
        "  name = ['BernoulliNB', 'SVM', 'LogisticRegression', 'MLPClassifier']\n",
        "\n",
        "  for model, name in zip([bnb, svm, lgr, mlp], name):\n",
        "    model.fit(train, y_train)\n",
        "\n",
        "    print(f\"{name}:\")\n",
        "    print(\"Accuracy on training set: {:.3f}\".format(model.score(train, y_train)))\n",
        "    print(\"Accuracy on test set: {:.3f}\".format(model.score(test, y_test)))"
      ],
      "execution_count": 20,
      "outputs": []
    },
    {
      "cell_type": "code",
      "metadata": {
        "id": "BNsA1ONA_lpQ",
        "colab_type": "code",
        "colab": {
          "base_uri": "https://localhost:8080/",
          "height": 218
        },
        "outputId": "ba436bb3-d2c8-4e4a-d9ec-d28dcb9bd1e6"
      },
      "source": [
        "show_score(vector_train, vector_test)"
      ],
      "execution_count": 21,
      "outputs": [
        {
          "output_type": "stream",
          "text": [
            "BernoulliNB:\n",
            "Accuracy on training set: 0.922\n",
            "Accuracy on test set: 0.804\n",
            "SVM:\n",
            "Accuracy on training set: 0.990\n",
            "Accuracy on test set: 0.806\n",
            "LogisticRegression:\n",
            "Accuracy on training set: 0.901\n",
            "Accuracy on test set: 0.795\n",
            "MLPClassifier:\n",
            "Accuracy on training set: 1.000\n",
            "Accuracy on test set: 0.772\n"
          ],
          "name": "stdout"
        }
      ]
    },
    {
      "cell_type": "code",
      "metadata": {
        "id": "YGZZP9YcN0Qg",
        "colab_type": "code",
        "colab": {
          "base_uri": "https://localhost:8080/",
          "height": 218
        },
        "outputId": "1aa8ae9c-de4a-40e5-921e-9ea56759f449"
      },
      "source": [
        "show_score(vectorStem_train, vectorStem_test)"
      ],
      "execution_count": 22,
      "outputs": [
        {
          "output_type": "stream",
          "text": [
            "BernoulliNB:\n",
            "Accuracy on training set: 0.895\n",
            "Accuracy on test set: 0.803\n",
            "SVM:\n",
            "Accuracy on training set: 0.982\n",
            "Accuracy on test set: 0.801\n",
            "LogisticRegression:\n",
            "Accuracy on training set: 0.878\n",
            "Accuracy on test set: 0.788\n",
            "MLPClassifier:\n",
            "Accuracy on training set: 1.000\n",
            "Accuracy on test set: 0.739\n"
          ],
          "name": "stdout"
        }
      ]
    },
    {
      "cell_type": "markdown",
      "metadata": {
        "id": "zAaqLvt0-6z2",
        "colab_type": "text"
      },
      "source": [
        "Ta thấy bộ dữ liệu có stem từ cho kết quả thấp hơn bộ dữ liệu không áp dụng stem từ => Chọn bộ dữ liệu không *stem* từ.\n",
        "\n",
        "Chọn **SVM** model vì nó có kết quả cao nhất."
      ]
    },
    {
      "cell_type": "markdown",
      "metadata": {
        "id": "RH4m2EKd_iBK",
        "colab_type": "text"
      },
      "source": [
        "Tiến hành tuning hyper parameter.\n",
        "\n",
        "Sử dụng GridSearchCV."
      ]
    },
    {
      "cell_type": "code",
      "metadata": {
        "id": "TMBuWn4azzda",
        "colab_type": "code",
        "colab": {}
      },
      "source": [
        "# Tạo các tham số cần thử\n",
        "param_grid = {'C': [0.1,1,10], 'gamma': [10,1,0.1],'kernel': ['rbf', 'poly', 'sigmoid']}"
      ],
      "execution_count": 53,
      "outputs": []
    },
    {
      "cell_type": "code",
      "metadata": {
        "id": "mlM8_kxAz_hY",
        "colab_type": "code",
        "colab": {
          "base_uri": "https://localhost:8080/",
          "height": 1000
        },
        "outputId": "cc017732-38b1-42b6-8c47-e44d87f8f1fb"
      },
      "source": [
        "grid = GridSearchCV(SVC(),param_grid,verbose=2)\n",
        "grid.fit(vector_train,y_train)"
      ],
      "execution_count": 54,
      "outputs": [
        {
          "output_type": "stream",
          "text": [
            "Fitting 5 folds for each of 27 candidates, totalling 135 fits\n",
            "[CV] C=0.1, gamma=10, kernel=rbf .....................................\n"
          ],
          "name": "stdout"
        },
        {
          "output_type": "stream",
          "text": [
            "[Parallel(n_jobs=1)]: Using backend SequentialBackend with 1 concurrent workers.\n"
          ],
          "name": "stderr"
        },
        {
          "output_type": "stream",
          "text": [
            "[CV] ...................... C=0.1, gamma=10, kernel=rbf, total= 1.3min\n",
            "[CV] C=0.1, gamma=10, kernel=rbf .....................................\n"
          ],
          "name": "stdout"
        },
        {
          "output_type": "stream",
          "text": [
            "[Parallel(n_jobs=1)]: Done   1 out of   1 | elapsed:  1.3min remaining:    0.0s\n"
          ],
          "name": "stderr"
        },
        {
          "output_type": "stream",
          "text": [
            "[CV] ...................... C=0.1, gamma=10, kernel=rbf, total= 1.3min\n",
            "[CV] C=0.1, gamma=10, kernel=rbf .....................................\n",
            "[CV] ...................... C=0.1, gamma=10, kernel=rbf, total= 1.2min\n",
            "[CV] C=0.1, gamma=10, kernel=rbf .....................................\n",
            "[CV] ...................... C=0.1, gamma=10, kernel=rbf, total= 1.2min\n",
            "[CV] C=0.1, gamma=10, kernel=rbf .....................................\n",
            "[CV] ...................... C=0.1, gamma=10, kernel=rbf, total= 1.3min\n",
            "[CV] C=0.1, gamma=10, kernel=poly ....................................\n",
            "[CV] ..................... C=0.1, gamma=10, kernel=poly, total= 1.4min\n",
            "[CV] C=0.1, gamma=10, kernel=poly ....................................\n",
            "[CV] ..................... C=0.1, gamma=10, kernel=poly, total= 1.4min\n",
            "[CV] C=0.1, gamma=10, kernel=poly ....................................\n",
            "[CV] ..................... C=0.1, gamma=10, kernel=poly, total= 1.4min\n",
            "[CV] C=0.1, gamma=10, kernel=poly ....................................\n",
            "[CV] ..................... C=0.1, gamma=10, kernel=poly, total= 1.4min\n",
            "[CV] C=0.1, gamma=10, kernel=poly ....................................\n",
            "[CV] ..................... C=0.1, gamma=10, kernel=poly, total= 1.4min\n",
            "[CV] C=0.1, gamma=10, kernel=sigmoid .................................\n",
            "[CV] .................. C=0.1, gamma=10, kernel=sigmoid, total=  22.8s\n",
            "[CV] C=0.1, gamma=10, kernel=sigmoid .................................\n",
            "[CV] .................. C=0.1, gamma=10, kernel=sigmoid, total=  22.8s\n",
            "[CV] C=0.1, gamma=10, kernel=sigmoid .................................\n",
            "[CV] .................. C=0.1, gamma=10, kernel=sigmoid, total=  22.7s\n",
            "[CV] C=0.1, gamma=10, kernel=sigmoid .................................\n",
            "[CV] .................. C=0.1, gamma=10, kernel=sigmoid, total=  23.1s\n",
            "[CV] C=0.1, gamma=10, kernel=sigmoid .................................\n",
            "[CV] .................. C=0.1, gamma=10, kernel=sigmoid, total=  23.0s\n",
            "[CV] C=0.1, gamma=1, kernel=rbf ......................................\n",
            "[CV] ....................... C=0.1, gamma=1, kernel=rbf, total=  32.8s\n",
            "[CV] C=0.1, gamma=1, kernel=rbf ......................................\n",
            "[CV] ....................... C=0.1, gamma=1, kernel=rbf, total=  32.7s\n",
            "[CV] C=0.1, gamma=1, kernel=rbf ......................................\n",
            "[CV] ....................... C=0.1, gamma=1, kernel=rbf, total=  32.7s\n",
            "[CV] C=0.1, gamma=1, kernel=rbf ......................................\n",
            "[CV] ....................... C=0.1, gamma=1, kernel=rbf, total=  32.7s\n",
            "[CV] C=0.1, gamma=1, kernel=rbf ......................................\n",
            "[CV] ....................... C=0.1, gamma=1, kernel=rbf, total=  32.5s\n",
            "[CV] C=0.1, gamma=1, kernel=poly .....................................\n",
            "[CV] ...................... C=0.1, gamma=1, kernel=poly, total=  57.6s\n",
            "[CV] C=0.1, gamma=1, kernel=poly .....................................\n",
            "[CV] ...................... C=0.1, gamma=1, kernel=poly, total=  57.9s\n",
            "[CV] C=0.1, gamma=1, kernel=poly .....................................\n",
            "[CV] ...................... C=0.1, gamma=1, kernel=poly, total=  57.5s\n",
            "[CV] C=0.1, gamma=1, kernel=poly .....................................\n",
            "[CV] ...................... C=0.1, gamma=1, kernel=poly, total=  57.2s\n",
            "[CV] C=0.1, gamma=1, kernel=poly .....................................\n",
            "[CV] ...................... C=0.1, gamma=1, kernel=poly, total=  57.3s\n",
            "[CV] C=0.1, gamma=1, kernel=sigmoid ..................................\n",
            "[CV] ................... C=0.1, gamma=1, kernel=sigmoid, total=  26.8s\n",
            "[CV] C=0.1, gamma=1, kernel=sigmoid ..................................\n",
            "[CV] ................... C=0.1, gamma=1, kernel=sigmoid, total=  27.0s\n",
            "[CV] C=0.1, gamma=1, kernel=sigmoid ..................................\n",
            "[CV] ................... C=0.1, gamma=1, kernel=sigmoid, total=  26.9s\n",
            "[CV] C=0.1, gamma=1, kernel=sigmoid ..................................\n",
            "[CV] ................... C=0.1, gamma=1, kernel=sigmoid, total=  27.0s\n",
            "[CV] C=0.1, gamma=1, kernel=sigmoid ..................................\n",
            "[CV] ................... C=0.1, gamma=1, kernel=sigmoid, total=  26.9s\n",
            "[CV] C=0.1, gamma=0.1, kernel=rbf ....................................\n",
            "[CV] ..................... C=0.1, gamma=0.1, kernel=rbf, total=  31.8s\n",
            "[CV] C=0.1, gamma=0.1, kernel=rbf ....................................\n",
            "[CV] ..................... C=0.1, gamma=0.1, kernel=rbf, total=  31.6s\n",
            "[CV] C=0.1, gamma=0.1, kernel=rbf ....................................\n",
            "[CV] ..................... C=0.1, gamma=0.1, kernel=rbf, total=  31.9s\n",
            "[CV] C=0.1, gamma=0.1, kernel=rbf ....................................\n",
            "[CV] ..................... C=0.1, gamma=0.1, kernel=rbf, total=  31.5s\n",
            "[CV] C=0.1, gamma=0.1, kernel=rbf ....................................\n",
            "[CV] ..................... C=0.1, gamma=0.1, kernel=rbf, total=  31.6s\n",
            "[CV] C=0.1, gamma=0.1, kernel=poly ...................................\n",
            "[CV] .................... C=0.1, gamma=0.1, kernel=poly, total=  25.4s\n",
            "[CV] C=0.1, gamma=0.1, kernel=poly ...................................\n",
            "[CV] .................... C=0.1, gamma=0.1, kernel=poly, total=  25.6s\n",
            "[CV] C=0.1, gamma=0.1, kernel=poly ...................................\n",
            "[CV] .................... C=0.1, gamma=0.1, kernel=poly, total=  25.5s\n",
            "[CV] C=0.1, gamma=0.1, kernel=poly ...................................\n",
            "[CV] .................... C=0.1, gamma=0.1, kernel=poly, total=  25.6s\n",
            "[CV] C=0.1, gamma=0.1, kernel=poly ...................................\n",
            "[CV] .................... C=0.1, gamma=0.1, kernel=poly, total=  25.5s\n",
            "[CV] C=0.1, gamma=0.1, kernel=sigmoid ................................\n",
            "[CV] ................. C=0.1, gamma=0.1, kernel=sigmoid, total=  28.0s\n",
            "[CV] C=0.1, gamma=0.1, kernel=sigmoid ................................\n",
            "[CV] ................. C=0.1, gamma=0.1, kernel=sigmoid, total=  27.8s\n",
            "[CV] C=0.1, gamma=0.1, kernel=sigmoid ................................\n",
            "[CV] ................. C=0.1, gamma=0.1, kernel=sigmoid, total=  28.0s\n",
            "[CV] C=0.1, gamma=0.1, kernel=sigmoid ................................\n",
            "[CV] ................. C=0.1, gamma=0.1, kernel=sigmoid, total=  27.9s\n",
            "[CV] C=0.1, gamma=0.1, kernel=sigmoid ................................\n",
            "[CV] ................. C=0.1, gamma=0.1, kernel=sigmoid, total=  27.7s\n",
            "[CV] C=1, gamma=10, kernel=rbf .......................................\n",
            "[CV] ........................ C=1, gamma=10, kernel=rbf, total= 1.7min\n",
            "[CV] C=1, gamma=10, kernel=rbf .......................................\n",
            "[CV] ........................ C=1, gamma=10, kernel=rbf, total= 1.7min\n",
            "[CV] C=1, gamma=10, kernel=rbf .......................................\n",
            "[CV] ........................ C=1, gamma=10, kernel=rbf, total= 1.7min\n",
            "[CV] C=1, gamma=10, kernel=rbf .......................................\n",
            "[CV] ........................ C=1, gamma=10, kernel=rbf, total= 1.7min\n",
            "[CV] C=1, gamma=10, kernel=rbf .......................................\n",
            "[CV] ........................ C=1, gamma=10, kernel=rbf, total= 1.8min\n",
            "[CV] C=1, gamma=10, kernel=poly ......................................\n",
            "[CV] ....................... C=1, gamma=10, kernel=poly, total= 1.5min\n",
            "[CV] C=1, gamma=10, kernel=poly ......................................\n",
            "[CV] ....................... C=1, gamma=10, kernel=poly, total= 1.5min\n",
            "[CV] C=1, gamma=10, kernel=poly ......................................\n",
            "[CV] ....................... C=1, gamma=10, kernel=poly, total= 1.5min\n",
            "[CV] C=1, gamma=10, kernel=poly ......................................\n",
            "[CV] ....................... C=1, gamma=10, kernel=poly, total= 1.5min\n",
            "[CV] C=1, gamma=10, kernel=poly ......................................\n",
            "[CV] ....................... C=1, gamma=10, kernel=poly, total= 1.5min\n",
            "[CV] C=1, gamma=10, kernel=sigmoid ...................................\n",
            "[CV] .................... C=1, gamma=10, kernel=sigmoid, total=  18.6s\n",
            "[CV] C=1, gamma=10, kernel=sigmoid ...................................\n",
            "[CV] .................... C=1, gamma=10, kernel=sigmoid, total=  18.8s\n",
            "[CV] C=1, gamma=10, kernel=sigmoid ...................................\n",
            "[CV] .................... C=1, gamma=10, kernel=sigmoid, total=  18.5s\n",
            "[CV] C=1, gamma=10, kernel=sigmoid ...................................\n",
            "[CV] .................... C=1, gamma=10, kernel=sigmoid, total=  18.6s\n",
            "[CV] C=1, gamma=10, kernel=sigmoid ...................................\n",
            "[CV] .................... C=1, gamma=10, kernel=sigmoid, total=  18.2s\n",
            "[CV] C=1, gamma=1, kernel=rbf ........................................\n",
            "[CV] ......................... C=1, gamma=1, kernel=rbf, total= 1.1min\n",
            "[CV] C=1, gamma=1, kernel=rbf ........................................\n",
            "[CV] ......................... C=1, gamma=1, kernel=rbf, total= 1.1min\n",
            "[CV] C=1, gamma=1, kernel=rbf ........................................\n",
            "[CV] ......................... C=1, gamma=1, kernel=rbf, total= 1.1min\n",
            "[CV] C=1, gamma=1, kernel=rbf ........................................\n",
            "[CV] ......................... C=1, gamma=1, kernel=rbf, total= 1.1min\n",
            "[CV] C=1, gamma=1, kernel=rbf ........................................\n",
            "[CV] ......................... C=1, gamma=1, kernel=rbf, total= 1.1min\n",
            "[CV] C=1, gamma=1, kernel=poly .......................................\n",
            "[CV] ........................ C=1, gamma=1, kernel=poly, total= 1.4min\n",
            "[CV] C=1, gamma=1, kernel=poly .......................................\n",
            "[CV] ........................ C=1, gamma=1, kernel=poly, total= 1.4min\n",
            "[CV] C=1, gamma=1, kernel=poly .......................................\n",
            "[CV] ........................ C=1, gamma=1, kernel=poly, total= 1.4min\n",
            "[CV] C=1, gamma=1, kernel=poly .......................................\n",
            "[CV] ........................ C=1, gamma=1, kernel=poly, total= 1.4min\n",
            "[CV] C=1, gamma=1, kernel=poly .......................................\n",
            "[CV] ........................ C=1, gamma=1, kernel=poly, total= 1.4min\n",
            "[CV] C=1, gamma=1, kernel=sigmoid ....................................\n",
            "[CV] ..................... C=1, gamma=1, kernel=sigmoid, total=  26.2s\n",
            "[CV] C=1, gamma=1, kernel=sigmoid ....................................\n",
            "[CV] ..................... C=1, gamma=1, kernel=sigmoid, total=  25.9s\n",
            "[CV] C=1, gamma=1, kernel=sigmoid ....................................\n",
            "[CV] ..................... C=1, gamma=1, kernel=sigmoid, total=  25.8s\n",
            "[CV] C=1, gamma=1, kernel=sigmoid ....................................\n",
            "[CV] ..................... C=1, gamma=1, kernel=sigmoid, total=  26.0s\n",
            "[CV] C=1, gamma=1, kernel=sigmoid ....................................\n",
            "[CV] ..................... C=1, gamma=1, kernel=sigmoid, total=  26.8s\n",
            "[CV] C=1, gamma=0.1, kernel=rbf ......................................\n",
            "[CV] ....................... C=1, gamma=0.1, kernel=rbf, total=  31.7s\n",
            "[CV] C=1, gamma=0.1, kernel=rbf ......................................\n",
            "[CV] ....................... C=1, gamma=0.1, kernel=rbf, total=  31.9s\n",
            "[CV] C=1, gamma=0.1, kernel=rbf ......................................\n",
            "[CV] ....................... C=1, gamma=0.1, kernel=rbf, total=  31.9s\n",
            "[CV] C=1, gamma=0.1, kernel=rbf ......................................\n",
            "[CV] ....................... C=1, gamma=0.1, kernel=rbf, total=  32.4s\n",
            "[CV] C=1, gamma=0.1, kernel=rbf ......................................\n",
            "[CV] ....................... C=1, gamma=0.1, kernel=rbf, total=  32.4s\n",
            "[CV] C=1, gamma=0.1, kernel=poly .....................................\n",
            "[CV] ...................... C=1, gamma=0.1, kernel=poly, total=  28.0s\n",
            "[CV] C=1, gamma=0.1, kernel=poly .....................................\n",
            "[CV] ...................... C=1, gamma=0.1, kernel=poly, total=  28.2s\n",
            "[CV] C=1, gamma=0.1, kernel=poly .....................................\n",
            "[CV] ...................... C=1, gamma=0.1, kernel=poly, total=  27.9s\n",
            "[CV] C=1, gamma=0.1, kernel=poly .....................................\n",
            "[CV] ...................... C=1, gamma=0.1, kernel=poly, total=  27.7s\n",
            "[CV] C=1, gamma=0.1, kernel=poly .....................................\n",
            "[CV] ...................... C=1, gamma=0.1, kernel=poly, total=  28.0s\n",
            "[CV] C=1, gamma=0.1, kernel=sigmoid ..................................\n",
            "[CV] ................... C=1, gamma=0.1, kernel=sigmoid, total=  28.9s\n",
            "[CV] C=1, gamma=0.1, kernel=sigmoid ..................................\n",
            "[CV] ................... C=1, gamma=0.1, kernel=sigmoid, total=  29.1s\n",
            "[CV] C=1, gamma=0.1, kernel=sigmoid ..................................\n",
            "[CV] ................... C=1, gamma=0.1, kernel=sigmoid, total=  29.1s\n",
            "[CV] C=1, gamma=0.1, kernel=sigmoid ..................................\n",
            "[CV] ................... C=1, gamma=0.1, kernel=sigmoid, total=  29.0s\n",
            "[CV] C=1, gamma=0.1, kernel=sigmoid ..................................\n",
            "[CV] ................... C=1, gamma=0.1, kernel=sigmoid, total=  28.8s\n",
            "[CV] C=10, gamma=10, kernel=rbf ......................................\n",
            "[CV] ....................... C=10, gamma=10, kernel=rbf, total= 2.5min\n",
            "[CV] C=10, gamma=10, kernel=rbf ......................................\n",
            "[CV] ....................... C=10, gamma=10, kernel=rbf, total= 2.6min\n",
            "[CV] C=10, gamma=10, kernel=rbf ......................................\n",
            "[CV] ....................... C=10, gamma=10, kernel=rbf, total= 2.6min\n",
            "[CV] C=10, gamma=10, kernel=rbf ......................................\n",
            "[CV] ....................... C=10, gamma=10, kernel=rbf, total= 2.4min\n",
            "[CV] C=10, gamma=10, kernel=rbf ......................................\n",
            "[CV] ....................... C=10, gamma=10, kernel=rbf, total= 2.5min\n",
            "[CV] C=10, gamma=10, kernel=poly .....................................\n",
            "[CV] ...................... C=10, gamma=10, kernel=poly, total= 1.6min\n",
            "[CV] C=10, gamma=10, kernel=poly .....................................\n",
            "[CV] ...................... C=10, gamma=10, kernel=poly, total= 1.6min\n",
            "[CV] C=10, gamma=10, kernel=poly .....................................\n",
            "[CV] ...................... C=10, gamma=10, kernel=poly, total= 1.5min\n",
            "[CV] C=10, gamma=10, kernel=poly .....................................\n",
            "[CV] ...................... C=10, gamma=10, kernel=poly, total= 1.5min\n",
            "[CV] C=10, gamma=10, kernel=poly .....................................\n",
            "[CV] ...................... C=10, gamma=10, kernel=poly, total= 1.5min\n",
            "[CV] C=10, gamma=10, kernel=sigmoid ..................................\n",
            "[CV] ................... C=10, gamma=10, kernel=sigmoid, total=  16.0s\n",
            "[CV] C=10, gamma=10, kernel=sigmoid ..................................\n",
            "[CV] ................... C=10, gamma=10, kernel=sigmoid, total=  16.9s\n",
            "[CV] C=10, gamma=10, kernel=sigmoid ..................................\n",
            "[CV] ................... C=10, gamma=10, kernel=sigmoid, total=  16.7s\n",
            "[CV] C=10, gamma=10, kernel=sigmoid ..................................\n",
            "[CV] ................... C=10, gamma=10, kernel=sigmoid, total=  16.6s\n",
            "[CV] C=10, gamma=10, kernel=sigmoid ..................................\n",
            "[CV] ................... C=10, gamma=10, kernel=sigmoid, total=  16.6s\n",
            "[CV] C=10, gamma=1, kernel=rbf .......................................\n",
            "[CV] ........................ C=10, gamma=1, kernel=rbf, total= 1.7min\n",
            "[CV] C=10, gamma=1, kernel=rbf .......................................\n",
            "[CV] ........................ C=10, gamma=1, kernel=rbf, total= 1.7min\n",
            "[CV] C=10, gamma=1, kernel=rbf .......................................\n",
            "[CV] ........................ C=10, gamma=1, kernel=rbf, total= 1.7min\n",
            "[CV] C=10, gamma=1, kernel=rbf .......................................\n",
            "[CV] ........................ C=10, gamma=1, kernel=rbf, total= 1.7min\n",
            "[CV] C=10, gamma=1, kernel=rbf .......................................\n",
            "[CV] ........................ C=10, gamma=1, kernel=rbf, total= 1.7min\n",
            "[CV] C=10, gamma=1, kernel=poly ......................................\n",
            "[CV] ....................... C=10, gamma=1, kernel=poly, total= 1.5min\n",
            "[CV] C=10, gamma=1, kernel=poly ......................................\n",
            "[CV] ....................... C=10, gamma=1, kernel=poly, total= 1.5min\n",
            "[CV] C=10, gamma=1, kernel=poly ......................................\n",
            "[CV] ....................... C=10, gamma=1, kernel=poly, total= 1.5min\n",
            "[CV] C=10, gamma=1, kernel=poly ......................................\n",
            "[CV] ....................... C=10, gamma=1, kernel=poly, total= 1.5min\n",
            "[CV] C=10, gamma=1, kernel=poly ......................................\n",
            "[CV] ....................... C=10, gamma=1, kernel=poly, total= 1.5min\n",
            "[CV] C=10, gamma=1, kernel=sigmoid ...................................\n",
            "[CV] .................... C=10, gamma=1, kernel=sigmoid, total= 3.4min\n",
            "[CV] C=10, gamma=1, kernel=sigmoid ...................................\n",
            "[CV] .................... C=10, gamma=1, kernel=sigmoid, total= 2.8min\n",
            "[CV] C=10, gamma=1, kernel=sigmoid ...................................\n",
            "[CV] .................... C=10, gamma=1, kernel=sigmoid, total= 2.3min\n",
            "[CV] C=10, gamma=1, kernel=sigmoid ...................................\n",
            "[CV] .................... C=10, gamma=1, kernel=sigmoid, total= 3.6min\n",
            "[CV] C=10, gamma=1, kernel=sigmoid ...................................\n",
            "[CV] .................... C=10, gamma=1, kernel=sigmoid, total= 3.1min\n",
            "[CV] C=10, gamma=0.1, kernel=rbf .....................................\n",
            "[CV] ...................... C=10, gamma=0.1, kernel=rbf, total= 1.3min\n",
            "[CV] C=10, gamma=0.1, kernel=rbf .....................................\n",
            "[CV] ...................... C=10, gamma=0.1, kernel=rbf, total= 1.3min\n",
            "[CV] C=10, gamma=0.1, kernel=rbf .....................................\n",
            "[CV] ...................... C=10, gamma=0.1, kernel=rbf, total= 1.6min\n",
            "[CV] C=10, gamma=0.1, kernel=rbf .....................................\n",
            "[CV] ...................... C=10, gamma=0.1, kernel=rbf, total= 1.4min\n",
            "[CV] C=10, gamma=0.1, kernel=rbf .....................................\n",
            "[CV] ...................... C=10, gamma=0.1, kernel=rbf, total= 1.5min\n",
            "[CV] C=10, gamma=0.1, kernel=poly ....................................\n",
            "[CV] ..................... C=10, gamma=0.1, kernel=poly, total=  49.9s\n",
            "[CV] C=10, gamma=0.1, kernel=poly ....................................\n",
            "[CV] ..................... C=10, gamma=0.1, kernel=poly, total=  49.1s\n",
            "[CV] C=10, gamma=0.1, kernel=poly ....................................\n",
            "[CV] ..................... C=10, gamma=0.1, kernel=poly, total=  49.0s\n",
            "[CV] C=10, gamma=0.1, kernel=poly ....................................\n",
            "[CV] ..................... C=10, gamma=0.1, kernel=poly, total=  50.3s\n",
            "[CV] C=10, gamma=0.1, kernel=poly ....................................\n",
            "[CV] ..................... C=10, gamma=0.1, kernel=poly, total=  50.4s\n",
            "[CV] C=10, gamma=0.1, kernel=sigmoid .................................\n",
            "[CV] .................. C=10, gamma=0.1, kernel=sigmoid, total=  41.4s\n",
            "[CV] C=10, gamma=0.1, kernel=sigmoid .................................\n",
            "[CV] .................. C=10, gamma=0.1, kernel=sigmoid, total=  40.7s\n",
            "[CV] C=10, gamma=0.1, kernel=sigmoid .................................\n",
            "[CV] .................. C=10, gamma=0.1, kernel=sigmoid, total=  40.9s\n",
            "[CV] C=10, gamma=0.1, kernel=sigmoid .................................\n",
            "[CV] .................. C=10, gamma=0.1, kernel=sigmoid, total=  40.8s\n",
            "[CV] C=10, gamma=0.1, kernel=sigmoid .................................\n",
            "[CV] .................. C=10, gamma=0.1, kernel=sigmoid, total=  39.8s\n"
          ],
          "name": "stdout"
        },
        {
          "output_type": "stream",
          "text": [
            "[Parallel(n_jobs=1)]: Done 135 out of 135 | elapsed: 139.5min finished\n"
          ],
          "name": "stderr"
        },
        {
          "output_type": "execute_result",
          "data": {
            "text/plain": [
              "GridSearchCV(cv=None, error_score=nan,\n",
              "             estimator=SVC(C=1.0, break_ties=False, cache_size=200,\n",
              "                           class_weight=None, coef0=0.0,\n",
              "                           decision_function_shape='ovr', degree=3,\n",
              "                           gamma='scale', kernel='rbf', max_iter=-1,\n",
              "                           probability=False, random_state=None, shrinking=True,\n",
              "                           tol=0.001, verbose=False),\n",
              "             iid='deprecated', n_jobs=None,\n",
              "             param_grid={'C': [0.1, 1, 10], 'gamma': [10, 1, 0.1],\n",
              "                         'kernel': ['rbf', 'poly', 'sigmoid']},\n",
              "             pre_dispatch='2*n_jobs', refit=True, return_train_score=False,\n",
              "             scoring=None, verbose=2)"
            ]
          },
          "metadata": {
            "tags": []
          },
          "execution_count": 54
        }
      ]
    },
    {
      "cell_type": "code",
      "metadata": {
        "id": "PyU47fkFnP7W",
        "colab_type": "code",
        "colab": {
          "base_uri": "https://localhost:8080/",
          "height": 34
        },
        "outputId": "07607dad-5497-4404-ec80-19c6eb21b318"
      },
      "source": [
        "print(\"Best: %f using %s\" % (grid.best_score_, grid.best_params_))"
      ],
      "execution_count": 61,
      "outputs": [
        {
          "output_type": "stream",
          "text": [
            "Best: 0.798661 using {'C': 10, 'gamma': 1, 'kernel': 'rbf'}\n"
          ],
          "name": "stdout"
        }
      ]
    },
    {
      "cell_type": "code",
      "metadata": {
        "id": "4TxGZcw49eT8",
        "colab_type": "code",
        "colab": {}
      },
      "source": [
        "grid_predictions = grid.predict(vector_test)"
      ],
      "execution_count": 56,
      "outputs": []
    },
    {
      "cell_type": "code",
      "metadata": {
        "id": "5MFwsbLe-rOP",
        "colab_type": "code",
        "colab": {
          "base_uri": "https://localhost:8080/",
          "height": 202
        },
        "outputId": "35e611be-e4c9-4ecd-b4f4-d80cefcadb04"
      },
      "source": [
        "print(confusion_matrix(y_test,grid_predictions))\n",
        "print(classification_report(y_test,grid_predictions))"
      ],
      "execution_count": 62,
      "outputs": [
        {
          "output_type": "stream",
          "text": [
            "[[2582  425]\n",
            " [ 600 1735]]\n",
            "              precision    recall  f1-score   support\n",
            "\n",
            "           0       0.81      0.86      0.83      3007\n",
            "           1       0.80      0.74      0.77      2335\n",
            "\n",
            "    accuracy                           0.81      5342\n",
            "   macro avg       0.81      0.80      0.80      5342\n",
            "weighted avg       0.81      0.81      0.81      5342\n",
            "\n"
          ],
          "name": "stdout"
        }
      ]
    },
    {
      "cell_type": "markdown",
      "metadata": {
        "id": "CpO0hyVKmkX5",
        "colab_type": "text"
      },
      "source": [
        "Tạo model với các tham số tốt nhất"
      ]
    },
    {
      "cell_type": "code",
      "metadata": {
        "id": "X99cinNxDnXD",
        "colab_type": "code",
        "colab": {}
      },
      "source": [
        "best_model = SVC(C=10, gamma=1, kernel='rbf')"
      ],
      "execution_count": 23,
      "outputs": []
    },
    {
      "cell_type": "code",
      "metadata": {
        "id": "SXXPUuzZDpvJ",
        "colab_type": "code",
        "colab": {
          "base_uri": "https://localhost:8080/",
          "height": 84
        },
        "outputId": "c92324e3-cee0-4f78-dd97-2ea103e8e5c3"
      },
      "source": [
        "best_model.fit(vector_train, y_train)"
      ],
      "execution_count": 24,
      "outputs": [
        {
          "output_type": "execute_result",
          "data": {
            "text/plain": [
              "SVC(C=10, break_ties=False, cache_size=200, class_weight=None, coef0=0.0,\n",
              "    decision_function_shape='ovr', degree=3, gamma=1, kernel='rbf', max_iter=-1,\n",
              "    probability=False, random_state=None, shrinking=True, tol=0.001,\n",
              "    verbose=False)"
            ]
          },
          "metadata": {
            "tags": []
          },
          "execution_count": 24
        }
      ]
    },
    {
      "cell_type": "code",
      "metadata": {
        "id": "Y59TWw4dtLtk",
        "colab_type": "code",
        "colab": {
          "base_uri": "https://localhost:8080/",
          "height": 34
        },
        "outputId": "ae294ec8-493c-4fd8-de86-f8cd4a0d9e39"
      },
      "source": [
        "best_model.score(vector_test, y_test)"
      ],
      "execution_count": 365,
      "outputs": [
        {
          "output_type": "execute_result",
          "data": {
            "text/plain": [
              "0.8081242980157245"
            ]
          },
          "metadata": {
            "tags": []
          },
          "execution_count": 365
        }
      ]
    },
    {
      "cell_type": "markdown",
      "metadata": {
        "id": "e9Q53iEnp2V9",
        "colab_type": "text"
      },
      "source": [
        "# Áp dụng model trên 2000 headlines mới\n",
        "\n",
        "\n",
        "\n"
      ]
    },
    {
      "cell_type": "markdown",
      "metadata": {
        "id": "ddYO0jq4gpvD",
        "colab_type": "text"
      },
      "source": [
        "Cách lấy dữ liệu thực hiện [tại đây](https://drive.google.com/drive/folders/1GKPxe7OWpz-eFiUz5DFl04zjEFZ5MzUJ?usp=sharing)\n",
        "\n"
      ]
    },
    {
      "cell_type": "markdown",
      "metadata": {
        "id": "vGMmYhEyhC8h",
        "colab_type": "text"
      },
      "source": [
        "Tạo bộ dự liệu từ 2 file dữ liệu được lấy về.\n",
        "\n",
        "Bộ dữ liệu này bao gồm 1100 headlines của trang [Huffpost](https://www.huffpost.com/) với nhãn 0 và 900 headlines của trang [The onion](https://www.theonion.com/) với nhãn 1."
      ]
    },
    {
      "cell_type": "code",
      "metadata": {
        "id": "IzrYXuschm8k",
        "colab_type": "code",
        "colab": {
          "base_uri": "https://localhost:8080/",
          "height": 195
        },
        "outputId": "479039bb-da4e-4100-c5a2-797b829be143"
      },
      "source": [
        "df_huffpost = pd.read_csv('./huffpost.csv')\n",
        "df_huffpost.head()"
      ],
      "execution_count": 120,
      "outputs": [
        {
          "output_type": "execute_result",
          "data": {
            "text/html": [
              "<div>\n",
              "<style scoped>\n",
              "    .dataframe tbody tr th:only-of-type {\n",
              "        vertical-align: middle;\n",
              "    }\n",
              "\n",
              "    .dataframe tbody tr th {\n",
              "        vertical-align: top;\n",
              "    }\n",
              "\n",
              "    .dataframe thead th {\n",
              "        text-align: right;\n",
              "    }\n",
              "</style>\n",
              "<table border=\"1\" class=\"dataframe\">\n",
              "  <thead>\n",
              "    <tr style=\"text-align: right;\">\n",
              "      <th></th>\n",
              "      <th>web-scraper-order</th>\n",
              "      <th>web-scraper-start-url</th>\n",
              "      <th>headlines</th>\n",
              "    </tr>\n",
              "  </thead>\n",
              "  <tbody>\n",
              "    <tr>\n",
              "      <th>0</th>\n",
              "      <td>1592909279-4416</td>\n",
              "      <td>https://www.huffpost.com/news/</td>\n",
              "      <td>Joe Biden Mocked In Trump Campaign Ad For Knee...</td>\n",
              "    </tr>\n",
              "    <tr>\n",
              "      <th>1</th>\n",
              "      <td>1592909279-4804</td>\n",
              "      <td>https://www.huffpost.com/news/</td>\n",
              "      <td>Tammy Duckworth: Trump's Use Of Military Again...</td>\n",
              "    </tr>\n",
              "    <tr>\n",
              "      <th>2</th>\n",
              "      <td>1592909279-3877</td>\n",
              "      <td>https://www.huffpost.com/news/</td>\n",
              "      <td>Donald Trump Vows To Keep Trying To End Dreame...</td>\n",
              "    </tr>\n",
              "    <tr>\n",
              "      <th>3</th>\n",
              "      <td>1592909279-4019</td>\n",
              "      <td>https://www.huffpost.com/news/</td>\n",
              "      <td>Rep. Ilhan Omar’s Father Dies From Complicatio...</td>\n",
              "    </tr>\n",
              "    <tr>\n",
              "      <th>4</th>\n",
              "      <td>1592909279-4667</td>\n",
              "      <td>https://www.huffpost.com/news/</td>\n",
              "      <td>Protesters Topple Confederate Statue In Virgin...</td>\n",
              "    </tr>\n",
              "  </tbody>\n",
              "</table>\n",
              "</div>"
            ],
            "text/plain": [
              "  web-scraper-order  ...                                          headlines\n",
              "0   1592909279-4416  ...  Joe Biden Mocked In Trump Campaign Ad For Knee...\n",
              "1   1592909279-4804  ...  Tammy Duckworth: Trump's Use Of Military Again...\n",
              "2   1592909279-3877  ...  Donald Trump Vows To Keep Trying To End Dreame...\n",
              "3   1592909279-4019  ...  Rep. Ilhan Omar’s Father Dies From Complicatio...\n",
              "4   1592909279-4667  ...  Protesters Topple Confederate Statue In Virgin...\n",
              "\n",
              "[5 rows x 3 columns]"
            ]
          },
          "metadata": {
            "tags": []
          },
          "execution_count": 120
        }
      ]
    },
    {
      "cell_type": "code",
      "metadata": {
        "id": "-NPEE6jXoFUo",
        "colab_type": "code",
        "colab": {}
      },
      "source": [
        "df_huffpost = df_huffpost.drop([\"web-scraper-order\", \"web-scraper-start-url\"], axis=1)"
      ],
      "execution_count": 121,
      "outputs": []
    },
    {
      "cell_type": "markdown",
      "metadata": {
        "id": "8VLs_4R9qK21",
        "colab_type": "text"
      },
      "source": [
        "Dán nhãn 0 cho các headlines của huffpost"
      ]
    },
    {
      "cell_type": "code",
      "metadata": {
        "id": "d2wRPjWGp3Ep",
        "colab_type": "code",
        "colab": {}
      },
      "source": [
        "df_huffpost['is_sarcastic'] = 0"
      ],
      "execution_count": 172,
      "outputs": []
    },
    {
      "cell_type": "code",
      "metadata": {
        "id": "5gx8ajwjpwgh",
        "colab_type": "code",
        "colab": {
          "base_uri": "https://localhost:8080/",
          "height": 195
        },
        "outputId": "1d9074f0-58ae-4e82-f019-1dfea52322fd"
      },
      "source": [
        "df_huffpost.head()"
      ],
      "execution_count": 173,
      "outputs": [
        {
          "output_type": "execute_result",
          "data": {
            "text/html": [
              "<div>\n",
              "<style scoped>\n",
              "    .dataframe tbody tr th:only-of-type {\n",
              "        vertical-align: middle;\n",
              "    }\n",
              "\n",
              "    .dataframe tbody tr th {\n",
              "        vertical-align: top;\n",
              "    }\n",
              "\n",
              "    .dataframe thead th {\n",
              "        text-align: right;\n",
              "    }\n",
              "</style>\n",
              "<table border=\"1\" class=\"dataframe\">\n",
              "  <thead>\n",
              "    <tr style=\"text-align: right;\">\n",
              "      <th></th>\n",
              "      <th>headlines</th>\n",
              "      <th>is_sarcastic</th>\n",
              "    </tr>\n",
              "  </thead>\n",
              "  <tbody>\n",
              "    <tr>\n",
              "      <th>0</th>\n",
              "      <td>Joe Biden Mocked In Trump Campaign Ad For Knee...</td>\n",
              "      <td>0</td>\n",
              "    </tr>\n",
              "    <tr>\n",
              "      <th>1</th>\n",
              "      <td>Tammy Duckworth: Trump's Use Of Military Again...</td>\n",
              "      <td>0</td>\n",
              "    </tr>\n",
              "    <tr>\n",
              "      <th>2</th>\n",
              "      <td>Donald Trump Vows To Keep Trying To End Dreame...</td>\n",
              "      <td>0</td>\n",
              "    </tr>\n",
              "    <tr>\n",
              "      <th>3</th>\n",
              "      <td>Rep. Ilhan Omar’s Father Dies From Complicatio...</td>\n",
              "      <td>0</td>\n",
              "    </tr>\n",
              "    <tr>\n",
              "      <th>4</th>\n",
              "      <td>Protesters Topple Confederate Statue In Virgin...</td>\n",
              "      <td>0</td>\n",
              "    </tr>\n",
              "  </tbody>\n",
              "</table>\n",
              "</div>"
            ],
            "text/plain": [
              "                                           headlines  is_sarcastic\n",
              "0  Joe Biden Mocked In Trump Campaign Ad For Knee...             0\n",
              "1  Tammy Duckworth: Trump's Use Of Military Again...             0\n",
              "2  Donald Trump Vows To Keep Trying To End Dreame...             0\n",
              "3  Rep. Ilhan Omar’s Father Dies From Complicatio...             0\n",
              "4  Protesters Topple Confederate Statue In Virgin...             0"
            ]
          },
          "metadata": {
            "tags": []
          },
          "execution_count": 173
        }
      ]
    },
    {
      "cell_type": "code",
      "metadata": {
        "id": "yo7_SGSRqQW6",
        "colab_type": "code",
        "colab": {
          "base_uri": "https://localhost:8080/",
          "height": 195
        },
        "outputId": "dd5ba09b-323b-47a6-a664-685fa452c72c"
      },
      "source": [
        "df_theonion = pd.read_csv('./union.csv')\n",
        "df_theonion.head()"
      ],
      "execution_count": 174,
      "outputs": [
        {
          "output_type": "execute_result",
          "data": {
            "text/html": [
              "<div>\n",
              "<style scoped>\n",
              "    .dataframe tbody tr th:only-of-type {\n",
              "        vertical-align: middle;\n",
              "    }\n",
              "\n",
              "    .dataframe tbody tr th {\n",
              "        vertical-align: top;\n",
              "    }\n",
              "\n",
              "    .dataframe thead th {\n",
              "        text-align: right;\n",
              "    }\n",
              "</style>\n",
              "<table border=\"1\" class=\"dataframe\">\n",
              "  <thead>\n",
              "    <tr style=\"text-align: right;\">\n",
              "      <th></th>\n",
              "      <th>web-scraper-order</th>\n",
              "      <th>web-scraper-start-url</th>\n",
              "      <th>headlines</th>\n",
              "    </tr>\n",
              "  </thead>\n",
              "  <tbody>\n",
              "    <tr>\n",
              "      <th>0</th>\n",
              "      <td>1592922726-6574</td>\n",
              "      <td>https://www.theonion.com/latest?startTime=1589...</td>\n",
              "      <td>Updated Patriot Act Finally Legalizes 80% Of C...</td>\n",
              "    </tr>\n",
              "    <tr>\n",
              "      <th>1</th>\n",
              "      <td>1592922906-6811</td>\n",
              "      <td>https://www.theonion.com/latest?startTime=1592...</td>\n",
              "      <td>Tips For Going To Protests</td>\n",
              "    </tr>\n",
              "    <tr>\n",
              "      <th>2</th>\n",
              "      <td>1592922302-6003</td>\n",
              "      <td>https://www.theonion.com/latest?startTime=1584...</td>\n",
              "      <td>Biden Pledges To Select Woman As Vice Presiden...</td>\n",
              "    </tr>\n",
              "    <tr>\n",
              "      <th>3</th>\n",
              "      <td>1592922922-6825</td>\n",
              "      <td>https://www.theonion.com/latest?startTime=1592...</td>\n",
              "      <td>Fantasy Baseball League Commissioner Knows Han...</td>\n",
              "    </tr>\n",
              "    <tr>\n",
              "      <th>4</th>\n",
              "      <td>1592922743-6585</td>\n",
              "      <td>https://www.theonion.com/latest?startTime=1589...</td>\n",
              "      <td>Recipe Calls For Banana As If Man Has Access T...</td>\n",
              "    </tr>\n",
              "  </tbody>\n",
              "</table>\n",
              "</div>"
            ],
            "text/plain": [
              "  web-scraper-order  ...                                          headlines\n",
              "0   1592922726-6574  ...  Updated Patriot Act Finally Legalizes 80% Of C...\n",
              "1   1592922906-6811  ...                         Tips For Going To Protests\n",
              "2   1592922302-6003  ...  Biden Pledges To Select Woman As Vice Presiden...\n",
              "3   1592922922-6825  ...  Fantasy Baseball League Commissioner Knows Han...\n",
              "4   1592922743-6585  ...  Recipe Calls For Banana As If Man Has Access T...\n",
              "\n",
              "[5 rows x 3 columns]"
            ]
          },
          "metadata": {
            "tags": []
          },
          "execution_count": 174
        }
      ]
    },
    {
      "cell_type": "code",
      "metadata": {
        "id": "pISWsMg0qcVx",
        "colab_type": "code",
        "colab": {}
      },
      "source": [
        "df_theonion = df_theonion.drop(['web-scraper-order', 'web-scraper-start-url'], axis=1)"
      ],
      "execution_count": 175,
      "outputs": []
    },
    {
      "cell_type": "markdown",
      "metadata": {
        "id": "bTzoSDX3qs1u",
        "colab_type": "text"
      },
      "source": [
        "Dán nhãn 1 cho các headlines từ theonion"
      ]
    },
    {
      "cell_type": "code",
      "metadata": {
        "id": "RO7ILomnqlwB",
        "colab_type": "code",
        "colab": {}
      },
      "source": [
        "df_theonion['is_sarcastic'] = np.int64(1)"
      ],
      "execution_count": 176,
      "outputs": []
    },
    {
      "cell_type": "code",
      "metadata": {
        "id": "tGEVo_X9qpr0",
        "colab_type": "code",
        "colab": {
          "base_uri": "https://localhost:8080/",
          "height": 195
        },
        "outputId": "b253e849-101f-4949-b40c-eacfdd0675dc"
      },
      "source": [
        "df_theonion.head()"
      ],
      "execution_count": 177,
      "outputs": [
        {
          "output_type": "execute_result",
          "data": {
            "text/html": [
              "<div>\n",
              "<style scoped>\n",
              "    .dataframe tbody tr th:only-of-type {\n",
              "        vertical-align: middle;\n",
              "    }\n",
              "\n",
              "    .dataframe tbody tr th {\n",
              "        vertical-align: top;\n",
              "    }\n",
              "\n",
              "    .dataframe thead th {\n",
              "        text-align: right;\n",
              "    }\n",
              "</style>\n",
              "<table border=\"1\" class=\"dataframe\">\n",
              "  <thead>\n",
              "    <tr style=\"text-align: right;\">\n",
              "      <th></th>\n",
              "      <th>headlines</th>\n",
              "      <th>is_sarcastic</th>\n",
              "    </tr>\n",
              "  </thead>\n",
              "  <tbody>\n",
              "    <tr>\n",
              "      <th>0</th>\n",
              "      <td>Updated Patriot Act Finally Legalizes 80% Of C...</td>\n",
              "      <td>1</td>\n",
              "    </tr>\n",
              "    <tr>\n",
              "      <th>1</th>\n",
              "      <td>Tips For Going To Protests</td>\n",
              "      <td>1</td>\n",
              "    </tr>\n",
              "    <tr>\n",
              "      <th>2</th>\n",
              "      <td>Biden Pledges To Select Woman As Vice Presiden...</td>\n",
              "      <td>1</td>\n",
              "    </tr>\n",
              "    <tr>\n",
              "      <th>3</th>\n",
              "      <td>Fantasy Baseball League Commissioner Knows Han...</td>\n",
              "      <td>1</td>\n",
              "    </tr>\n",
              "    <tr>\n",
              "      <th>4</th>\n",
              "      <td>Recipe Calls For Banana As If Man Has Access T...</td>\n",
              "      <td>1</td>\n",
              "    </tr>\n",
              "  </tbody>\n",
              "</table>\n",
              "</div>"
            ],
            "text/plain": [
              "                                           headlines  is_sarcastic\n",
              "0  Updated Patriot Act Finally Legalizes 80% Of C...             1\n",
              "1                         Tips For Going To Protests             1\n",
              "2  Biden Pledges To Select Woman As Vice Presiden...             1\n",
              "3  Fantasy Baseball League Commissioner Knows Han...             1\n",
              "4  Recipe Calls For Banana As If Man Has Access T...             1"
            ]
          },
          "metadata": {
            "tags": []
          },
          "execution_count": 177
        }
      ]
    },
    {
      "cell_type": "markdown",
      "metadata": {
        "id": "KdJUnN6pvM7J",
        "colab_type": "text"
      },
      "source": [
        "Tạo một DataFrame mới"
      ]
    },
    {
      "cell_type": "code",
      "metadata": {
        "id": "WnrSDsV9qy2c",
        "colab_type": "code",
        "colab": {}
      },
      "source": [
        "new_df_1 = pd.DataFrame(df_huffpost.values[0:1100], columns=['headlines', 'is_sarcastic'])\n",
        "new_df_2 = pd.DataFrame(df_theonion.values[0:900], columns=['headlines', 'is_sarcastic'])\n",
        "new_df = new_df_1.append(new_df_2, ignore_index=True)"
      ],
      "execution_count": 178,
      "outputs": []
    },
    {
      "cell_type": "code",
      "metadata": {
        "id": "rdzKt0Bszt2h",
        "colab_type": "code",
        "colab": {
          "base_uri": "https://localhost:8080/",
          "height": 402
        },
        "outputId": "8f0667db-0e8e-45d6-a07b-2c3ada008004"
      },
      "source": [
        "# Xóa các hàng có dữ liệu rỗng (NaN)\n",
        "new_df = new_df.dropna()\n",
        "new_df"
      ],
      "execution_count": 179,
      "outputs": [
        {
          "output_type": "execute_result",
          "data": {
            "text/html": [
              "<div>\n",
              "<style scoped>\n",
              "    .dataframe tbody tr th:only-of-type {\n",
              "        vertical-align: middle;\n",
              "    }\n",
              "\n",
              "    .dataframe tbody tr th {\n",
              "        vertical-align: top;\n",
              "    }\n",
              "\n",
              "    .dataframe thead th {\n",
              "        text-align: right;\n",
              "    }\n",
              "</style>\n",
              "<table border=\"1\" class=\"dataframe\">\n",
              "  <thead>\n",
              "    <tr style=\"text-align: right;\">\n",
              "      <th></th>\n",
              "      <th>headlines</th>\n",
              "      <th>is_sarcastic</th>\n",
              "    </tr>\n",
              "  </thead>\n",
              "  <tbody>\n",
              "    <tr>\n",
              "      <th>0</th>\n",
              "      <td>Joe Biden Mocked In Trump Campaign Ad For Knee...</td>\n",
              "      <td>0</td>\n",
              "    </tr>\n",
              "    <tr>\n",
              "      <th>1</th>\n",
              "      <td>Tammy Duckworth: Trump's Use Of Military Again...</td>\n",
              "      <td>0</td>\n",
              "    </tr>\n",
              "    <tr>\n",
              "      <th>2</th>\n",
              "      <td>Donald Trump Vows To Keep Trying To End Dreame...</td>\n",
              "      <td>0</td>\n",
              "    </tr>\n",
              "    <tr>\n",
              "      <th>3</th>\n",
              "      <td>Rep. Ilhan Omar’s Father Dies From Complicatio...</td>\n",
              "      <td>0</td>\n",
              "    </tr>\n",
              "    <tr>\n",
              "      <th>4</th>\n",
              "      <td>Protesters Topple Confederate Statue In Virgin...</td>\n",
              "      <td>0</td>\n",
              "    </tr>\n",
              "    <tr>\n",
              "      <th>...</th>\n",
              "      <td>...</td>\n",
              "      <td>...</td>\n",
              "    </tr>\n",
              "    <tr>\n",
              "      <th>1995</th>\n",
              "      <td>Oscar Meyer Whiner</td>\n",
              "      <td>1</td>\n",
              "    </tr>\n",
              "    <tr>\n",
              "      <th>1996</th>\n",
              "      <td>Man Hates How Hot Dog-Eating Contests Reduce A...</td>\n",
              "      <td>1</td>\n",
              "    </tr>\n",
              "    <tr>\n",
              "      <th>1997</th>\n",
              "      <td>Report: Amazon Using Heat-Sensing Alien Hunter...</td>\n",
              "      <td>1</td>\n",
              "    </tr>\n",
              "    <tr>\n",
              "      <th>1998</th>\n",
              "      <td>Germany Cancels Oktoberfest Due To Coronavirus...</td>\n",
              "      <td>1</td>\n",
              "    </tr>\n",
              "    <tr>\n",
              "      <th>1999</th>\n",
              "      <td>Speedrunner Accidentally Enjoys Game For A Moment</td>\n",
              "      <td>1</td>\n",
              "    </tr>\n",
              "  </tbody>\n",
              "</table>\n",
              "<p>2000 rows × 2 columns</p>\n",
              "</div>"
            ],
            "text/plain": [
              "                                              headlines is_sarcastic\n",
              "0     Joe Biden Mocked In Trump Campaign Ad For Knee...            0\n",
              "1     Tammy Duckworth: Trump's Use Of Military Again...            0\n",
              "2     Donald Trump Vows To Keep Trying To End Dreame...            0\n",
              "3     Rep. Ilhan Omar’s Father Dies From Complicatio...            0\n",
              "4     Protesters Topple Confederate Statue In Virgin...            0\n",
              "...                                                 ...          ...\n",
              "1995                                 Oscar Meyer Whiner            1\n",
              "1996  Man Hates How Hot Dog-Eating Contests Reduce A...            1\n",
              "1997  Report: Amazon Using Heat-Sensing Alien Hunter...            1\n",
              "1998  Germany Cancels Oktoberfest Due To Coronavirus...            1\n",
              "1999  Speedrunner Accidentally Enjoys Game For A Moment            1\n",
              "\n",
              "[2000 rows x 2 columns]"
            ]
          },
          "metadata": {
            "tags": []
          },
          "execution_count": 179
        }
      ]
    },
    {
      "cell_type": "code",
      "metadata": {
        "id": "_gjKPzEPB32k",
        "colab_type": "code",
        "colab": {}
      },
      "source": [
        "new_df['is_sarcastic'] = new_df['is_sarcastic'].astype('int64')"
      ],
      "execution_count": 231,
      "outputs": []
    },
    {
      "cell_type": "markdown",
      "metadata": {
        "id": "XbJ4fRwGvSJC",
        "colab_type": "text"
      },
      "source": [
        "Tiền xử lý trên bộ dữ liệu mới"
      ]
    },
    {
      "cell_type": "code",
      "metadata": {
        "id": "o3WFd8livMAf",
        "colab_type": "code",
        "colab": {
          "base_uri": "https://localhost:8080/",
          "height": 118
        },
        "outputId": "219f81e8-81e9-4951-8a7a-287a841637af"
      },
      "source": [
        "new_df['headlines'] = new_df['headlines'].apply(clean_text)\n",
        "new_df.head()['headlines']"
      ],
      "execution_count": 232,
      "outputs": [
        {
          "output_type": "execute_result",
          "data": {
            "text/plain": [
              "0    joe biden mocked trump campaign ad kneeling ch...\n",
              "1    tammy duckworth trumps use military protesters...\n",
              "2    donald trump vows keep trying end dreamer prot...\n",
              "3    rep ilhan omars father dies complications covid19\n",
              "4    protesters topple confederate statue virginia ...\n",
              "Name: headlines, dtype: object"
            ]
          },
          "metadata": {
            "tags": []
          },
          "execution_count": 232
        }
      ]
    },
    {
      "cell_type": "markdown",
      "metadata": {
        "id": "hrtIKj7k1h9v",
        "colab_type": "text"
      },
      "source": [
        "Chuyển dữ liệu chữ thành vector số"
      ]
    },
    {
      "cell_type": "code",
      "metadata": {
        "id": "exqIasZU3Lv5",
        "colab_type": "code",
        "colab": {}
      },
      "source": [
        "X_new = new_df['headlines']\n",
        "y_new = new_df['is_sarcastic']"
      ],
      "execution_count": 233,
      "outputs": []
    },
    {
      "cell_type": "code",
      "metadata": {
        "id": "VhMWoJ2j22li",
        "colab_type": "code",
        "colab": {
          "base_uri": "https://localhost:8080/",
          "height": 34
        },
        "outputId": "d872585f-df5f-4cdf-8915-c50e0473aaff"
      },
      "source": [
        "vector_new = vectorizer.transform(X_new)\n",
        "print(vector_new.shape)"
      ],
      "execution_count": 234,
      "outputs": [
        {
          "output_type": "stream",
          "text": [
            "(2000, 25194)\n"
          ],
          "name": "stdout"
        }
      ]
    },
    {
      "cell_type": "markdown",
      "metadata": {
        "id": "fOjT-TKO4DgS",
        "colab_type": "text"
      },
      "source": [
        "Dùng model đã tạo để dự đoán trên bộ dữ liệu mới"
      ]
    },
    {
      "cell_type": "code",
      "metadata": {
        "id": "igEBdI3W4JRs",
        "colab_type": "code",
        "colab": {
          "base_uri": "https://localhost:8080/",
          "height": 34
        },
        "outputId": "16d842f4-7fc1-4070-f45f-eb7852063a32"
      },
      "source": [
        "best_model.score(vector_new, y_new)"
      ],
      "execution_count": 236,
      "outputs": [
        {
          "output_type": "execute_result",
          "data": {
            "text/plain": [
              "0.6985"
            ]
          },
          "metadata": {
            "tags": []
          },
          "execution_count": 236
        }
      ]
    },
    {
      "cell_type": "code",
      "metadata": {
        "id": "oOgFdVZ2CmWe",
        "colab_type": "code",
        "colab": {
          "base_uri": "https://localhost:8080/",
          "height": 202
        },
        "outputId": "7694a4fa-bd01-4d42-e047-18c07e004da0"
      },
      "source": [
        "print(confusion_matrix(y_new, best_model.predict(vector_new)))\n",
        "print(classification_report(y_new, best_model.predict(vector_new)))"
      ],
      "execution_count": 238,
      "outputs": [
        {
          "output_type": "stream",
          "text": [
            "[[946 154]\n",
            " [449 451]]\n",
            "              precision    recall  f1-score   support\n",
            "\n",
            "           0       0.68      0.86      0.76      1100\n",
            "           1       0.75      0.50      0.60       900\n",
            "\n",
            "    accuracy                           0.70      2000\n",
            "   macro avg       0.71      0.68      0.68      2000\n",
            "weighted avg       0.71      0.70      0.69      2000\n",
            "\n"
          ],
          "name": "stdout"
        }
      ]
    },
    {
      "cell_type": "markdown",
      "metadata": {
        "id": "eqMyMy_eDAGd",
        "colab_type": "text"
      },
      "source": [
        "# Chương trình dự đoán một headline bất kì"
      ]
    },
    {
      "cell_type": "code",
      "metadata": {
        "id": "GyCfhJk8DVxd",
        "colab_type": "code",
        "colab": {}
      },
      "source": [
        "input = \"Realtor Thinks Flourishing Neighborhood Full Of Middle-Class Latino Families Has Real Turnaround Potential\""
      ],
      "execution_count": 259,
      "outputs": []
    },
    {
      "cell_type": "code",
      "metadata": {
        "id": "UZ7CMpczDsII",
        "colab_type": "code",
        "colab": {
          "base_uri": "https://localhost:8080/",
          "height": 34
        },
        "outputId": "d593bb1b-c381-4637-af61-0dc025728c63"
      },
      "source": [
        "# Tiền xử lí\n",
        "clean_input = [clean_text(input)]\n",
        "# Chuyển thành vector\n",
        "vec_input = vectorizer.transform(clean_input)\n",
        "# Dự đoán\n",
        "if best_model.predict(vec_input) == 0:\n",
        "  print(\"Headline is not sarcastic\")\n",
        "else:\n",
        "  print(\"Headline is sarcastic\")"
      ],
      "execution_count": 260,
      "outputs": [
        {
          "output_type": "stream",
          "text": [
            "Headline is sarcastic\n"
          ],
          "name": "stdout"
        }
      ]
    },
    {
      "cell_type": "markdown",
      "metadata": {
        "id": "XtG98h2xWO6B",
        "colab_type": "text"
      },
      "source": [
        "# Nhận xét"
      ]
    },
    {
      "cell_type": "markdown",
      "metadata": {
        "id": "uY6mxMtoVNDU",
        "colab_type": "text"
      },
      "source": [
        "Ta thấy hiệu suất trên 2000 headlines mới thấp hơn so với hiệu suất trên dữ liệu cũ (70% so với 80%).\n",
        "\n",
        "Để bài toán này càng đạt được kết quả cao thì cần có thêm nhiều input, nhằm tăng số lượng từ trong bộ từ vựng. Số từ vựng tiếng Anh hiện nay khoảng 171.476 từ (theo Wikipedia) tuy nhiên model chỉ được xây dựng trên 25.194 từ nên hiệu suất sẽ không cao."
      ]
    }
  ]
}